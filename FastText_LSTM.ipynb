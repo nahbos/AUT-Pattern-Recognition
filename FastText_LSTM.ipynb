{
  "nbformat": 4,
  "nbformat_minor": 0,
  "metadata": {
    "colab": {
      "name": "(Medium) Text Classification Disaster Tweet .ipynb",
      "provenance": [],
      "collapsed_sections": [
        "MOz59iBtVopX"
      ],
      "include_colab_link": true
    },
    "kernelspec": {
      "name": "python3",
      "display_name": "Python 3"
    }
  },
  "cells": [
    {
      "cell_type": "markdown",
      "metadata": {
        "id": "view-in-github",
        "colab_type": "text"
      },
      "source": [
        "<a href=\"https://colab.research.google.com/github/nahbos/AUT-Pattern-Recognition/blob/main/FastText_LSTM.ipynb\" target=\"_parent\"><img src=\"https://colab.research.google.com/assets/colab-badge.svg\" alt=\"Open In Colab\"/></a>"
      ]
    },
    {
      "cell_type": "markdown",
      "metadata": {
        "id": "39QHYVX9k0uJ"
      },
      "source": [
        "# **Download Data from kaggle**\n",
        "\n",
        "First, the data. first things first is installing kaggle to my environment i dont have to download the data to my drive/local. It's super efficient.\n",
        "\n",
        "To get the API, go to your kaggle profile and download the JSON file!"
      ]
    },
    {
      "cell_type": "code",
      "metadata": {
        "id": "Jn74l2OE2RLf",
        "colab": {
          "base_uri": "https://localhost:8080/"
        },
        "outputId": "23024eee-994f-4c75-a772-4ef3d83861e2"
      },
      "source": [
        "! pip install -q kaggle\n",
        "! mkdir ~/.kaggle\n",
        "! cp kaggle.json ~/.kaggle/\n",
        "! chmod 600 ~/.kaggle/kaggle.json"
      ],
      "execution_count": 94,
      "outputs": [
        {
          "output_type": "stream",
          "name": "stdout",
          "text": [
            "mkdir: cannot create directory ‘/root/.kaggle’: File exists\n",
            "cp: cannot stat 'kaggle.json': No such file or directory\n",
            "chmod: cannot access '/root/.kaggle/kaggle.json': No such file or directory\n"
          ]
        }
      ]
    },
    {
      "cell_type": "markdown",
      "metadata": {
        "id": "tn_NXygs73AB"
      },
      "source": [
        "download the dataset directly by copying the API command on the dataset page"
      ]
    },
    {
      "cell_type": "code",
      "metadata": {
        "id": "NQRHwMsD3vF-",
        "colab": {
          "base_uri": "https://localhost:8080/"
        },
        "outputId": "de96d82d-a7f5-4597-d86c-a3a9fc953b6e"
      },
      "source": [
        "! kaggle competitions download -c nlp-getting-started"
      ],
      "execution_count": 95,
      "outputs": [
        {
          "output_type": "stream",
          "name": "stdout",
          "text": [
            "Traceback (most recent call last):\n",
            "  File \"/usr/local/bin/kaggle\", line 5, in <module>\n",
            "    from kaggle.cli import main\n",
            "  File \"/usr/local/lib/python2.7/dist-packages/kaggle/__init__.py\", line 23, in <module>\n",
            "    api.authenticate()\n",
            "  File \"/usr/local/lib/python2.7/dist-packages/kaggle/api/kaggle_api_extended.py\", line 146, in authenticate\n",
            "    self.config_file, self.config_dir))\n",
            "IOError: Could not find kaggle.json. Make sure it's located in /root/.kaggle. Or use the environment method.\n"
          ]
        }
      ]
    },
    {
      "cell_type": "markdown",
      "metadata": {
        "id": "2H7Ynha2lHj7"
      },
      "source": [
        "#**Downloading pre-trained fastText, preparing datasets, and pre-processing**"
      ]
    },
    {
      "cell_type": "code",
      "metadata": {
        "id": "DlC4m7alB44c"
      },
      "source": [
        "import requests, zipfile, io\n",
        "zip_file_url = \"https://dl.fbaipublicfiles.com/fasttext/vectors-english/crawl-300d-2M.vec.zip\"\n",
        "r = requests.get(zip_file_url)\n",
        "z = zipfile.ZipFile(io.BytesIO(r.content))\n",
        "z.extractall()"
      ],
      "execution_count": null,
      "outputs": []
    },
    {
      "cell_type": "code",
      "metadata": {
        "id": "JEh0D8DSH1L4",
        "colab": {
          "base_uri": "https://localhost:8080/"
        },
        "outputId": "eaed2e7a-7828-478d-f636-18b3f7f98a9b"
      },
      "source": [
        "#For Pre-Processing\n",
        "from tqdm import tqdm\n",
        "import nltk\n",
        "from nltk.corpus import stopwords\n",
        "nltk.download('stopwords')\n",
        "nltk.download('punkt')\n",
        "from nltk.tokenize import RegexpTokenizer \n",
        "from nltk.tokenize import word_tokenize\n",
        "import os, re, csv, math, codecs\n",
        "\n",
        "\n",
        "# For Training\n",
        "import keras\n",
        "from keras import optimizers\n",
        "from keras import backend as K\n",
        "from keras import regularizers\n",
        "from keras.models import Sequential\n",
        "from keras.layers import Dense, Activation, Dropout, Flatten\n",
        "from keras.layers import Embedding, Conv1D, MaxPooling1D, GlobalMaxPooling1D\n",
        "from tensorflow.keras.layers import Embedding, LSTM, Dense, Dropout, Bidirectional\n",
        "from keras.utils.vis_utils import plot_model\n",
        "from keras.preprocessing import sequence\n",
        "from keras.preprocessing.text import Tokenizer\n",
        "from keras.callbacks import EarlyStopping\n",
        "\n",
        "# For array, dataset, and visualizing\n",
        "import numpy as np\n",
        "import pandas as pd\n",
        "import seaborn as sns\n",
        "import matplotlib.pyplot as plt\n",
        "\n",
        "sns.set_style(\"whitegrid\")\n",
        "np.random.seed(0)\n",
        "\n",
        "MAX_NB_WORDS = 100000\n",
        "tokenizer = RegexpTokenizer(r'\\w+')\n",
        "stop_words = set(stopwords.words('english'))\n",
        "stop_words.update(['.', ',', '\"', \"'\", ':', ';', '(', ')', '[', ']', '{', '}'])"
      ],
      "execution_count": 98,
      "outputs": [
        {
          "output_type": "stream",
          "name": "stdout",
          "text": [
            "[nltk_data] Downloading package stopwords to /root/nltk_data...\n",
            "[nltk_data]   Package stopwords is already up-to-date!\n",
            "[nltk_data] Downloading package punkt to /root/nltk_data...\n",
            "[nltk_data]   Package punkt is already up-to-date!\n"
          ]
        }
      ]
    },
    {
      "cell_type": "markdown",
      "metadata": {
        "id": "OryI3DKE8tr8"
      },
      "source": [
        "\n",
        "Converting all the words to index in number, to the embedding index in pre-trained model and converted all the missing words to 0,"
      ]
    },
    {
      "cell_type": "code",
      "metadata": {
        "id": "IPqS-8FcEN95",
        "colab": {
          "base_uri": "https://localhost:8080/"
        },
        "outputId": "2a101c2c-e410-4e92-fa7f-19547cdab784"
      },
      "source": [
        "print('loading word embeddings...')\n",
        "\n",
        "embeddings_index = {}\n",
        "f = codecs.open('crawl-300d-2M.vec', encoding='utf-8')\n",
        "\n",
        "for line in tqdm(f):\n",
        "    values = line.rstrip().rsplit(' ')\n",
        "    word = values[0]\n",
        "    coefs = np.asarray(values[1:], dtype='float32')\n",
        "    embeddings_index[word] = coefs\n",
        "f.close()\n",
        "\n",
        "print('found %s word vectors' % len(embeddings_index))"
      ],
      "execution_count": 99,
      "outputs": [
        {
          "output_type": "stream",
          "name": "stdout",
          "text": [
            "loading word embeddings...\n"
          ]
        },
        {
          "output_type": "stream",
          "name": "stderr",
          "text": [
            "1999996it [04:08, 8040.11it/s]"
          ]
        },
        {
          "output_type": "stream",
          "name": "stdout",
          "text": [
            "found 1999996 word vectors\n"
          ]
        },
        {
          "output_type": "stream",
          "name": "stderr",
          "text": [
            "\n"
          ]
        }
      ]
    },
    {
      "cell_type": "markdown",
      "metadata": {
        "id": "0f453DpY80zi"
      },
      "source": [
        "Read both the train data and test data"
      ]
    },
    {
      "cell_type": "code",
      "source": [
        "import string\n",
        "from nltk.corpus import stopwords\n",
        "from nltk import word_tokenize\n",
        "from nltk.stem.porter import PorterStemmer\n",
        "from nltk import pos_tag\n",
        "import nltk\n",
        "nltk.download('stopwords')\n",
        "nltk.download('punkt')"
      ],
      "metadata": {
        "colab": {
          "base_uri": "https://localhost:8080/"
        },
        "id": "6jHIlCW3AM5W",
        "outputId": "552bc42e-a206-4991-8260-25fe2e1617b8"
      },
      "execution_count": 100,
      "outputs": [
        {
          "output_type": "stream",
          "name": "stdout",
          "text": [
            "[nltk_data] Downloading package stopwords to /root/nltk_data...\n",
            "[nltk_data]   Package stopwords is already up-to-date!\n",
            "[nltk_data] Downloading package punkt to /root/nltk_data...\n",
            "[nltk_data]   Package punkt is already up-to-date!\n"
          ]
        },
        {
          "output_type": "execute_result",
          "data": {
            "text/plain": [
              "True"
            ]
          },
          "metadata": {},
          "execution_count": 100
        }
      ]
    },
    {
      "cell_type": "code",
      "source": [
        "def nlprocess(dataset):\n",
        "    \n",
        "    preprocessed_comments = []\n",
        "    for text in dataset:\n",
        "        \n",
        "        #Lowercase\n",
        "        text = text.lower()\n",
        "\n",
        "        # Removing Punctuation\n",
        "        text = \"\".join([char for char in text if char not in string.punctuation])\n",
        "\n",
        "        # Word Tokenization\n",
        "        text = word_tokenize(text)\n",
        "\n",
        "        # Stopword Filtering\n",
        "        stop_words = stopwords.words('english')\n",
        "        text = [word for word in text if word not in stop_words]\n",
        "\n",
        "        # Stemming\n",
        "        porter = PorterStemmer()\n",
        "        text = [porter.stem(word) for word in text]\n",
        "\n",
        "        text = ' '.join(text)\n",
        "\n",
        "        preprocessed_comments.append(text)\n",
        "        \n",
        "    return preprocessed_comments"
      ],
      "metadata": {
        "id": "gfJ2dbsJ_nMP"
      },
      "execution_count": 101,
      "outputs": []
    },
    {
      "cell_type": "code",
      "source": [
        "def spliter(datasets):\n",
        "    x_train_datasets, x_test_datasets, y_train_datasets, y_test_datasets = [], [], [], []\n",
        "    print('(train, test):')\n",
        "    for i, dataset in enumerate(datasets):\n",
        "        x_train, x_test, y_train, y_test = train_test_split(dataset.text, dataset.label, test_size=0.3, random_state=42)\n",
        "        x_train_datasets.append(nlprocess(x_train))\n",
        "        x_test_datasets.append(nlprocess(x_test))\n",
        "        y_train_datasets.append(y_train)\n",
        "        y_test_datasets.append(y_test)\n",
        "        print(' |_ {}: ({}, {})'.format(datasets_name[i], len(x_train), len(x_test)))\n",
        "    return x_train_datasets, x_test_datasets, y_train_datasets, y_test_datasets"
      ],
      "metadata": {
        "id": "QetfY78V_7kW"
      },
      "execution_count": 102,
      "outputs": []
    },
    {
      "cell_type": "code",
      "metadata": {
        "id": "gXof0wFo6Q8a",
        "colab": {
          "base_uri": "https://localhost:8080/"
        },
        "outputId": "dc1fac30-04f2-43a6-fbd4-be1f522b2e49"
      },
      "source": [
        "from sklearn.model_selection import train_test_split\n",
        "datasets_name = ['Amazon', 'IMDB  ', 'Yelp  ']\n",
        "\n",
        "#load data\n",
        "datasets = []\n",
        "amazon = pd.read_csv('./amazon.txt', names=['text', 'label'], sep='\\t')\n",
        "imdb   = pd.read_csv('./imdb.txt', names=['text', 'label'], sep='\\t')\n",
        "yelp   = pd.read_csv('./yelp.txt', names=['text', 'label'], sep='\\t')\n",
        "\n",
        "datasets.append(amazon)\n",
        "datasets.append(imdb)\n",
        "datasets.append(yelp)\n",
        "\n",
        "x_train_datasets, x_test_datasets, y_train_datasets, y_test_datasets = spliter(datasets)"
      ],
      "execution_count": 103,
      "outputs": [
        {
          "output_type": "stream",
          "name": "stdout",
          "text": [
            "(train, test):\n",
            " |_ Amazon: (700, 300)\n",
            " |_ IMDB  : (700, 300)\n",
            " |_ Yelp  : (700, 300)\n"
          ]
        }
      ]
    },
    {
      "cell_type": "code",
      "source": [
        ""
      ],
      "metadata": {
        "id": "Q2CltZS1_t6m"
      },
      "execution_count": 103,
      "outputs": []
    },
    {
      "cell_type": "code",
      "source": [
        "train_df = pd.DataFrame(x_train_datasets[0], columns=['text'])\n",
        "test_df = pd.DataFrame(x_test_datasets[0], columns=['text'])\n",
        "y_train = y_train_datasets[0]\n",
        "y_test = y_test_datasets[0]"
      ],
      "metadata": {
        "id": "x3Hl-FCK_tzf"
      },
      "execution_count": 104,
      "outputs": []
    },
    {
      "cell_type": "code",
      "source": [
        "y_test_datasets[0]"
      ],
      "metadata": {
        "colab": {
          "base_uri": "https://localhost:8080/"
        },
        "id": "afIhhQv5_ttP",
        "outputId": "04c3ecf0-1d61-4413-a5e2-93e49b0903a7"
      },
      "execution_count": 105,
      "outputs": [
        {
          "output_type": "execute_result",
          "data": {
            "text/plain": [
              "521    1\n",
              "737    1\n",
              "740    1\n",
              "660    0\n",
              "411    1\n",
              "      ..\n",
              "468    0\n",
              "935    0\n",
              "428    1\n",
              "7      1\n",
              "155    1\n",
              "Name: label, Length: 300, dtype: int64"
            ]
          },
          "metadata": {},
          "execution_count": 105
        }
      ]
    },
    {
      "cell_type": "code",
      "metadata": {
        "id": "QQARD6HcIGYs",
        "colab": {
          "base_uri": "https://localhost:8080/",
          "height": 352
        },
        "outputId": "e5a361ba-fe9b-4620-c3f5-e857c5d5f0b3"
      },
      "source": [
        "train_df['doc_len'] = train_df['text'].apply(lambda words: len(words.split(' ')))\n",
        "max_seq_len = np.round(train_df['doc_len'].mean() + train_df['doc_len'].std()).astype(int)\n",
        "\n",
        "sns.distplot(train_df['doc_len'], hist=True, kde=True, color='b', label='doc len')\n",
        "plt.axvline(x=max_seq_len, color='k', linestyle='--', label='max len')\n",
        "plt.title('comment length'); plt.legend()\n",
        "plt.show()"
      ],
      "execution_count": 106,
      "outputs": [
        {
          "output_type": "stream",
          "name": "stderr",
          "text": [
            "/usr/local/lib/python3.7/dist-packages/seaborn/distributions.py:2619: FutureWarning: `distplot` is a deprecated function and will be removed in a future version. Please adapt your code to use either `displot` (a figure-level function with similar flexibility) or `histplot` (an axes-level function for histograms).\n",
            "  warnings.warn(msg, FutureWarning)\n"
          ]
        },
        {
          "output_type": "display_data",
          "data": {
            "image/png": "[encoded data removed]",
            "text/plain": [
              "<Figure size 432x288 with 1 Axes>"
            ]
          },
          "metadata": {}
        }
      ]
    },
    {
      "cell_type": "markdown",
      "metadata": {
        "id": "a_AOE1b5elSz"
      },
      "source": [
        "tokenizing the data with tokenizer from tensorflow"
      ]
    },
    {
      "cell_type": "code",
      "metadata": {
        "id": "Cc_9P1cEGg5J",
        "colab": {
          "base_uri": "https://localhost:8080/"
        },
        "outputId": "7afaeb1b-14f8-47c6-d006-df7dfdb2eb7e"
      },
      "source": [
        "from sklearn.utils import shuffle \n",
        "\n",
        "label_names = [\"label\"]\n",
        "raw_docs_train = train_df['text'].tolist()\n",
        "raw_docs_test = test_df['text'].tolist() \n",
        "num_classes = len(label_names)\n",
        "\n",
        "print(\"pre-processing train data...\")\n",
        "\n",
        "processed_docs_train = []\n",
        "for doc in tqdm(raw_docs_train):\n",
        "    tokens = word_tokenize(doc)\n",
        "    filtered = [word for word in tokens if word not in stop_words]\n",
        "    processed_docs_train.append(\" \".join(filtered))\n",
        "#end for\n",
        "\n",
        "processed_docs_test = []\n",
        "for doc in tqdm(raw_docs_test):\n",
        "    tokens = word_tokenize(doc)\n",
        "    filtered = [word for word in tokens if word not in stop_words]\n",
        "    processed_docs_test.append(\" \".join(filtered))\n",
        "#end for\n",
        "\n",
        "print(\"tokenizing input data...\")\n",
        "tokenizer = Tokenizer(num_words=MAX_NB_WORDS, lower=True, char_level=False)\n",
        "tokenizer.fit_on_texts(processed_docs_train + processed_docs_test)  #leaky\n",
        "word_seq_train = tokenizer.texts_to_sequences(processed_docs_train)\n",
        "word_seq_test = tokenizer.texts_to_sequences(processed_docs_test)\n",
        "word_index = tokenizer.word_index\n",
        "print(\"dictionary size: \", len(word_index))\n",
        "\n",
        "#pad sequences\n",
        "word_seq_train = sequence.pad_sequences(word_seq_train, maxlen=max_seq_len)\n",
        "word_seq_test = sequence.pad_sequences(word_seq_test, maxlen=max_seq_len)"
      ],
      "execution_count": 107,
      "outputs": [
        {
          "output_type": "stream",
          "name": "stdout",
          "text": [
            "pre-processing train data...\n"
          ]
        },
        {
          "output_type": "stream",
          "name": "stderr",
          "text": [
            "100%|██████████| 700/700 [00:00<00:00, 9361.81it/s]\n",
            "100%|██████████| 300/300 [00:00<00:00, 8929.62it/s]"
          ]
        },
        {
          "output_type": "stream",
          "name": "stdout",
          "text": [
            "tokenizing input data...\n",
            "dictionary size:  1475\n"
          ]
        },
        {
          "output_type": "stream",
          "name": "stderr",
          "text": [
            "\n"
          ]
        }
      ]
    },
    {
      "cell_type": "code",
      "source": [
        "from sklearn.feature_extraction.text import TfidfVectorizer\n",
        "def feature_extractor(dataset):\n",
        "    vectorizer = TfidfVectorizer()\n",
        "    vectorizer.fit(dataset)\n",
        "    return vectorizer"
      ],
      "metadata": {
        "id": "kJsBfc6eBPCH"
      },
      "execution_count": 108,
      "outputs": []
    },
    {
      "cell_type": "code",
      "source": [
        ""
      ],
      "metadata": {
        "id": "5gtuqo-FBvso"
      },
      "execution_count": 108,
      "outputs": []
    },
    {
      "cell_type": "code",
      "source": [
        "vectorizers = []\n",
        "for i, dataset in enumerate(x_train_datasets):\n",
        "    vectorizer = feature_extractor(dataset)  \n",
        "    vectorizers.append(vectorizer)"
      ],
      "metadata": {
        "id": "zckIrpBTBO-A"
      },
      "execution_count": 109,
      "outputs": []
    },
    {
      "cell_type": "code",
      "source": [
        "from sklearn.linear_model import LogisticRegression\n",
        "\n",
        "print(\"Accuracy:\")\n",
        "clfs = []\n",
        "vectorized_trains = []\n",
        "vectorized_tests = []\n",
        "\n",
        "for i, (vec, x_tr, x_ts, y_tr, y_ts) in enumerate(zip(vectorizers, x_train_datasets, x_test_datasets, y_train_datasets, y_test_datasets)):\n",
        "    X_train = vec.transform(x_tr)\n",
        "    X_test = vec.transform(x_ts)\n",
        "\n",
        "    vectorized_trains.append(X_train)\n",
        "    vectorized_tests.append(X_test)\n",
        "    \n",
        "    clf = LogisticRegression()\n",
        "    clf.fit(X_train, y_tr)\n",
        "    clfs.append(clf)\n",
        "    score = clf.score(X_test, y_ts)\n",
        "    \n",
        "    print(' |_  {}: {:.2f}'.format(datasets_name[i], score))"
      ],
      "metadata": {
        "colab": {
          "base_uri": "https://localhost:8080/"
        },
        "id": "pa5-_B6SBO6e",
        "outputId": "c362561c-ef60-47ce-9276-772c165ab450"
      },
      "execution_count": 110,
      "outputs": [
        {
          "output_type": "stream",
          "name": "stdout",
          "text": [
            "Accuracy:\n",
            " |_  Amazon: 0.81\n",
            " |_  IMDB  : 0.81\n",
            " |_  Yelp  : 0.77\n"
          ]
        }
      ]
    },
    {
      "cell_type": "markdown",
      "metadata": {
        "id": "IpGENGlOtQs1"
      },
      "source": [
        "#**Shape and Train with LSTM**"
      ]
    },
    {
      "cell_type": "markdown",
      "metadata": {
        "id": "Nyj7gwQKexxy"
      },
      "source": [
        "defining variables that used on training"
      ]
    },
    {
      "cell_type": "code",
      "metadata": {
        "id": "PSZ3krGMG303"
      },
      "source": [
        "#training params\n",
        "batch_size = 256 \n",
        "num_epochs = 40\n",
        "\n",
        "#model parameters\n",
        "num_filters = 64 \n",
        "embed_dim = 300 \n",
        "weight_decay = 1e-4"
      ],
      "execution_count": 111,
      "outputs": []
    },
    {
      "cell_type": "markdown",
      "metadata": {
        "id": "fZ6AlbhZe4Ky"
      },
      "source": [
        "building the embedding matrix for the weights in Embedding Layer on training. more about embedding matrix: https://machinelearningmastery.com/use-word-embedding-layers-deep-learning-keras/\n",
        "\n",
        "all words that aren't in the pre-trained model from fasttext would be changed to 0. the words are basically the ones with typos or names, the words mostly dont matter so much to the pattern. so it's nicer to just weights it 0."
      ]
    },
    {
      "cell_type": "code",
      "metadata": {
        "id": "8SJbfuJPJEDC",
        "colab": {
          "base_uri": "https://localhost:8080/"
        },
        "outputId": "7f903b37-b05a-4140-e4d3-39cd3e6fa7d8"
      },
      "source": [
        "#embedding matrix\n",
        "\n",
        "print('preparing embedding matrix...')\n",
        "\n",
        "words_not_found = []\n",
        "nb_words = min(MAX_NB_WORDS, len(word_index)+1)\n",
        "embedding_matrix = np.zeros((nb_words, embed_dim))\n",
        "\n",
        "for word, i in word_index.items():\n",
        "    if i >= nb_words:\n",
        "        continue\n",
        "    embedding_vector = embeddings_index.get(word)\n",
        "    if (embedding_vector is not None) and len(embedding_vector) > 0:\n",
        "        # words not found in embedding index will be all-zeros.\n",
        "        embedding_matrix[i] = embedding_vector\n",
        "    else:\n",
        "        words_not_found.append(word)\n",
        "print('number of null word embeddings: %d' % np.sum(np.sum(embedding_matrix, axis=1) == 0))"
      ],
      "execution_count": 112,
      "outputs": [
        {
          "output_type": "stream",
          "name": "stdout",
          "text": [
            "preparing embedding matrix...\n",
            "number of null word embeddings: 229\n"
          ]
        }
      ]
    },
    {
      "cell_type": "code",
      "metadata": {
        "id": "S_pjm-7BJGuP",
        "colab": {
          "base_uri": "https://localhost:8080/"
        },
        "outputId": "046486b5-4a55-42eb-a46d-419e5dff40d0"
      },
      "source": [
        "print(\"sample words not found: \", np.random.choice(words_not_found, 10))"
      ],
      "execution_count": 113,
      "outputs": [
        {
          "output_type": "stream",
          "name": "stdout",
          "text": [
            "sample words not found:  ['samsungcrap' 'situations1' 'windresist' 'heavyit' 'seper' 'pleasantli'\n",
            " 'onethi' 'tmobil' 'schr450' 'clearli']\n"
          ]
        }
      ]
    },
    {
      "cell_type": "markdown",
      "metadata": {
        "id": "SUBAkn22ga48"
      },
      "source": [
        "let's start training! here are the layers. i have been doing some test and modification on using the layer, unit cells, etc. and so far it works the best for me. tell me i"
      ]
    },
    {
      "cell_type": "code",
      "metadata": {
        "id": "xpX2AFhKJJsh",
        "colab": {
          "base_uri": "https://localhost:8080/"
        },
        "outputId": "a3905888-baff-427e-88a7-4e68db22456e"
      },
      "source": [
        "from keras.layers import BatchNormalization\n",
        "import tensorflow as tf\n",
        "\n",
        "model = tf.keras.Sequential()\n",
        "\n",
        "model.add(Embedding(nb_words,embed_dim,input_length=max_seq_len, weights=[embedding_matrix],trainable=False))\n",
        "model.add(Bidirectional(LSTM(32)))\n",
        "model.add(Dense(32,activation='relu'))\n",
        "model.add(Dropout(0.4))\n",
        "model.add(Dense(1,activation='sigmoid'))\n",
        "model.summary()"
      ],
      "execution_count": 114,
      "outputs": [
        {
          "output_type": "stream",
          "name": "stdout",
          "text": [
            "Model: \"sequential\"\n",
            "_________________________________________________________________\n",
            " Layer (type)                Output Shape              Param #   \n",
            "=================================================================\n",
            " embedding (Embedding)       (None, 9, 300)            442800    \n",
            "                                                                 \n",
            " bidirectional (Bidirectiona  (None, 64)               85248     \n",
            " l)                                                              \n",
            "                                                                 \n",
            " dense (Dense)               (None, 32)                2080      \n",
            "                                                                 \n",
            " dropout (Dropout)           (None, 32)                0         \n",
            "                                                                 \n",
            " dense_1 (Dense)             (None, 1)                 33        \n",
            "                                                                 \n",
            "=================================================================\n",
            "Total params: 530,161\n",
            "Trainable params: 87,361\n",
            "Non-trainable params: 442,800\n",
            "_________________________________________________________________\n"
          ]
        }
      ]
    },
    {
      "cell_type": "code",
      "metadata": {
        "id": "tCpYrqbaJUb2"
      },
      "source": [
        "from tensorflow.keras.optimizers import RMSprop\n",
        "from keras.callbacks import ModelCheckpoint\n",
        "from tensorflow.keras.callbacks import EarlyStopping\n",
        "\n",
        "model.compile(loss='binary_crossentropy', optimizer='adam', metrics=['accuracy'])"
      ],
      "execution_count": 115,
      "outputs": []
    },
    {
      "cell_type": "code",
      "metadata": {
        "id": "o9tkbuRaJZ3d",
        "colab": {
          "base_uri": "https://localhost:8080/"
        },
        "outputId": "ca910c8b-a6bf-45d0-93a2-2f25b35081f1"
      },
      "source": [
        "es_callback = EarlyStopping(monitor='val_loss', patience=3)\n",
        "\n",
        "history = model.fit(word_seq_train, y_train, batch_size=256,\n",
        "          epochs=num_epochs, validation_split=0.3, callbacks=[es_callback], shuffle=False)"
      ],
      "execution_count": 116,
      "outputs": [
        {
          "output_type": "stream",
          "name": "stdout",
          "text": [
            "Epoch 1/40\n",
            "2/2 [==============================] - 6s 1s/step - loss: 0.6941 - accuracy: 0.5358 - val_loss: 0.6938 - val_accuracy: 0.5024\n",
            "Epoch 2/40\n",
            "2/2 [==============================] - 0s 80ms/step - loss: 0.6820 - accuracy: 0.6094 - val_loss: 0.6838 - val_accuracy: 0.5924\n",
            "Epoch 3/40\n",
            "2/2 [==============================] - 0s 93ms/step - loss: 0.6708 - accuracy: 0.6483 - val_loss: 0.6759 - val_accuracy: 0.6635\n",
            "Epoch 4/40\n",
            "2/2 [==============================] - 0s 88ms/step - loss: 0.6584 - accuracy: 0.7178 - val_loss: 0.6683 - val_accuracy: 0.7109\n",
            "Epoch 5/40\n",
            "2/2 [==============================] - 0s 90ms/step - loss: 0.6522 - accuracy: 0.7035 - val_loss: 0.6605 - val_accuracy: 0.7156\n",
            "Epoch 6/40\n",
            "2/2 [==============================] - 0s 84ms/step - loss: 0.6421 - accuracy: 0.7526 - val_loss: 0.6525 - val_accuracy: 0.7109\n",
            "Epoch 7/40\n",
            "2/2 [==============================] - 0s 85ms/step - loss: 0.6243 - accuracy: 0.7607 - val_loss: 0.6439 - val_accuracy: 0.7109\n",
            "Epoch 8/40\n",
            "2/2 [==============================] - 0s 108ms/step - loss: 0.6097 - accuracy: 0.7464 - val_loss: 0.6345 - val_accuracy: 0.7156\n",
            "Epoch 9/40\n",
            "2/2 [==============================] - 0s 78ms/step - loss: 0.5947 - accuracy: 0.7730 - val_loss: 0.6240 - val_accuracy: 0.7062\n",
            "Epoch 10/40\n",
            "2/2 [==============================] - 0s 91ms/step - loss: 0.5766 - accuracy: 0.7812 - val_loss: 0.6118 - val_accuracy: 0.6919\n",
            "Epoch 11/40\n",
            "2/2 [==============================] - 0s 81ms/step - loss: 0.5479 - accuracy: 0.8016 - val_loss: 0.5985 - val_accuracy: 0.7014\n",
            "Epoch 12/40\n",
            "2/2 [==============================] - 0s 80ms/step - loss: 0.5234 - accuracy: 0.8098 - val_loss: 0.5860 - val_accuracy: 0.7062\n",
            "Epoch 13/40\n",
            "2/2 [==============================] - 0s 90ms/step - loss: 0.5062 - accuracy: 0.8180 - val_loss: 0.5736 - val_accuracy: 0.7062\n",
            "Epoch 14/40\n",
            "2/2 [==============================] - 0s 84ms/step - loss: 0.4783 - accuracy: 0.8344 - val_loss: 0.5623 - val_accuracy: 0.7109\n",
            "Epoch 15/40\n",
            "2/2 [==============================] - 0s 96ms/step - loss: 0.4608 - accuracy: 0.8323 - val_loss: 0.5540 - val_accuracy: 0.7299\n",
            "Epoch 16/40\n",
            "2/2 [==============================] - 0s 84ms/step - loss: 0.4341 - accuracy: 0.8262 - val_loss: 0.5492 - val_accuracy: 0.7346\n",
            "Epoch 17/40\n",
            "2/2 [==============================] - 0s 85ms/step - loss: 0.4099 - accuracy: 0.8507 - val_loss: 0.5503 - val_accuracy: 0.7109\n",
            "Epoch 18/40\n",
            "2/2 [==============================] - 0s 80ms/step - loss: 0.3826 - accuracy: 0.8548 - val_loss: 0.5568 - val_accuracy: 0.7109\n",
            "Epoch 19/40\n",
            "2/2 [==============================] - 0s 83ms/step - loss: 0.3737 - accuracy: 0.8487 - val_loss: 0.5617 - val_accuracy: 0.7109\n"
          ]
        }
      ]
    },
    {
      "cell_type": "code",
      "metadata": {
        "id": "mX6utTzSN2pB",
        "colab": {
          "base_uri": "https://localhost:8080/",
          "height": 295
        },
        "outputId": "6f12479e-0de1-4d36-e959-66feee0a6a21"
      },
      "source": [
        "#generate plots\n",
        "plt.figure()\n",
        "plt.plot(history.history['loss'], lw=2.0, color='b', label='train')\n",
        "plt.plot(history.history['val_loss'], lw=2.0, color='r', label='val')\n",
        "plt.title('LSTM sentiment')\n",
        "plt.xlabel('Epochs')\n",
        "plt.ylabel('Cross-Entropy Loss')\n",
        "plt.legend(loc='upper right')\n",
        "plt.show()"
      ],
      "execution_count": 117,
      "outputs": [
        {
          "output_type": "display_data",
          "data": {
            "image/png": "[encoded data removed]",
            "text/plain": [
              "<Figure size 432x288 with 1 Axes>"
            ]
          },
          "metadata": {}
        }
      ]
    },
    {
      "cell_type": "code",
      "metadata": {
        "id": "PM12-5wFN7tw",
        "colab": {
          "base_uri": "https://localhost:8080/",
          "height": 295
        },
        "outputId": "0316cb39-8bf1-4dff-8abe-093b9539fe53"
      },
      "source": [
        "plt.figure()\n",
        "plt.plot(history.history['accuracy'], lw=2.0, color='b', label='train')\n",
        "plt.plot(history.history['val_accuracy'], lw=2.0, color='r', label='val')\n",
        "plt.title('LSTM sentiment')\n",
        "plt.xlabel('Epochs')\n",
        "plt.ylabel('Accuracy')\n",
        "plt.legend(loc='upper left')\n",
        "plt.show()"
      ],
      "execution_count": 118,
      "outputs": [
        {
          "output_type": "display_data",
          "data": {
            "image/png": "[encoded data removed]",
            "text/plain": [
              "<Figure size 432x288 with 1 Axes>"
            ]
          },
          "metadata": {}
        }
      ]
    },
    {
      "cell_type": "code",
      "metadata": {
        "id": "zHYhQCI-OKRc"
      },
      "source": [
        "# predictions = model.predict_classes(word_seq_test)\n",
        "predictions = (model.predict(word_seq_test) > 0.5).astype(\"int32\")\n",
        "test_df['pred'] = predictions"
      ],
      "execution_count": 119,
      "outputs": []
    },
    {
      "cell_type": "code",
      "metadata": {
        "id": "9r0E47btUHg4",
        "colab": {
          "base_uri": "https://localhost:8080/"
        },
        "outputId": "7830d99b-965d-4260-a55d-3f5072332b96"
      },
      "source": [
        "import sklearn\n",
        "\n",
        "print(\"Accuracy With fastText :\")\n",
        "print(sklearn.metrics.accuracy_score(y_test, test_df.pred))"
      ],
      "execution_count": 120,
      "outputs": [
        {
          "output_type": "stream",
          "name": "stdout",
          "text": [
            "Accuracy With fastText :\n",
            "0.77\n"
          ]
        }
      ]
    },
    {
      "cell_type": "code",
      "metadata": {
        "id": "jnGo85O0b2Bi"
      },
      "source": [
        "# we don't want the model to overwrite, dont we?\n",
        "keras.backend.clear_session()"
      ],
      "execution_count": 121,
      "outputs": []
    },
    {
      "cell_type": "markdown",
      "metadata": {
        "id": "dmRux7Hjipr4"
      },
      "source": [
        "it's **80%**! not so good but also not that bad, huh?"
      ]
    },
    {
      "cell_type": "markdown",
      "metadata": {
        "id": "MOz59iBtVopX"
      },
      "source": [
        "# **LET'S COMPARE WITH GLOVE!**"
      ]
    },
    {
      "cell_type": "code",
      "metadata": {
        "id": "b6A9w95FkhOk"
      },
      "source": [
        "import requests, zipfile, io\n",
        "zip_file_url = \"http://nlp.stanford.edu/data/glove.840B.300d.zip\"\n",
        "r = requests.get(zip_file_url)\n",
        "z = zipfile.ZipFile(io.BytesIO(r.content))\n",
        "z.extractall()"
      ],
      "execution_count": null,
      "outputs": []
    },
    {
      "cell_type": "code",
      "metadata": {
        "id": "kRijAxEHkhO9",
        "colab": {
          "base_uri": "https://localhost:8080/"
        },
        "outputId": "16194735-4147-4b44-b243-2a144a7f11e7"
      },
      "source": [
        "print('loading word embeddings...')\n",
        "\n",
        "embeddings_index = {}\n",
        "f = codecs.open('/content/glove.840B.300d.txt', encoding='utf-8')\n",
        "\n",
        "for line in tqdm(f):\n",
        "    values = line.rstrip().rsplit(' ')\n",
        "    word = values[0]\n",
        "    coefs = np.asarray(values[1:], dtype='float32')\n",
        "    embeddings_index[word] = coefs\n",
        "f.close()\n",
        "\n",
        "print('found %s word vectors' % len(embeddings_index))"
      ],
      "execution_count": 122,
      "outputs": [
        {
          "output_type": "stream",
          "name": "stdout",
          "text": [
            "loading word embeddings...\n"
          ]
        },
        {
          "output_type": "stream",
          "name": "stderr",
          "text": [
            "2196018it [04:43, 7745.30it/s]"
          ]
        },
        {
          "output_type": "stream",
          "name": "stdout",
          "text": [
            "found 2196016 word vectors\n"
          ]
        },
        {
          "output_type": "stream",
          "name": "stderr",
          "text": [
            "\n"
          ]
        }
      ]
    },
    {
      "cell_type": "code",
      "metadata": {
        "id": "s4iYtJ-akhPR",
        "colab": {
          "base_uri": "https://localhost:8080/"
        },
        "outputId": "c4fbf8fa-ba21-4d92-8862-5a4338644e19"
      },
      "source": [
        "from sklearn.utils import shuffle \n",
        "\n",
        "raw_docs_train = train_df['text'].tolist()\n",
        "raw_docs_test = test_df['text'].tolist() \n",
        "num_classes = len(label_names)\n",
        "\n",
        "print(\"pre-processing train data...\")\n",
        "\n",
        "processed_docs_train = []\n",
        "for doc in tqdm(raw_docs_train):\n",
        "    tokens = word_tokenize(doc)\n",
        "    filtered = [word for word in tokens if word not in stop_words]\n",
        "    processed_docs_train.append(\" \".join(filtered))\n",
        "#end for\n",
        "\n",
        "processed_docs_test = []\n",
        "for doc in tqdm(raw_docs_test):\n",
        "    tokens = word_tokenize(doc)\n",
        "    filtered = [word for word in tokens if word not in stop_words]\n",
        "    processed_docs_test.append(\" \".join(filtered))\n",
        "#end for\n",
        "\n",
        "print(\"tokenizing input data...\")\n",
        "tokenizer = Tokenizer(num_words=MAX_NB_WORDS, lower=True, char_level=False)\n",
        "tokenizer.fit_on_texts(processed_docs_train + processed_docs_test)  #leaky\n",
        "word_seq_train = tokenizer.texts_to_sequences(processed_docs_train)\n",
        "word_seq_test = tokenizer.texts_to_sequences(processed_docs_test)\n",
        "word_index = tokenizer.word_index\n",
        "print(\"dictionary size: \", len(word_index))\n",
        "\n",
        "#pad sequences\n",
        "word_seq_train = sequence.pad_sequences(word_seq_train, maxlen=max_seq_len)\n",
        "word_seq_test = sequence.pad_sequences(word_seq_test, maxlen=max_seq_len)"
      ],
      "execution_count": 123,
      "outputs": [
        {
          "output_type": "stream",
          "name": "stdout",
          "text": [
            "pre-processing train data...\n"
          ]
        },
        {
          "output_type": "stream",
          "name": "stderr",
          "text": [
            "100%|██████████| 700/700 [00:00<00:00, 9696.40it/s]\n",
            "100%|██████████| 300/300 [00:00<00:00, 8494.28it/s]\n"
          ]
        },
        {
          "output_type": "stream",
          "name": "stdout",
          "text": [
            "tokenizing input data...\n",
            "dictionary size:  1475\n"
          ]
        }
      ]
    },
    {
      "cell_type": "code",
      "metadata": {
        "id": "bpO7792HoGIk",
        "colab": {
          "base_uri": "https://localhost:8080/"
        },
        "outputId": "b4f80de1-7e12-437b-8260-9b2ff51de5c5"
      },
      "source": [
        "from keras.layers import BatchNormalization\n",
        "import tensorflow as tf\n",
        "\n",
        "model_glove = tf.keras.Sequential()\n",
        "\n",
        "model_glove.add(Embedding(nb_words,embed_dim,input_length=max_seq_len, weights=[embedding_matrix],trainable=False))\n",
        "model_glove.add(Bidirectional(LSTM(32)))\n",
        "model_glove.add(Dense(32,activation='relu'))\n",
        "model_glove.add(Dropout(0.4))\n",
        "model_glove.add(Dense(1,activation='sigmoid'))\n",
        "model_glove.summary()"
      ],
      "execution_count": 124,
      "outputs": [
        {
          "output_type": "stream",
          "name": "stdout",
          "text": [
            "Model: \"sequential\"\n",
            "_________________________________________________________________\n",
            " Layer (type)                Output Shape              Param #   \n",
            "=================================================================\n",
            " embedding (Embedding)       (None, 9, 300)            442800    \n",
            "                                                                 \n",
            " bidirectional (Bidirectiona  (None, 64)               85248     \n",
            " l)                                                              \n",
            "                                                                 \n",
            " dense (Dense)               (None, 32)                2080      \n",
            "                                                                 \n",
            " dropout (Dropout)           (None, 32)                0         \n",
            "                                                                 \n",
            " dense_1 (Dense)             (None, 1)                 33        \n",
            "                                                                 \n",
            "=================================================================\n",
            "Total params: 530,161\n",
            "Trainable params: 87,361\n",
            "Non-trainable params: 442,800\n",
            "_________________________________________________________________\n"
          ]
        }
      ]
    },
    {
      "cell_type": "code",
      "metadata": {
        "id": "wvC4sIvzoGIn"
      },
      "source": [
        "from tensorflow.keras.optimizers import RMSprop\n",
        "from keras.callbacks import ModelCheckpoint\n",
        "from tensorflow.keras.callbacks import EarlyStopping\n",
        "\n",
        "model_glove.compile(loss='binary_crossentropy', optimizer='adam', metrics=['accuracy'])"
      ],
      "execution_count": 125,
      "outputs": []
    },
    {
      "cell_type": "code",
      "metadata": {
        "id": "6PUuJIdhoGIq",
        "colab": {
          "base_uri": "https://localhost:8080/"
        },
        "outputId": "44b5b58b-079c-4318-8020-a3a3da2a69cd"
      },
      "source": [
        "es_callback = EarlyStopping(monitor='val_loss', patience=3)\n",
        "\n",
        "history_glove = model_glove.fit(word_seq_train, y_train, batch_size=256,\n",
        "          epochs=num_epochs, validation_split=0.3, callbacks=[es_callback], shuffle=False)"
      ],
      "execution_count": 126,
      "outputs": [
        {
          "output_type": "stream",
          "name": "stdout",
          "text": [
            "Epoch 1/40\n",
            "2/2 [==============================] - 7s 1s/step - loss: 0.6964 - accuracy: 0.4908 - val_loss: 0.6904 - val_accuracy: 0.5213\n",
            "Epoch 2/40\n",
            "2/2 [==============================] - 0s 86ms/step - loss: 0.6879 - accuracy: 0.5726 - val_loss: 0.6868 - val_accuracy: 0.5877\n",
            "Epoch 3/40\n",
            "2/2 [==============================] - 0s 91ms/step - loss: 0.6804 - accuracy: 0.6115 - val_loss: 0.6817 - val_accuracy: 0.6540\n",
            "Epoch 4/40\n",
            "2/2 [==============================] - 0s 92ms/step - loss: 0.6696 - accuracy: 0.6748 - val_loss: 0.6751 - val_accuracy: 0.6872\n",
            "Epoch 5/40\n",
            "2/2 [==============================] - 0s 97ms/step - loss: 0.6612 - accuracy: 0.7055 - val_loss: 0.6675 - val_accuracy: 0.7204\n",
            "Epoch 6/40\n",
            "2/2 [==============================] - 0s 105ms/step - loss: 0.6527 - accuracy: 0.7117 - val_loss: 0.6591 - val_accuracy: 0.7251\n",
            "Epoch 7/40\n",
            "2/2 [==============================] - 0s 89ms/step - loss: 0.6379 - accuracy: 0.7628 - val_loss: 0.6492 - val_accuracy: 0.7204\n",
            "Epoch 8/40\n",
            "2/2 [==============================] - 0s 88ms/step - loss: 0.6232 - accuracy: 0.7689 - val_loss: 0.6378 - val_accuracy: 0.7251\n",
            "Epoch 9/40\n",
            "2/2 [==============================] - 0s 86ms/step - loss: 0.6105 - accuracy: 0.7914 - val_loss: 0.6256 - val_accuracy: 0.7299\n",
            "Epoch 10/40\n",
            "2/2 [==============================] - 0s 86ms/step - loss: 0.5866 - accuracy: 0.7955 - val_loss: 0.6119 - val_accuracy: 0.7346\n",
            "Epoch 11/40\n",
            "2/2 [==============================] - 0s 87ms/step - loss: 0.5672 - accuracy: 0.8057 - val_loss: 0.5983 - val_accuracy: 0.7204\n",
            "Epoch 12/40\n",
            "2/2 [==============================] - 0s 93ms/step - loss: 0.5515 - accuracy: 0.7975 - val_loss: 0.5859 - val_accuracy: 0.7204\n",
            "Epoch 13/40\n",
            "2/2 [==============================] - 0s 97ms/step - loss: 0.5222 - accuracy: 0.8344 - val_loss: 0.5725 - val_accuracy: 0.7299\n",
            "Epoch 14/40\n",
            "2/2 [==============================] - 0s 90ms/step - loss: 0.4999 - accuracy: 0.8221 - val_loss: 0.5575 - val_accuracy: 0.7346\n",
            "Epoch 15/40\n",
            "2/2 [==============================] - 0s 85ms/step - loss: 0.4709 - accuracy: 0.8528 - val_loss: 0.5436 - val_accuracy: 0.7251\n",
            "Epoch 16/40\n",
            "2/2 [==============================] - 0s 84ms/step - loss: 0.4372 - accuracy: 0.8384 - val_loss: 0.5338 - val_accuracy: 0.7299\n",
            "Epoch 17/40\n",
            "2/2 [==============================] - 0s 82ms/step - loss: 0.4121 - accuracy: 0.8569 - val_loss: 0.5299 - val_accuracy: 0.7299\n",
            "Epoch 18/40\n",
            "2/2 [==============================] - 0s 84ms/step - loss: 0.3879 - accuracy: 0.8405 - val_loss: 0.5303 - val_accuracy: 0.7346\n",
            "Epoch 19/40\n",
            "2/2 [==============================] - 0s 85ms/step - loss: 0.3686 - accuracy: 0.8650 - val_loss: 0.5383 - val_accuracy: 0.7488\n",
            "Epoch 20/40\n",
            "2/2 [==============================] - 0s 88ms/step - loss: 0.3519 - accuracy: 0.8507 - val_loss: 0.5437 - val_accuracy: 0.7393\n"
          ]
        }
      ]
    },
    {
      "cell_type": "code",
      "metadata": {
        "id": "F03aoUX0oGIu",
        "colab": {
          "base_uri": "https://localhost:8080/",
          "height": 295
        },
        "outputId": "7f2756b5-2b40-470f-94ad-c36efe91cd32"
      },
      "source": [
        "#generate plots\n",
        "plt.figure()\n",
        "plt.plot(history_glove.history['loss'], lw=2.0, color='b', label='train')\n",
        "plt.plot(history_glove.history['val_loss'], lw=2.0, color='r', label='val')\n",
        "plt.title('LSTM sentiment')\n",
        "plt.xlabel('Epochs')\n",
        "plt.ylabel('Cross-Entropy Loss')\n",
        "plt.legend(loc='upper right')\n",
        "plt.show()"
      ],
      "execution_count": 127,
      "outputs": [
        {
          "output_type": "display_data",
          "data": {
            "image/png": "[encoded data removed]",
            "text/plain": [
              "<Figure size 432x288 with 1 Axes>"
            ]
          },
          "metadata": {}
        }
      ]
    },
    {
      "cell_type": "code",
      "metadata": {
        "id": "30_SlWHioGIx",
        "colab": {
          "base_uri": "https://localhost:8080/",
          "height": 295
        },
        "outputId": "31a26601-b275-489f-c41e-5df4305ea330"
      },
      "source": [
        "plt.figure()\n",
        "plt.plot(history_glove.history['accuracy'], lw=2.0, color='b', label='train')\n",
        "plt.plot(history_glove.history['val_accuracy'], lw=2.0, color='r', label='val')\n",
        "plt.title('LSTM sentiment')\n",
        "plt.xlabel('Epochs')\n",
        "plt.ylabel('Accuracy')\n",
        "plt.legend(loc='upper left')\n",
        "plt.show()"
      ],
      "execution_count": 128,
      "outputs": [
        {
          "output_type": "display_data",
          "data": {
            "image/png": "[encoded data removed]",
            "text/plain": [
              "<Figure size 432x288 with 1 Axes>"
            ]
          },
          "metadata": {}
        }
      ]
    },
    {
      "cell_type": "code",
      "metadata": {
        "id": "13kGCf-ToGIz"
      },
      "source": [
        "predictions = model_glove.predict(word_seq_test > 0.5).astype(int)\n",
        "test_df['pred']= predictions"
      ],
      "execution_count": 129,
      "outputs": []
    },
    {
      "cell_type": "code",
      "source": [
        ""
      ],
      "metadata": {
        "id": "yXMXTlOJRycd"
      },
      "execution_count": 131,
      "outputs": []
    },
    {
      "cell_type": "code",
      "metadata": {
        "id": "WTlufsi-oGI2",
        "colab": {
          "base_uri": "https://localhost:8080/"
        },
        "outputId": "64ee8170-985c-4f07-d202-933989adf5dc"
      },
      "source": [
        "import sklearn\n",
        "print(\"Accuracy With GloVe :\")\n",
        "print(sklearn.metrics.accuracy_score(y_test, test_df.pred))"
      ],
      "execution_count": 132,
      "outputs": [
        {
          "output_type": "stream",
          "name": "stdout",
          "text": [
            "Accuracy With GloVe :\n",
            "0.4866666666666667\n"
          ]
        }
      ]
    },
    {
      "cell_type": "code",
      "metadata": {
        "id": "45Y2paveoGI4"
      },
      "source": [
        "# we don't want the model to overwrite, dont we?\n",
        "keras.backend.clear_session()"
      ],
      "execution_count": 135,
      "outputs": []
    },
    {
      "cell_type": "markdown",
      "metadata": {
        "id": "A5wAv_pWu1bz"
      },
      "source": [
        "# **COMPARE WITHOUT WORD EMBEDDING**"
      ]
    },
    {
      "cell_type": "code",
      "metadata": {
        "id": "cLYVYomwtfc9",
        "colab": {
          "base_uri": "https://localhost:8080/"
        },
        "outputId": "d86507d5-9710-4b01-988a-23924c0f6711"
      },
      "source": [
        "from keras.layers import BatchNormalization\n",
        "import tensorflow as tf\n",
        "\n",
        "without_mod = tf.keras.Sequential()\n",
        "\n",
        "without_mod.add(Embedding(nb_words,embed_dim,input_length=max_seq_len,trainable=False))\n",
        "without_mod.add(Bidirectional(LSTM(32)))\n",
        "without_mod.add(Dense(32,activation='relu'))\n",
        "without_mod.add(Dropout(0.4))\n",
        "without_mod.add(Dense(1,activation='sigmoid'))\n",
        "without_mod.summary()"
      ],
      "execution_count": 137,
      "outputs": [
        {
          "output_type": "stream",
          "name": "stdout",
          "text": [
            "Model: \"sequential_1\"\n",
            "_________________________________________________________________\n",
            " Layer (type)                Output Shape              Param #   \n",
            "=================================================================\n",
            " embedding_1 (Embedding)     (None, 9, 300)            442800    \n",
            "                                                                 \n",
            " bidirectional_1 (Bidirectio  (None, 64)               85248     \n",
            " nal)                                                            \n",
            "                                                                 \n",
            " dense_2 (Dense)             (None, 32)                2080      \n",
            "                                                                 \n",
            " dropout_1 (Dropout)         (None, 32)                0         \n",
            "                                                                 \n",
            " dense_3 (Dense)             (None, 1)                 33        \n",
            "                                                                 \n",
            "=================================================================\n",
            "Total params: 530,161\n",
            "Trainable params: 87,361\n",
            "Non-trainable params: 442,800\n",
            "_________________________________________________________________\n"
          ]
        }
      ]
    },
    {
      "cell_type": "code",
      "metadata": {
        "id": "QkkieOW-tfdB"
      },
      "source": [
        "from tensorflow.keras.optimizers import RMSprop\n",
        "from keras.callbacks import ModelCheckpoint\n",
        "from tensorflow.keras.callbacks import EarlyStopping\n",
        "\n",
        "without_mod.compile(loss='binary_crossentropy', optimizer='adam', metrics=['accuracy'])"
      ],
      "execution_count": 139,
      "outputs": []
    },
    {
      "cell_type": "code",
      "metadata": {
        "id": "uBms9NKUtfdD",
        "colab": {
          "base_uri": "https://localhost:8080/"
        },
        "outputId": "df8d8234-c1ba-4e32-ec4d-12fd18e48474"
      },
      "source": [
        "es_callback = EarlyStopping(monitor='val_loss', patience=3)\n",
        "\n",
        "history_glove = without_mod.fit(word_seq_train, y_train, batch_size=256,\n",
        "          epochs=num_epochs, validation_split=0.3, callbacks=[es_callback], shuffle=False)"
      ],
      "execution_count": 140,
      "outputs": [
        {
          "output_type": "stream",
          "name": "stdout",
          "text": [
            "Epoch 1/40\n",
            "2/2 [==============================] - 7s 2s/step - loss: 0.6938 - accuracy: 0.4990 - val_loss: 0.6924 - val_accuracy: 0.4882\n",
            "Epoch 2/40\n",
            "2/2 [==============================] - 0s 84ms/step - loss: 0.6931 - accuracy: 0.5153 - val_loss: 0.6921 - val_accuracy: 0.4929\n",
            "Epoch 3/40\n",
            "2/2 [==============================] - 0s 87ms/step - loss: 0.6919 - accuracy: 0.5153 - val_loss: 0.6917 - val_accuracy: 0.5118\n",
            "Epoch 4/40\n",
            "2/2 [==============================] - 0s 90ms/step - loss: 0.6922 - accuracy: 0.5092 - val_loss: 0.6916 - val_accuracy: 0.5545\n",
            "Epoch 5/40\n",
            "2/2 [==============================] - 0s 90ms/step - loss: 0.6903 - accuracy: 0.5808 - val_loss: 0.6914 - val_accuracy: 0.5829\n",
            "Epoch 6/40\n",
            "2/2 [==============================] - 0s 95ms/step - loss: 0.6902 - accuracy: 0.6074 - val_loss: 0.6909 - val_accuracy: 0.5877\n",
            "Epoch 7/40\n",
            "2/2 [==============================] - 0s 90ms/step - loss: 0.6889 - accuracy: 0.5992 - val_loss: 0.6903 - val_accuracy: 0.6066\n",
            "Epoch 8/40\n",
            "2/2 [==============================] - 0s 86ms/step - loss: 0.6892 - accuracy: 0.5951 - val_loss: 0.6897 - val_accuracy: 0.5972\n",
            "Epoch 9/40\n",
            "2/2 [==============================] - 0s 89ms/step - loss: 0.6871 - accuracy: 0.5971 - val_loss: 0.6890 - val_accuracy: 0.5545\n",
            "Epoch 10/40\n",
            "2/2 [==============================] - 0s 86ms/step - loss: 0.6858 - accuracy: 0.5951 - val_loss: 0.6881 - val_accuracy: 0.5640\n",
            "Epoch 11/40\n",
            "2/2 [==============================] - 0s 86ms/step - loss: 0.6844 - accuracy: 0.6012 - val_loss: 0.6872 - val_accuracy: 0.5592\n",
            "Epoch 12/40\n",
            "2/2 [==============================] - 0s 84ms/step - loss: 0.6823 - accuracy: 0.6278 - val_loss: 0.6862 - val_accuracy: 0.5640\n",
            "Epoch 13/40\n",
            "2/2 [==============================] - 0s 102ms/step - loss: 0.6811 - accuracy: 0.6094 - val_loss: 0.6851 - val_accuracy: 0.5782\n",
            "Epoch 14/40\n",
            "2/2 [==============================] - 0s 98ms/step - loss: 0.6809 - accuracy: 0.6217 - val_loss: 0.6839 - val_accuracy: 0.5782\n",
            "Epoch 15/40\n",
            "2/2 [==============================] - 0s 91ms/step - loss: 0.6808 - accuracy: 0.6053 - val_loss: 0.6827 - val_accuracy: 0.6066\n",
            "Epoch 16/40\n",
            "2/2 [==============================] - 0s 85ms/step - loss: 0.6783 - accuracy: 0.6421 - val_loss: 0.6814 - val_accuracy: 0.6445\n",
            "Epoch 17/40\n",
            "2/2 [==============================] - 0s 83ms/step - loss: 0.6738 - accuracy: 0.6973 - val_loss: 0.6802 - val_accuracy: 0.6351\n",
            "Epoch 18/40\n",
            "2/2 [==============================] - 0s 88ms/step - loss: 0.6727 - accuracy: 0.6892 - val_loss: 0.6786 - val_accuracy: 0.6493\n",
            "Epoch 19/40\n",
            "2/2 [==============================] - 0s 82ms/step - loss: 0.6679 - accuracy: 0.7280 - val_loss: 0.6764 - val_accuracy: 0.6445\n",
            "Epoch 20/40\n",
            "2/2 [==============================] - 0s 104ms/step - loss: 0.6659 - accuracy: 0.7260 - val_loss: 0.6737 - val_accuracy: 0.6493\n",
            "Epoch 21/40\n",
            "2/2 [==============================] - 0s 87ms/step - loss: 0.6619 - accuracy: 0.7198 - val_loss: 0.6705 - val_accuracy: 0.6493\n",
            "Epoch 22/40\n",
            "2/2 [==============================] - 0s 83ms/step - loss: 0.6541 - accuracy: 0.7403 - val_loss: 0.6668 - val_accuracy: 0.6493\n",
            "Epoch 23/40\n",
            "2/2 [==============================] - 0s 82ms/step - loss: 0.6499 - accuracy: 0.7137 - val_loss: 0.6630 - val_accuracy: 0.6588\n",
            "Epoch 24/40\n",
            "2/2 [==============================] - 0s 84ms/step - loss: 0.6435 - accuracy: 0.7546 - val_loss: 0.6594 - val_accuracy: 0.6588\n",
            "Epoch 25/40\n",
            "2/2 [==============================] - 0s 95ms/step - loss: 0.6321 - accuracy: 0.7648 - val_loss: 0.6541 - val_accuracy: 0.6588\n",
            "Epoch 26/40\n",
            "2/2 [==============================] - 0s 89ms/step - loss: 0.6261 - accuracy: 0.7669 - val_loss: 0.6471 - val_accuracy: 0.6588\n",
            "Epoch 27/40\n",
            "2/2 [==============================] - 0s 98ms/step - loss: 0.6165 - accuracy: 0.7566 - val_loss: 0.6400 - val_accuracy: 0.6540\n",
            "Epoch 28/40\n",
            "2/2 [==============================] - 0s 91ms/step - loss: 0.6026 - accuracy: 0.7710 - val_loss: 0.6344 - val_accuracy: 0.6588\n",
            "Epoch 29/40\n",
            "2/2 [==============================] - 0s 84ms/step - loss: 0.5863 - accuracy: 0.7812 - val_loss: 0.6239 - val_accuracy: 0.6540\n",
            "Epoch 30/40\n",
            "2/2 [==============================] - 0s 85ms/step - loss: 0.5725 - accuracy: 0.7771 - val_loss: 0.6138 - val_accuracy: 0.6635\n",
            "Epoch 31/40\n",
            "2/2 [==============================] - 0s 81ms/step - loss: 0.5467 - accuracy: 0.7853 - val_loss: 0.6060 - val_accuracy: 0.6635\n",
            "Epoch 32/40\n",
            "2/2 [==============================] - 0s 88ms/step - loss: 0.5298 - accuracy: 0.7812 - val_loss: 0.5925 - val_accuracy: 0.6682\n",
            "Epoch 33/40\n",
            "2/2 [==============================] - 0s 81ms/step - loss: 0.4960 - accuracy: 0.7935 - val_loss: 0.5935 - val_accuracy: 0.6588\n",
            "Epoch 34/40\n",
            "2/2 [==============================] - 0s 81ms/step - loss: 0.4732 - accuracy: 0.8057 - val_loss: 0.5755 - val_accuracy: 0.6825\n",
            "Epoch 35/40\n",
            "2/2 [==============================] - 0s 86ms/step - loss: 0.4389 - accuracy: 0.8016 - val_loss: 0.5824 - val_accuracy: 0.6919\n",
            "Epoch 36/40\n",
            "2/2 [==============================] - 0s 83ms/step - loss: 0.4244 - accuracy: 0.8282 - val_loss: 0.5746 - val_accuracy: 0.6872\n",
            "Epoch 37/40\n",
            "2/2 [==============================] - 0s 82ms/step - loss: 0.3967 - accuracy: 0.8200 - val_loss: 0.5775 - val_accuracy: 0.7014\n",
            "Epoch 38/40\n",
            "2/2 [==============================] - 0s 85ms/step - loss: 0.3701 - accuracy: 0.8446 - val_loss: 0.6246 - val_accuracy: 0.7062\n",
            "Epoch 39/40\n",
            "2/2 [==============================] - 0s 88ms/step - loss: 0.3513 - accuracy: 0.8487 - val_loss: 0.6120 - val_accuracy: 0.7156\n"
          ]
        }
      ]
    },
    {
      "cell_type": "code",
      "metadata": {
        "id": "sSgSA15ktnqr"
      },
      "source": [
        "predictions = without_mod.predict(word_seq_test > 0.5).astype(int)\n",
        "test_df['pred']= predictions"
      ],
      "execution_count": 142,
      "outputs": []
    },
    {
      "cell_type": "code",
      "metadata": {
        "id": "lqw4OCOptnqu",
        "colab": {
          "base_uri": "https://localhost:8080/"
        },
        "outputId": "cea9ebb5-a583-40d8-c84b-72f29aec15f1"
      },
      "source": [
        "import sklearn\n",
        "print(\"Accuracy With GloVe :\")\n",
        "print(sklearn.metrics.accuracy_score(y_test, test_df.pred))"
      ],
      "execution_count": 143,
      "outputs": [
        {
          "output_type": "stream",
          "name": "stdout",
          "text": [
            "Accuracy With GloVe :\n",
            "0.4866666666666667\n"
          ]
        }
      ]
    },
    {
      "cell_type": "code",
      "source": [
        ""
      ],
      "metadata": {
        "id": "yfZ_yAAsIZ9q"
      },
      "execution_count": null,
      "outputs": []
    }
  ]
}