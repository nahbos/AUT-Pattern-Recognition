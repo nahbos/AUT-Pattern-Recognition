{
 "cells": [
  {
   "cell_type": "markdown",
   "id": "cdd78077",
   "metadata": {},
   "source": [
    "#### - Sobhan Moradian Daghigh\n",
    "#### - 12/27/2021\n",
    "#### - PR - EX02 - Q6 - All Parts"
   ]
  },
  {
   "cell_type": "code",
   "execution_count": 161,
   "id": "10108fe8",
   "metadata": {},
   "outputs": [],
   "source": [
    "import numpy as np\n",
    "from PIL import Image\n",
    "import os\n",
    "from scipy.stats import multivariate_normal\n",
    "import matplotlib.pyplot as plt"
   ]
  },
  {
   "cell_type": "code",
   "execution_count": 2,
   "id": "b28c5e7c",
   "metadata": {},
   "outputs": [],
   "source": [
    "def get_data_paths(directory):\n",
    "    filePaths = []\n",
    "    for dirpath,_,filenames in os.walk(directory):\n",
    "        for image_name in filenames:\n",
    "            filePaths.append(os.path.abspath(os.path.join(dirpath, image_name))) \n",
    "    return filePaths"
   ]
  },
  {
   "cell_type": "code",
   "execution_count": 3,
   "id": "de5658a5",
   "metadata": {},
   "outputs": [],
   "source": [
    "train = get_data_paths(\"./inputs/P6/pratheepan/train/set1/images\")\n",
    "train_masks = get_data_paths(\"./inputs/P6/pratheepan/train/set1/groundtruth\")"
   ]
  },
  {
   "cell_type": "markdown",
   "id": "2e040ffb",
   "metadata": {},
   "source": [
    "### Part A."
   ]
  },
  {
   "cell_type": "code",
   "execution_count": 4,
   "id": "07bc34b9",
   "metadata": {},
   "outputs": [],
   "source": [
    "skinPixelCounts = [[[0 for k in range(256)] for j in range(256)] for i in range(256)]\n",
    "noskinPixelCounts = [[[0 for k in range(256)] for j in range(256)] for i in range(256)]\n",
    "\n",
    "# For next step, calculating the mean and covariance matrix\n",
    "skin_list = []\n",
    "noSkin_list = []\n",
    "\n",
    "for i in range(len(train)):\n",
    "    img = Image.open(train[i]).convert('RGB')\n",
    "    mask = Image.open(train_masks[i]).convert('RGB')\n",
    "    w, h = img.size\n",
    "    \n",
    "    for j in range(h):\n",
    "        for i in range(w):\n",
    "            red, green, blue = img.getpixel((i, j))\n",
    "            maskRed, maskGreen, maskBlue = mask.getpixel((i, j))\n",
    "\n",
    "            if(maskRed > 150 and maskGreen > 150 and maskBlue > 150):\n",
    "                skinPixelCounts[red][green][blue] += 1\n",
    "                skin_list.append([red, green, blue])\n",
    "            else:\n",
    "                noskinPixelCounts[red][green][blue] += 1\n",
    "                noSkin_list.append([red, green, blue])\n",
    "                \n",
    "                \n",
    "    img.close()\n",
    "    mask.close()"
   ]
  },
  {
   "cell_type": "code",
   "execution_count": 5,
   "id": "61956ee7",
   "metadata": {},
   "outputs": [],
   "source": [
    "def nested_sum(L):\n",
    "    total = 0\n",
    "    for i in L:\n",
    "        if isinstance(i, list):\n",
    "            total += nested_sum(i)\n",
    "        else:\n",
    "            total += i\n",
    "    return total"
   ]
  },
  {
   "cell_type": "code",
   "execution_count": 6,
   "id": "2d6d5d21",
   "metadata": {},
   "outputs": [],
   "source": [
    "# Skin Pixels Frequency\n",
    "skin_count = nested_sum(skinPixelCounts)"
   ]
  },
  {
   "cell_type": "code",
   "execution_count": 7,
   "id": "5b1e788a",
   "metadata": {},
   "outputs": [],
   "source": [
    "# NoSkin Pixels Frequency\n",
    "noSkin_count = nested_sum(noskinPixelCounts)"
   ]
  },
  {
   "cell_type": "code",
   "execution_count": 8,
   "id": "a7e17458",
   "metadata": {},
   "outputs": [],
   "source": [
    "# Sum of pixels\n",
    "pix_count = np.add(skin_count, noSkin_count)"
   ]
  },
  {
   "cell_type": "markdown",
   "id": "a7ff99b2",
   "metadata": {},
   "source": [
    "#### Skin Prior Probability"
   ]
  },
  {
   "cell_type": "code",
   "execution_count": 145,
   "id": "84ce9d3c",
   "metadata": {},
   "outputs": [
    {
     "data": {
      "text/plain": [
       "0.275"
      ]
     },
     "execution_count": 145,
     "metadata": {},
     "output_type": "execute_result"
    }
   ],
   "source": [
    "skin_prior = round(np.divide(skin_count, pix_count), 3)\n",
    "skin_prior"
   ]
  },
  {
   "cell_type": "markdown",
   "id": "9f42aa2f",
   "metadata": {},
   "source": [
    "#### NoSkin Prior Probability"
   ]
  },
  {
   "cell_type": "code",
   "execution_count": 146,
   "id": "b0702be5",
   "metadata": {},
   "outputs": [
    {
     "data": {
      "text/plain": [
       "0.725"
      ]
     },
     "execution_count": 146,
     "metadata": {},
     "output_type": "execute_result"
    }
   ],
   "source": [
    "noSkin_prior = round(np.divide(noSkin_count, pix_count), 3)\n",
    "noSkin_prior"
   ]
  },
  {
   "cell_type": "code",
   "execution_count": null,
   "id": "a859d33c",
   "metadata": {},
   "outputs": [],
   "source": []
  },
  {
   "cell_type": "code",
   "execution_count": null,
   "id": "627918b5",
   "metadata": {},
   "outputs": [],
   "source": []
  },
  {
   "cell_type": "markdown",
   "id": "bb2598b5",
   "metadata": {},
   "source": [
    "### Part B."
   ]
  },
  {
   "cell_type": "code",
   "execution_count": 127,
   "id": "3519b2e0",
   "metadata": {},
   "outputs": [],
   "source": [
    "def get_mean(datas):\n",
    "    mean = np.divide([sum(x) for x in zip(*datas)], len(datas))\n",
    "    # The dimention is too high, so Im not wanna calculate in matrix form\n",
    "    # cov = np.matmul([np.subtract(x, mean) for x in datas], np.transpose([np.subtract(x, mean) for x in datas]))\n",
    "    temp = [[0, 0, 0], [0, 0, 0], [0, 0, 0]]\n",
    "    for ele in datas:\n",
    "        sub = np.subtract(ele, mean).reshape(3, 1)\n",
    "        temp = np.add(temp, np.matmul(np.array(sub), np.transpose(np.array(sub))))\n",
    "    cov = np.divide(temp, len(datas))\n",
    "    return mean, cov"
   ]
  },
  {
   "cell_type": "markdown",
   "id": "2a41ef26",
   "metadata": {},
   "source": [
    "#### Skin Mean and Covariance"
   ]
  },
  {
   "cell_type": "code",
   "execution_count": 139,
   "id": "ff2bef12",
   "metadata": {},
   "outputs": [
    {
     "name": "stdout",
     "output_type": "stream",
     "text": [
      "Mean: \n",
      "[189.93650938 140.48149646 111.69942265]\n",
      "\n",
      "Covariance: \n",
      "[[1962.10616042 1953.49144369 1861.1339192 ]\n",
      " [1953.49144369 2383.49106594 2449.30086464]\n",
      " [1861.1339192  2449.30086464 2675.40603824]]\n"
     ]
    }
   ],
   "source": [
    "skin_mean, skin_cov = get_mean(skin_list)\n",
    "print(\"Mean: \\n{}\".format(skin_mean))\n",
    "print(\"\\nCovariance: \\n{}\".format(skin_cov))"
   ]
  },
  {
   "cell_type": "code",
   "execution_count": 140,
   "id": "10300d1f",
   "metadata": {},
   "outputs": [
    {
     "data": {
      "text/plain": [
       "85364096.30087139"
      ]
     },
     "execution_count": 140,
     "metadata": {},
     "output_type": "execute_result"
    }
   ],
   "source": [
    "# Check for [det != 0] \n",
    "# If [det == 0], then its a singular Covariance and theres no inverse for it.\n",
    "np.linalg.det(skin_cov)"
   ]
  },
  {
   "cell_type": "markdown",
   "id": "14c5510d",
   "metadata": {},
   "source": [
    "#### NoSkin Mean and Covariance"
   ]
  },
  {
   "cell_type": "code",
   "execution_count": 141,
   "id": "4a080741",
   "metadata": {},
   "outputs": [
    {
     "name": "stdout",
     "output_type": "stream",
     "text": [
      "Mean: \n",
      "[129.37221255 106.52092805  96.43530788]\n",
      "\n",
      "Covariance: \n",
      "[[7762.2423282  6717.72306037 6294.89032932]\n",
      " [6717.72306037 7075.67355209 6916.65215675]\n",
      " [6294.89032932 6916.65215675 7145.14202326]]\n"
     ]
    }
   ],
   "source": [
    "noSkin_mean, noSkin_cov = get_mean(noSkin_list)\n",
    "print(\"Mean: \\n{}\".format(noSkin_mean))\n",
    "print(\"\\nCovariance: \\n{}\".format(noSkin_cov))"
   ]
  },
  {
   "cell_type": "code",
   "execution_count": 142,
   "id": "9f35cbdf",
   "metadata": {},
   "outputs": [
    {
     "data": {
      "text/plain": [
       "3237844884.813418"
      ]
     },
     "execution_count": 142,
     "metadata": {},
     "output_type": "execute_result"
    }
   ],
   "source": [
    "# Check for [det != 0] \n",
    "# If [det == 0], then its a singular Covariance and theres no inverse for it.\n",
    "np.linalg.det(noSkin_cov)"
   ]
  },
  {
   "cell_type": "code",
   "execution_count": null,
   "id": "4c38d418",
   "metadata": {},
   "outputs": [],
   "source": []
  },
  {
   "cell_type": "code",
   "execution_count": null,
   "id": "92471e17",
   "metadata": {},
   "outputs": [],
   "source": []
  },
  {
   "cell_type": "markdown",
   "id": "7aa60a0c",
   "metadata": {},
   "source": [
    "### Part C."
   ]
  },
  {
   "cell_type": "code",
   "execution_count": 144,
   "id": "1d2bea3a",
   "metadata": {},
   "outputs": [],
   "source": [
    "# Continues with Noraml Distribution\n",
    "def cal_probability_density(mean, cov, x):    \n",
    "    var = multivariate_normal(mean=mean, cov=cov)\n",
    "    prob = var.pdf(x)\n",
    "    return prob"
   ]
  },
  {
   "cell_type": "code",
   "execution_count": 176,
   "id": "7088d4fb",
   "metadata": {},
   "outputs": [],
   "source": [
    "def BC(pixel):\n",
    "    posteriors = []\n",
    "    posteriors.append(np.add(np.log(skin_prior), np.log(cal_probability_density(skin_mean, skin_cov, pixel))))\n",
    "    posteriors.append(np.add(np.log(noSkin_prior), np.log(cal_probability_density(noSkin_mean, noSkin_cov, pixel))))\n",
    "    \n",
    "    idx = np.argmax(posteriors)\n",
    "    \n",
    "    return 0 if idx == 1 else 255"
   ]
  },
  {
   "cell_type": "code",
   "execution_count": 185,
   "id": "3d54738c",
   "metadata": {},
   "outputs": [
    {
     "name": "stdout",
     "output_type": "stream",
     "text": [
      "[[215 203 177]\n",
      " [199 188 160]\n",
      " [204 193 165]\n",
      " ...\n",
      " [206 195 167]\n",
      " [200 188 164]\n",
      " [216 203 184]]\n"
     ]
    },
    {
     "ename": "TypeError",
     "evalue": "'Image' object is not subscriptable",
     "output_type": "error",
     "traceback": [
      "\u001b[1;31m---------------------------------------------------------------------------\u001b[0m",
      "\u001b[1;31mTypeError\u001b[0m                                 Traceback (most recent call last)",
      "\u001b[1;32m~\\AppData\\Local\\Temp/ipykernel_21964/3606634231.py\u001b[0m in \u001b[0;36m<module>\u001b[1;34m\u001b[0m\n\u001b[0;32m      5\u001b[0m \u001b[1;32mfor\u001b[0m \u001b[0mj\u001b[0m \u001b[1;32min\u001b[0m \u001b[0mrange\u001b[0m\u001b[1;33m(\u001b[0m\u001b[0mh\u001b[0m\u001b[1;33m)\u001b[0m\u001b[1;33m:\u001b[0m\u001b[1;33m\u001b[0m\u001b[1;33m\u001b[0m\u001b[0m\n\u001b[0;32m      6\u001b[0m     \u001b[0mprint\u001b[0m\u001b[1;33m(\u001b[0m\u001b[0mnp\u001b[0m\u001b[1;33m.\u001b[0m\u001b[0marray\u001b[0m\u001b[1;33m(\u001b[0m\u001b[0mimg\u001b[0m\u001b[1;33m)\u001b[0m\u001b[1;33m[\u001b[0m\u001b[0mj\u001b[0m\u001b[1;33m]\u001b[0m\u001b[1;33m)\u001b[0m\u001b[1;33m\u001b[0m\u001b[1;33m\u001b[0m\u001b[0m\n\u001b[1;32m----> 7\u001b[1;33m     \u001b[0mskin_liklihood\u001b[0m \u001b[1;33m=\u001b[0m \u001b[0mcal_probability_density\u001b[0m\u001b[1;33m(\u001b[0m\u001b[0mskin_mean\u001b[0m\u001b[1;33m,\u001b[0m \u001b[0mskin_cov\u001b[0m\u001b[1;33m,\u001b[0m \u001b[0mimg\u001b[0m\u001b[1;33m[\u001b[0m\u001b[0mj\u001b[0m\u001b[1;33m]\u001b[0m\u001b[1;33m)\u001b[0m\u001b[1;33m\u001b[0m\u001b[1;33m\u001b[0m\u001b[0m\n\u001b[0m\u001b[0;32m      8\u001b[0m     \u001b[0mnoSkin_liklihood\u001b[0m \u001b[1;33m=\u001b[0m \u001b[0mcal_probability_density\u001b[0m\u001b[1;33m(\u001b[0m\u001b[0mnoSkin_mean\u001b[0m\u001b[1;33m,\u001b[0m \u001b[0mnoSkin_cov\u001b[0m\u001b[1;33m,\u001b[0m \u001b[0mimg\u001b[0m\u001b[1;33m[\u001b[0m\u001b[0mj\u001b[0m\u001b[1;33m]\u001b[0m\u001b[1;33m)\u001b[0m\u001b[1;33m\u001b[0m\u001b[1;33m\u001b[0m\u001b[0m\n\u001b[0;32m      9\u001b[0m     \u001b[1;32mfor\u001b[0m \u001b[0mi\u001b[0m \u001b[1;32min\u001b[0m \u001b[0mrange\u001b[0m\u001b[1;33m(\u001b[0m\u001b[0mw\u001b[0m\u001b[1;33m)\u001b[0m\u001b[1;33m:\u001b[0m\u001b[1;33m\u001b[0m\u001b[1;33m\u001b[0m\u001b[0m\n",
      "\u001b[1;31mTypeError\u001b[0m: 'Image' object is not subscriptable"
     ]
    }
   ],
   "source": [
    "img = Image.open('./inputs/P6/pratheepan/train/set1/images/06Apr03Face.jpg').convert('RGB')\n",
    "w, h = img.size\n",
    "blank = np.zeros((h, w), dtype=int)\n",
    "\n",
    "for j in range(h):\n",
    "    skin_liklihood = cal_probability_density(skin_mean, skin_cov, np.array(img)[j])\n",
    "    noSkin_liklihood = cal_probability_density(noSkin_mean, noSkin_cov, np.array(img)[j])\n",
    "#     for i in range(w):\n",
    "#         red, green, blue = img.getpixel((i, j))\n",
    "        blank[j][i] = BC([red, green, blue], )\n",
    "\n",
    "plt.imshow(blank, cmap='gray')\n",
    "plt.show()"
   ]
  },
  {
   "cell_type": "code",
   "execution_count": 184,
   "id": "f70c3dc9",
   "metadata": {},
   "outputs": [
    {
     "data": {
      "text/plain": [
       "array([[[215, 203, 177],\n",
       "        [199, 188, 160],\n",
       "        [204, 193, 165],\n",
       "        ...,\n",
       "        [206, 195, 167],\n",
       "        [200, 188, 164],\n",
       "        [216, 203, 184]],\n",
       "\n",
       "       [[200, 186, 157],\n",
       "        [184, 171, 139],\n",
       "        [189, 176, 144],\n",
       "        ...,\n",
       "        [190, 179, 151],\n",
       "        [183, 171, 147],\n",
       "        [200, 187, 168]],\n",
       "\n",
       "       [[206, 193, 159],\n",
       "        [189, 176, 141],\n",
       "        [195, 182, 147],\n",
       "        ...,\n",
       "        [195, 184, 154],\n",
       "        [189, 177, 151],\n",
       "        [205, 192, 173]],\n",
       "\n",
       "       ...,\n",
       "\n",
       "       [[255, 255, 255],\n",
       "        [  1,   0,   0],\n",
       "        [ 11,   6,   3],\n",
       "        ...,\n",
       "        [176, 120,  87],\n",
       "        [163, 107,  74],\n",
       "        [188, 139, 107]],\n",
       "\n",
       "       [[254, 254, 254],\n",
       "        [  3,   2,   0],\n",
       "        [  4,   0,   0],\n",
       "        ...,\n",
       "        [165, 111,  75],\n",
       "        [151,  98,  64],\n",
       "        [174, 129, 100]],\n",
       "\n",
       "       [[255, 255, 255],\n",
       "        [ 69,  68,  66],\n",
       "        [  9,   4,   1],\n",
       "        ...,\n",
       "        [185, 140, 101],\n",
       "        [177, 133,  96],\n",
       "        [197, 161, 129]]], dtype=uint8)"
      ]
     },
     "execution_count": 184,
     "metadata": {},
     "output_type": "execute_result"
    }
   ],
   "source": [
    "np.array(img)"
   ]
  },
  {
   "cell_type": "code",
   "execution_count": null,
   "id": "647fbc90",
   "metadata": {},
   "outputs": [],
   "source": []
  },
  {
   "cell_type": "code",
   "execution_count": null,
   "id": "ce64b76c",
   "metadata": {},
   "outputs": [],
   "source": []
  },
  {
   "cell_type": "code",
   "execution_count": null,
   "id": "c71a70d6",
   "metadata": {},
   "outputs": [],
   "source": [
    "\n",
    "\n",
    "skinPixels = 0\n",
    "nonSkinPixels = 0\n",
    "\n",
    "for i in range(256):\n",
    "  for j in range(256):\n",
    "    for k in range(256):\n",
    "      skinPixelNumber[i][j][k] += 1\n",
    "      skinPixels += skinPixelNumber[i][j][k]\n",
    "      nonskinPixelNumber[i][j][k] += 1\n",
    "      nonSkinPixels += nonskinPixelNumber[i][j][k]\n",
    "  print(\"^\", end=\"\")\n",
    "probabilityOfSkin = skinPixels / (skinPixels + nonSkinPixels)\n",
    "probability = 0\n",
    "\n",
    "f = open(\"./noesis.sadi\", 'w')\n",
    "f.write(\"\")\n",
    "for i in range(256):\n",
    "  for j in range(256):\n",
    "    for k in range(256):\n",
    "      probability = skinPixelNumber[i][j][k] * probabilityOfSkin / (skinPixelNumber[i][j][k] + nonskinPixelNumber[i][j][k])\n",
    "      f.write(str(probability) + \"\\n\")\n",
    "  print(\"*\", end=\"\")\n",
    "\n",
    "f.close()"
   ]
  },
  {
   "cell_type": "code",
   "execution_count": null,
   "id": "3b43bbed",
   "metadata": {},
   "outputs": [],
   "source": [
    "from PIL import Image\n",
    "\n",
    "ratio = [[[0 for k in range(256)] for j in range(256)] for i in range(256)]\n",
    "\n",
    "with open(\"./noesis.sadi\", \"r\") as file:\n",
    "  for i in range(256):\n",
    "    for j in range(256):\n",
    "      for k in range(256):\n",
    "        probability = file.readline()\n",
    "        ratio[i][j][k] = float(probability)\n",
    "print('data collected!')\n",
    "\n",
    "image = Image.open(\"./inputs/P6/pratheepan/test/images/m(01-32)_gr.jpg\")\n",
    "im = image.convert('RGB')\n",
    "width, height = im.size\n",
    "\n",
    "im2 = Image.new(im.mode, im.size)\n",
    "\n",
    "for y in range(height):\n",
    "  for x in range(width):\n",
    "    red, green, blue = im.getpixel((x, y))\n",
    "    if(ratio[red][green][blue] > .25):\n",
    "      im2.putpixel((x, y), (255, 255, 255))\n",
    "    else:\n",
    "      im2.putpixel((x, y), (0, 0, 0))\n",
    "  print(\"*\", end=\"\")\n",
    "\n",
    "im2.save(\"./detected4.jpg\")\n",
    "# im2.show()"
   ]
  },
  {
   "cell_type": "code",
   "execution_count": null,
   "id": "e160f963",
   "metadata": {},
   "outputs": [],
   "source": []
  }
 ],
 "metadata": {
  "kernelspec": {
   "display_name": "Python 3 (ipykernel)",
   "language": "python",
   "name": "python3"
  },
  "language_info": {
   "codemirror_mode": {
    "name": "ipython",
    "version": 3
   },
   "file_extension": ".py",
   "mimetype": "text/x-python",
   "name": "python",
   "nbconvert_exporter": "python",
   "pygments_lexer": "ipython3",
   "version": "3.10.1"
  }
 },
 "nbformat": 4,
 "nbformat_minor": 5
}
