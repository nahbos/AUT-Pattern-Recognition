{
 "cells": [
  {
   "cell_type": "markdown",
   "id": "85e383e7",
   "metadata": {},
   "source": [
    "#### - Sobhan Moradian Daghigh\n",
    "#### - 12/27/2021\n",
    "#### - PR - EX02 - Q6 - All Parts"
   ]
  },
  {
   "cell_type": "code",
   "execution_count": 161,
   "id": "229263b4",
   "metadata": {},
   "outputs": [],
   "source": [
    "import numpy as np\n",
    "from PIL import Image\n",
    "import os\n",
    "from scipy.stats import multivariate_normal\n",
    "import matplotlib.pyplot as plt"
   ]
  },
  {
   "cell_type": "code",
   "execution_count": 2,
   "id": "17294db9",
   "metadata": {},
   "outputs": [],
   "source": [
    "def get_data_paths(directory):\n",
    "    filePaths = []\n",
    "    for dirpath,_,filenames in os.walk(directory):\n",
    "        for image_name in filenames:\n",
    "            filePaths.append(os.path.abspath(os.path.join(dirpath, image_name))) \n",
    "    return filePaths"
   ]
  },
  {
   "cell_type": "code",
   "execution_count": 3,
   "id": "355822b0",
   "metadata": {},
   "outputs": [],
   "source": [
    "train = get_data_paths(\"./inputs/P6/pratheepan/train/set1/images\")\n",
    "train_masks = get_data_paths(\"./inputs/P6/pratheepan/train/set1/groundtruth\")"
   ]
  },
  {
   "cell_type": "markdown",
   "id": "2693ed7a",
   "metadata": {},
   "source": [
    "### Part A."
   ]
  },
  {
   "cell_type": "code",
   "execution_count": 4,
   "id": "5a1fa61d",
   "metadata": {},
   "outputs": [],
   "source": [
    "skinPixelCounts = [[[0 for k in range(256)] for j in range(256)] for i in range(256)]\n",
    "noskinPixelCounts = [[[0 for k in range(256)] for j in range(256)] for i in range(256)]\n",
    "\n",
    "# For next step, calculating the mean and covariance matrix\n",
    "skin_list = []\n",
    "noSkin_list = []\n",
    "\n",
    "for i in range(len(train)):\n",
    "    img = Image.open(train[i]).convert('RGB')\n",
    "    mask = Image.open(train_masks[i]).convert('RGB')\n",
    "    w, h = img.size\n",
    "    \n",
    "    for j in range(h):\n",
    "        for i in range(w):\n",
    "            red, green, blue = img.getpixel((i, j))\n",
    "            maskRed, maskGreen, maskBlue = mask.getpixel((i, j))\n",
    "\n",
    "            if(maskRed > 150 and maskGreen > 150 and maskBlue > 150):\n",
    "                skinPixelCounts[red][green][blue] += 1\n",
    "                skin_list.append([red, green, blue])\n",
    "            else:\n",
    "                noskinPixelCounts[red][green][blue] += 1\n",
    "                noSkin_list.append([red, green, blue])\n",
    "                \n",
    "                \n",
    "    img.close()\n",
    "    mask.close()"
   ]
  },
  {
   "cell_type": "code",
   "execution_count": 5,
   "id": "294b2e23",
   "metadata": {},
   "outputs": [],
   "source": [
    "def nested_sum(L):\n",
    "    total = 0\n",
    "    for i in L:\n",
    "        if isinstance(i, list):\n",
    "            total += nested_sum(i)\n",
    "        else:\n",
    "            total += i\n",
    "    return total"
   ]
  },
  {
   "cell_type": "code",
   "execution_count": 6,
   "id": "6bbc488b",
   "metadata": {},
   "outputs": [],
   "source": [
    "# Skin Pixels Frequency\n",
    "skin_count = nested_sum(skinPixelCounts)"
   ]
  },
  {
   "cell_type": "code",
   "execution_count": 7,
   "id": "2b83e7db",
   "metadata": {},
   "outputs": [],
   "source": [
    "# NoSkin Pixels Frequency\n",
    "noSkin_count = nested_sum(noskinPixelCounts)"
   ]
  },
  {
   "cell_type": "code",
   "execution_count": 8,
   "id": "0be9fbb5",
   "metadata": {},
   "outputs": [],
   "source": [
    "# Sum of pixels\n",
    "pix_count = np.add(skin_count, noSkin_count)"
   ]
  },
  {
   "cell_type": "markdown",
   "id": "d9b9d006",
   "metadata": {},
   "source": [
    "#### Skin Prior Probability"
   ]
  },
  {
   "cell_type": "code",
   "execution_count": 145,
   "id": "766730ee",
   "metadata": {},
   "outputs": [
    {
     "data": {
      "text/plain": [
       "0.275"
      ]
     },
     "execution_count": 145,
     "metadata": {},
     "output_type": "execute_result"
    }
   ],
   "source": [
    "skin_prior = round(np.divide(skin_count, pix_count), 3)\n",
    "skin_prior"
   ]
  },
  {
   "cell_type": "markdown",
   "id": "348a7d72",
   "metadata": {},
   "source": [
    "#### NoSkin Prior Probability"
   ]
  },
  {
   "cell_type": "code",
   "execution_count": 146,
   "id": "b4ab2aea",
   "metadata": {},
   "outputs": [
    {
     "data": {
      "text/plain": [
       "0.725"
      ]
     },
     "execution_count": 146,
     "metadata": {},
     "output_type": "execute_result"
    }
   ],
   "source": [
    "noSkin_prior = round(np.divide(noSkin_count, pix_count), 3)\n",
    "noSkin_prior"
   ]
  },
  {
   "cell_type": "code",
   "execution_count": null,
   "id": "5692f1fb",
   "metadata": {},
   "outputs": [],
   "source": []
  },
  {
   "cell_type": "code",
   "execution_count": null,
   "id": "2c27ce73",
   "metadata": {},
   "outputs": [],
   "source": []
  },
  {
   "cell_type": "markdown",
   "id": "c3d8d123",
   "metadata": {},
   "source": [
    "### Part B."
   ]
  },
  {
   "cell_type": "code",
   "execution_count": 127,
   "id": "a1e460cc",
   "metadata": {},
   "outputs": [],
   "source": [
    "def get_mean(datas):\n",
    "    mean = np.divide([sum(x) for x in zip(*datas)], len(datas))\n",
    "    # The dimention is too high, so Im not wanna calculate in matrix form\n",
    "    # cov = np.matmul([np.subtract(x, mean) for x in datas], np.transpose([np.subtract(x, mean) for x in datas]))\n",
    "    temp = [[0, 0, 0], [0, 0, 0], [0, 0, 0]]\n",
    "    for ele in datas:\n",
    "        sub = np.subtract(ele, mean).reshape(3, 1)\n",
    "        temp = np.add(temp, np.matmul(np.array(sub), np.transpose(np.array(sub))))\n",
    "    cov = np.divide(temp, len(datas))\n",
    "    return mean, cov"
   ]
  },
  {
   "cell_type": "markdown",
   "id": "dae4adeb",
   "metadata": {},
   "source": [
    "#### Skin Mean and Covariance"
   ]
  },
  {
   "cell_type": "code",
   "execution_count": 139,
   "id": "40840c86",
   "metadata": {},
   "outputs": [
    {
     "name": "stdout",
     "output_type": "stream",
     "text": [
      "Mean: \n",
      "[189.93650938 140.48149646 111.69942265]\n",
      "\n",
      "Covariance: \n",
      "[[1962.10616042 1953.49144369 1861.1339192 ]\n",
      " [1953.49144369 2383.49106594 2449.30086464]\n",
      " [1861.1339192  2449.30086464 2675.40603824]]\n"
     ]
    }
   ],
   "source": [
    "skin_mean, skin_cov = get_mean(skin_list)\n",
    "print(\"Mean: \\n{}\".format(skin_mean))\n",
    "print(\"\\nCovariance: \\n{}\".format(skin_cov))"
   ]
  },
  {
   "cell_type": "code",
   "execution_count": 140,
   "id": "bd6034b9",
   "metadata": {},
   "outputs": [
    {
     "data": {
      "text/plain": [
       "85364096.30087139"
      ]
     },
     "execution_count": 140,
     "metadata": {},
     "output_type": "execute_result"
    }
   ],
   "source": [
    "# Check for [det != 0] \n",
    "# If [det == 0], then its a singular Covariance and theres no inverse for it.\n",
    "np.linalg.det(skin_cov)"
   ]
  },
  {
   "cell_type": "markdown",
   "id": "32212d86",
   "metadata": {},
   "source": [
    "#### NoSkin Mean and Covariance"
   ]
  },
  {
   "cell_type": "code",
   "execution_count": 141,
   "id": "3c9a6579",
   "metadata": {},
   "outputs": [
    {
     "name": "stdout",
     "output_type": "stream",
     "text": [
      "Mean: \n",
      "[129.37221255 106.52092805  96.43530788]\n",
      "\n",
      "Covariance: \n",
      "[[7762.2423282  6717.72306037 6294.89032932]\n",
      " [6717.72306037 7075.67355209 6916.65215675]\n",
      " [6294.89032932 6916.65215675 7145.14202326]]\n"
     ]
    }
   ],
   "source": [
    "noSkin_mean, noSkin_cov = get_mean(noSkin_list)\n",
    "print(\"Mean: \\n{}\".format(noSkin_mean))\n",
    "print(\"\\nCovariance: \\n{}\".format(noSkin_cov))"
   ]
  },
  {
   "cell_type": "code",
   "execution_count": 142,
   "id": "2cd82e09",
   "metadata": {},
   "outputs": [
    {
     "data": {
      "text/plain": [
       "3237844884.813418"
      ]
     },
     "execution_count": 142,
     "metadata": {},
     "output_type": "execute_result"
    }
   ],
   "source": [
    "# Check for [det != 0] \n",
    "# If [det == 0], then its a singular Covariance and theres no inverse for it.\n",
    "np.linalg.det(noSkin_cov)"
   ]
  },
  {
   "cell_type": "code",
   "execution_count": null,
   "id": "5de62d3b",
   "metadata": {},
   "outputs": [],
   "source": []
  },
  {
   "cell_type": "code",
   "execution_count": null,
   "id": "eefe7eb5",
   "metadata": {},
   "outputs": [],
   "source": []
  },
  {
   "cell_type": "markdown",
   "id": "369d4895",
   "metadata": {},
   "source": [
    "### Part C."
   ]
  },
  {
   "cell_type": "code",
   "execution_count": 216,
   "id": "cfc7ac52",
   "metadata": {},
   "outputs": [],
   "source": [
    "# Continues with Noraml Distribution\n",
    "def cal_probability_density(mean, cov, x):\n",
    "    var = multivariate_normal(mean=mean, cov=cov)\n",
    "    prob = var.pdf(x)\n",
    "    return prob"
   ]
  },
  {
   "cell_type": "code",
   "execution_count": 220,
   "id": "3aabbb83",
   "metadata": {},
   "outputs": [],
   "source": [
    "def BC(skin_liklihood, noSkin_liklihood):\n",
    "    posteriors = []\n",
    "    predictions = []\n",
    "\n",
    "    for skn, noSkn in zip(skin_liklihood, noSkin_liklihood):\n",
    "        \n",
    "        posteriors.append(np.add(np.log(skin_prior), np.log(skn)))\n",
    "        posteriors.append(np.add(np.log(noSkin_prior), np.log(noSkn)))\n",
    "    \n",
    "        idx = np.argmax(posteriors)\n",
    "        predictions.append(0 if idx == 1 else 255)\n",
    "        \n",
    "    return predictions"
   ]
  },
  {
   "cell_type": "code",
   "execution_count": 221,
   "id": "28110ba2",
   "metadata": {},
   "outputs": [
    {
     "data": {
      "image/png": "[encoded data removed]",
      "text/plain": [
       "<Figure size 432x288 with 1 Axes>"
      ]
     },
     "metadata": {
      "needs_background": "light"
     },
     "output_type": "display_data"
    }
   ],
   "source": [
    "img = Image.open('./inputs/P6/pratheepan/train/set1/images/06Apr03Face.jpg').convert('RGB')\n",
    "w, h = img.size\n",
    "blank = np.zeros((h, w), dtype=int)\n",
    "\n",
    "for j in range(h):\n",
    "    skin_liklihood = cal_probability_density(skin_mean, skin_cov, np.array(img)[j])\n",
    "    noSkin_liklihood = cal_probability_density(noSkin_mean, noSkin_cov, np.array(img)[j])\n",
    "#     for i in range(w):\n",
    "#         red, green, blue = img.getpixel((i, j))\n",
    "#     print(BC(skin_liklihood, noSkin_liklihood))\n",
    "    blank[j] = BC(skin_liklihood, noSkin_liklihood)\n",
    "\n",
    "plt.imshow(blank, cmap='gray')\n",
    "plt.show()"
   ]
  },
  {
   "cell_type": "code",
   "execution_count": 219,
   "id": "aec66384",
   "metadata": {},
   "outputs": [
    {
     "data": {
      "image/png": "[encoded data removed]",
      "text/plain": [
       "<Figure size 432x288 with 1 Axes>"
      ]
     },
     "metadata": {
      "needs_background": "light"
     },
     "output_type": "display_data"
    }
   ],
   "source": [
    "blank1 = np.zeros((2, 3), dtype=int)\n",
    "blank1[0] = [255, 0, 255]\n",
    "plt.imshow(blank1, cmap='gray')\n",
    "plt.show()"
   ]
  },
  {
   "cell_type": "code",
   "execution_count": null,
   "id": "ebec1161",
   "metadata": {},
   "outputs": [],
   "source": []
  },
  {
   "cell_type": "code",
   "execution_count": null,
   "id": "96ce4a42",
   "metadata": {},
   "outputs": [],
   "source": []
  },
  {
   "cell_type": "code",
   "execution_count": null,
   "id": "724bc24f",
   "metadata": {},
   "outputs": [],
   "source": []
  },
  {
   "cell_type": "code",
   "execution_count": null,
   "id": "0b0a2718",
   "metadata": {},
   "outputs": [],
   "source": []
  },
  {
   "cell_type": "code",
   "execution_count": null,
   "id": "53bd8fe5",
   "metadata": {},
   "outputs": [],
   "source": []
  },
  {
   "cell_type": "code",
   "execution_count": null,
   "id": "83a05f52",
   "metadata": {},
   "outputs": [],
   "source": [
    "\n",
    "\n",
    "skinPixels = 0\n",
    "nonSkinPixels = 0\n",
    "\n",
    "for i in range(256):\n",
    "  for j in range(256):\n",
    "    for k in range(256):\n",
    "      skinPixelNumber[i][j][k] += 1\n",
    "      skinPixels += skinPixelNumber[i][j][k]\n",
    "      nonskinPixelNumber[i][j][k] += 1\n",
    "      nonSkinPixels += nonskinPixelNumber[i][j][k]\n",
    "  print(\"^\", end=\"\")\n",
    "probabilityOfSkin = skinPixels / (skinPixels + nonSkinPixels)\n",
    "probability = 0\n",
    "\n",
    "f = open(\"./noesis.sadi\", 'w')\n",
    "f.write(\"\")\n",
    "for i in range(256):\n",
    "  for j in range(256):\n",
    "    for k in range(256):\n",
    "      probability = skinPixelNumber[i][j][k] * probabilityOfSkin / (skinPixelNumber[i][j][k] + nonskinPixelNumber[i][j][k])\n",
    "      f.write(str(probability) + \"\\n\")\n",
    "  print(\"*\", end=\"\")\n",
    "\n",
    "f.close()"
   ]
  },
  {
   "cell_type": "code",
   "execution_count": null,
   "id": "2fbfa899",
   "metadata": {},
   "outputs": [],
   "source": [
    "from PIL import Image\n",
    "\n",
    "ratio = [[[0 for k in range(256)] for j in range(256)] for i in range(256)]\n",
    "\n",
    "with open(\"./noesis.sadi\", \"r\") as file:\n",
    "  for i in range(256):\n",
    "    for j in range(256):\n",
    "      for k in range(256):\n",
    "        probability = file.readline()\n",
    "        ratio[i][j][k] = float(probability)\n",
    "print('data collected!')\n",
    "\n",
    "image = Image.open(\"./inputs/P6/pratheepan/test/images/m(01-32)_gr.jpg\")\n",
    "im = image.convert('RGB')\n",
    "width, height = im.size\n",
    "\n",
    "im2 = Image.new(im.mode, im.size)\n",
    "\n",
    "for y in range(height):\n",
    "  for x in range(width):\n",
    "    red, green, blue = im.getpixel((x, y))\n",
    "    if(ratio[red][green][blue] > .25):\n",
    "      im2.putpixel((x, y), (255, 255, 255))\n",
    "    else:\n",
    "      im2.putpixel((x, y), (0, 0, 0))\n",
    "  print(\"*\", end=\"\")\n",
    "\n",
    "im2.save(\"./detected4.jpg\")\n",
    "# im2.show()"
   ]
  },
  {
   "cell_type": "code",
   "execution_count": null,
   "id": "b18e7e2e",
   "metadata": {},
   "outputs": [],
   "source": []
  }
 ],
 "metadata": {
  "kernelspec": {
   "display_name": "Python 3 (ipykernel)",
   "language": "python",
   "name": "python3"
  },
  "language_info": {
   "codemirror_mode": {
    "name": "ipython",
    "version": 3
   },
   "file_extension": ".py",
   "mimetype": "text/x-python",
   "name": "python",
   "nbconvert_exporter": "python",
   "pygments_lexer": "ipython3",
   "version": "3.10.1"
  }
 },
 "nbformat": 4,
 "nbformat_minor": 5
}
