{
 "cells": [
  {
   "cell_type": "markdown",
   "id": "33246966",
   "metadata": {},
   "source": [
    "#### - Sobhan Moradian Daghigh\n",
    "#### - 12/27/2021\n",
    "#### - PR - EX02 - Q6 - All Parts"
   ]
  },
  {
   "cell_type": "code",
   "execution_count": 1,
   "id": "2268c453",
   "metadata": {},
   "outputs": [],
   "source": [
    "import numpy as np\n",
    "from PIL import Image\n",
    "import os"
   ]
  },
  {
   "cell_type": "code",
   "execution_count": 2,
   "id": "34b50e2d",
   "metadata": {},
   "outputs": [],
   "source": [
    "def get_data_paths(directory):\n",
    "    filePaths = []\n",
    "    for dirpath,_,filenames in os.walk(directory):\n",
    "        for image_name in filenames:\n",
    "            filePaths.append(os.path.abspath(os.path.join(dirpath, image_name))) \n",
    "    return filePaths"
   ]
  },
  {
   "cell_type": "code",
   "execution_count": 3,
   "id": "57d91f91",
   "metadata": {},
   "outputs": [],
   "source": [
    "train = get_data_paths(\"./inputs/P6/pratheepan/train/set1/images\")\n",
    "train_masks = get_data_paths(\"./inputs/P6/pratheepan/train/set1/groundtruth\")"
   ]
  },
  {
   "cell_type": "markdown",
   "id": "d24d262d",
   "metadata": {},
   "source": [
    "### Part A."
   ]
  },
  {
   "cell_type": "code",
   "execution_count": 4,
   "id": "b60d701a",
   "metadata": {},
   "outputs": [],
   "source": [
    "skinPixelCounts = [[[0 for k in range(256)] for j in range(256)] for i in range(256)]\n",
    "noskinPixelCounts = [[[0 for k in range(256)] for j in range(256)] for i in range(256)]\n",
    "\n",
    "# For next step, calculating the mean and covariance matrix\n",
    "skin_list = []\n",
    "noSkin_list = []\n",
    "\n",
    "for i in range(len(train)):\n",
    "    img = Image.open(train[i]).convert('RGB')\n",
    "    mask = Image.open(train_masks[i]).convert('RGB')\n",
    "    w, h = img.size\n",
    "    \n",
    "    for j in range(h):\n",
    "        for i in range(w):\n",
    "            red, green, blue = img.getpixel((i, j))\n",
    "            maskRed, maskGreen, maskBlue = mask.getpixel((i, j))\n",
    "\n",
    "            if(maskRed > 150 and maskGreen > 150 and maskBlue > 150):\n",
    "                skinPixelCounts[red][green][blue] += 1\n",
    "                skin_list.append([red, green, blue])\n",
    "            else:\n",
    "                noskinPixelCounts[red][green][blue] += 1\n",
    "                noSkin_list.append([red, green, blue])\n",
    "                \n",
    "                \n",
    "    img.close()\n",
    "    mask.close()"
   ]
  },
  {
   "cell_type": "code",
   "execution_count": 5,
   "id": "3e920bb4",
   "metadata": {},
   "outputs": [],
   "source": [
    "def nested_sum(L):\n",
    "    total = 0\n",
    "    for i in L:\n",
    "        if isinstance(i, list):\n",
    "            total += nested_sum(i)\n",
    "        else:\n",
    "            total += i\n",
    "    return total"
   ]
  },
  {
   "cell_type": "code",
   "execution_count": 6,
   "id": "f1716eb2",
   "metadata": {},
   "outputs": [],
   "source": [
    "# Skin Pixels Frequency\n",
    "skin_count = nested_sum(skinPixelCounts)"
   ]
  },
  {
   "cell_type": "code",
   "execution_count": 7,
   "id": "7c1b3713",
   "metadata": {},
   "outputs": [],
   "source": [
    "# NoSkin Pixels Frequency\n",
    "noSkin_count = nested_sum(noskinPixelCounts)"
   ]
  },
  {
   "cell_type": "code",
   "execution_count": 8,
   "id": "6b4df0f7",
   "metadata": {},
   "outputs": [],
   "source": [
    "# Sum of pixels\n",
    "pix_count = np.add(skin_count, noSkin_count)"
   ]
  },
  {
   "cell_type": "markdown",
   "id": "022b6398",
   "metadata": {},
   "source": [
    "#### Skin Prior Probability"
   ]
  },
  {
   "cell_type": "code",
   "execution_count": 9,
   "id": "fd750dab",
   "metadata": {},
   "outputs": [
    {
     "data": {
      "text/plain": [
       "0.275"
      ]
     },
     "execution_count": 9,
     "metadata": {},
     "output_type": "execute_result"
    }
   ],
   "source": [
    "round(np.divide(skin_count, pix_count), 3)"
   ]
  },
  {
   "cell_type": "markdown",
   "id": "41eddda4",
   "metadata": {},
   "source": [
    "#### NoSkin Prior Probability"
   ]
  },
  {
   "cell_type": "code",
   "execution_count": 10,
   "id": "cae8b48f",
   "metadata": {},
   "outputs": [
    {
     "data": {
      "text/plain": [
       "0.725"
      ]
     },
     "execution_count": 10,
     "metadata": {},
     "output_type": "execute_result"
    }
   ],
   "source": [
    "round(np.divide(noSkin_count, pix_count), 3)"
   ]
  },
  {
   "cell_type": "code",
   "execution_count": null,
   "id": "cbefaa39",
   "metadata": {},
   "outputs": [],
   "source": []
  },
  {
   "cell_type": "code",
   "execution_count": null,
   "id": "dd6c5dde",
   "metadata": {},
   "outputs": [],
   "source": []
  },
  {
   "cell_type": "markdown",
   "id": "81fe039f",
   "metadata": {},
   "source": [
    "### Part B."
   ]
  },
  {
   "cell_type": "code",
   "execution_count": 127,
   "id": "2d6efe64",
   "metadata": {},
   "outputs": [],
   "source": [
    "def get_mean(datas):\n",
    "    mean = np.divide([sum(x) for x in zip(*datas)], len(datas))\n",
    "    # The dimention is too high, so Im not wanna calculate in matrix form\n",
    "    # cov = np.matmul([np.subtract(x, mean) for x in datas], np.transpose([np.subtract(x, mean) for x in datas]))\n",
    "    temp = [[0, 0, 0], [0, 0, 0], [0, 0, 0]]\n",
    "    for ele in datas:\n",
    "        sub = np.subtract(ele, mean).reshape(3, 1)\n",
    "        temp = np.add(temp, np.matmul(np.array(sub), np.transpose(np.array(sub))))\n",
    "    cov = np.divide(temp, len(datas))\n",
    "    return mean, cov"
   ]
  },
  {
   "cell_type": "markdown",
   "id": "46fd6780",
   "metadata": {},
   "source": [
    "#### Skin Mean and Covariance"
   ]
  },
  {
   "cell_type": "code",
   "execution_count": 132,
   "id": "4f883669",
   "metadata": {},
   "outputs": [
    {
     "name": "stdout",
     "output_type": "stream",
     "text": [
      "Mean: \n",
      "[189.93650938 140.48149646 111.69942265]\n",
      "\n",
      "Covariance: \n",
      "[[1962.10616042 1953.49144369 1861.1339192 ]\n",
      " [1953.49144369 2383.49106594 2449.30086464]\n",
      " [1861.1339192  2449.30086464 2675.40603824]]\n"
     ]
    }
   ],
   "source": [
    "skin_mean, skin_cov = get_mean(skin_list)\n",
    "print(\"Mean: \\n{}\".format(skin_mean))\n",
    "print(\"\\nCovariance: \\n{}\".format(skin_cov))"
   ]
  },
  {
   "cell_type": "code",
   "execution_count": 133,
   "id": "aaf4e595",
   "metadata": {},
   "outputs": [
    {
     "data": {
      "text/plain": [
       "85364096.30087139"
      ]
     },
     "execution_count": 133,
     "metadata": {},
     "output_type": "execute_result"
    }
   ],
   "source": [
    "np.linalg.det(skin_cov)"
   ]
  },
  {
   "cell_type": "markdown",
   "id": "d25de01c",
   "metadata": {},
   "source": [
    "#### NoSkin Mean and Covariance"
   ]
  },
  {
   "cell_type": "code",
   "execution_count": 134,
   "id": "d68a04f2",
   "metadata": {},
   "outputs": [
    {
     "name": "stdout",
     "output_type": "stream",
     "text": [
      "Mean: \n",
      "[129.37221255 106.52092805  96.43530788]\n",
      "\n",
      "Covariance: \n",
      "[[7762.2423282  6717.72306037 6294.89032932]\n",
      " [6717.72306037 7075.67355209 6916.65215675]\n",
      " [6294.89032932 6916.65215675 7145.14202326]]\n"
     ]
    }
   ],
   "source": [
    "noSkin_mean, noSkin_cov = get_mean(noSkin_list)\n",
    "print(\"Mean: \\n{}\".format(noSkin_mean))\n",
    "print(\"\\nCovariance: \\n{}\".format(noSkin_cov))"
   ]
  },
  {
   "cell_type": "code",
   "execution_count": 135,
   "id": "80c916de",
   "metadata": {},
   "outputs": [
    {
     "data": {
      "text/plain": [
       "3237844884.813418"
      ]
     },
     "execution_count": 135,
     "metadata": {},
     "output_type": "execute_result"
    }
   ],
   "source": [
    "np.linalg.det(noSkin_cov)"
   ]
  },
  {
   "cell_type": "code",
   "execution_count": null,
   "id": "b6e80bab",
   "metadata": {},
   "outputs": [],
   "source": []
  },
  {
   "cell_type": "code",
   "execution_count": null,
   "id": "e0943866",
   "metadata": {},
   "outputs": [],
   "source": []
  },
  {
   "cell_type": "markdown",
   "id": "6d8652a8",
   "metadata": {},
   "source": [
    "### Part C."
   ]
  },
  {
   "cell_type": "code",
   "execution_count": null,
   "id": "fb7fcb63",
   "metadata": {},
   "outputs": [],
   "source": []
  },
  {
   "cell_type": "code",
   "execution_count": null,
   "id": "ca7746e4",
   "metadata": {},
   "outputs": [],
   "source": []
  },
  {
   "cell_type": "code",
   "execution_count": null,
   "id": "e9980837",
   "metadata": {},
   "outputs": [],
   "source": []
  },
  {
   "cell_type": "code",
   "execution_count": null,
   "id": "05906dac",
   "metadata": {},
   "outputs": [],
   "source": []
  },
  {
   "cell_type": "code",
   "execution_count": null,
   "id": "2e244a71",
   "metadata": {},
   "outputs": [],
   "source": []
  },
  {
   "cell_type": "code",
   "execution_count": null,
   "id": "e15645f9",
   "metadata": {},
   "outputs": [],
   "source": []
  },
  {
   "cell_type": "code",
   "execution_count": null,
   "id": "58ad795d",
   "metadata": {},
   "outputs": [],
   "source": [
    "\n",
    "\n",
    "skinPixels = 0\n",
    "nonSkinPixels = 0\n",
    "\n",
    "for i in range(256):\n",
    "  for j in range(256):\n",
    "    for k in range(256):\n",
    "      skinPixelNumber[i][j][k] += 1\n",
    "      skinPixels += skinPixelNumber[i][j][k]\n",
    "      nonskinPixelNumber[i][j][k] += 1\n",
    "      nonSkinPixels += nonskinPixelNumber[i][j][k]\n",
    "  print(\"^\", end=\"\")\n",
    "probabilityOfSkin = skinPixels / (skinPixels + nonSkinPixels)\n",
    "probability = 0\n",
    "\n",
    "f = open(\"./noesis.sadi\", 'w')\n",
    "f.write(\"\")\n",
    "for i in range(256):\n",
    "  for j in range(256):\n",
    "    for k in range(256):\n",
    "      probability = skinPixelNumber[i][j][k] * probabilityOfSkin / (skinPixelNumber[i][j][k] + nonskinPixelNumber[i][j][k])\n",
    "      f.write(str(probability) + \"\\n\")\n",
    "  print(\"*\", end=\"\")\n",
    "\n",
    "f.close()"
   ]
  },
  {
   "cell_type": "code",
   "execution_count": null,
   "id": "6766689f",
   "metadata": {},
   "outputs": [],
   "source": [
    "from PIL import Image\n",
    "\n",
    "ratio = [[[0 for k in range(256)] for j in range(256)] for i in range(256)]\n",
    "\n",
    "with open(\"./noesis.sadi\", \"r\") as file:\n",
    "  for i in range(256):\n",
    "    for j in range(256):\n",
    "      for k in range(256):\n",
    "        probability = file.readline()\n",
    "        ratio[i][j][k] = float(probability)\n",
    "print('data collected!')\n",
    "\n",
    "image = Image.open(\"./inputs/P6/pratheepan/test/images/m(01-32)_gr.jpg\")\n",
    "im = image.convert('RGB')\n",
    "width, height = im.size\n",
    "\n",
    "im2 = Image.new(im.mode, im.size)\n",
    "\n",
    "for y in range(height):\n",
    "  for x in range(width):\n",
    "    red, green, blue = im.getpixel((x, y))\n",
    "    if(ratio[red][green][blue] > .25):\n",
    "      im2.putpixel((x, y), (255, 255, 255))\n",
    "    else:\n",
    "      im2.putpixel((x, y), (0, 0, 0))\n",
    "  print(\"*\", end=\"\")\n",
    "\n",
    "im2.save(\"./detected4.jpg\")\n",
    "# im2.show()"
   ]
  },
  {
   "cell_type": "code",
   "execution_count": null,
   "id": "0d04c40f",
   "metadata": {},
   "outputs": [],
   "source": []
  }
 ],
 "metadata": {
  "kernelspec": {
   "display_name": "Python 3 (ipykernel)",
   "language": "python",
   "name": "python3"
  },
  "language_info": {
   "codemirror_mode": {
    "name": "ipython",
    "version": 3
   },
   "file_extension": ".py",
   "mimetype": "text/x-python",
   "name": "python",
   "nbconvert_exporter": "python",
   "pygments_lexer": "ipython3",
   "version": "3.10.1"
  }
 },
 "nbformat": 4,
 "nbformat_minor": 5
}
