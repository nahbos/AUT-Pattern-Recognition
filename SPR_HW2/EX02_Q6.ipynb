{
 "cells": [
  {
   "cell_type": "markdown",
   "id": "af87011d",
   "metadata": {},
   "source": [
    "#### - Sobhan Moradian Daghigh\n",
    "#### - 12/27/2021\n",
    "#### - PR - EX02 - Q6 - All Parts"
   ]
  },
  {
   "cell_type": "code",
   "execution_count": 9,
   "id": "2426889c",
   "metadata": {},
   "outputs": [],
   "source": [
    "import numpy as np\n",
    "from PIL import Image\n",
    "import os"
   ]
  },
  {
   "cell_type": "code",
   "execution_count": 2,
   "id": "00a4509d",
   "metadata": {},
   "outputs": [],
   "source": [
    "def get_data_paths(directory):\n",
    "    filePaths = []\n",
    "    for dirpath,_,filenames in os.walk(directory):\n",
    "        for image_name in filenames:\n",
    "            filePaths.append(os.path.abspath(os.path.join(dirpath, image_name))) \n",
    "    return filePaths"
   ]
  },
  {
   "cell_type": "code",
   "execution_count": 3,
   "id": "938fac50",
   "metadata": {},
   "outputs": [],
   "source": [
    "train = get_data_paths(\"./inputs/P6/pratheepan/train/set1/images\")\n",
    "train_masks = get_data_paths(\"./inputs/P6/pratheepan/train/set1/groundtruth\")"
   ]
  },
  {
   "cell_type": "markdown",
   "id": "c80a7d31",
   "metadata": {},
   "source": [
    "### Part A."
   ]
  },
  {
   "cell_type": "code",
   "execution_count": 4,
   "id": "aafb003a",
   "metadata": {},
   "outputs": [],
   "source": [
    "skinPixelCounts = [[[0 for k in range(256)] for j in range(256)] for i in range(256)]\n",
    "noskinPixelCounts = [[[0 for k in range(256)] for j in range(256)] for i in range(256)]\n",
    "\n",
    "for i in range(len(train)):\n",
    "    img = Image.open(train[i]).convert('RGB')\n",
    "    mask = Image.open(train_masks[i]).convert('RGB')\n",
    "    w, h = img.size\n",
    "    \n",
    "    for j in range(h):\n",
    "        for i in range(w):\n",
    "            red, green, blue = img.getpixel((i, j))\n",
    "            maskRed, maskGreen, maskBlue = mask.getpixel((i, j))\n",
    "\n",
    "            if(maskRed > 150 and maskGreen > 150 and maskBlue > 150):\n",
    "                skinPixelCounts[red][green][blue] += 1\n",
    "            else:\n",
    "                noskinPixelCounts[red][green][blue] += 1\n",
    "                \n",
    "    img.close()\n",
    "    mask.close()"
   ]
  },
  {
   "cell_type": "code",
   "execution_count": 5,
   "id": "ff0cd579",
   "metadata": {},
   "outputs": [],
   "source": [
    "def nested_sum(L):\n",
    "    total = 0\n",
    "    for i in L:\n",
    "        if isinstance(i, list):\n",
    "            total += nested_sum(i)\n",
    "        else:\n",
    "            total += i\n",
    "    return total"
   ]
  },
  {
   "cell_type": "code",
   "execution_count": 6,
   "id": "bfa7e111",
   "metadata": {},
   "outputs": [],
   "source": [
    "# Skin Pixels Frequency\n",
    "skin_count = nested_sum(skinPixelCounts)"
   ]
  },
  {
   "cell_type": "code",
   "execution_count": 7,
   "id": "8daf5b86",
   "metadata": {},
   "outputs": [],
   "source": [
    "# NoSkin Pixels Frequency\n",
    "noSkin_count = nested_sum(noskinPixelCounts)"
   ]
  },
  {
   "cell_type": "code",
   "execution_count": 10,
   "id": "fb8b259b",
   "metadata": {},
   "outputs": [],
   "source": [
    "# Sum of pixels\n",
    "pix_count = np.add(skin_count, noSkin_count)"
   ]
  },
  {
   "cell_type": "markdown",
   "id": "84fde9f4",
   "metadata": {},
   "source": [
    "#### Skin Prior Probability"
   ]
  },
  {
   "cell_type": "code",
   "execution_count": 14,
   "id": "fbeeb1c2",
   "metadata": {},
   "outputs": [
    {
     "data": {
      "text/plain": [
       "0.275"
      ]
     },
     "execution_count": 14,
     "metadata": {},
     "output_type": "execute_result"
    }
   ],
   "source": [
    "round(np.divide(skin_count, pix_count), 3)"
   ]
  },
  {
   "cell_type": "markdown",
   "id": "1856f0fa",
   "metadata": {},
   "source": [
    "#### NoSkin Prior Probability"
   ]
  },
  {
   "cell_type": "code",
   "execution_count": 15,
   "id": "de2244ee",
   "metadata": {},
   "outputs": [
    {
     "data": {
      "text/plain": [
       "0.725"
      ]
     },
     "execution_count": 15,
     "metadata": {},
     "output_type": "execute_result"
    }
   ],
   "source": [
    "round(np.divide(noSkin_count, pix_count), 3)"
   ]
  },
  {
   "cell_type": "code",
   "execution_count": null,
   "id": "8e7aa1f0",
   "metadata": {},
   "outputs": [],
   "source": []
  },
  {
   "cell_type": "markdown",
   "id": "1b6d7268",
   "metadata": {},
   "source": [
    "### Part B."
   ]
  },
  {
   "cell_type": "code",
   "execution_count": null,
   "id": "90dd3ba3",
   "metadata": {},
   "outputs": [],
   "source": [
    "\n",
    "\n",
    "skinPixels = 0\n",
    "nonSkinPixels = 0\n",
    "\n",
    "for i in range(256):\n",
    "  for j in range(256):\n",
    "    for k in range(256):\n",
    "      skinPixelNumber[i][j][k] += 1\n",
    "      skinPixels += skinPixelNumber[i][j][k]\n",
    "      nonskinPixelNumber[i][j][k] += 1\n",
    "      nonSkinPixels += nonskinPixelNumber[i][j][k]\n",
    "  print(\"^\", end=\"\")\n",
    "probabilityOfSkin = skinPixels / (skinPixels + nonSkinPixels)\n",
    "probability = 0\n",
    "\n",
    "f = open(\"./noesis.sadi\", 'w')\n",
    "f.write(\"\")\n",
    "for i in range(256):\n",
    "  for j in range(256):\n",
    "    for k in range(256):\n",
    "      probability = skinPixelNumber[i][j][k] * probabilityOfSkin / (skinPixelNumber[i][j][k] + nonskinPixelNumber[i][j][k])\n",
    "      f.write(str(probability) + \"\\n\")\n",
    "  print(\"*\", end=\"\")\n",
    "\n",
    "f.close()"
   ]
  },
  {
   "cell_type": "code",
   "execution_count": null,
   "id": "6275d610",
   "metadata": {},
   "outputs": [],
   "source": [
    "from PIL import Image\n",
    "\n",
    "ratio = [[[0 for k in range(256)] for j in range(256)] for i in range(256)]\n",
    "\n",
    "with open(\"./noesis.sadi\", \"r\") as file:\n",
    "  for i in range(256):\n",
    "    for j in range(256):\n",
    "      for k in range(256):\n",
    "        probability = file.readline()\n",
    "        ratio[i][j][k] = float(probability)\n",
    "print('data collected!')\n",
    "\n",
    "image = Image.open(\"./inputs/P6/pratheepan/test/images/m(01-32)_gr.jpg\")\n",
    "im = image.convert('RGB')\n",
    "width, height = im.size\n",
    "\n",
    "im2 = Image.new(im.mode, im.size)\n",
    "\n",
    "for y in range(height):\n",
    "  for x in range(width):\n",
    "    red, green, blue = im.getpixel((x, y))\n",
    "    if(ratio[red][green][blue] > .25):\n",
    "      im2.putpixel((x, y), (255, 255, 255))\n",
    "    else:\n",
    "      im2.putpixel((x, y), (0, 0, 0))\n",
    "  print(\"*\", end=\"\")\n",
    "\n",
    "im2.save(\"./detected4.jpg\")\n",
    "# im2.show()"
   ]
  },
  {
   "cell_type": "code",
   "execution_count": null,
   "id": "bf4df268",
   "metadata": {},
   "outputs": [],
   "source": []
  }
 ],
 "metadata": {
  "kernelspec": {
   "display_name": "Python 3 (ipykernel)",
   "language": "python",
   "name": "python3"
  },
  "language_info": {
   "codemirror_mode": {
    "name": "ipython",
    "version": 3
   },
   "file_extension": ".py",
   "mimetype": "text/x-python",
   "name": "python",
   "nbconvert_exporter": "python",
   "pygments_lexer": "ipython3",
   "version": "3.10.1"
  }
 },
 "nbformat": 4,
 "nbformat_minor": 5
}
