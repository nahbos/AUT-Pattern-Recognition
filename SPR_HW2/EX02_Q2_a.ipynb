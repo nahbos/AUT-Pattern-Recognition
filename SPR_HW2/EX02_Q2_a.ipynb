{
 "cells": [
  {
   "cell_type": "code",
   "execution_count": 40,
   "id": "db5625ec",
   "metadata": {},
   "outputs": [],
   "source": [
    "import numpy as np\n",
    "import pandas as pd\n",
    "import matplotlib.pyplot as plt\n",
    "import glob\n",
    "from PIL import Image"
   ]
  },
  {
   "cell_type": "markdown",
   "id": "369e25ea",
   "metadata": {},
   "source": [
    "### Using the glob for loading the datasets"
   ]
  },
  {
   "cell_type": "code",
   "execution_count": 105,
   "id": "a2f43956",
   "metadata": {},
   "outputs": [],
   "source": [
    "def create_dataframe(folder_name):\n",
    "    x_datasets = []\n",
    "    y_datasets = []\n",
    "    \n",
    "    classes = glob.glob('./inputs/P2/{}/*'.format(folder_name))\n",
    "    \n",
    "    for class_ in classes:\n",
    "        \n",
    "        traintest = glob.glob('{}/*'.format(class_))\n",
    "        \n",
    "        for fldr in traintest:\n",
    "            x_dataset = []\n",
    "            y_dataset = []\n",
    "            \n",
    "            images = glob.glob('{}/*.PNG'.format(fldr))\n",
    "            for image in images:\n",
    "                label = image[-8]\n",
    "                img = np.array(Image.open(image)).reshape((1, 3600))\n",
    "                \n",
    "                x_dataset.append(img)\n",
    "                y_dataset.append(label)               \n",
    "                \n",
    "            x_datasets.append(x_dataset)\n",
    "            y_datasets.append(y_dataset)\n",
    "            \n",
    "    return x_datasets, y_datasets"
   ]
  },
  {
   "cell_type": "code",
   "execution_count": 128,
   "id": "e8df57ce",
   "metadata": {},
   "outputs": [],
   "source": [
    "datasets, labels = create_dataframe('dataset')\n",
    "\n",
    "# Class A\n",
    "x_train_a, y_train_a = datasets[1], labels[1]\n",
    "x_test_a, y_test_a = datasets[0], labels[0]\n",
    "\n",
    "# Class B\n",
    "x_train_b, y_train_b = datasets[3], labels[3]\n",
    "x_test_b, y_test_b = datasets[2], labels[2]\n",
    "\n",
    "# Class C\n",
    "x_train_c, y_train_c = datasets[5], labels[5]\n",
    "x_test_c, y_test_c = datasets[4], labels[4]"
   ]
  },
  {
   "cell_type": "code",
   "execution_count": null,
   "id": "c76fcedf",
   "metadata": {},
   "outputs": [],
   "source": []
  },
  {
   "cell_type": "code",
   "execution_count": null,
   "id": "f254e436",
   "metadata": {},
   "outputs": [],
   "source": []
  }
 ],
 "metadata": {
  "kernelspec": {
   "display_name": "Python 3 (ipykernel)",
   "language": "python",
   "name": "python3"
  },
  "language_info": {
   "codemirror_mode": {
    "name": "ipython",
    "version": 3
   },
   "file_extension": ".py",
   "mimetype": "text/x-python",
   "name": "python",
   "nbconvert_exporter": "python",
   "pygments_lexer": "ipython3",
   "version": "3.10.1"
  }
 },
 "nbformat": 4,
 "nbformat_minor": 5
}
