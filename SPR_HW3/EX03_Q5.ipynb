{
 "cells": [
  {
   "cell_type": "markdown",
   "id": "1cd11b43",
   "metadata": {},
   "source": [
    "#### - Sobhan Moradian Daghigh\n",
    "#### \n",
    "#### - 1/18/2022\n",
    "#### \n",
    "#### - PR - EX03 - Q5 - All Parts"
   ]
  },
  {
   "cell_type": "code",
   "execution_count": 77,
   "id": "0659875a",
   "metadata": {},
   "outputs": [],
   "source": [
    "import pandas as pd\n",
    "from PIL import Image\n",
    "import numpy as np\n",
    "import cv2\n",
    "import matplotlib.pyplot as plt\n",
    "from sklearn.model_selection import GridSearchCV\n",
    "from sklearn.neighbors import KernelDensity\n",
    "from sklearn.decomposition import PCA"
   ]
  },
  {
   "cell_type": "code",
   "execution_count": 3,
   "id": "42474942",
   "metadata": {},
   "outputs": [
    {
     "data": {
      "text/html": [
       "<div>\n",
       "<style scoped>\n",
       "    .dataframe tbody tr th:only-of-type {\n",
       "        vertical-align: middle;\n",
       "    }\n",
       "\n",
       "    .dataframe tbody tr th {\n",
       "        vertical-align: top;\n",
       "    }\n",
       "\n",
       "    .dataframe thead th {\n",
       "        text-align: right;\n",
       "    }\n",
       "</style>\n",
       "<table border=\"1\" class=\"dataframe\">\n",
       "  <thead>\n",
       "    <tr style=\"text-align: right;\">\n",
       "      <th></th>\n",
       "      <th>pixel_0_0</th>\n",
       "      <th>pixel_0_1</th>\n",
       "      <th>pixel_0_2</th>\n",
       "      <th>pixel_0_3</th>\n",
       "      <th>pixel_0_4</th>\n",
       "      <th>pixel_0_5</th>\n",
       "      <th>pixel_0_6</th>\n",
       "      <th>pixel_0_7</th>\n",
       "      <th>pixel_1_0</th>\n",
       "      <th>pixel_1_1</th>\n",
       "      <th>...</th>\n",
       "      <th>pixel_6_6</th>\n",
       "      <th>pixel_6_7</th>\n",
       "      <th>pixel_7_0</th>\n",
       "      <th>pixel_7_1</th>\n",
       "      <th>pixel_7_2</th>\n",
       "      <th>pixel_7_3</th>\n",
       "      <th>pixel_7_4</th>\n",
       "      <th>pixel_7_5</th>\n",
       "      <th>pixel_7_6</th>\n",
       "      <th>pixel_7_7</th>\n",
       "    </tr>\n",
       "  </thead>\n",
       "  <tbody>\n",
       "    <tr>\n",
       "      <th>0</th>\n",
       "      <td>0.0</td>\n",
       "      <td>0.0</td>\n",
       "      <td>5.0</td>\n",
       "      <td>13.0</td>\n",
       "      <td>9.0</td>\n",
       "      <td>1.0</td>\n",
       "      <td>0.0</td>\n",
       "      <td>0.0</td>\n",
       "      <td>0.0</td>\n",
       "      <td>0.0</td>\n",
       "      <td>...</td>\n",
       "      <td>0.0</td>\n",
       "      <td>0.0</td>\n",
       "      <td>0.0</td>\n",
       "      <td>0.0</td>\n",
       "      <td>6.0</td>\n",
       "      <td>13.0</td>\n",
       "      <td>10.0</td>\n",
       "      <td>0.0</td>\n",
       "      <td>0.0</td>\n",
       "      <td>0.0</td>\n",
       "    </tr>\n",
       "    <tr>\n",
       "      <th>1</th>\n",
       "      <td>0.0</td>\n",
       "      <td>0.0</td>\n",
       "      <td>0.0</td>\n",
       "      <td>12.0</td>\n",
       "      <td>13.0</td>\n",
       "      <td>5.0</td>\n",
       "      <td>0.0</td>\n",
       "      <td>0.0</td>\n",
       "      <td>0.0</td>\n",
       "      <td>0.0</td>\n",
       "      <td>...</td>\n",
       "      <td>0.0</td>\n",
       "      <td>0.0</td>\n",
       "      <td>0.0</td>\n",
       "      <td>0.0</td>\n",
       "      <td>0.0</td>\n",
       "      <td>11.0</td>\n",
       "      <td>16.0</td>\n",
       "      <td>10.0</td>\n",
       "      <td>0.0</td>\n",
       "      <td>0.0</td>\n",
       "    </tr>\n",
       "    <tr>\n",
       "      <th>2</th>\n",
       "      <td>0.0</td>\n",
       "      <td>0.0</td>\n",
       "      <td>0.0</td>\n",
       "      <td>4.0</td>\n",
       "      <td>15.0</td>\n",
       "      <td>12.0</td>\n",
       "      <td>0.0</td>\n",
       "      <td>0.0</td>\n",
       "      <td>0.0</td>\n",
       "      <td>0.0</td>\n",
       "      <td>...</td>\n",
       "      <td>5.0</td>\n",
       "      <td>0.0</td>\n",
       "      <td>0.0</td>\n",
       "      <td>0.0</td>\n",
       "      <td>0.0</td>\n",
       "      <td>3.0</td>\n",
       "      <td>11.0</td>\n",
       "      <td>16.0</td>\n",
       "      <td>9.0</td>\n",
       "      <td>0.0</td>\n",
       "    </tr>\n",
       "    <tr>\n",
       "      <th>3</th>\n",
       "      <td>0.0</td>\n",
       "      <td>0.0</td>\n",
       "      <td>7.0</td>\n",
       "      <td>15.0</td>\n",
       "      <td>13.0</td>\n",
       "      <td>1.0</td>\n",
       "      <td>0.0</td>\n",
       "      <td>0.0</td>\n",
       "      <td>0.0</td>\n",
       "      <td>8.0</td>\n",
       "      <td>...</td>\n",
       "      <td>9.0</td>\n",
       "      <td>0.0</td>\n",
       "      <td>0.0</td>\n",
       "      <td>0.0</td>\n",
       "      <td>7.0</td>\n",
       "      <td>13.0</td>\n",
       "      <td>13.0</td>\n",
       "      <td>9.0</td>\n",
       "      <td>0.0</td>\n",
       "      <td>0.0</td>\n",
       "    </tr>\n",
       "    <tr>\n",
       "      <th>4</th>\n",
       "      <td>0.0</td>\n",
       "      <td>0.0</td>\n",
       "      <td>0.0</td>\n",
       "      <td>1.0</td>\n",
       "      <td>11.0</td>\n",
       "      <td>0.0</td>\n",
       "      <td>0.0</td>\n",
       "      <td>0.0</td>\n",
       "      <td>0.0</td>\n",
       "      <td>0.0</td>\n",
       "      <td>...</td>\n",
       "      <td>0.0</td>\n",
       "      <td>0.0</td>\n",
       "      <td>0.0</td>\n",
       "      <td>0.0</td>\n",
       "      <td>0.0</td>\n",
       "      <td>2.0</td>\n",
       "      <td>16.0</td>\n",
       "      <td>4.0</td>\n",
       "      <td>0.0</td>\n",
       "      <td>0.0</td>\n",
       "    </tr>\n",
       "  </tbody>\n",
       "</table>\n",
       "<p>5 rows × 64 columns</p>\n",
       "</div>"
      ],
      "text/plain": [
       "   pixel_0_0  pixel_0_1  pixel_0_2  pixel_0_3  pixel_0_4  pixel_0_5  \\\n",
       "0        0.0        0.0        5.0       13.0        9.0        1.0   \n",
       "1        0.0        0.0        0.0       12.0       13.0        5.0   \n",
       "2        0.0        0.0        0.0        4.0       15.0       12.0   \n",
       "3        0.0        0.0        7.0       15.0       13.0        1.0   \n",
       "4        0.0        0.0        0.0        1.0       11.0        0.0   \n",
       "\n",
       "   pixel_0_6  pixel_0_7  pixel_1_0  pixel_1_1  ...  pixel_6_6  pixel_6_7  \\\n",
       "0        0.0        0.0        0.0        0.0  ...        0.0        0.0   \n",
       "1        0.0        0.0        0.0        0.0  ...        0.0        0.0   \n",
       "2        0.0        0.0        0.0        0.0  ...        5.0        0.0   \n",
       "3        0.0        0.0        0.0        8.0  ...        9.0        0.0   \n",
       "4        0.0        0.0        0.0        0.0  ...        0.0        0.0   \n",
       "\n",
       "   pixel_7_0  pixel_7_1  pixel_7_2  pixel_7_3  pixel_7_4  pixel_7_5  \\\n",
       "0        0.0        0.0        6.0       13.0       10.0        0.0   \n",
       "1        0.0        0.0        0.0       11.0       16.0       10.0   \n",
       "2        0.0        0.0        0.0        3.0       11.0       16.0   \n",
       "3        0.0        0.0        7.0       13.0       13.0        9.0   \n",
       "4        0.0        0.0        0.0        2.0       16.0        4.0   \n",
       "\n",
       "   pixel_7_6  pixel_7_7  \n",
       "0        0.0        0.0  \n",
       "1        0.0        0.0  \n",
       "2        9.0        0.0  \n",
       "3        0.0        0.0  \n",
       "4        0.0        0.0  \n",
       "\n",
       "[5 rows x 64 columns]"
      ]
     },
     "execution_count": 3,
     "metadata": {},
     "output_type": "execute_result"
    }
   ],
   "source": [
    "dataset = pd.read_csv('./inputs/P5/digits.csv')\n",
    "dataset.head()"
   ]
  },
  {
   "cell_type": "code",
   "execution_count": 4,
   "id": "01ad9e7c",
   "metadata": {},
   "outputs": [
    {
     "name": "stdout",
     "output_type": "stream",
     "text": [
      "<class 'pandas.core.frame.DataFrame'>\n",
      "RangeIndex: 1797 entries, 0 to 1796\n",
      "Data columns (total 64 columns):\n",
      " #   Column     Non-Null Count  Dtype  \n",
      "---  ------     --------------  -----  \n",
      " 0   pixel_0_0  1797 non-null   float64\n",
      " 1   pixel_0_1  1797 non-null   float64\n",
      " 2   pixel_0_2  1797 non-null   float64\n",
      " 3   pixel_0_3  1797 non-null   float64\n",
      " 4   pixel_0_4  1797 non-null   float64\n",
      " 5   pixel_0_5  1797 non-null   float64\n",
      " 6   pixel_0_6  1797 non-null   float64\n",
      " 7   pixel_0_7  1797 non-null   float64\n",
      " 8   pixel_1_0  1797 non-null   float64\n",
      " 9   pixel_1_1  1797 non-null   float64\n",
      " 10  pixel_1_2  1797 non-null   float64\n",
      " 11  pixel_1_3  1797 non-null   float64\n",
      " 12  pixel_1_4  1797 non-null   float64\n",
      " 13  pixel_1_5  1797 non-null   float64\n",
      " 14  pixel_1_6  1797 non-null   float64\n",
      " 15  pixel_1_7  1797 non-null   float64\n",
      " 16  pixel_2_0  1797 non-null   float64\n",
      " 17  pixel_2_1  1797 non-null   float64\n",
      " 18  pixel_2_2  1797 non-null   float64\n",
      " 19  pixel_2_3  1797 non-null   float64\n",
      " 20  pixel_2_4  1797 non-null   float64\n",
      " 21  pixel_2_5  1797 non-null   float64\n",
      " 22  pixel_2_6  1797 non-null   float64\n",
      " 23  pixel_2_7  1797 non-null   float64\n",
      " 24  pixel_3_0  1797 non-null   float64\n",
      " 25  pixel_3_1  1797 non-null   float64\n",
      " 26  pixel_3_2  1797 non-null   float64\n",
      " 27  pixel_3_3  1797 non-null   float64\n",
      " 28  pixel_3_4  1797 non-null   float64\n",
      " 29  pixel_3_5  1797 non-null   float64\n",
      " 30  pixel_3_6  1797 non-null   float64\n",
      " 31  pixel_3_7  1797 non-null   float64\n",
      " 32  pixel_4_0  1797 non-null   float64\n",
      " 33  pixel_4_1  1797 non-null   float64\n",
      " 34  pixel_4_2  1797 non-null   float64\n",
      " 35  pixel_4_3  1797 non-null   float64\n",
      " 36  pixel_4_4  1797 non-null   float64\n",
      " 37  pixel_4_5  1797 non-null   float64\n",
      " 38  pixel_4_6  1797 non-null   float64\n",
      " 39  pixel_4_7  1797 non-null   float64\n",
      " 40  pixel_5_0  1797 non-null   float64\n",
      " 41  pixel_5_1  1797 non-null   float64\n",
      " 42  pixel_5_2  1797 non-null   float64\n",
      " 43  pixel_5_3  1797 non-null   float64\n",
      " 44  pixel_5_4  1797 non-null   float64\n",
      " 45  pixel_5_5  1797 non-null   float64\n",
      " 46  pixel_5_6  1797 non-null   float64\n",
      " 47  pixel_5_7  1797 non-null   float64\n",
      " 48  pixel_6_0  1797 non-null   float64\n",
      " 49  pixel_6_1  1797 non-null   float64\n",
      " 50  pixel_6_2  1797 non-null   float64\n",
      " 51  pixel_6_3  1797 non-null   float64\n",
      " 52  pixel_6_4  1797 non-null   float64\n",
      " 53  pixel_6_5  1797 non-null   float64\n",
      " 54  pixel_6_6  1797 non-null   float64\n",
      " 55  pixel_6_7  1797 non-null   float64\n",
      " 56  pixel_7_0  1797 non-null   float64\n",
      " 57  pixel_7_1  1797 non-null   float64\n",
      " 58  pixel_7_2  1797 non-null   float64\n",
      " 59  pixel_7_3  1797 non-null   float64\n",
      " 60  pixel_7_4  1797 non-null   float64\n",
      " 61  pixel_7_5  1797 non-null   float64\n",
      " 62  pixel_7_6  1797 non-null   float64\n",
      " 63  pixel_7_7  1797 non-null   float64\n",
      "dtypes: float64(64)\n",
      "memory usage: 898.6 KB\n"
     ]
    }
   ],
   "source": [
    "dataset.info()"
   ]
  },
  {
   "cell_type": "code",
   "execution_count": null,
   "id": "a93177e3",
   "metadata": {},
   "outputs": [],
   "source": []
  },
  {
   "cell_type": "markdown",
   "id": "7949dbea",
   "metadata": {},
   "source": [
    "### Part A."
   ]
  },
  {
   "cell_type": "code",
   "execution_count": 34,
   "id": "aea4a0db",
   "metadata": {},
   "outputs": [
    {
     "data": {
      "text/html": [
       "<div>\n",
       "<style scoped>\n",
       "    .dataframe tbody tr th:only-of-type {\n",
       "        vertical-align: middle;\n",
       "    }\n",
       "\n",
       "    .dataframe tbody tr th {\n",
       "        vertical-align: top;\n",
       "    }\n",
       "\n",
       "    .dataframe thead th {\n",
       "        text-align: right;\n",
       "    }\n",
       "</style>\n",
       "<table border=\"1\" class=\"dataframe\">\n",
       "  <thead>\n",
       "    <tr style=\"text-align: right;\">\n",
       "      <th></th>\n",
       "      <th>0</th>\n",
       "      <th>1</th>\n",
       "      <th>2</th>\n",
       "      <th>3</th>\n",
       "      <th>4</th>\n",
       "      <th>5</th>\n",
       "      <th>6</th>\n",
       "      <th>7</th>\n",
       "      <th>8</th>\n",
       "      <th>9</th>\n",
       "      <th>...</th>\n",
       "      <th>54</th>\n",
       "      <th>55</th>\n",
       "      <th>56</th>\n",
       "      <th>57</th>\n",
       "      <th>58</th>\n",
       "      <th>59</th>\n",
       "      <th>60</th>\n",
       "      <th>61</th>\n",
       "      <th>62</th>\n",
       "      <th>63</th>\n",
       "    </tr>\n",
       "  </thead>\n",
       "  <tbody>\n",
       "    <tr>\n",
       "      <th>0</th>\n",
       "      <td>8.370604e-19</td>\n",
       "      <td>-0.017309</td>\n",
       "      <td>-0.223429</td>\n",
       "      <td>-0.135913</td>\n",
       "      <td>-0.033032</td>\n",
       "      <td>-0.096634</td>\n",
       "      <td>-0.008329</td>\n",
       "      <td>0.002269</td>\n",
       "      <td>-0.000321</td>\n",
       "      <td>-0.119309</td>\n",
       "      <td>...</td>\n",
       "      <td>-0.063288</td>\n",
       "      <td>0.000962</td>\n",
       "      <td>0.000010</td>\n",
       "      <td>-0.014079</td>\n",
       "      <td>-0.235675</td>\n",
       "      <td>-0.141226</td>\n",
       "      <td>-0.009160</td>\n",
       "      <td>-0.089418</td>\n",
       "      <td>-0.036598</td>\n",
       "      <td>-0.011469</td>\n",
       "    </tr>\n",
       "    <tr>\n",
       "      <th>1</th>\n",
       "      <td>1.277721e-17</td>\n",
       "      <td>-0.010106</td>\n",
       "      <td>-0.049085</td>\n",
       "      <td>-0.009433</td>\n",
       "      <td>-0.053602</td>\n",
       "      <td>-0.117755</td>\n",
       "      <td>-0.062128</td>\n",
       "      <td>-0.007936</td>\n",
       "      <td>-0.000163</td>\n",
       "      <td>-0.021017</td>\n",
       "      <td>...</td>\n",
       "      <td>0.148776</td>\n",
       "      <td>0.000542</td>\n",
       "      <td>-0.000033</td>\n",
       "      <td>-0.010079</td>\n",
       "      <td>-0.070272</td>\n",
       "      <td>0.017111</td>\n",
       "      <td>0.194296</td>\n",
       "      <td>0.176697</td>\n",
       "      <td>0.019455</td>\n",
       "      <td>-0.006697</td>\n",
       "    </tr>\n",
       "    <tr>\n",
       "      <th>2</th>\n",
       "      <td>2.787554e-17</td>\n",
       "      <td>0.018342</td>\n",
       "      <td>0.126476</td>\n",
       "      <td>0.132155</td>\n",
       "      <td>-0.134016</td>\n",
       "      <td>-0.264939</td>\n",
       "      <td>-0.116644</td>\n",
       "      <td>-0.016842</td>\n",
       "      <td>0.000394</td>\n",
       "      <td>0.079437</td>\n",
       "      <td>...</td>\n",
       "      <td>0.222787</td>\n",
       "      <td>0.021862</td>\n",
       "      <td>-0.000014</td>\n",
       "      <td>0.017583</td>\n",
       "      <td>0.123158</td>\n",
       "      <td>0.098353</td>\n",
       "      <td>0.138485</td>\n",
       "      <td>0.232084</td>\n",
       "      <td>0.167026</td>\n",
       "      <td>0.034804</td>\n",
       "    </tr>\n",
       "    <tr>\n",
       "      <th>3</th>\n",
       "      <td>-3.829027e-17</td>\n",
       "      <td>0.020013</td>\n",
       "      <td>0.177427</td>\n",
       "      <td>0.195680</td>\n",
       "      <td>0.032089</td>\n",
       "      <td>0.095135</td>\n",
       "      <td>0.071835</td>\n",
       "      <td>0.009206</td>\n",
       "      <td>0.000060</td>\n",
       "      <td>0.074879</td>\n",
       "      <td>...</td>\n",
       "      <td>-0.139553</td>\n",
       "      <td>-0.015998</td>\n",
       "      <td>-0.000012</td>\n",
       "      <td>0.021007</td>\n",
       "      <td>0.203252</td>\n",
       "      <td>0.208232</td>\n",
       "      <td>-0.224549</td>\n",
       "      <td>-0.307660</td>\n",
       "      <td>-0.099388</td>\n",
       "      <td>-0.024473</td>\n",
       "    </tr>\n",
       "    <tr>\n",
       "      <th>4</th>\n",
       "      <td>9.739920e-17</td>\n",
       "      <td>0.014079</td>\n",
       "      <td>0.082823</td>\n",
       "      <td>-0.065599</td>\n",
       "      <td>-0.015393</td>\n",
       "      <td>0.166985</td>\n",
       "      <td>0.094896</td>\n",
       "      <td>0.004396</td>\n",
       "      <td>0.000097</td>\n",
       "      <td>0.052311</td>\n",
       "      <td>...</td>\n",
       "      <td>-0.017676</td>\n",
       "      <td>0.007181</td>\n",
       "      <td>-0.000094</td>\n",
       "      <td>0.012460</td>\n",
       "      <td>0.070898</td>\n",
       "      <td>0.022151</td>\n",
       "      <td>0.050568</td>\n",
       "      <td>-0.035616</td>\n",
       "      <td>-0.015936</td>\n",
       "      <td>0.022433</td>\n",
       "    </tr>\n",
       "  </tbody>\n",
       "</table>\n",
       "<p>5 rows × 64 columns</p>\n",
       "</div>"
      ],
      "text/plain": [
       "             0         1         2         3         4         5         6   \\\n",
       "0  8.370604e-19 -0.017309 -0.223429 -0.135913 -0.033032 -0.096634 -0.008329   \n",
       "1  1.277721e-17 -0.010106 -0.049085 -0.009433 -0.053602 -0.117755 -0.062128   \n",
       "2  2.787554e-17  0.018342  0.126476  0.132155 -0.134016 -0.264939 -0.116644   \n",
       "3 -3.829027e-17  0.020013  0.177427  0.195680  0.032089  0.095135  0.071835   \n",
       "4  9.739920e-17  0.014079  0.082823 -0.065599 -0.015393  0.166985  0.094896   \n",
       "\n",
       "         7         8         9   ...        54        55        56        57  \\\n",
       "0  0.002269 -0.000321 -0.119309  ... -0.063288  0.000962  0.000010 -0.014079   \n",
       "1 -0.007936 -0.000163 -0.021017  ...  0.148776  0.000542 -0.000033 -0.010079   \n",
       "2 -0.016842  0.000394  0.079437  ...  0.222787  0.021862 -0.000014  0.017583   \n",
       "3  0.009206  0.000060  0.074879  ... -0.139553 -0.015998 -0.000012  0.021007   \n",
       "4  0.004396  0.000097  0.052311  ... -0.017676  0.007181 -0.000094  0.012460   \n",
       "\n",
       "         58        59        60        61        62        63  \n",
       "0 -0.235675 -0.141226 -0.009160 -0.089418 -0.036598 -0.011469  \n",
       "1 -0.070272  0.017111  0.194296  0.176697  0.019455 -0.006697  \n",
       "2  0.123158  0.098353  0.138485  0.232084  0.167026  0.034804  \n",
       "3  0.203252  0.208232 -0.224549 -0.307660 -0.099388 -0.024473  \n",
       "4  0.070898  0.022151  0.050568 -0.035616 -0.015936  0.022433  \n",
       "\n",
       "[5 rows x 64 columns]"
      ]
     },
     "execution_count": 34,
     "metadata": {},
     "output_type": "execute_result"
    }
   ],
   "source": [
    "pca = PCA(n_components=15)\n",
    "trans = pca.fit_transform(dataset)\n",
    "pca_eigenvecs = pd.DataFrame(pca.components_)\n",
    "pca_eigenvecs.head()"
   ]
  },
  {
   "cell_type": "code",
   "execution_count": 32,
   "id": "5c639f19",
   "metadata": {},
   "outputs": [
    {
     "name": "stdout",
     "output_type": "stream",
     "text": [
      "<class 'pandas.core.frame.DataFrame'>\n",
      "RangeIndex: 1797 entries, 0 to 1796\n",
      "Data columns (total 15 columns):\n",
      " #   Column  Non-Null Count  Dtype  \n",
      "---  ------  --------------  -----  \n",
      " 0   0       1797 non-null   float64\n",
      " 1   1       1797 non-null   float64\n",
      " 2   2       1797 non-null   float64\n",
      " 3   3       1797 non-null   float64\n",
      " 4   4       1797 non-null   float64\n",
      " 5   5       1797 non-null   float64\n",
      " 6   6       1797 non-null   float64\n",
      " 7   7       1797 non-null   float64\n",
      " 8   8       1797 non-null   float64\n",
      " 9   9       1797 non-null   float64\n",
      " 10  10      1797 non-null   float64\n",
      " 11  11      1797 non-null   float64\n",
      " 12  12      1797 non-null   float64\n",
      " 13  13      1797 non-null   float64\n",
      " 14  14      1797 non-null   float64\n",
      "dtypes: float64(15)\n",
      "memory usage: 210.7 KB\n"
     ]
    }
   ],
   "source": [
    "pca_dataset.info()"
   ]
  },
  {
   "cell_type": "markdown",
   "id": "16960c74",
   "metadata": {},
   "source": [
    "### Part B."
   ]
  },
  {
   "cell_type": "code",
   "execution_count": 66,
   "id": "ee95e492",
   "metadata": {},
   "outputs": [
    {
     "name": "stdout",
     "output_type": "stream",
     "text": [
      "bandwidth: 3.50\n"
     ]
    }
   ],
   "source": [
    "params = {\"bandwidth\": np.arange(1.1, 10, 0.1)}\n",
    "grid = GridSearchCV(KernelDensity(), params)\n",
    "pca_dataset = pd.DataFrame(trans)\n",
    "grid.fit(pca_dataset)\n",
    "print(\"bandwidth: {:.2f}\".format(grid.best_estimator_.bandwidth))"
   ]
  },
  {
   "cell_type": "code",
   "execution_count": null,
   "id": "c4d1922a",
   "metadata": {},
   "outputs": [],
   "source": []
  },
  {
   "cell_type": "markdown",
   "id": "eb10bf4e",
   "metadata": {},
   "source": [
    "### Part C."
   ]
  },
  {
   "cell_type": "code",
   "execution_count": 102,
   "id": "3edd6119",
   "metadata": {},
   "outputs": [
    {
     "data": {
      "text/plain": [
       "(20, 8, 8)"
      ]
     },
     "execution_count": 102,
     "metadata": {},
     "output_type": "execute_result"
    }
   ],
   "source": [
    "kde = KernelDensity(bandwidth=3.5)\n",
    "kde.fit(pca_dataset)\n",
    "\n",
    "samples = kde.sample(n_samples=20, random_state=0)\n",
    "samples = pca.inverse_transform(samples)\n",
    "\n",
    "samples = samples.reshape(20, 8, 8)\n",
    "samples.shape"
   ]
  },
  {
   "cell_type": "code",
   "execution_count": 103,
   "id": "19334f73",
   "metadata": {},
   "outputs": [
    {
     "data": {
      "image/png": "[encoded data removed]",
      "text/plain": [
       "<Figure size 720x720 with 20 Axes>"
      ]
     },
     "metadata": {
      "needs_background": "light"
     },
     "output_type": "display_data"
    }
   ],
   "source": [
    "fig, ax = plt.subplots(4, 5, figsize=(10, 10))\n",
    "[axi.set_axis_off() for axi in ax.ravel()]\n",
    "\n",
    "for i, ax in enumerate(fig.axes):\n",
    "    ax.imshow(samples[i], cmap=plt.cm.binary)"
   ]
  },
  {
   "cell_type": "code",
   "execution_count": null,
   "id": "351c14f8",
   "metadata": {},
   "outputs": [],
   "source": []
  },
  {
   "cell_type": "markdown",
   "id": "5a722e4a",
   "metadata": {},
   "source": [
    "### Part D."
   ]
  },
  {
   "cell_type": "code",
   "execution_count": 104,
   "id": "eb7f0f30",
   "metadata": {},
   "outputs": [
    {
     "name": "stdout",
     "output_type": "stream",
     "text": [
      "bandwidth: 1.70\n"
     ]
    }
   ],
   "source": [
    "params = {\"bandwidth\": np.arange(1.1, 10, 0.1)}\n",
    "grid = GridSearchCV(KernelDensity(), params)\n",
    "grid.fit(dataset)\n",
    "print(\"bandwidth: {:.2f}\".format(grid.best_estimator_.bandwidth))"
   ]
  },
  {
   "cell_type": "code",
   "execution_count": 105,
   "id": "a02409fa",
   "metadata": {},
   "outputs": [
    {
     "data": {
      "text/plain": [
       "(20, 8, 8)"
      ]
     },
     "execution_count": 105,
     "metadata": {},
     "output_type": "execute_result"
    }
   ],
   "source": [
    "kde = KernelDensity(bandwidth=1.7)\n",
    "kde.fit(pca_dataset)\n",
    "\n",
    "samples = kde.sample(n_samples=20, random_state=0)\n",
    "samples = pca.inverse_transform(samples)\n",
    "\n",
    "samples = samples.reshape(20, 8, 8)\n",
    "samples.shape"
   ]
  },
  {
   "cell_type": "code",
   "execution_count": 106,
   "id": "0404f876",
   "metadata": {},
   "outputs": [
    {
     "data": {
      "image/png": "[encoded data removed]",
      "text/plain": [
       "<Figure size 720x720 with 20 Axes>"
      ]
     },
     "metadata": {
      "needs_background": "light"
     },
     "output_type": "display_data"
    }
   ],
   "source": [
    "fig, ax = plt.subplots(4, 5, figsize=(10, 10))\n",
    "[axi.set_axis_off() for axi in ax.ravel()]\n",
    "\n",
    "for i, ax in enumerate(fig.axes):\n",
    "    ax.imshow(samples[i], cmap=plt.cm.binary)"
   ]
  },
  {
   "cell_type": "code",
   "execution_count": null,
   "id": "912278f9",
   "metadata": {},
   "outputs": [],
   "source": []
  },
  {
   "cell_type": "code",
   "execution_count": null,
   "id": "6a05cbc4",
   "metadata": {},
   "outputs": [],
   "source": []
  },
  {
   "cell_type": "markdown",
   "id": "4758cfe2",
   "metadata": {},
   "source": [
    "#### FINITO"
   ]
  }
 ],
 "metadata": {
  "kernelspec": {
   "display_name": "Python 3 (ipykernel)",
   "language": "python",
   "name": "python3"
  },
  "language_info": {
   "codemirror_mode": {
    "name": "ipython",
    "version": 3
   },
   "file_extension": ".py",
   "mimetype": "text/x-python",
   "name": "python",
   "nbconvert_exporter": "python",
   "pygments_lexer": "ipython3",
   "version": "3.10.1"
  }
 },
 "nbformat": 4,
 "nbformat_minor": 5
}
