{
 "cells": [
  {
   "cell_type": "markdown",
   "id": "d718724e",
   "metadata": {},
   "source": [
    "#### Copyright (C) 2022 Sobhan Moradian Daghigh\n",
    "#### Date: 2/2/2022"
   ]
  },
  {
   "cell_type": "code",
   "execution_count": null,
   "id": "2cc76ecd",
   "metadata": {},
   "outputs": [],
   "source": []
  },
  {
   "cell_type": "markdown",
   "id": "74191c1b",
   "metadata": {},
   "source": [
    "### Import Libraries"
   ]
  },
  {
   "cell_type": "code",
   "execution_count": 1,
   "id": "83c89546",
   "metadata": {},
   "outputs": [],
   "source": [
    "import numpy as np\n",
    "from sklearn.linear_model import LogisticRegression\n",
    "from sklearn import svm\n",
    "from sklearn.model_selection import GridSearchCV, RepeatedStratifiedKFold, cross_val_score\n",
    "from sklearn.tree import DecisionTreeClassifier\n",
    "from sklearn.naive_bayes import MultinomialNB, BernoulliNB\n",
    "from sklearn.ensemble import BaggingClassifier"
   ]
  },
  {
   "cell_type": "code",
   "execution_count": null,
   "id": "5a5e2dbf",
   "metadata": {},
   "outputs": [],
   "source": []
  },
  {
   "cell_type": "code",
   "execution_count": 2,
   "id": "9c293e86",
   "metadata": {},
   "outputs": [],
   "source": [
    "datasets_name = ['Amazon', 'IMDB  ', 'Yelp  ']"
   ]
  },
  {
   "cell_type": "code",
   "execution_count": null,
   "id": "80164328",
   "metadata": {},
   "outputs": [],
   "source": []
  },
  {
   "cell_type": "markdown",
   "id": "db17d855",
   "metadata": {},
   "source": [
    "### Logistic Regression"
   ]
  },
  {
   "cell_type": "code",
   "execution_count": 3,
   "id": "54f46a35",
   "metadata": {},
   "outputs": [],
   "source": [
    "def logestic_regression(x_train_datasets, x_test_datasets, y_train_datasets, y_test_datasets):\n",
    "    print(\"Accuracy:\")\n",
    "    for i, (x_tr, x_ts, y_tr, y_ts) in enumerate(zip(x_train_datasets, x_test_datasets, y_train_datasets, y_test_datasets)):\n",
    "        clf = LogisticRegression()\n",
    "        clf.fit(x_tr, y_tr)\n",
    "        score = clf.score(x_ts, y_ts)\n",
    "        print(' |_  {}: {:.2f}'.format(datasets_name[i], score))"
   ]
  },
  {
   "cell_type": "code",
   "execution_count": null,
   "id": "d6fc5db2",
   "metadata": {},
   "outputs": [],
   "source": []
  },
  {
   "cell_type": "markdown",
   "id": "1b995129",
   "metadata": {},
   "source": [
    "### SVM-Linear "
   ]
  },
  {
   "cell_type": "code",
   "execution_count": 4,
   "id": "5d7bfb79",
   "metadata": {},
   "outputs": [],
   "source": [
    "def linear_svm(x_train_datasets, x_test_datasets, y_train_datasets, y_test_datasets):\n",
    "    '''\n",
    "     GridSearchCV for this classifier returned best {C = 1.7}\n",
    "     # tuned_parameters = {\"C\": np.arange(1, 5, 0.1)}\n",
    "     # linear_svm = GridSearchCV(svm.SVC(kernel='linear'), tuned_parameters, verbose=1)\n",
    "    '''\n",
    "    \n",
    "    print(\"Accuracy:\")\n",
    "    for i, (x_tr, x_ts, y_tr, y_ts) in enumerate(zip(x_train_datasets, x_test_datasets, y_train_datasets, y_test_datasets)):\n",
    "        \n",
    "        linear_svm = svm.SVC(kernel='linear', C=1.7)\n",
    "        linear_svm = linear_svm.fit(x_tr, y_tr)\n",
    "        score = linear_svm.score(x_ts, y_ts)\n",
    "        print(' |_  {}: {:.2f}'.format(datasets_name[i], score))"
   ]
  },
  {
   "cell_type": "code",
   "execution_count": null,
   "id": "c0a640d6",
   "metadata": {},
   "outputs": [],
   "source": []
  },
  {
   "cell_type": "markdown",
   "id": "306e7cd4",
   "metadata": {},
   "source": [
    "### SVM-RBF"
   ]
  },
  {
   "cell_type": "code",
   "execution_count": 5,
   "id": "77c52bb8",
   "metadata": {},
   "outputs": [],
   "source": [
    "def rbf_svm(x_train_datasets, x_test_datasets, y_train_datasets, y_test_datasets):\n",
    "    '''\n",
    "     GridSearchCV for this classifier returned best {C = 1.5, gamma = 1}\n",
    "     # tuned_parameters = {\"C\": np.arange(1, 3, 0.1), \"gamma\": np.arange(1, 20)}\n",
    "     # rbf_svm = GridSearchCV(svm.SVC(kernel='rbf'), tuned_parameters, cv=2)\n",
    "    '''\n",
    "    \n",
    "    print(\"Accuracy:\")\n",
    "    for i, (x_tr, x_ts, y_tr, y_ts) in enumerate(zip(x_train_datasets, x_test_datasets, y_train_datasets, y_test_datasets)):\n",
    "        rbf_svm = svm.SVC(kernel='rbf', C=1.5, gamma=1)\n",
    "        rbf_svm = rbf_svm.fit(x_tr, y_tr)\n",
    "        score = rbf_svm.score(x_ts, y_ts)\n",
    "        print(' |_  {}: {:.2f}'.format(datasets_name[i], score))"
   ]
  },
  {
   "cell_type": "code",
   "execution_count": null,
   "id": "acddc3b9",
   "metadata": {},
   "outputs": [],
   "source": []
  },
  {
   "cell_type": "markdown",
   "id": "e9fdaa33",
   "metadata": {},
   "source": [
    "### DT"
   ]
  },
  {
   "cell_type": "code",
   "execution_count": 6,
   "id": "6b67ab2d",
   "metadata": {},
   "outputs": [],
   "source": [
    "def decision_tree(x_train_datasets, x_test_datasets, y_train_datasets, y_test_datasets):\n",
    "    '''\n",
    "     GridSearchCV for this classifier returned best {max_depth = 20, min_samples_split = 15}\n",
    "     # tuned_parameters = {\"max_depth\": np.arange(1, 30), \"min_samples_split\": np.arange(2, 30)}\n",
    "     # dtree = GridSearchCV(DecisionTreeClassifier(criterion='entropy'), tuned_parameters, cv=3)\n",
    "    '''\n",
    "    \n",
    "    print(\"Accuracy:\")        \n",
    "    for i, (x_tr, x_ts, y_tr, y_ts) in enumerate(zip(x_train_datasets, x_test_datasets, y_train_datasets, y_test_datasets)):\n",
    "        dtree = DecisionTreeClassifier(criterion='entropy', max_depth=20, min_samples_split=15, random_state=0)\n",
    "        dtree = dtree.fit(x_tr, y_tr)\n",
    "        score = dtree.score(x_ts, y_ts)\n",
    "        print(' |_  {}: {:.2f}'.format(datasets_name[i], score))"
   ]
  },
  {
   "cell_type": "code",
   "execution_count": null,
   "id": "aaad0bb9",
   "metadata": {},
   "outputs": [],
   "source": []
  },
  {
   "cell_type": "markdown",
   "id": "e5e5d902",
   "metadata": {},
   "source": [
    "### Multinomial Naive Bayes"
   ]
  },
  {
   "cell_type": "code",
   "execution_count": 7,
   "id": "646d79a2",
   "metadata": {},
   "outputs": [],
   "source": [
    "def multinomial_naive_bayes(x_train_datasets, x_test_datasets, y_train_datasets, y_test_datasets):\n",
    "    '''\n",
    "     GridSearchCV for this classifier returned best {alpha = 0.5}\n",
    "     # tuned_parameters = {\"alpha\": np.arange(1, 0, -0.1)}\n",
    "     # mnb = GridSearchCV(MultinomialNB(), tuned_parameters, cv=2)\n",
    "    '''\n",
    "    \n",
    "    print(\"Accuracy:\")\n",
    "    for i, (x_tr, x_ts, y_tr, y_ts) in enumerate(zip(x_train_datasets, x_test_datasets, y_train_datasets, y_test_datasets)):\n",
    "        mnb = MultinomialNB(alpha=0.5)\n",
    "        mnb = mnb.fit(x_tr, y_tr)\n",
    "        score = mnb.score(x_ts, y_ts)\n",
    "        print(' |_  {}: {:.2f}'.format(datasets_name[i], score))"
   ]
  },
  {
   "cell_type": "code",
   "execution_count": null,
   "id": "930caf7d",
   "metadata": {},
   "outputs": [],
   "source": []
  },
  {
   "cell_type": "markdown",
   "id": "6ec5ed27",
   "metadata": {},
   "source": [
    "### Bernoulli Naive Bayes"
   ]
  },
  {
   "cell_type": "code",
   "execution_count": 8,
   "id": "12e1eb5c",
   "metadata": {},
   "outputs": [],
   "source": [
    "def bernoulli_naive_bayes(x_train_datasets, x_test_datasets, y_train_datasets, y_test_datasets):\n",
    "    print(\"Accuracy:\")\n",
    "    for i, (x_tr, x_ts, y_tr, y_ts) in enumerate(zip(x_train_datasets, x_test_datasets, y_train_datasets, y_test_datasets)):\n",
    "        bnb = BernoulliNB()\n",
    "        bnb = bnb.fit(x_tr, y_tr)\n",
    "        score = bnb.score(x_ts, y_ts)\n",
    "        print(' |_  {}: {:.2f}'.format(datasets_name[i], score))"
   ]
  },
  {
   "cell_type": "code",
   "execution_count": null,
   "id": "537d56ae",
   "metadata": {},
   "outputs": [],
   "source": []
  },
  {
   "cell_type": "code",
   "execution_count": 9,
   "id": "86fbec89",
   "metadata": {},
   "outputs": [],
   "source": [
    "def get_estimator(name):\n",
    "    if name == 'LR':\n",
    "        return LogisticRegression(fit_intercept=False)\n",
    "    elif name == 'SVM-Linear':\n",
    "        return svm.SVC(kernel='linear', C=1.7)\n",
    "    elif name == 'SVM-RBF':\n",
    "        return svm.SVC(kernel='rbf', C=1.5, gamma=1)\n",
    "    elif name == 'DT':\n",
    "        return DecisionTreeClassifier(criterion='entropy', max_depth=20, min_samples_split=15, random_state=0)\n",
    "    elif name == 'MNB':\n",
    "        return MultinomialNB(alpha=0.5)\n",
    "    elif name == 'BNB':\n",
    "        return BernoulliNB()"
   ]
  },
  {
   "cell_type": "code",
   "execution_count": null,
   "id": "a11e8c6b",
   "metadata": {},
   "outputs": [],
   "source": []
  },
  {
   "cell_type": "markdown",
   "id": "b842c1c2",
   "metadata": {},
   "source": [
    "### Bagging Ensemble"
   ]
  },
  {
   "cell_type": "code",
   "execution_count": 10,
   "id": "84208c59",
   "metadata": {},
   "outputs": [],
   "source": [
    "def bagging(x_train_datasets, x_test_datasets, y_train_datasets, y_test_datasets, base_estimator):\n",
    "    print(\"Accuracy:\")\n",
    "    for i, (x_tr, x_ts, y_tr, y_ts) in enumerate(zip(x_train_datasets, x_test_datasets, y_train_datasets, y_test_datasets)):\n",
    "        bag = BaggingClassifier(base_estimator=get_estimator(base_estimator), n_estimators=8, random_state=111)\n",
    "        bag.fit(x_tr, y_tr)\n",
    "        score = bag.score(x_ts, y_ts)\n",
    "        print(' |_  {}: {:.2f}'.format(datasets_name[i], score))"
   ]
  },
  {
   "cell_type": "code",
   "execution_count": null,
   "id": "f2e424ea",
   "metadata": {},
   "outputs": [],
   "source": []
  },
  {
   "cell_type": "code",
   "execution_count": null,
   "id": "aa789256",
   "metadata": {},
   "outputs": [],
   "source": [
    "\n"
   ]
  },
  {
   "cell_type": "code",
   "execution_count": null,
   "id": "8f52d34c",
   "metadata": {},
   "outputs": [],
   "source": []
  },
  {
   "cell_type": "code",
   "execution_count": null,
   "id": "c227ff8a",
   "metadata": {},
   "outputs": [],
   "source": []
  },
  {
   "cell_type": "code",
   "execution_count": 11,
   "id": "485fcaf4",
   "metadata": {},
   "outputs": [],
   "source": [
    "# cv = RepeatedStratifiedKFold(n_splits=10, n_repeats=3, random_state=1)\n",
    "# n_scores = cross_val_score(model, x_tr, y_tr, scoring='accuracy', cv=cv, n_jobs=-1, error_score='raise')"
   ]
  },
  {
   "cell_type": "code",
   "execution_count": null,
   "id": "c7e96417",
   "metadata": {},
   "outputs": [],
   "source": []
  },
  {
   "cell_type": "code",
   "execution_count": null,
   "id": "b078fa75",
   "metadata": {},
   "outputs": [],
   "source": []
  },
  {
   "cell_type": "code",
   "execution_count": null,
   "id": "1f073893",
   "metadata": {},
   "outputs": [],
   "source": []
  },
  {
   "cell_type": "code",
   "execution_count": null,
   "id": "3b44c5bc",
   "metadata": {},
   "outputs": [],
   "source": []
  },
  {
   "cell_type": "code",
   "execution_count": null,
   "id": "87437029",
   "metadata": {},
   "outputs": [],
   "source": []
  }
 ],
 "metadata": {
  "kernelspec": {
   "display_name": "Python 3 (ipykernel)",
   "language": "python",
   "name": "python3"
  },
  "language_info": {
   "codemirror_mode": {
    "name": "ipython",
    "version": 3
   },
   "file_extension": ".py",
   "mimetype": "text/x-python",
   "name": "python",
   "nbconvert_exporter": "python",
   "pygments_lexer": "ipython3",
   "version": "3.10.1"
  }
 },
 "nbformat": 4,
 "nbformat_minor": 5
}
