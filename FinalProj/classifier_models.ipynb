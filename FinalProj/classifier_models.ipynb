{
 "cells": [
  {
   "cell_type": "markdown",
   "id": "d718724e",
   "metadata": {},
   "source": [
    "#### Copyright (C) 2022 Sobhan Moradian Daghigh\n",
    "#### Date: 2/2/2022"
   ]
  },
  {
   "cell_type": "code",
   "execution_count": null,
   "id": "2cc76ecd",
   "metadata": {},
   "outputs": [],
   "source": []
  },
  {
   "cell_type": "markdown",
   "id": "74191c1b",
   "metadata": {},
   "source": [
    "### Import Libraries"
   ]
  },
  {
   "cell_type": "code",
   "execution_count": 44,
   "id": "83c89546",
   "metadata": {},
   "outputs": [],
   "source": [
    "import numpy as np\n",
    "from sklearn.linear_model import LogisticRegression\n",
    "from sklearn import svm\n",
    "from sklearn.model_selection import GridSearchCV\n",
    "from sklearn.tree import DecisionTreeClassifier"
   ]
  },
  {
   "cell_type": "code",
   "execution_count": null,
   "id": "5a5e2dbf",
   "metadata": {},
   "outputs": [],
   "source": []
  },
  {
   "cell_type": "code",
   "execution_count": 4,
   "id": "9c293e86",
   "metadata": {},
   "outputs": [],
   "source": [
    "datasets_name = ['Amazon', 'IMDB  ', 'Yelp  ']"
   ]
  },
  {
   "cell_type": "code",
   "execution_count": null,
   "id": "80164328",
   "metadata": {},
   "outputs": [],
   "source": []
  },
  {
   "cell_type": "markdown",
   "id": "db17d855",
   "metadata": {},
   "source": [
    "### Logistic Regression"
   ]
  },
  {
   "cell_type": "code",
   "execution_count": 5,
   "id": "54f46a35",
   "metadata": {},
   "outputs": [],
   "source": [
    "def logestic_regression(x_train_datasets, x_test_datasets, y_train_datasets, y_test_datasets):\n",
    "    print(\"Accuracy:\")\n",
    "    for i, (x_tr, x_ts, y_tr, y_ts) in enumerate(zip(x_train_datasets, x_test_datasets, y_train_datasets, y_test_datasets)):\n",
    "        clf = LogisticRegression()\n",
    "        clf.fit(x_tr, y_tr)\n",
    "        score = clf.score(x_ts, y_ts)\n",
    "        print(' |_  {}: {:.3f}'.format(datasets_name[i], score))"
   ]
  },
  {
   "cell_type": "code",
   "execution_count": null,
   "id": "d6fc5db2",
   "metadata": {},
   "outputs": [],
   "source": []
  },
  {
   "cell_type": "markdown",
   "id": "1b995129",
   "metadata": {},
   "source": [
    "### SVM-Linear "
   ]
  },
  {
   "cell_type": "code",
   "execution_count": 25,
   "id": "5d7bfb79",
   "metadata": {},
   "outputs": [],
   "source": [
    "def linear_svm(x_train_datasets, x_test_datasets, y_train_datasets, y_test_datasets):\n",
    "    print(\"Accuracy:\")\n",
    "    tuned_parameters = {\"C\": np.arange(1, 5, 0.1)}\n",
    "    for i, (x_tr, x_ts, y_tr, y_ts) in enumerate(zip(x_train_datasets, x_test_datasets, y_train_datasets, y_test_datasets)):\n",
    "        linear_svm = GridSearchCV(svm.SVC(kernel='linear'), tuned_parameters)\n",
    "        linear_svm = linear_svm.fit(x_tr, y_tr)\n",
    "        score = linear_svm.score(x_ts, y_ts)\n",
    "        print(' |_  {}: {:.3f}'.format(datasets_name[i], score))"
   ]
  },
  {
   "cell_type": "code",
   "execution_count": null,
   "id": "c0a640d6",
   "metadata": {},
   "outputs": [],
   "source": []
  },
  {
   "cell_type": "markdown",
   "id": "306e7cd4",
   "metadata": {},
   "source": [
    "### SVM-RBF"
   ]
  },
  {
   "cell_type": "code",
   "execution_count": 50,
   "id": "77c52bb8",
   "metadata": {},
   "outputs": [],
   "source": [
    "def rbf_svm(x_train_datasets, x_test_datasets, y_train_datasets, y_test_datasets):\n",
    "    print(\"Accuracy:\")\n",
    "    tuned_parameters = {\"C\": np.arange(1, 3, 0.1), \"gamma\": np.arange(1, 20)}\n",
    "    \n",
    "    for i, (x_tr, x_ts, y_tr, y_ts) in enumerate(zip(x_train_datasets, x_test_datasets, y_train_datasets, y_test_datasets)):\n",
    "        rbf_svm = GridSearchCV(svm.SVC(kernel='rbf'), tuned_parameters, cv=2)\n",
    "        rbf_svm = rbf_svm.fit(x_tr, y_tr)\n",
    "        score = rbf_svm.score(x_ts, y_ts)\n",
    "        print(' |_  {}: {:.3f}'.format(datasets_name[i], score))"
   ]
  },
  {
   "cell_type": "code",
   "execution_count": null,
   "id": "acddc3b9",
   "metadata": {},
   "outputs": [],
   "source": []
  },
  {
   "cell_type": "markdown",
   "id": "e9fdaa33",
   "metadata": {},
   "source": [
    "### DT"
   ]
  },
  {
   "cell_type": "code",
   "execution_count": 56,
   "id": "6b67ab2d",
   "metadata": {},
   "outputs": [],
   "source": [
    "def decision_tree(x_train_datasets, x_test_datasets, y_train_datasets, y_test_datasets):\n",
    "    print(\"Accuracy:\")    \n",
    "    tuned_parameters = {\"max_depth\": np.arange(1, 30), \"min_samples_split\": np.arange(2, 30)}\n",
    "    \n",
    "    for i, (x_tr, x_ts, y_tr, y_ts) in enumerate(zip(x_train_datasets, x_test_datasets, y_train_datasets, y_test_datasets)):\n",
    "        dtree = GridSearchCV(DecisionTreeClassifier(criterion='entropy'), tuned_parameters, cv=3)\n",
    "        dtree = dtree.fit(x_tr, y_tr)\n",
    "        score = dtree.score(x_ts, y_ts)\n",
    "        print(' |_  {}: {:.3f}'.format(datasets_name[i], score))"
   ]
  },
  {
   "cell_type": "code",
   "execution_count": null,
   "id": "aaad0bb9",
   "metadata": {},
   "outputs": [],
   "source": []
  },
  {
   "cell_type": "code",
   "execution_count": null,
   "id": "904ef404",
   "metadata": {},
   "outputs": [],
   "source": []
  },
  {
   "cell_type": "code",
   "execution_count": null,
   "id": "646d79a2",
   "metadata": {},
   "outputs": [],
   "source": []
  },
  {
   "cell_type": "code",
   "execution_count": null,
   "id": "930caf7d",
   "metadata": {},
   "outputs": [],
   "source": []
  },
  {
   "cell_type": "code",
   "execution_count": null,
   "id": "c90f8fd9",
   "metadata": {},
   "outputs": [],
   "source": []
  },
  {
   "cell_type": "code",
   "execution_count": null,
   "id": "12e1eb5c",
   "metadata": {},
   "outputs": [],
   "source": []
  }
 ],
 "metadata": {
  "kernelspec": {
   "display_name": "Python 3 (ipykernel)",
   "language": "python",
   "name": "python3"
  },
  "language_info": {
   "codemirror_mode": {
    "name": "ipython",
    "version": 3
   },
   "file_extension": ".py",
   "mimetype": "text/x-python",
   "name": "python",
   "nbconvert_exporter": "python",
   "pygments_lexer": "ipython3",
   "version": "3.10.1"
  }
 },
 "nbformat": 4,
 "nbformat_minor": 5
}
