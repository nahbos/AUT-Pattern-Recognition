{
  "nbformat": 4,
  "nbformat_minor": 0,
  "metadata": {
    "colab": {
      "name": "GloVe_LSTM.ipynb",
      "provenance": [],
      "collapsed_sections": [],
      "include_colab_link": true
    },
    "kernelspec": {
      "name": "python3",
      "display_name": "Python 3"
    }
  },
  "cells": [
    {
      "cell_type": "markdown",
      "metadata": {
        "id": "view-in-github",
        "colab_type": "text"
      },
      "source": [
        "<a href=\"https://colab.research.google.com/github/nahbos/AUT-Pattern-Recognition/blob/main/FinalProj/GloVe_LSTM.ipynb\" target=\"_parent\"><img src=\"https://colab.research.google.com/assets/colab-badge.svg\" alt=\"Open In Colab\"/></a>"
      ]
    },
    {
      "cell_type": "markdown",
      "source": [
        "###**Copyright (C) 2022 Sobhan Moradian Daghigh**\n",
        "######**Date: 2/10/2022**"
      ],
      "metadata": {
        "id": "7GlPaFweH1fa"
      }
    },
    {
      "cell_type": "markdown",
      "metadata": {
        "id": "2H7Ynha2lHj7"
      },
      "source": [
        "###**Preparing the pre-trained GloVe model**"
      ]
    },
    {
      "cell_type": "markdown",
      "source": [
        "**Downloading pre-trained GloVe**"
      ],
      "metadata": {
        "id": "_4SNsCZBrXwE"
      }
    },
    {
      "cell_type": "code",
      "metadata": {
        "id": "DlC4m7alB44c"
      },
      "source": [
        "import requests, zipfile, io\n",
        "zip_file_url = \"http://nlp.stanford.edu/data/glove.840B.300d.zip\"\n",
        "r = requests.get(zip_file_url)\n",
        "z = zipfile.ZipFile(io.BytesIO(r.content))\n",
        "z.extractall()"
      ],
      "execution_count": 1,
      "outputs": []
    },
    {
      "cell_type": "code",
      "source": [
        ""
      ],
      "metadata": {
        "id": "nwtJSh9qeLt7"
      },
      "execution_count": 1,
      "outputs": []
    },
    {
      "cell_type": "markdown",
      "source": [
        "**Import libraries**"
      ],
      "metadata": {
        "id": "LDoEypbsd9OD"
      }
    },
    {
      "cell_type": "code",
      "metadata": {
        "id": "JEh0D8DSH1L4",
        "colab": {
          "base_uri": "https://localhost:8080/"
        },
        "outputId": "ea9edfd6-56b5-45ef-bfe4-9d43a0066342"
      },
      "source": [
        "import numpy as np\n",
        "import pandas as pd\n",
        "from sklearn.model_selection import train_test_split\n",
        "from sklearn.utils import shuffle\n",
        "from sklearn.feature_extraction.text import TfidfVectorizer\n",
        "from sklearn.metrics import accuracy_score\n",
        "\n",
        "import keras\n",
        "from keras import optimizers\n",
        "from keras import backend as K\n",
        "from keras import regularizers\n",
        "from keras.models import Sequential\n",
        "from keras.layers import Dense, Activation, Dropout, Flatten\n",
        "from keras.layers import Embedding, Conv1D, MaxPooling1D, GlobalMaxPooling1D\n",
        "from tensorflow.keras.layers import Embedding, LSTM, Dense, Dropout, Bidirectional\n",
        "from keras.utils.vis_utils import plot_model\n",
        "from keras.preprocessing import sequence\n",
        "from keras.preprocessing.text import Tokenizer\n",
        "from keras.callbacks import EarlyStopping\n",
        "from keras.layers import BatchNormalization\n",
        "import tensorflow as tf\n",
        "from tensorflow.keras.optimizers import RMSprop\n",
        "from keras.callbacks import ModelCheckpoint\n",
        "from tensorflow.keras.callbacks import EarlyStopping\n",
        "\n",
        "import string\n",
        "from nltk.corpus import stopwords\n",
        "from nltk import word_tokenize\n",
        "from nltk.stem.porter import PorterStemmer\n",
        "from nltk import pos_tag\n",
        "import nltk\n",
        "nltk.download('stopwords')\n",
        "nltk.download('punkt')\n",
        "\n",
        "from tqdm import tqdm\n",
        "import codecs\n",
        "\n",
        "np.random.seed(0)\n",
        "\n",
        "MAX_NB_WORDS = 100000"
      ],
      "execution_count": 2,
      "outputs": [
        {
          "output_type": "stream",
          "name": "stdout",
          "text": [
            "[nltk_data] Downloading package stopwords to /root/nltk_data...\n",
            "[nltk_data]   Unzipping corpora/stopwords.zip.\n",
            "[nltk_data] Downloading package punkt to /root/nltk_data...\n",
            "[nltk_data]   Unzipping tokenizers/punkt.zip.\n"
          ]
        }
      ]
    },
    {
      "cell_type": "code",
      "source": [
        ""
      ],
      "metadata": {
        "id": "P8dmJYV9eO4i"
      },
      "execution_count": 2,
      "outputs": []
    },
    {
      "cell_type": "markdown",
      "metadata": {
        "id": "OryI3DKE8tr8"
      },
      "source": [
        "**Converting all the words to the embedding index in pre-trained model**"
      ]
    },
    {
      "cell_type": "code",
      "metadata": {
        "id": "IPqS-8FcEN95",
        "colab": {
          "base_uri": "https://localhost:8080/"
        },
        "outputId": "2fe51e7a-9bdf-43a3-9a2f-0575ff08a37d"
      },
      "source": [
        "print('Loading word embeddings..')\n",
        "\n",
        "embeddings_index = {}\n",
        "f = codecs.open('./glove.840B.300d.txt', encoding='utf-8')\n",
        "\n",
        "for line in tqdm(f):\n",
        "    values = line.rstrip().rsplit(' ')\n",
        "    word = values[0]\n",
        "    coefs = np.asarray(values[1:], dtype='float32')\n",
        "    embeddings_index[word] = coefs\n",
        "f.close()"
      ],
      "execution_count": 3,
      "outputs": [
        {
          "output_type": "stream",
          "name": "stdout",
          "text": [
            "Loading word embeddings..\n"
          ]
        },
        {
          "output_type": "stream",
          "name": "stderr",
          "text": [
            "2196018it [04:23, 8342.06it/s]\n"
          ]
        }
      ]
    },
    {
      "cell_type": "code",
      "source": [
        ""
      ],
      "metadata": {
        "id": "X2OknGbSeQ3i"
      },
      "execution_count": 3,
      "outputs": []
    },
    {
      "cell_type": "markdown",
      "source": [
        "**Make a preprocess on the comments to improve quality and remove unneccessary words**\n",
        "1. convert all words to lowercase\n",
        "2. remove punctuations\n",
        "3. tonekize words\n",
        "4. remove stopwords\n",
        "5. use porterStemmer to have stemming words"
      ],
      "metadata": {
        "id": "n7HpKZXMe8_w"
      }
    },
    {
      "cell_type": "code",
      "source": [
        "def nlprocess(dataset):\n",
        "\n",
        "  preprocessed_comments = []\n",
        "  for _, text in dataset.iterrows():\n",
        "\n",
        "      text = text[0]\n",
        "      #Lowercase\n",
        "      text = text.lower()\n",
        "\n",
        "      # Removing Punctuation\n",
        "      text = \"\".join([char for char in text if char not in string.punctuation])\n",
        "\n",
        "      # Word Tokenization\n",
        "      text = word_tokenize(text)\n",
        "\n",
        "      # Stopword Filtering\n",
        "      stop_words = stopwords.words('english')\n",
        "      text = [word for word in text if word not in stop_words]\n",
        "\n",
        "      # Stemming\n",
        "      porter = PorterStemmer()\n",
        "      text = [porter.stem(word) for word in text]\n",
        "\n",
        "      text = ' '.join(text)\n",
        "\n",
        "      preprocessed_comments.append(text)\n",
        "      \n",
        "  return preprocessed_comments"
      ],
      "metadata": {
        "id": "gfJ2dbsJ_nMP"
      },
      "execution_count": 4,
      "outputs": []
    },
    {
      "cell_type": "code",
      "source": [
        "def spliter(datasets):\n",
        "    x_train_datasets, x_test_datasets, y_train_datasets, y_test_datasets = [], [], [], []\n",
        "    print('(train, test):')\n",
        "    for i, dataset in enumerate(datasets):\n",
        "        x_train, x_test = dataset[0], dataset[1]\n",
        "        tr, ts = np.zeros(len(x_train)), np.zeros(len(x_test))\n",
        "        tr[:len(x_train) // 2], ts[:len(x_test) // 2] = 1, 1\n",
        "        y_train, y_test = tr, ts\n",
        "\n",
        "        x_train_datasets.append(nlprocess(x_train))\n",
        "        x_test_datasets.append(nlprocess(x_test))\n",
        "        y_train_datasets.append(y_train)\n",
        "        y_test_datasets.append(y_test)\n",
        "        print(' |_ {}: ({}, {})'.format(datasets_name[i], len(x_train), len(x_test)))\n",
        "    return x_train_datasets, x_test_datasets, y_train_datasets, y_test_datasets"
      ],
      "metadata": {
        "id": "QetfY78V_7kW"
      },
      "execution_count": 5,
      "outputs": []
    },
    {
      "cell_type": "code",
      "metadata": {
        "id": "gXof0wFo6Q8a",
        "colab": {
          "base_uri": "https://localhost:8080/"
        },
        "outputId": "368e031b-e7af-4d18-d9b3-c771b6fef44f"
      },
      "source": [
        "datasets_name = ['Books      ', 'DVD        ', 'Electronics', 'Kitchen    ']\n",
        "\n",
        "# Load data\n",
        "datasets = []\n",
        "\n",
        "books_train = pd.read_csv('./Bookstrain.txt', names=['text'], sep='\\t')\n",
        "books_test = pd.read_csv('./Bookstest.txt', names=['text'], sep='\\t')\n",
        "datasets.append([books_train, books_test])\n",
        "\n",
        "dvd_train = pd.read_csv('./Dvdtrain.txt', names=['text'], sep='\\t')\n",
        "dvd_test = pd.read_csv('./Dvdtest.txt', names=['text'], sep='\\t')\n",
        "datasets.append([dvd_train, dvd_test])\n",
        "\n",
        "electronics_train = pd.read_csv('./Electronicstrain.txt', names=['text'], sep='\\t')\n",
        "electronics_test = pd.read_csv('./Electronicstest.txt', names=['text'], sep='\\t')\n",
        "datasets.append([electronics_train, electronics_test])\n",
        "\n",
        "kitchen_train = pd.read_csv('./Kitchentrain.txt', names=['text'], sep='\\t')\n",
        "kitchen_test = pd.read_csv('./Kitchentest.txt', names=['text'], sep='\\t')\n",
        "datasets.append([kitchen_train, kitchen_test])\n",
        "\n",
        "\n",
        "x_train_datasets, x_test_datasets, y_train_datasets, y_test_datasets = spliter(datasets)"
      ],
      "execution_count": 7,
      "outputs": [
        {
          "output_type": "stream",
          "name": "stdout",
          "text": [
            "(train, test):\n",
            " |_ Books      : (1600, 400)\n",
            " |_ DVD        : (1600, 400)\n",
            " |_ Electronics: (1600, 400)\n",
            " |_ Kitchen    : (1600, 400)\n"
          ]
        }
      ]
    },
    {
      "cell_type": "code",
      "source": [
        ""
      ],
      "metadata": {
        "id": "cxTLPm3seTLy"
      },
      "execution_count": 7,
      "outputs": []
    },
    {
      "cell_type": "markdown",
      "metadata": {
        "id": "a_AOE1b5elSz"
      },
      "source": [
        "**Tokenizing the data with tokenizer from tensorflow**"
      ]
    },
    {
      "cell_type": "code",
      "metadata": {
        "id": "Cc_9P1cEGg5J"
      },
      "source": [
        "def tokenizer(x_train_datasets, x_test_datasets):\n",
        "  word_indices = []\n",
        "  word_seq_trains = []\n",
        "  word_seq_tests = []\n",
        "  max_seq_lens = []\n",
        "\n",
        "  print(\"Dictionary size:\")\n",
        "  for i, (x_tr, x_ts) in enumerate(zip(x_train_datasets, x_test_datasets)):\n",
        "    (x_tr, x_ts) = (pd.DataFrame(x_tr, columns=['text']), pd.DataFrame(x_ts, columns=['text']))\n",
        "    raw_docs_train = x_tr.text.tolist()\n",
        "    raw_docs_test  = x_ts.text.tolist()\n",
        "\n",
        "\n",
        "    processed_docs_train = []\n",
        "    for doc in tqdm(raw_docs_train):\n",
        "        tokens = word_tokenize(doc)\n",
        "        processed_docs_train.append(\" \".join(tokens))\n",
        "\n",
        "    processed_docs_test = []\n",
        "    for doc in tqdm(raw_docs_test):\n",
        "        tokens = word_tokenize(doc)\n",
        "        processed_docs_test.append(\" \".join(tokens))\n",
        "\n",
        "\n",
        "    tokenizer = Tokenizer(num_words=MAX_NB_WORDS, lower=True, char_level=False)\n",
        "    tokenizer.fit_on_texts(processed_docs_train + processed_docs_test)\n",
        "    word_seq_train = tokenizer.texts_to_sequences(processed_docs_train)\n",
        "    word_seq_test  = tokenizer.texts_to_sequences(processed_docs_test)\n",
        "\n",
        "    word_index = tokenizer.word_index\n",
        "    word_indices.append(word_index)\n",
        "    print(\" |_ {}: {}\".format(datasets_name[i], len(word_index)))\n",
        "\n",
        "    x_tr['doc_len'] = x_tr.text.apply(lambda words: len(words.split(' ')))\n",
        "    max_seq_len = np.round(x_tr.doc_len.mean() + x_tr.doc_len.std()).astype(int)\n",
        "    max_seq_lens.append(max_seq_len)\n",
        "    x_tr = x_tr.drop('doc_len', axis=1)\n",
        "    word_seq_trains.append(sequence.pad_sequences(word_seq_train, maxlen=max_seq_len))\n",
        "    word_seq_tests.append(sequence.pad_sequences(word_seq_test, maxlen=max_seq_len))\n",
        "\n",
        "  return word_indices, word_seq_trains, word_seq_tests, max_seq_lens"
      ],
      "execution_count": 8,
      "outputs": []
    },
    {
      "cell_type": "code",
      "source": [
        "word_indices, word_seq_trains, word_seq_tests, max_seq_lens = tokenizer(x_train_datasets, x_test_datasets)"
      ],
      "metadata": {
        "id": "kJsBfc6eBPCH",
        "colab": {
          "base_uri": "https://localhost:8080/"
        },
        "outputId": "190a71de-8af5-4bbf-8c2b-450575dea09d"
      },
      "execution_count": 9,
      "outputs": [
        {
          "output_type": "stream",
          "name": "stdout",
          "text": [
            "Dictionary size:\n"
          ]
        },
        {
          "output_type": "stream",
          "name": "stderr",
          "text": [
            "100%|██████████| 1600/1600 [00:00<00:00, 1687.11it/s]\n",
            "100%|██████████| 400/400 [00:00<00:00, 1768.94it/s]\n"
          ]
        },
        {
          "output_type": "stream",
          "name": "stdout",
          "text": [
            " |_ Books      : 20293\n"
          ]
        },
        {
          "output_type": "stream",
          "name": "stderr",
          "text": [
            "100%|██████████| 1600/1600 [00:00<00:00, 1722.84it/s]\n",
            "100%|██████████| 400/400 [00:00<00:00, 1831.83it/s]\n"
          ]
        },
        {
          "output_type": "stream",
          "name": "stdout",
          "text": [
            " |_ DVD        : 21192\n"
          ]
        },
        {
          "output_type": "stream",
          "name": "stderr",
          "text": [
            "100%|██████████| 1600/1600 [00:00<00:00, 2832.74it/s]\n",
            "100%|██████████| 400/400 [00:00<00:00, 2683.15it/s]\n"
          ]
        },
        {
          "output_type": "stream",
          "name": "stdout",
          "text": [
            " |_ Electronics: 11679\n"
          ]
        },
        {
          "output_type": "stream",
          "name": "stderr",
          "text": [
            "100%|██████████| 1600/1600 [00:00<00:00, 3389.07it/s]\n",
            "100%|██████████| 400/400 [00:00<00:00, 3397.30it/s]\n"
          ]
        },
        {
          "output_type": "stream",
          "name": "stdout",
          "text": [
            " |_ Kitchen    : 9011\n"
          ]
        }
      ]
    },
    {
      "cell_type": "code",
      "source": [
        ""
      ],
      "metadata": {
        "id": "_6k8V1MteYP7"
      },
      "execution_count": null,
      "outputs": []
    },
    {
      "cell_type": "markdown",
      "metadata": {
        "id": "IpGENGlOtQs1"
      },
      "source": [
        "###**Shape and Train with LSTM**"
      ]
    },
    {
      "cell_type": "markdown",
      "metadata": {
        "id": "Nyj7gwQKexxy"
      },
      "source": [
        "**defining variables that used on training**"
      ]
    },
    {
      "cell_type": "code",
      "metadata": {
        "id": "PSZ3krGMG303"
      },
      "source": [
        "# Training params\n",
        "batch_size = 256 \n",
        "num_epochs = 40\n",
        "\n",
        "# Model params\n",
        "num_filters = 64 \n",
        "embed_dim = 300 \n",
        "weight_decay = 1e-4"
      ],
      "execution_count": 10,
      "outputs": []
    },
    {
      "cell_type": "markdown",
      "metadata": {
        "id": "fZ6AlbhZe4Ky"
      },
      "source": [
        "**All words that arent in the pre-trained model from GloVe would be changed to 0. These words are basically the ones with names, and mostly dont matter so much to the pattern. so its nicer to just weights it 0.**"
      ]
    },
    {
      "cell_type": "code",
      "metadata": {
        "id": "8SJbfuJPJEDC"
      },
      "source": [
        "# Embedding matrix\n",
        "def embd_matrix(word_indices):\n",
        "  nb_words_list = []\n",
        "  embedding_matrices = []\n",
        "  print('Preparing embedding matrix..')\n",
        "  print(' Number of null word embeddings:')\n",
        "  for j, word_index in enumerate(word_indices):\n",
        "    words_not_found = []\n",
        "    nb_words = min(MAX_NB_WORDS, len(word_index) + 1)\n",
        "    nb_words_list.append(nb_words)\n",
        "    embedding_matrix = np.zeros((nb_words, embed_dim))\n",
        "\n",
        "    for word, i in word_index.items():\n",
        "        if i >= nb_words:\n",
        "            continue\n",
        "        embedding_vector = embeddings_index.get(word)\n",
        "        if (embedding_vector is not None) and len(embedding_vector) > 0:\n",
        "            embedding_matrix[i] = embedding_vector\n",
        "        else:\n",
        "            words_not_found.append(word)\n",
        "    \n",
        "    embedding_matrices.append(embedding_matrix)\n",
        "    print('  |_ {}: {}'.format(datasets_name[j], np.sum(np.sum(embedding_matrix, axis=1) == 0)))\n",
        "    print(\"     some of not-found words: {}\".format(np.random.choice(words_not_found, 3)))\n",
        "  \n",
        "  return nb_words_list, embedding_matrices"
      ],
      "execution_count": 11,
      "outputs": []
    },
    {
      "cell_type": "code",
      "metadata": {
        "id": "S_pjm-7BJGuP",
        "colab": {
          "base_uri": "https://localhost:8080/"
        },
        "outputId": "ce658823-c8de-4018-f4fc-0e9d6ca667c2"
      },
      "source": [
        "nb_words_list, embedding_matrices = embd_matrix(word_indices)"
      ],
      "execution_count": 12,
      "outputs": [
        {
          "output_type": "stream",
          "name": "stdout",
          "text": [
            "Preparing embedding matrix..\n",
            " Number of null word embeddings:\n",
            "  |_ Books      : 8904\n",
            "     some of not-found words: ['ellroy' 'facad' 'lovemap']\n",
            "  |_ DVD        : 9368\n",
            "     some of not-found words: ['insteadaft' 'doofusesand' 'gravelli']\n",
            "  |_ Electronics: 5029\n",
            "     some of not-found words: ['nonintuit' 'soundgrant' 'lowerneed']\n",
            "  |_ Kitchen    : 3420\n",
            "     some of not-found words: ['quicklyy' 'mistur' 'misquot']\n"
          ]
        }
      ]
    },
    {
      "cell_type": "markdown",
      "source": [
        "**Cool :)))**"
      ],
      "metadata": {
        "id": "YPQCCaKj13lZ"
      }
    },
    {
      "cell_type": "code",
      "source": [
        ""
      ],
      "metadata": {
        "id": "72T_QAwuebgE"
      },
      "execution_count": 12,
      "outputs": []
    },
    {
      "cell_type": "markdown",
      "metadata": {
        "id": "SUBAkn22ga48"
      },
      "source": [
        "**Now, lets start training!**"
      ]
    },
    {
      "cell_type": "code",
      "metadata": {
        "id": "xpX2AFhKJJsh"
      },
      "source": [
        "def glove_trainer(embedding_matrices, nb_words_list, max_seq_lens, y_train_datasets, word_seq_trains):\n",
        "  models = []\n",
        "  \n",
        "  for i, (embedding_matrix, nb_words, max_seq_len, y_train, word_seq_train) in enumerate(zip(embedding_matrices, nb_words_list, max_seq_lens, y_train_datasets, word_seq_trains)):\n",
        "\n",
        "    model = tf.keras.Sequential()\n",
        "\n",
        "    model.add(Embedding(nb_words, embed_dim, input_length=max_seq_len, weights=[embedding_matrix], trainable=False))\n",
        "    model.add(LSTM(32))\n",
        "    model.add(Dense(32,activation='relu'))\n",
        "    model.add(Dropout(0.4))\n",
        "    model.add(Dense(1,activation='sigmoid'))\n",
        "\n",
        "    print('\\n\\n****************************   {}   ************************'.format(datasets_name[i]))\n",
        "    model.summary()\n",
        "\n",
        "    model.compile(loss='binary_crossentropy', optimizer='adam', metrics=['accuracy'])\n",
        "\n",
        "    es_callback = EarlyStopping(monitor='val_loss', patience=3)\n",
        "    model.fit(word_seq_train, y_train, batch_size=256, epochs=num_epochs, callbacks=[es_callback], shuffle=False)\n",
        "\n",
        "    models.append(model)\n",
        "    keras.backend.clear_session()\n",
        "  return models"
      ],
      "execution_count": 17,
      "outputs": []
    },
    {
      "cell_type": "code",
      "source": [
        "models = glove_trainer(embedding_matrices, nb_words_list, max_seq_lens, y_train_datasets, word_seq_trains)"
      ],
      "metadata": {
        "colab": {
          "base_uri": "https://localhost:8080/"
        },
        "id": "B9oADMCL4lmj",
        "outputId": "7bd8923a-c0ff-4556-de22-4c17718cbed8"
      },
      "execution_count": 18,
      "outputs": [
        {
          "output_type": "stream",
          "name": "stdout",
          "text": [
            "\n",
            "\n",
            "****************************   Books         ************************\n",
            "Model: \"sequential\"\n",
            "_________________________________________________________________\n",
            " Layer (type)                Output Shape              Param #   \n",
            "=================================================================\n",
            " embedding (Embedding)       (None, 323, 300)          6088200   \n",
            "                                                                 \n",
            " lstm (LSTM)                 (None, 32)                42624     \n",
            "                                                                 \n",
            " dense (Dense)               (None, 32)                1056      \n",
            "                                                                 \n",
            " dropout (Dropout)           (None, 32)                0         \n",
            "                                                                 \n",
            " dense_1 (Dense)             (None, 1)                 33        \n",
            "                                                                 \n",
            "=================================================================\n",
            "Total params: 6,131,913\n",
            "Trainable params: 43,713\n",
            "Non-trainable params: 6,088,200\n",
            "_________________________________________________________________\n",
            "Epoch 1/40\n",
            "7/7 [==============================] - ETA: 0s - loss: 0.7506 - accuracy: 0.3969WARNING:tensorflow:Early stopping conditioned on metric `val_loss` which is not available. Available metrics are: loss,accuracy\n",
            "7/7 [==============================] - 6s 492ms/step - loss: 0.7506 - accuracy: 0.3969\n",
            "Epoch 2/40\n",
            "7/7 [==============================] - ETA: 0s - loss: 0.6921 - accuracy: 0.5163WARNING:tensorflow:Early stopping conditioned on metric `val_loss` which is not available. Available metrics are: loss,accuracy\n",
            "7/7 [==============================] - 4s 497ms/step - loss: 0.6921 - accuracy: 0.5163\n",
            "Epoch 3/40\n",
            "7/7 [==============================] - ETA: 0s - loss: 0.6808 - accuracy: 0.5494WARNING:tensorflow:Early stopping conditioned on metric `val_loss` which is not available. Available metrics are: loss,accuracy\n",
            "7/7 [==============================] - 4s 496ms/step - loss: 0.6808 - accuracy: 0.5494\n",
            "Epoch 4/40\n",
            "7/7 [==============================] - ETA: 0s - loss: 0.6808 - accuracy: 0.5825WARNING:tensorflow:Early stopping conditioned on metric `val_loss` which is not available. Available metrics are: loss,accuracy\n",
            "7/7 [==============================] - 4s 493ms/step - loss: 0.6808 - accuracy: 0.5825\n",
            "Epoch 5/40\n",
            "7/7 [==============================] - ETA: 0s - loss: 0.6787 - accuracy: 0.5844WARNING:tensorflow:Early stopping conditioned on metric `val_loss` which is not available. Available metrics are: loss,accuracy\n",
            "7/7 [==============================] - 4s 495ms/step - loss: 0.6787 - accuracy: 0.5844\n",
            "Epoch 6/40\n",
            "7/7 [==============================] - ETA: 0s - loss: 0.6729 - accuracy: 0.6175WARNING:tensorflow:Early stopping conditioned on metric `val_loss` which is not available. Available metrics are: loss,accuracy\n",
            "7/7 [==============================] - 4s 502ms/step - loss: 0.6729 - accuracy: 0.6175\n",
            "Epoch 7/40\n",
            "7/7 [==============================] - ETA: 0s - loss: 0.6698 - accuracy: 0.6200WARNING:tensorflow:Early stopping conditioned on metric `val_loss` which is not available. Available metrics are: loss,accuracy\n",
            "7/7 [==============================] - 4s 499ms/step - loss: 0.6698 - accuracy: 0.6200\n",
            "Epoch 8/40\n",
            "7/7 [==============================] - ETA: 0s - loss: 0.6674 - accuracy: 0.6131WARNING:tensorflow:Early stopping conditioned on metric `val_loss` which is not available. Available metrics are: loss,accuracy\n",
            "7/7 [==============================] - 4s 493ms/step - loss: 0.6674 - accuracy: 0.6131\n",
            "Epoch 9/40\n",
            "7/7 [==============================] - ETA: 0s - loss: 0.6609 - accuracy: 0.6300WARNING:tensorflow:Early stopping conditioned on metric `val_loss` which is not available. Available metrics are: loss,accuracy\n",
            "7/7 [==============================] - 4s 496ms/step - loss: 0.6609 - accuracy: 0.6300\n",
            "Epoch 10/40\n",
            "7/7 [==============================] - ETA: 0s - loss: 0.6495 - accuracy: 0.6456WARNING:tensorflow:Early stopping conditioned on metric `val_loss` which is not available. Available metrics are: loss,accuracy\n",
            "7/7 [==============================] - 4s 490ms/step - loss: 0.6495 - accuracy: 0.6456\n",
            "Epoch 11/40\n",
            "7/7 [==============================] - ETA: 0s - loss: 0.6408 - accuracy: 0.6519WARNING:tensorflow:Early stopping conditioned on metric `val_loss` which is not available. Available metrics are: loss,accuracy\n",
            "7/7 [==============================] - 4s 492ms/step - loss: 0.6408 - accuracy: 0.6519\n",
            "Epoch 12/40\n",
            "7/7 [==============================] - ETA: 0s - loss: 0.6374 - accuracy: 0.6712WARNING:tensorflow:Early stopping conditioned on metric `val_loss` which is not available. Available metrics are: loss,accuracy\n",
            "7/7 [==============================] - 4s 498ms/step - loss: 0.6374 - accuracy: 0.6712\n",
            "Epoch 13/40\n",
            "7/7 [==============================] - ETA: 0s - loss: 0.6216 - accuracy: 0.6775WARNING:tensorflow:Early stopping conditioned on metric `val_loss` which is not available. Available metrics are: loss,accuracy\n",
            "7/7 [==============================] - 4s 555ms/step - loss: 0.6216 - accuracy: 0.6775\n",
            "Epoch 14/40\n",
            "7/7 [==============================] - ETA: 0s - loss: 0.6108 - accuracy: 0.6956WARNING:tensorflow:Early stopping conditioned on metric `val_loss` which is not available. Available metrics are: loss,accuracy\n",
            "7/7 [==============================] - 4s 493ms/step - loss: 0.6108 - accuracy: 0.6956\n",
            "Epoch 15/40\n",
            "7/7 [==============================] - ETA: 0s - loss: 0.5962 - accuracy: 0.7006WARNING:tensorflow:Early stopping conditioned on metric `val_loss` which is not available. Available metrics are: loss,accuracy\n",
            "7/7 [==============================] - 4s 490ms/step - loss: 0.5962 - accuracy: 0.7006\n",
            "Epoch 16/40\n",
            "7/7 [==============================] - ETA: 0s - loss: 0.5832 - accuracy: 0.7138WARNING:tensorflow:Early stopping conditioned on metric `val_loss` which is not available. Available metrics are: loss,accuracy\n",
            "7/7 [==============================] - 4s 492ms/step - loss: 0.5832 - accuracy: 0.7138\n",
            "Epoch 17/40\n",
            "7/7 [==============================] - ETA: 0s - loss: 0.5600 - accuracy: 0.7294WARNING:tensorflow:Early stopping conditioned on metric `val_loss` which is not available. Available metrics are: loss,accuracy\n",
            "7/7 [==============================] - 4s 496ms/step - loss: 0.5600 - accuracy: 0.7294\n",
            "Epoch 18/40\n",
            "7/7 [==============================] - ETA: 0s - loss: 0.5584 - accuracy: 0.7144WARNING:tensorflow:Early stopping conditioned on metric `val_loss` which is not available. Available metrics are: loss,accuracy\n",
            "7/7 [==============================] - 4s 492ms/step - loss: 0.5584 - accuracy: 0.7144\n",
            "Epoch 19/40\n",
            "7/7 [==============================] - ETA: 0s - loss: 0.5332 - accuracy: 0.7487WARNING:tensorflow:Early stopping conditioned on metric `val_loss` which is not available. Available metrics are: loss,accuracy\n",
            "7/7 [==============================] - 4s 495ms/step - loss: 0.5332 - accuracy: 0.7487\n",
            "Epoch 20/40\n",
            "7/7 [==============================] - ETA: 0s - loss: 0.5191 - accuracy: 0.7531WARNING:tensorflow:Early stopping conditioned on metric `val_loss` which is not available. Available metrics are: loss,accuracy\n",
            "7/7 [==============================] - 4s 500ms/step - loss: 0.5191 - accuracy: 0.7531\n",
            "Epoch 21/40\n",
            "7/7 [==============================] - ETA: 0s - loss: 0.5078 - accuracy: 0.7531WARNING:tensorflow:Early stopping conditioned on metric `val_loss` which is not available. Available metrics are: loss,accuracy\n",
            "7/7 [==============================] - 4s 497ms/step - loss: 0.5078 - accuracy: 0.7531\n",
            "Epoch 22/40\n",
            "7/7 [==============================] - ETA: 0s - loss: 0.4923 - accuracy: 0.7725WARNING:tensorflow:Early stopping conditioned on metric `val_loss` which is not available. Available metrics are: loss,accuracy\n",
            "7/7 [==============================] - 4s 500ms/step - loss: 0.4923 - accuracy: 0.7725\n",
            "Epoch 23/40\n",
            "7/7 [==============================] - ETA: 0s - loss: 0.4706 - accuracy: 0.7956WARNING:tensorflow:Early stopping conditioned on metric `val_loss` which is not available. Available metrics are: loss,accuracy\n",
            "7/7 [==============================] - 4s 499ms/step - loss: 0.4706 - accuracy: 0.7956\n",
            "Epoch 24/40\n",
            "7/7 [==============================] - ETA: 0s - loss: 0.4654 - accuracy: 0.7956WARNING:tensorflow:Early stopping conditioned on metric `val_loss` which is not available. Available metrics are: loss,accuracy\n",
            "7/7 [==============================] - 4s 496ms/step - loss: 0.4654 - accuracy: 0.7956\n",
            "Epoch 25/40\n",
            "7/7 [==============================] - ETA: 0s - loss: 0.4446 - accuracy: 0.8087WARNING:tensorflow:Early stopping conditioned on metric `val_loss` which is not available. Available metrics are: loss,accuracy\n",
            "7/7 [==============================] - 4s 498ms/step - loss: 0.4446 - accuracy: 0.8087\n",
            "Epoch 26/40\n",
            "7/7 [==============================] - ETA: 0s - loss: 0.4309 - accuracy: 0.8138WARNING:tensorflow:Early stopping conditioned on metric `val_loss` which is not available. Available metrics are: loss,accuracy\n",
            "7/7 [==============================] - 4s 499ms/step - loss: 0.4309 - accuracy: 0.8138\n",
            "Epoch 27/40\n",
            "7/7 [==============================] - ETA: 0s - loss: 0.4250 - accuracy: 0.8206WARNING:tensorflow:Early stopping conditioned on metric `val_loss` which is not available. Available metrics are: loss,accuracy\n",
            "7/7 [==============================] - 4s 499ms/step - loss: 0.4250 - accuracy: 0.8206\n",
            "Epoch 28/40\n",
            "7/7 [==============================] - ETA: 0s - loss: 0.3979 - accuracy: 0.8388WARNING:tensorflow:Early stopping conditioned on metric `val_loss` which is not available. Available metrics are: loss,accuracy\n",
            "7/7 [==============================] - 4s 498ms/step - loss: 0.3979 - accuracy: 0.8388\n",
            "Epoch 29/40\n",
            "7/7 [==============================] - ETA: 0s - loss: 0.3922 - accuracy: 0.8388WARNING:tensorflow:Early stopping conditioned on metric `val_loss` which is not available. Available metrics are: loss,accuracy\n",
            "7/7 [==============================] - 4s 505ms/step - loss: 0.3922 - accuracy: 0.8388\n",
            "Epoch 30/40\n",
            "7/7 [==============================] - ETA: 0s - loss: 0.3629 - accuracy: 0.8537WARNING:tensorflow:Early stopping conditioned on metric `val_loss` which is not available. Available metrics are: loss,accuracy\n",
            "7/7 [==============================] - 4s 501ms/step - loss: 0.3629 - accuracy: 0.8537\n",
            "Epoch 31/40\n",
            "7/7 [==============================] - ETA: 0s - loss: 0.3528 - accuracy: 0.8662WARNING:tensorflow:Early stopping conditioned on metric `val_loss` which is not available. Available metrics are: loss,accuracy\n",
            "7/7 [==============================] - 4s 504ms/step - loss: 0.3528 - accuracy: 0.8662\n",
            "Epoch 32/40\n",
            "7/7 [==============================] - ETA: 0s - loss: 0.3353 - accuracy: 0.8656WARNING:tensorflow:Early stopping conditioned on metric `val_loss` which is not available. Available metrics are: loss,accuracy\n",
            "7/7 [==============================] - 4s 508ms/step - loss: 0.3353 - accuracy: 0.8656\n",
            "Epoch 33/40\n",
            "7/7 [==============================] - ETA: 0s - loss: 0.3221 - accuracy: 0.8775WARNING:tensorflow:Early stopping conditioned on metric `val_loss` which is not available. Available metrics are: loss,accuracy\n",
            "7/7 [==============================] - 4s 506ms/step - loss: 0.3221 - accuracy: 0.8775\n",
            "Epoch 34/40\n",
            "7/7 [==============================] - ETA: 0s - loss: 0.3053 - accuracy: 0.8850WARNING:tensorflow:Early stopping conditioned on metric `val_loss` which is not available. Available metrics are: loss,accuracy\n",
            "7/7 [==============================] - 4s 505ms/step - loss: 0.3053 - accuracy: 0.8850\n",
            "Epoch 35/40\n",
            "7/7 [==============================] - ETA: 0s - loss: 0.2977 - accuracy: 0.8944WARNING:tensorflow:Early stopping conditioned on metric `val_loss` which is not available. Available metrics are: loss,accuracy\n",
            "7/7 [==============================] - 4s 508ms/step - loss: 0.2977 - accuracy: 0.8944\n",
            "Epoch 36/40\n",
            "7/7 [==============================] - ETA: 0s - loss: 0.2736 - accuracy: 0.9044WARNING:tensorflow:Early stopping conditioned on metric `val_loss` which is not available. Available metrics are: loss,accuracy\n",
            "7/7 [==============================] - 4s 501ms/step - loss: 0.2736 - accuracy: 0.9044\n",
            "Epoch 37/40\n",
            "7/7 [==============================] - ETA: 0s - loss: 0.2562 - accuracy: 0.9162WARNING:tensorflow:Early stopping conditioned on metric `val_loss` which is not available. Available metrics are: loss,accuracy\n",
            "7/7 [==============================] - 4s 507ms/step - loss: 0.2562 - accuracy: 0.9162\n",
            "Epoch 38/40\n",
            "7/7 [==============================] - ETA: 0s - loss: 0.2449 - accuracy: 0.9231WARNING:tensorflow:Early stopping conditioned on metric `val_loss` which is not available. Available metrics are: loss,accuracy\n",
            "7/7 [==============================] - 4s 509ms/step - loss: 0.2449 - accuracy: 0.9231\n",
            "Epoch 39/40\n",
            "7/7 [==============================] - ETA: 0s - loss: 0.2423 - accuracy: 0.9194WARNING:tensorflow:Early stopping conditioned on metric `val_loss` which is not available. Available metrics are: loss,accuracy\n",
            "7/7 [==============================] - 4s 506ms/step - loss: 0.2423 - accuracy: 0.9194\n",
            "Epoch 40/40\n",
            "7/7 [==============================] - ETA: 0s - loss: 0.2488 - accuracy: 0.9137WARNING:tensorflow:Early stopping conditioned on metric `val_loss` which is not available. Available metrics are: loss,accuracy\n",
            "7/7 [==============================] - 4s 506ms/step - loss: 0.2488 - accuracy: 0.9137\n",
            "\n",
            "\n",
            "****************************   DVD           ************************\n",
            "Model: \"sequential\"\n",
            "_________________________________________________________________\n",
            " Layer (type)                Output Shape              Param #   \n",
            "=================================================================\n",
            " embedding (Embedding)       (None, 316, 300)          6357900   \n",
            "                                                                 \n",
            " lstm (LSTM)                 (None, 32)                42624     \n",
            "                                                                 \n",
            " dense (Dense)               (None, 32)                1056      \n",
            "                                                                 \n",
            " dropout (Dropout)           (None, 32)                0         \n",
            "                                                                 \n",
            " dense_1 (Dense)             (None, 1)                 33        \n",
            "                                                                 \n",
            "=================================================================\n",
            "Total params: 6,401,613\n",
            "Trainable params: 43,713\n",
            "Non-trainable params: 6,357,900\n",
            "_________________________________________________________________\n",
            "Epoch 1/40\n",
            "7/7 [==============================] - ETA: 0s - loss: 0.7618 - accuracy: 0.3494WARNING:tensorflow:Early stopping conditioned on metric `val_loss` which is not available. Available metrics are: loss,accuracy\n",
            "7/7 [==============================] - 6s 487ms/step - loss: 0.7618 - accuracy: 0.3494\n",
            "Epoch 2/40\n",
            "7/7 [==============================] - ETA: 0s - loss: 0.6893 - accuracy: 0.5306WARNING:tensorflow:Early stopping conditioned on metric `val_loss` which is not available. Available metrics are: loss,accuracy\n",
            "7/7 [==============================] - 3s 484ms/step - loss: 0.6893 - accuracy: 0.5306\n",
            "Epoch 3/40\n",
            "7/7 [==============================] - ETA: 0s - loss: 0.6819 - accuracy: 0.5681WARNING:tensorflow:Early stopping conditioned on metric `val_loss` which is not available. Available metrics are: loss,accuracy\n",
            "7/7 [==============================] - 3s 484ms/step - loss: 0.6819 - accuracy: 0.5681\n",
            "Epoch 4/40\n",
            "7/7 [==============================] - ETA: 0s - loss: 0.6768 - accuracy: 0.6081WARNING:tensorflow:Early stopping conditioned on metric `val_loss` which is not available. Available metrics are: loss,accuracy\n",
            "7/7 [==============================] - 3s 487ms/step - loss: 0.6768 - accuracy: 0.6081\n",
            "Epoch 5/40\n",
            "7/7 [==============================] - ETA: 0s - loss: 0.6718 - accuracy: 0.6244WARNING:tensorflow:Early stopping conditioned on metric `val_loss` which is not available. Available metrics are: loss,accuracy\n",
            "7/7 [==============================] - 3s 479ms/step - loss: 0.6718 - accuracy: 0.6244\n",
            "Epoch 6/40\n",
            "7/7 [==============================] - ETA: 0s - loss: 0.6693 - accuracy: 0.6194WARNING:tensorflow:Early stopping conditioned on metric `val_loss` which is not available. Available metrics are: loss,accuracy\n",
            "7/7 [==============================] - 3s 484ms/step - loss: 0.6693 - accuracy: 0.6194\n",
            "Epoch 7/40\n",
            "7/7 [==============================] - ETA: 0s - loss: 0.6652 - accuracy: 0.6325WARNING:tensorflow:Early stopping conditioned on metric `val_loss` which is not available. Available metrics are: loss,accuracy\n",
            "7/7 [==============================] - 3s 486ms/step - loss: 0.6652 - accuracy: 0.6325\n",
            "Epoch 8/40\n",
            "7/7 [==============================] - ETA: 0s - loss: 0.6574 - accuracy: 0.6456WARNING:tensorflow:Early stopping conditioned on metric `val_loss` which is not available. Available metrics are: loss,accuracy\n",
            "7/7 [==============================] - 3s 479ms/step - loss: 0.6574 - accuracy: 0.6456\n",
            "Epoch 9/40\n",
            "7/7 [==============================] - ETA: 0s - loss: 0.6542 - accuracy: 0.6538WARNING:tensorflow:Early stopping conditioned on metric `val_loss` which is not available. Available metrics are: loss,accuracy\n",
            "7/7 [==============================] - 3s 482ms/step - loss: 0.6542 - accuracy: 0.6538\n",
            "Epoch 10/40\n",
            "7/7 [==============================] - ETA: 0s - loss: 0.6445 - accuracy: 0.6475WARNING:tensorflow:Early stopping conditioned on metric `val_loss` which is not available. Available metrics are: loss,accuracy\n",
            "7/7 [==============================] - 3s 491ms/step - loss: 0.6445 - accuracy: 0.6475\n",
            "Epoch 11/40\n",
            "7/7 [==============================] - ETA: 0s - loss: 0.6355 - accuracy: 0.6762WARNING:tensorflow:Early stopping conditioned on metric `val_loss` which is not available. Available metrics are: loss,accuracy\n",
            "7/7 [==============================] - 3s 484ms/step - loss: 0.6355 - accuracy: 0.6762\n",
            "Epoch 12/40\n",
            "7/7 [==============================] - ETA: 0s - loss: 0.6234 - accuracy: 0.6812WARNING:tensorflow:Early stopping conditioned on metric `val_loss` which is not available. Available metrics are: loss,accuracy\n",
            "7/7 [==============================] - 3s 486ms/step - loss: 0.6234 - accuracy: 0.6812\n",
            "Epoch 13/40\n",
            "7/7 [==============================] - ETA: 0s - loss: 0.6173 - accuracy: 0.6781WARNING:tensorflow:Early stopping conditioned on metric `val_loss` which is not available. Available metrics are: loss,accuracy\n",
            "7/7 [==============================] - 3s 486ms/step - loss: 0.6173 - accuracy: 0.6781\n",
            "Epoch 14/40\n",
            "7/7 [==============================] - ETA: 0s - loss: 0.5998 - accuracy: 0.7038WARNING:tensorflow:Early stopping conditioned on metric `val_loss` which is not available. Available metrics are: loss,accuracy\n",
            "7/7 [==============================] - 3s 481ms/step - loss: 0.5998 - accuracy: 0.7038\n",
            "Epoch 15/40\n",
            "7/7 [==============================] - ETA: 0s - loss: 0.5911 - accuracy: 0.7025WARNING:tensorflow:Early stopping conditioned on metric `val_loss` which is not available. Available metrics are: loss,accuracy\n",
            "7/7 [==============================] - 3s 489ms/step - loss: 0.5911 - accuracy: 0.7025\n",
            "Epoch 16/40\n",
            "7/7 [==============================] - ETA: 0s - loss: 0.5776 - accuracy: 0.7219WARNING:tensorflow:Early stopping conditioned on metric `val_loss` which is not available. Available metrics are: loss,accuracy\n",
            "7/7 [==============================] - 3s 486ms/step - loss: 0.5776 - accuracy: 0.7219\n",
            "Epoch 17/40\n",
            "7/7 [==============================] - ETA: 0s - loss: 0.5660 - accuracy: 0.7181WARNING:tensorflow:Early stopping conditioned on metric `val_loss` which is not available. Available metrics are: loss,accuracy\n",
            "7/7 [==============================] - 3s 485ms/step - loss: 0.5660 - accuracy: 0.7181\n",
            "Epoch 18/40\n",
            "7/7 [==============================] - ETA: 0s - loss: 0.5441 - accuracy: 0.7469WARNING:tensorflow:Early stopping conditioned on metric `val_loss` which is not available. Available metrics are: loss,accuracy\n",
            "7/7 [==============================] - 3s 485ms/step - loss: 0.5441 - accuracy: 0.7469\n",
            "Epoch 19/40\n",
            "7/7 [==============================] - ETA: 0s - loss: 0.5465 - accuracy: 0.7381WARNING:tensorflow:Early stopping conditioned on metric `val_loss` which is not available. Available metrics are: loss,accuracy\n",
            "7/7 [==============================] - 3s 484ms/step - loss: 0.5465 - accuracy: 0.7381\n",
            "Epoch 20/40\n",
            "7/7 [==============================] - ETA: 0s - loss: 0.5197 - accuracy: 0.7544WARNING:tensorflow:Early stopping conditioned on metric `val_loss` which is not available. Available metrics are: loss,accuracy\n",
            "7/7 [==============================] - 3s 488ms/step - loss: 0.5197 - accuracy: 0.7544\n",
            "Epoch 21/40\n",
            "7/7 [==============================] - ETA: 0s - loss: 0.5132 - accuracy: 0.7613WARNING:tensorflow:Early stopping conditioned on metric `val_loss` which is not available. Available metrics are: loss,accuracy\n",
            "7/7 [==============================] - 3s 478ms/step - loss: 0.5132 - accuracy: 0.7613\n",
            "Epoch 22/40\n",
            "7/7 [==============================] - ETA: 0s - loss: 0.4929 - accuracy: 0.7731WARNING:tensorflow:Early stopping conditioned on metric `val_loss` which is not available. Available metrics are: loss,accuracy\n",
            "7/7 [==============================] - 3s 488ms/step - loss: 0.4929 - accuracy: 0.7731\n",
            "Epoch 23/40\n",
            "7/7 [==============================] - ETA: 0s - loss: 0.4867 - accuracy: 0.7781WARNING:tensorflow:Early stopping conditioned on metric `val_loss` which is not available. Available metrics are: loss,accuracy\n",
            "7/7 [==============================] - 3s 485ms/step - loss: 0.4867 - accuracy: 0.7781\n",
            "Epoch 24/40\n",
            "7/7 [==============================] - ETA: 0s - loss: 0.4785 - accuracy: 0.7806WARNING:tensorflow:Early stopping conditioned on metric `val_loss` which is not available. Available metrics are: loss,accuracy\n",
            "7/7 [==============================] - 3s 483ms/step - loss: 0.4785 - accuracy: 0.7806\n",
            "Epoch 25/40\n",
            "7/7 [==============================] - ETA: 0s - loss: 0.4505 - accuracy: 0.7950WARNING:tensorflow:Early stopping conditioned on metric `val_loss` which is not available. Available metrics are: loss,accuracy\n",
            "7/7 [==============================] - 3s 486ms/step - loss: 0.4505 - accuracy: 0.7950\n",
            "Epoch 26/40\n",
            "7/7 [==============================] - ETA: 0s - loss: 0.4462 - accuracy: 0.7994WARNING:tensorflow:Early stopping conditioned on metric `val_loss` which is not available. Available metrics are: loss,accuracy\n",
            "7/7 [==============================] - 3s 488ms/step - loss: 0.4462 - accuracy: 0.7994\n",
            "Epoch 27/40\n",
            "7/7 [==============================] - ETA: 0s - loss: 0.4384 - accuracy: 0.8056WARNING:tensorflow:Early stopping conditioned on metric `val_loss` which is not available. Available metrics are: loss,accuracy\n",
            "7/7 [==============================] - 3s 480ms/step - loss: 0.4384 - accuracy: 0.8056\n",
            "Epoch 28/40\n",
            "7/7 [==============================] - ETA: 0s - loss: 0.4227 - accuracy: 0.8219WARNING:tensorflow:Early stopping conditioned on metric `val_loss` which is not available. Available metrics are: loss,accuracy\n",
            "7/7 [==============================] - 3s 485ms/step - loss: 0.4227 - accuracy: 0.8219\n",
            "Epoch 29/40\n",
            "7/7 [==============================] - ETA: 0s - loss: 0.4011 - accuracy: 0.8369WARNING:tensorflow:Early stopping conditioned on metric `val_loss` which is not available. Available metrics are: loss,accuracy\n",
            "7/7 [==============================] - 3s 481ms/step - loss: 0.4011 - accuracy: 0.8369\n",
            "Epoch 30/40\n",
            "7/7 [==============================] - ETA: 0s - loss: 0.3803 - accuracy: 0.8444WARNING:tensorflow:Early stopping conditioned on metric `val_loss` which is not available. Available metrics are: loss,accuracy\n",
            "7/7 [==============================] - 3s 484ms/step - loss: 0.3803 - accuracy: 0.8444\n",
            "Epoch 31/40\n",
            "7/7 [==============================] - ETA: 0s - loss: 0.3728 - accuracy: 0.8512WARNING:tensorflow:Early stopping conditioned on metric `val_loss` which is not available. Available metrics are: loss,accuracy\n",
            "7/7 [==============================] - 4s 488ms/step - loss: 0.3728 - accuracy: 0.8512\n",
            "Epoch 32/40\n",
            "7/7 [==============================] - ETA: 0s - loss: 0.3609 - accuracy: 0.8581WARNING:tensorflow:Early stopping conditioned on metric `val_loss` which is not available. Available metrics are: loss,accuracy\n",
            "7/7 [==============================] - 3s 489ms/step - loss: 0.3609 - accuracy: 0.8581\n",
            "Epoch 33/40\n",
            "7/7 [==============================] - ETA: 0s - loss: 0.3300 - accuracy: 0.8687WARNING:tensorflow:Early stopping conditioned on metric `val_loss` which is not available. Available metrics are: loss,accuracy\n",
            "7/7 [==============================] - 3s 485ms/step - loss: 0.3300 - accuracy: 0.8687\n",
            "Epoch 34/40\n",
            "7/7 [==============================] - ETA: 0s - loss: 0.3135 - accuracy: 0.8881WARNING:tensorflow:Early stopping conditioned on metric `val_loss` which is not available. Available metrics are: loss,accuracy\n",
            "7/7 [==============================] - 3s 488ms/step - loss: 0.3135 - accuracy: 0.8881\n",
            "Epoch 35/40\n",
            "7/7 [==============================] - ETA: 0s - loss: 0.4085 - accuracy: 0.8156WARNING:tensorflow:Early stopping conditioned on metric `val_loss` which is not available. Available metrics are: loss,accuracy\n",
            "7/7 [==============================] - 3s 484ms/step - loss: 0.4085 - accuracy: 0.8156\n",
            "Epoch 36/40\n",
            "7/7 [==============================] - ETA: 0s - loss: 0.3136 - accuracy: 0.8813WARNING:tensorflow:Early stopping conditioned on metric `val_loss` which is not available. Available metrics are: loss,accuracy\n",
            "7/7 [==============================] - 3s 485ms/step - loss: 0.3136 - accuracy: 0.8813\n",
            "Epoch 37/40\n",
            "7/7 [==============================] - ETA: 0s - loss: 0.2906 - accuracy: 0.8913WARNING:tensorflow:Early stopping conditioned on metric `val_loss` which is not available. Available metrics are: loss,accuracy\n",
            "7/7 [==============================] - 4s 491ms/step - loss: 0.2906 - accuracy: 0.8913\n",
            "Epoch 38/40\n",
            "7/7 [==============================] - ETA: 0s - loss: 0.2893 - accuracy: 0.8913WARNING:tensorflow:Early stopping conditioned on metric `val_loss` which is not available. Available metrics are: loss,accuracy\n",
            "7/7 [==============================] - 3s 480ms/step - loss: 0.2893 - accuracy: 0.8913\n",
            "Epoch 39/40\n",
            "7/7 [==============================] - ETA: 0s - loss: 0.2546 - accuracy: 0.9075WARNING:tensorflow:Early stopping conditioned on metric `val_loss` which is not available. Available metrics are: loss,accuracy\n",
            "7/7 [==============================] - 3s 479ms/step - loss: 0.2546 - accuracy: 0.9075\n",
            "Epoch 40/40\n",
            "7/7 [==============================] - ETA: 0s - loss: 0.2449 - accuracy: 0.9137WARNING:tensorflow:Early stopping conditioned on metric `val_loss` which is not available. Available metrics are: loss,accuracy\n",
            "7/7 [==============================] - 3s 484ms/step - loss: 0.2449 - accuracy: 0.9137\n",
            "\n",
            "\n",
            "****************************   Electronics   ************************\n",
            "Model: \"sequential\"\n",
            "_________________________________________________________________\n",
            " Layer (type)                Output Shape              Param #   \n",
            "=================================================================\n",
            " embedding (Embedding)       (None, 177, 300)          3504000   \n",
            "                                                                 \n",
            " lstm (LSTM)                 (None, 32)                42624     \n",
            "                                                                 \n",
            " dense (Dense)               (None, 32)                1056      \n",
            "                                                                 \n",
            " dropout (Dropout)           (None, 32)                0         \n",
            "                                                                 \n",
            " dense_1 (Dense)             (None, 1)                 33        \n",
            "                                                                 \n",
            "=================================================================\n",
            "Total params: 3,547,713\n",
            "Trainable params: 43,713\n",
            "Non-trainable params: 3,504,000\n",
            "_________________________________________________________________\n",
            "Epoch 1/40\n",
            "7/7 [==============================] - ETA: 0s - loss: 0.7421 - accuracy: 0.3856WARNING:tensorflow:Early stopping conditioned on metric `val_loss` which is not available. Available metrics are: loss,accuracy\n",
            "7/7 [==============================] - 4s 275ms/step - loss: 0.7421 - accuracy: 0.3856\n",
            "Epoch 2/40\n",
            "7/7 [==============================] - ETA: 0s - loss: 0.6925 - accuracy: 0.5038WARNING:tensorflow:Early stopping conditioned on metric `val_loss` which is not available. Available metrics are: loss,accuracy\n",
            "7/7 [==============================] - 2s 269ms/step - loss: 0.6925 - accuracy: 0.5038\n",
            "Epoch 3/40\n",
            "7/7 [==============================] - ETA: 0s - loss: 0.6801 - accuracy: 0.5494WARNING:tensorflow:Early stopping conditioned on metric `val_loss` which is not available. Available metrics are: loss,accuracy\n",
            "7/7 [==============================] - 2s 272ms/step - loss: 0.6801 - accuracy: 0.5494\n",
            "Epoch 4/40\n",
            "7/7 [==============================] - ETA: 0s - loss: 0.6795 - accuracy: 0.5925WARNING:tensorflow:Early stopping conditioned on metric `val_loss` which is not available. Available metrics are: loss,accuracy\n",
            "7/7 [==============================] - 2s 272ms/step - loss: 0.6795 - accuracy: 0.5925\n",
            "Epoch 5/40\n",
            "7/7 [==============================] - ETA: 0s - loss: 0.6762 - accuracy: 0.6281WARNING:tensorflow:Early stopping conditioned on metric `val_loss` which is not available. Available metrics are: loss,accuracy\n",
            "7/7 [==============================] - 2s 275ms/step - loss: 0.6762 - accuracy: 0.6281\n",
            "Epoch 6/40\n",
            "7/7 [==============================] - ETA: 0s - loss: 0.6762 - accuracy: 0.6275WARNING:tensorflow:Early stopping conditioned on metric `val_loss` which is not available. Available metrics are: loss,accuracy\n",
            "7/7 [==============================] - 2s 269ms/step - loss: 0.6762 - accuracy: 0.6275\n",
            "Epoch 7/40\n",
            "7/7 [==============================] - ETA: 0s - loss: 0.6706 - accuracy: 0.6369WARNING:tensorflow:Early stopping conditioned on metric `val_loss` which is not available. Available metrics are: loss,accuracy\n",
            "7/7 [==============================] - 2s 275ms/step - loss: 0.6706 - accuracy: 0.6369\n",
            "Epoch 8/40\n",
            "7/7 [==============================] - ETA: 0s - loss: 0.6649 - accuracy: 0.6275WARNING:tensorflow:Early stopping conditioned on metric `val_loss` which is not available. Available metrics are: loss,accuracy\n",
            "7/7 [==============================] - 2s 271ms/step - loss: 0.6649 - accuracy: 0.6275\n",
            "Epoch 9/40\n",
            "7/7 [==============================] - ETA: 0s - loss: 0.6577 - accuracy: 0.6569WARNING:tensorflow:Early stopping conditioned on metric `val_loss` which is not available. Available metrics are: loss,accuracy\n",
            "7/7 [==============================] - 2s 271ms/step - loss: 0.6577 - accuracy: 0.6569\n",
            "Epoch 10/40\n",
            "7/7 [==============================] - ETA: 0s - loss: 0.6509 - accuracy: 0.6662WARNING:tensorflow:Early stopping conditioned on metric `val_loss` which is not available. Available metrics are: loss,accuracy\n",
            "7/7 [==============================] - 2s 271ms/step - loss: 0.6509 - accuracy: 0.6662\n",
            "Epoch 11/40\n",
            "7/7 [==============================] - ETA: 0s - loss: 0.6409 - accuracy: 0.6706WARNING:tensorflow:Early stopping conditioned on metric `val_loss` which is not available. Available metrics are: loss,accuracy\n",
            "7/7 [==============================] - 2s 272ms/step - loss: 0.6409 - accuracy: 0.6706\n",
            "Epoch 12/40\n",
            "7/7 [==============================] - ETA: 0s - loss: 0.6258 - accuracy: 0.6875WARNING:tensorflow:Early stopping conditioned on metric `val_loss` which is not available. Available metrics are: loss,accuracy\n",
            "7/7 [==============================] - 2s 274ms/step - loss: 0.6258 - accuracy: 0.6875\n",
            "Epoch 13/40\n",
            "7/7 [==============================] - ETA: 0s - loss: 0.6128 - accuracy: 0.7000WARNING:tensorflow:Early stopping conditioned on metric `val_loss` which is not available. Available metrics are: loss,accuracy\n",
            "7/7 [==============================] - 2s 275ms/step - loss: 0.6128 - accuracy: 0.7000\n",
            "Epoch 14/40\n",
            "7/7 [==============================] - ETA: 0s - loss: 0.5992 - accuracy: 0.7031WARNING:tensorflow:Early stopping conditioned on metric `val_loss` which is not available. Available metrics are: loss,accuracy\n",
            "7/7 [==============================] - 2s 278ms/step - loss: 0.5992 - accuracy: 0.7031\n",
            "Epoch 15/40\n",
            "7/7 [==============================] - ETA: 0s - loss: 0.5802 - accuracy: 0.7256WARNING:tensorflow:Early stopping conditioned on metric `val_loss` which is not available. Available metrics are: loss,accuracy\n",
            "7/7 [==============================] - 2s 279ms/step - loss: 0.5802 - accuracy: 0.7256\n",
            "Epoch 16/40\n",
            "7/7 [==============================] - ETA: 0s - loss: 0.5577 - accuracy: 0.7350WARNING:tensorflow:Early stopping conditioned on metric `val_loss` which is not available. Available metrics are: loss,accuracy\n",
            "7/7 [==============================] - 2s 277ms/step - loss: 0.5577 - accuracy: 0.7350\n",
            "Epoch 17/40\n",
            "7/7 [==============================] - ETA: 0s - loss: 0.5341 - accuracy: 0.7362WARNING:tensorflow:Early stopping conditioned on metric `val_loss` which is not available. Available metrics are: loss,accuracy\n",
            "7/7 [==============================] - 2s 280ms/step - loss: 0.5341 - accuracy: 0.7362\n",
            "Epoch 18/40\n",
            "7/7 [==============================] - ETA: 0s - loss: 0.5359 - accuracy: 0.7400WARNING:tensorflow:Early stopping conditioned on metric `val_loss` which is not available. Available metrics are: loss,accuracy\n",
            "7/7 [==============================] - 2s 275ms/step - loss: 0.5359 - accuracy: 0.7400\n",
            "Epoch 19/40\n",
            "7/7 [==============================] - ETA: 0s - loss: 0.5017 - accuracy: 0.7725WARNING:tensorflow:Early stopping conditioned on metric `val_loss` which is not available. Available metrics are: loss,accuracy\n",
            "7/7 [==============================] - 2s 274ms/step - loss: 0.5017 - accuracy: 0.7725\n",
            "Epoch 20/40\n",
            "7/7 [==============================] - ETA: 0s - loss: 0.4725 - accuracy: 0.7912WARNING:tensorflow:Early stopping conditioned on metric `val_loss` which is not available. Available metrics are: loss,accuracy\n",
            "7/7 [==============================] - 2s 277ms/step - loss: 0.4725 - accuracy: 0.7912\n",
            "Epoch 21/40\n",
            "7/7 [==============================] - ETA: 0s - loss: 0.4665 - accuracy: 0.8062WARNING:tensorflow:Early stopping conditioned on metric `val_loss` which is not available. Available metrics are: loss,accuracy\n",
            "7/7 [==============================] - 2s 272ms/step - loss: 0.4665 - accuracy: 0.8062\n",
            "Epoch 22/40\n",
            "7/7 [==============================] - ETA: 0s - loss: 0.4498 - accuracy: 0.8138WARNING:tensorflow:Early stopping conditioned on metric `val_loss` which is not available. Available metrics are: loss,accuracy\n",
            "7/7 [==============================] - 2s 274ms/step - loss: 0.4498 - accuracy: 0.8138\n",
            "Epoch 23/40\n",
            "7/7 [==============================] - ETA: 0s - loss: 0.4387 - accuracy: 0.8213WARNING:tensorflow:Early stopping conditioned on metric `val_loss` which is not available. Available metrics are: loss,accuracy\n",
            "7/7 [==============================] - 2s 277ms/step - loss: 0.4387 - accuracy: 0.8213\n",
            "Epoch 24/40\n",
            "7/7 [==============================] - ETA: 0s - loss: 0.4058 - accuracy: 0.8394WARNING:tensorflow:Early stopping conditioned on metric `val_loss` which is not available. Available metrics are: loss,accuracy\n",
            "7/7 [==============================] - 2s 276ms/step - loss: 0.4058 - accuracy: 0.8394\n",
            "Epoch 25/40\n",
            "7/7 [==============================] - ETA: 0s - loss: 0.3994 - accuracy: 0.8394WARNING:tensorflow:Early stopping conditioned on metric `val_loss` which is not available. Available metrics are: loss,accuracy\n",
            "7/7 [==============================] - 2s 271ms/step - loss: 0.3994 - accuracy: 0.8394\n",
            "Epoch 26/40\n",
            "7/7 [==============================] - ETA: 0s - loss: 0.3754 - accuracy: 0.8494WARNING:tensorflow:Early stopping conditioned on metric `val_loss` which is not available. Available metrics are: loss,accuracy\n",
            "7/7 [==============================] - 2s 274ms/step - loss: 0.3754 - accuracy: 0.8494\n",
            "Epoch 27/40\n",
            "7/7 [==============================] - ETA: 0s - loss: 0.3541 - accuracy: 0.8662WARNING:tensorflow:Early stopping conditioned on metric `val_loss` which is not available. Available metrics are: loss,accuracy\n",
            "7/7 [==============================] - 2s 274ms/step - loss: 0.3541 - accuracy: 0.8662\n",
            "Epoch 28/40\n",
            "7/7 [==============================] - ETA: 0s - loss: 0.3475 - accuracy: 0.8681WARNING:tensorflow:Early stopping conditioned on metric `val_loss` which is not available. Available metrics are: loss,accuracy\n",
            "7/7 [==============================] - 2s 274ms/step - loss: 0.3475 - accuracy: 0.8681\n",
            "Epoch 29/40\n",
            "7/7 [==============================] - ETA: 0s - loss: 0.4910 - accuracy: 0.7563WARNING:tensorflow:Early stopping conditioned on metric `val_loss` which is not available. Available metrics are: loss,accuracy\n",
            "7/7 [==============================] - 2s 274ms/step - loss: 0.4910 - accuracy: 0.7563\n",
            "Epoch 30/40\n",
            "7/7 [==============================] - ETA: 0s - loss: 0.4806 - accuracy: 0.7700WARNING:tensorflow:Early stopping conditioned on metric `val_loss` which is not available. Available metrics are: loss,accuracy\n",
            "7/7 [==============================] - 2s 273ms/step - loss: 0.4806 - accuracy: 0.7700\n",
            "Epoch 31/40\n",
            "7/7 [==============================] - ETA: 0s - loss: 0.5166 - accuracy: 0.7531WARNING:tensorflow:Early stopping conditioned on metric `val_loss` which is not available. Available metrics are: loss,accuracy\n",
            "7/7 [==============================] - 2s 270ms/step - loss: 0.5166 - accuracy: 0.7531\n",
            "Epoch 32/40\n",
            "7/7 [==============================] - ETA: 0s - loss: 0.4172 - accuracy: 0.8188WARNING:tensorflow:Early stopping conditioned on metric `val_loss` which is not available. Available metrics are: loss,accuracy\n",
            "7/7 [==============================] - 2s 275ms/step - loss: 0.4172 - accuracy: 0.8188\n",
            "Epoch 33/40\n",
            "7/7 [==============================] - ETA: 0s - loss: 0.4045 - accuracy: 0.8225WARNING:tensorflow:Early stopping conditioned on metric `val_loss` which is not available. Available metrics are: loss,accuracy\n",
            "7/7 [==============================] - 2s 277ms/step - loss: 0.4045 - accuracy: 0.8225\n",
            "Epoch 34/40\n",
            "7/7 [==============================] - ETA: 0s - loss: 0.4171 - accuracy: 0.8125WARNING:tensorflow:Early stopping conditioned on metric `val_loss` which is not available. Available metrics are: loss,accuracy\n",
            "7/7 [==============================] - 2s 277ms/step - loss: 0.4171 - accuracy: 0.8125\n",
            "Epoch 35/40\n",
            "7/7 [==============================] - ETA: 0s - loss: 0.3631 - accuracy: 0.8450WARNING:tensorflow:Early stopping conditioned on metric `val_loss` which is not available. Available metrics are: loss,accuracy\n",
            "7/7 [==============================] - 2s 275ms/step - loss: 0.3631 - accuracy: 0.8450\n",
            "Epoch 36/40\n",
            "7/7 [==============================] - ETA: 0s - loss: 0.3728 - accuracy: 0.8419WARNING:tensorflow:Early stopping conditioned on metric `val_loss` which is not available. Available metrics are: loss,accuracy\n",
            "7/7 [==============================] - 2s 275ms/step - loss: 0.3728 - accuracy: 0.8419\n",
            "Epoch 37/40\n",
            "7/7 [==============================] - ETA: 0s - loss: 0.3503 - accuracy: 0.8556WARNING:tensorflow:Early stopping conditioned on metric `val_loss` which is not available. Available metrics are: loss,accuracy\n",
            "7/7 [==============================] - 2s 273ms/step - loss: 0.3503 - accuracy: 0.8556\n",
            "Epoch 38/40\n",
            "7/7 [==============================] - ETA: 0s - loss: 0.3335 - accuracy: 0.8637WARNING:tensorflow:Early stopping conditioned on metric `val_loss` which is not available. Available metrics are: loss,accuracy\n",
            "7/7 [==============================] - 2s 277ms/step - loss: 0.3335 - accuracy: 0.8637\n",
            "Epoch 39/40\n",
            "7/7 [==============================] - ETA: 0s - loss: 0.3216 - accuracy: 0.8744WARNING:tensorflow:Early stopping conditioned on metric `val_loss` which is not available. Available metrics are: loss,accuracy\n",
            "7/7 [==============================] - 2s 276ms/step - loss: 0.3216 - accuracy: 0.8744\n",
            "Epoch 40/40\n",
            "7/7 [==============================] - ETA: 0s - loss: 0.3114 - accuracy: 0.8763WARNING:tensorflow:Early stopping conditioned on metric `val_loss` which is not available. Available metrics are: loss,accuracy\n",
            "7/7 [==============================] - 2s 271ms/step - loss: 0.3114 - accuracy: 0.8763\n",
            "\n",
            "\n",
            "****************************   Kitchen       ************************\n",
            "Model: \"sequential\"\n",
            "_________________________________________________________________\n",
            " Layer (type)                Output Shape              Param #   \n",
            "=================================================================\n",
            " embedding (Embedding)       (None, 140, 300)          2703600   \n",
            "                                                                 \n",
            " lstm (LSTM)                 (None, 32)                42624     \n",
            "                                                                 \n",
            " dense (Dense)               (None, 32)                1056      \n",
            "                                                                 \n",
            " dropout (Dropout)           (None, 32)                0         \n",
            "                                                                 \n",
            " dense_1 (Dense)             (None, 1)                 33        \n",
            "                                                                 \n",
            "=================================================================\n",
            "Total params: 2,747,313\n",
            "Trainable params: 43,713\n",
            "Non-trainable params: 2,703,600\n",
            "_________________________________________________________________\n",
            "Epoch 1/40\n",
            "7/7 [==============================] - ETA: 0s - loss: 0.7527 - accuracy: 0.4338WARNING:tensorflow:Early stopping conditioned on metric `val_loss` which is not available. Available metrics are: loss,accuracy\n",
            "7/7 [==============================] - 4s 222ms/step - loss: 0.7527 - accuracy: 0.4338\n",
            "Epoch 2/40\n",
            "7/7 [==============================] - ETA: 0s - loss: 0.6916 - accuracy: 0.5306WARNING:tensorflow:Early stopping conditioned on metric `val_loss` which is not available. Available metrics are: loss,accuracy\n",
            "7/7 [==============================] - 2s 222ms/step - loss: 0.6916 - accuracy: 0.5306\n",
            "Epoch 3/40\n",
            "7/7 [==============================] - ETA: 0s - loss: 0.6764 - accuracy: 0.5650WARNING:tensorflow:Early stopping conditioned on metric `val_loss` which is not available. Available metrics are: loss,accuracy\n",
            "7/7 [==============================] - 2s 226ms/step - loss: 0.6764 - accuracy: 0.5650\n",
            "Epoch 4/40\n",
            "7/7 [==============================] - ETA: 0s - loss: 0.6740 - accuracy: 0.5781WARNING:tensorflow:Early stopping conditioned on metric `val_loss` which is not available. Available metrics are: loss,accuracy\n",
            "7/7 [==============================] - 2s 223ms/step - loss: 0.6740 - accuracy: 0.5781\n",
            "Epoch 5/40\n",
            "7/7 [==============================] - ETA: 0s - loss: 0.6713 - accuracy: 0.6094WARNING:tensorflow:Early stopping conditioned on metric `val_loss` which is not available. Available metrics are: loss,accuracy\n",
            "7/7 [==============================] - 2s 221ms/step - loss: 0.6713 - accuracy: 0.6094\n",
            "Epoch 6/40\n",
            "7/7 [==============================] - ETA: 0s - loss: 0.6680 - accuracy: 0.6231WARNING:tensorflow:Early stopping conditioned on metric `val_loss` which is not available. Available metrics are: loss,accuracy\n",
            "7/7 [==============================] - 2s 226ms/step - loss: 0.6680 - accuracy: 0.6231\n",
            "Epoch 7/40\n",
            "7/7 [==============================] - ETA: 0s - loss: 0.6611 - accuracy: 0.6319WARNING:tensorflow:Early stopping conditioned on metric `val_loss` which is not available. Available metrics are: loss,accuracy\n",
            "7/7 [==============================] - 2s 226ms/step - loss: 0.6611 - accuracy: 0.6319\n",
            "Epoch 8/40\n",
            "7/7 [==============================] - ETA: 0s - loss: 0.6585 - accuracy: 0.6331WARNING:tensorflow:Early stopping conditioned on metric `val_loss` which is not available. Available metrics are: loss,accuracy\n",
            "7/7 [==============================] - 2s 222ms/step - loss: 0.6585 - accuracy: 0.6331\n",
            "Epoch 9/40\n",
            "7/7 [==============================] - ETA: 0s - loss: 0.6463 - accuracy: 0.6562WARNING:tensorflow:Early stopping conditioned on metric `val_loss` which is not available. Available metrics are: loss,accuracy\n",
            "7/7 [==============================] - 2s 226ms/step - loss: 0.6463 - accuracy: 0.6562\n",
            "Epoch 10/40\n",
            "7/7 [==============================] - ETA: 0s - loss: 0.6321 - accuracy: 0.6787WARNING:tensorflow:Early stopping conditioned on metric `val_loss` which is not available. Available metrics are: loss,accuracy\n",
            "7/7 [==============================] - 2s 222ms/step - loss: 0.6321 - accuracy: 0.6787\n",
            "Epoch 11/40\n",
            "7/7 [==============================] - ETA: 0s - loss: 0.6172 - accuracy: 0.6938WARNING:tensorflow:Early stopping conditioned on metric `val_loss` which is not available. Available metrics are: loss,accuracy\n",
            "7/7 [==============================] - 2s 220ms/step - loss: 0.6172 - accuracy: 0.6938\n",
            "Epoch 12/40\n",
            "7/7 [==============================] - ETA: 0s - loss: 0.6062 - accuracy: 0.6950WARNING:tensorflow:Early stopping conditioned on metric `val_loss` which is not available. Available metrics are: loss,accuracy\n",
            "7/7 [==============================] - 2s 222ms/step - loss: 0.6062 - accuracy: 0.6950\n",
            "Epoch 13/40\n",
            "7/7 [==============================] - ETA: 0s - loss: 0.5941 - accuracy: 0.7056WARNING:tensorflow:Early stopping conditioned on metric `val_loss` which is not available. Available metrics are: loss,accuracy\n",
            "7/7 [==============================] - 2s 222ms/step - loss: 0.5941 - accuracy: 0.7056\n",
            "Epoch 14/40\n",
            "7/7 [==============================] - ETA: 0s - loss: 0.5612 - accuracy: 0.7237WARNING:tensorflow:Early stopping conditioned on metric `val_loss` which is not available. Available metrics are: loss,accuracy\n",
            "7/7 [==============================] - 2s 230ms/step - loss: 0.5612 - accuracy: 0.7237\n",
            "Epoch 15/40\n",
            "7/7 [==============================] - ETA: 0s - loss: 0.5692 - accuracy: 0.7206WARNING:tensorflow:Early stopping conditioned on metric `val_loss` which is not available. Available metrics are: loss,accuracy\n",
            "7/7 [==============================] - 2s 224ms/step - loss: 0.5692 - accuracy: 0.7206\n",
            "Epoch 16/40\n",
            "7/7 [==============================] - ETA: 0s - loss: 0.5529 - accuracy: 0.7237WARNING:tensorflow:Early stopping conditioned on metric `val_loss` which is not available. Available metrics are: loss,accuracy\n",
            "7/7 [==============================] - 2s 227ms/step - loss: 0.5529 - accuracy: 0.7237\n",
            "Epoch 17/40\n",
            "7/7 [==============================] - ETA: 0s - loss: 0.5087 - accuracy: 0.7638WARNING:tensorflow:Early stopping conditioned on metric `val_loss` which is not available. Available metrics are: loss,accuracy\n",
            "7/7 [==============================] - 2s 220ms/step - loss: 0.5087 - accuracy: 0.7638\n",
            "Epoch 18/40\n",
            "7/7 [==============================] - ETA: 0s - loss: 0.5145 - accuracy: 0.7619WARNING:tensorflow:Early stopping conditioned on metric `val_loss` which is not available. Available metrics are: loss,accuracy\n",
            "7/7 [==============================] - 2s 224ms/step - loss: 0.5145 - accuracy: 0.7619\n",
            "Epoch 19/40\n",
            "7/7 [==============================] - ETA: 0s - loss: 0.4888 - accuracy: 0.7800WARNING:tensorflow:Early stopping conditioned on metric `val_loss` which is not available. Available metrics are: loss,accuracy\n",
            "7/7 [==============================] - 2s 222ms/step - loss: 0.4888 - accuracy: 0.7800\n",
            "Epoch 20/40\n",
            "7/7 [==============================] - ETA: 0s - loss: 0.4757 - accuracy: 0.7819WARNING:tensorflow:Early stopping conditioned on metric `val_loss` which is not available. Available metrics are: loss,accuracy\n",
            "7/7 [==============================] - 2s 222ms/step - loss: 0.4757 - accuracy: 0.7819\n",
            "Epoch 21/40\n",
            "7/7 [==============================] - ETA: 0s - loss: 0.4654 - accuracy: 0.7944WARNING:tensorflow:Early stopping conditioned on metric `val_loss` which is not available. Available metrics are: loss,accuracy\n",
            "7/7 [==============================] - 2s 224ms/step - loss: 0.4654 - accuracy: 0.7944\n",
            "Epoch 22/40\n",
            "7/7 [==============================] - ETA: 0s - loss: 0.4532 - accuracy: 0.8056WARNING:tensorflow:Early stopping conditioned on metric `val_loss` which is not available. Available metrics are: loss,accuracy\n",
            "7/7 [==============================] - 2s 224ms/step - loss: 0.4532 - accuracy: 0.8056\n",
            "Epoch 23/40\n",
            "7/7 [==============================] - ETA: 0s - loss: 0.4318 - accuracy: 0.8131WARNING:tensorflow:Early stopping conditioned on metric `val_loss` which is not available. Available metrics are: loss,accuracy\n",
            "7/7 [==============================] - 2s 226ms/step - loss: 0.4318 - accuracy: 0.8131\n",
            "Epoch 24/40\n",
            "7/7 [==============================] - ETA: 0s - loss: 0.4357 - accuracy: 0.8106WARNING:tensorflow:Early stopping conditioned on metric `val_loss` which is not available. Available metrics are: loss,accuracy\n",
            "7/7 [==============================] - 2s 223ms/step - loss: 0.4357 - accuracy: 0.8106\n",
            "Epoch 25/40\n",
            "7/7 [==============================] - ETA: 0s - loss: 0.4162 - accuracy: 0.8275WARNING:tensorflow:Early stopping conditioned on metric `val_loss` which is not available. Available metrics are: loss,accuracy\n",
            "7/7 [==============================] - 2s 222ms/step - loss: 0.4162 - accuracy: 0.8275\n",
            "Epoch 26/40\n",
            "7/7 [==============================] - ETA: 0s - loss: 0.4172 - accuracy: 0.8219WARNING:tensorflow:Early stopping conditioned on metric `val_loss` which is not available. Available metrics are: loss,accuracy\n",
            "7/7 [==============================] - 2s 223ms/step - loss: 0.4172 - accuracy: 0.8219\n",
            "Epoch 27/40\n",
            "7/7 [==============================] - ETA: 0s - loss: 0.3939 - accuracy: 0.8388WARNING:tensorflow:Early stopping conditioned on metric `val_loss` which is not available. Available metrics are: loss,accuracy\n",
            "7/7 [==============================] - 2s 220ms/step - loss: 0.3939 - accuracy: 0.8388\n",
            "Epoch 28/40\n",
            "7/7 [==============================] - ETA: 0s - loss: 0.3700 - accuracy: 0.8531WARNING:tensorflow:Early stopping conditioned on metric `val_loss` which is not available. Available metrics are: loss,accuracy\n",
            "7/7 [==============================] - 2s 227ms/step - loss: 0.3700 - accuracy: 0.8531\n",
            "Epoch 29/40\n",
            "7/7 [==============================] - ETA: 0s - loss: 0.3702 - accuracy: 0.8481WARNING:tensorflow:Early stopping conditioned on metric `val_loss` which is not available. Available metrics are: loss,accuracy\n",
            "7/7 [==============================] - 2s 228ms/step - loss: 0.3702 - accuracy: 0.8481\n",
            "Epoch 30/40\n",
            "7/7 [==============================] - ETA: 0s - loss: 0.3505 - accuracy: 0.8625WARNING:tensorflow:Early stopping conditioned on metric `val_loss` which is not available. Available metrics are: loss,accuracy\n",
            "7/7 [==============================] - 2s 223ms/step - loss: 0.3505 - accuracy: 0.8625\n",
            "Epoch 31/40\n",
            "7/7 [==============================] - ETA: 0s - loss: 0.3365 - accuracy: 0.8675WARNING:tensorflow:Early stopping conditioned on metric `val_loss` which is not available. Available metrics are: loss,accuracy\n",
            "7/7 [==============================] - 2s 224ms/step - loss: 0.3365 - accuracy: 0.8675\n",
            "Epoch 32/40\n",
            "7/7 [==============================] - ETA: 0s - loss: 0.3323 - accuracy: 0.8750WARNING:tensorflow:Early stopping conditioned on metric `val_loss` which is not available. Available metrics are: loss,accuracy\n",
            "7/7 [==============================] - 2s 223ms/step - loss: 0.3323 - accuracy: 0.8750\n",
            "Epoch 33/40\n",
            "7/7 [==============================] - ETA: 0s - loss: 0.2999 - accuracy: 0.8819WARNING:tensorflow:Early stopping conditioned on metric `val_loss` which is not available. Available metrics are: loss,accuracy\n",
            "7/7 [==============================] - 2s 223ms/step - loss: 0.2999 - accuracy: 0.8819\n",
            "Epoch 34/40\n",
            "7/7 [==============================] - ETA: 0s - loss: 0.3085 - accuracy: 0.8800WARNING:tensorflow:Early stopping conditioned on metric `val_loss` which is not available. Available metrics are: loss,accuracy\n",
            "7/7 [==============================] - 2s 223ms/step - loss: 0.3085 - accuracy: 0.8800\n",
            "Epoch 35/40\n",
            "7/7 [==============================] - ETA: 0s - loss: 0.2827 - accuracy: 0.8975WARNING:tensorflow:Early stopping conditioned on metric `val_loss` which is not available. Available metrics are: loss,accuracy\n",
            "7/7 [==============================] - 2s 225ms/step - loss: 0.2827 - accuracy: 0.8975\n",
            "Epoch 36/40\n",
            "7/7 [==============================] - ETA: 0s - loss: 0.2789 - accuracy: 0.8981WARNING:tensorflow:Early stopping conditioned on metric `val_loss` which is not available. Available metrics are: loss,accuracy\n",
            "7/7 [==============================] - 2s 225ms/step - loss: 0.2789 - accuracy: 0.8981\n",
            "Epoch 37/40\n",
            "7/7 [==============================] - ETA: 0s - loss: 0.2657 - accuracy: 0.8988WARNING:tensorflow:Early stopping conditioned on metric `val_loss` which is not available. Available metrics are: loss,accuracy\n",
            "7/7 [==============================] - 2s 220ms/step - loss: 0.2657 - accuracy: 0.8988\n",
            "Epoch 38/40\n",
            "7/7 [==============================] - ETA: 0s - loss: 0.2538 - accuracy: 0.9100WARNING:tensorflow:Early stopping conditioned on metric `val_loss` which is not available. Available metrics are: loss,accuracy\n",
            "7/7 [==============================] - 2s 221ms/step - loss: 0.2538 - accuracy: 0.9100\n",
            "Epoch 39/40\n",
            "7/7 [==============================] - ETA: 0s - loss: 0.2439 - accuracy: 0.9112WARNING:tensorflow:Early stopping conditioned on metric `val_loss` which is not available. Available metrics are: loss,accuracy\n",
            "7/7 [==============================] - 2s 222ms/step - loss: 0.2439 - accuracy: 0.9112\n",
            "Epoch 40/40\n",
            "7/7 [==============================] - ETA: 0s - loss: 0.3175 - accuracy: 0.8737WARNING:tensorflow:Early stopping conditioned on metric `val_loss` which is not available. Available metrics are: loss,accuracy\n",
            "7/7 [==============================] - 2s 224ms/step - loss: 0.3175 - accuracy: 0.8737\n"
          ]
        }
      ]
    },
    {
      "cell_type": "code",
      "source": [
        ""
      ],
      "metadata": {
        "id": "pzztI1rTefvr"
      },
      "execution_count": 18,
      "outputs": []
    },
    {
      "cell_type": "code",
      "metadata": {
        "id": "9r0E47btUHg4",
        "colab": {
          "base_uri": "https://localhost:8080/"
        },
        "outputId": "2c05d0c5-0dcf-4c51-a93a-7c1ba40cf79e"
      },
      "source": [
        "print(\"Accuracy with GloVe and LSTM:\")\n",
        "for i, (model, y_ts, word_seq_test) in enumerate(zip(models, y_test_datasets, word_seq_tests)):\n",
        "    predictions = (model.predict(word_seq_test) > 0.5).astype(int)\n",
        "    acc = accuracy_score(y_ts, predictions)\n",
        "    print(' |_  {}: {:.2f}'.format(datasets_name[i], acc))"
      ],
      "execution_count": 21,
      "outputs": [
        {
          "output_type": "stream",
          "name": "stdout",
          "text": [
            "Accuracy with GloVe and LSTM:\n",
            " |_  Books      : 0.69\n",
            " |_  DVD        : 0.74\n",
            " |_  Electronics: 0.78\n",
            " |_  Kitchen    : 0.80\n"
          ]
        }
      ]
    },
    {
      "cell_type": "markdown",
      "source": [
        "**Finito :)**"
      ],
      "metadata": {
        "id": "5GLkQMQlcfWR"
      }
    },
    {
      "cell_type": "code",
      "source": [
        ""
      ],
      "metadata": {
        "id": "n5QZBz-Dum58"
      },
      "execution_count": null,
      "outputs": []
    }
  ]
}