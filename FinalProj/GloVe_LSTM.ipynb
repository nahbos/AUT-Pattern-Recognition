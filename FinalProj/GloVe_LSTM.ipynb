{
  "nbformat": 4,
  "nbformat_minor": 0,
  "metadata": {
    "colab": {
      "name": "GloVe_LSTM.ipynb",
      "provenance": [],
      "collapsed_sections": [],
      "include_colab_link": true
    },
    "kernelspec": {
      "name": "python3",
      "display_name": "Python 3"
    }
  },
  "cells": [
    {
      "cell_type": "markdown",
      "metadata": {
        "id": "view-in-github",
        "colab_type": "text"
      },
      "source": [
        "<a href=\"https://colab.research.google.com/github/nahbos/AUT-Pattern-Recognition/blob/main/FinalProj/GloVe_LSTM.ipynb\" target=\"_parent\"><img src=\"https://colab.research.google.com/assets/colab-badge.svg\" alt=\"Open In Colab\"/></a>"
      ]
    },
    {
      "cell_type": "markdown",
      "source": [
        "###**Copyright (C) 2022 Sobhan Moradian Daghigh**\n",
        "######**Date: 2/10/2022**"
      ],
      "metadata": {
        "id": "7GlPaFweH1fa"
      }
    },
    {
      "cell_type": "markdown",
      "metadata": {
        "id": "2H7Ynha2lHj7"
      },
      "source": [
        "###**Preparing the pre-trained GloVe model**"
      ]
    },
    {
      "cell_type": "markdown",
      "source": [
        "**Downloading pre-trained GloVe**"
      ],
      "metadata": {
        "id": "_4SNsCZBrXwE"
      }
    },
    {
      "cell_type": "code",
      "metadata": {
        "id": "DlC4m7alB44c"
      },
      "source": [
        "import requests, zipfile, io\n",
        "zip_file_url = \"http://nlp.stanford.edu/data/glove.840B.300d.zip\"\n",
        "r = requests.get(zip_file_url)\n",
        "z = zipfile.ZipFile(io.BytesIO(r.content))\n",
        "z.extractall()"
      ],
      "execution_count": 1,
      "outputs": []
    },
    {
      "cell_type": "code",
      "source": [
        ""
      ],
      "metadata": {
        "id": "nwtJSh9qeLt7"
      },
      "execution_count": 1,
      "outputs": []
    },
    {
      "cell_type": "markdown",
      "source": [
        "**Import libraries**"
      ],
      "metadata": {
        "id": "LDoEypbsd9OD"
      }
    },
    {
      "cell_type": "code",
      "metadata": {
        "id": "JEh0D8DSH1L4",
        "colab": {
          "base_uri": "https://localhost:8080/"
        },
        "outputId": "ea9edfd6-56b5-45ef-bfe4-9d43a0066342"
      },
      "source": [
        "import numpy as np\n",
        "import pandas as pd\n",
        "from sklearn.model_selection import train_test_split\n",
        "from sklearn.utils import shuffle\n",
        "from sklearn.feature_extraction.text import TfidfVectorizer\n",
        "from sklearn.metrics import accuracy_score\n",
        "\n",
        "import keras\n",
        "from keras import optimizers\n",
        "from keras import backend as K\n",
        "from keras import regularizers\n",
        "from keras.models import Sequential\n",
        "from keras.layers import Dense, Activation, Dropout, Flatten\n",
        "from keras.layers import Embedding, Conv1D, MaxPooling1D, GlobalMaxPooling1D\n",
        "from tensorflow.keras.layers import Embedding, LSTM, Dense, Dropout, Bidirectional\n",
        "from keras.utils.vis_utils import plot_model\n",
        "from keras.preprocessing import sequence\n",
        "from keras.preprocessing.text import Tokenizer\n",
        "from keras.callbacks import EarlyStopping\n",
        "from keras.layers import BatchNormalization\n",
        "import tensorflow as tf\n",
        "from tensorflow.keras.optimizers import RMSprop\n",
        "from keras.callbacks import ModelCheckpoint\n",
        "from tensorflow.keras.callbacks import EarlyStopping\n",
        "\n",
        "import string\n",
        "from nltk.corpus import stopwords\n",
        "from nltk import word_tokenize\n",
        "from nltk.stem.porter import PorterStemmer\n",
        "from nltk import pos_tag\n",
        "import nltk\n",
        "nltk.download('stopwords')\n",
        "nltk.download('punkt')\n",
        "\n",
        "from tqdm import tqdm\n",
        "import codecs\n",
        "\n",
        "np.random.seed(0)\n",
        "\n",
        "MAX_NB_WORDS = 100000"
      ],
      "execution_count": 2,
      "outputs": [
        {
          "output_type": "stream",
          "name": "stdout",
          "text": [
            "[nltk_data] Downloading package stopwords to /root/nltk_data...\n",
            "[nltk_data]   Unzipping corpora/stopwords.zip.\n",
            "[nltk_data] Downloading package punkt to /root/nltk_data...\n",
            "[nltk_data]   Unzipping tokenizers/punkt.zip.\n"
          ]
        }
      ]
    },
    {
      "cell_type": "code",
      "source": [
        ""
      ],
      "metadata": {
        "id": "P8dmJYV9eO4i"
      },
      "execution_count": 2,
      "outputs": []
    },
    {
      "cell_type": "markdown",
      "metadata": {
        "id": "OryI3DKE8tr8"
      },
      "source": [
        "**Converting all the words to the embedding index in pre-trained model**"
      ]
    },
    {
      "cell_type": "code",
      "metadata": {
        "id": "IPqS-8FcEN95",
        "colab": {
          "base_uri": "https://localhost:8080/"
        },
        "outputId": "2fe51e7a-9bdf-43a3-9a2f-0575ff08a37d"
      },
      "source": [
        "print('Loading word embeddings..')\n",
        "\n",
        "embeddings_index = {}\n",
        "f = codecs.open('./glove.840B.300d.txt', encoding='utf-8')\n",
        "\n",
        "for line in tqdm(f):\n",
        "    values = line.rstrip().rsplit(' ')\n",
        "    word = values[0]\n",
        "    coefs = np.asarray(values[1:], dtype='float32')\n",
        "    embeddings_index[word] = coefs\n",
        "f.close()"
      ],
      "execution_count": 3,
      "outputs": [
        {
          "output_type": "stream",
          "name": "stdout",
          "text": [
            "Loading word embeddings..\n"
          ]
        },
        {
          "output_type": "stream",
          "name": "stderr",
          "text": [
            "2196018it [04:23, 8342.06it/s]\n"
          ]
        }
      ]
    },
    {
      "cell_type": "code",
      "source": [
        ""
      ],
      "metadata": {
        "id": "X2OknGbSeQ3i"
      },
      "execution_count": 3,
      "outputs": []
    },
    {
      "cell_type": "markdown",
      "source": [
        "**Make a preprocess on the comments to improve quality and remove unneccessary words**\n",
        "1. convert all words to lowercase\n",
        "2. remove punctuations\n",
        "3. tonekize words\n",
        "4. remove stopwords\n",
        "5. use porterStemmer to have stemming words"
      ],
      "metadata": {
        "id": "n7HpKZXMe8_w"
      }
    },
    {
      "cell_type": "code",
      "source": [
        "def nlprocess(dataset):\n",
        "\n",
        "  preprocessed_comments = []\n",
        "  for _, text in dataset.iterrows():\n",
        "\n",
        "      text = text[0]\n",
        "      #Lowercase\n",
        "      text = text.lower()\n",
        "\n",
        "      # Removing Punctuation\n",
        "      text = \"\".join([char for char in text if char not in string.punctuation])\n",
        "\n",
        "      # Word Tokenization\n",
        "      text = word_tokenize(text)\n",
        "\n",
        "      # Stopword Filtering\n",
        "      stop_words = stopwords.words('english')\n",
        "      text = [word for word in text if word not in stop_words]\n",
        "\n",
        "      # Stemming\n",
        "      porter = PorterStemmer()\n",
        "      text = [porter.stem(word) for word in text]\n",
        "\n",
        "      text = ' '.join(text)\n",
        "\n",
        "      preprocessed_comments.append(text)\n",
        "      \n",
        "  return preprocessed_comments"
      ],
      "metadata": {
        "id": "gfJ2dbsJ_nMP"
      },
      "execution_count": 4,
      "outputs": []
    },
    {
      "cell_type": "code",
      "source": [
        "def spliter(datasets):\n",
        "    x_train_datasets, x_test_datasets, y_train_datasets, y_test_datasets = [], [], [], []\n",
        "    print('(train, test):')\n",
        "    for i, dataset in enumerate(datasets):\n",
        "        x_train, x_test = dataset[0], dataset[1]\n",
        "        tr, ts = np.zeros(len(x_train)), np.zeros(len(x_test))\n",
        "        tr[:len(x_train) // 2], ts[:len(x_test) // 2] = 1, 1\n",
        "        y_train, y_test = tr, ts\n",
        "\n",
        "        x_train_datasets.append(nlprocess(x_train))\n",
        "        x_test_datasets.append(nlprocess(x_test))\n",
        "        y_train_datasets.append(y_train)\n",
        "        y_test_datasets.append(y_test)\n",
        "        print(' |_ {}: ({}, {})'.format(datasets_name[i], len(x_train), len(x_test)))\n",
        "    return x_train_datasets, x_test_datasets, y_train_datasets, y_test_datasets"
      ],
      "metadata": {
        "id": "QetfY78V_7kW"
      },
      "execution_count": 5,
      "outputs": []
    },
    {
      "cell_type": "code",
      "metadata": {
        "id": "gXof0wFo6Q8a",
        "colab": {
          "base_uri": "https://localhost:8080/"
        },
        "outputId": "368e031b-e7af-4d18-d9b3-c771b6fef44f"
      },
      "source": [
        "datasets_name = ['Books      ', 'DVD        ', 'Electronics', 'Kitchen    ']\n",
        "\n",
        "# Load data\n",
        "datasets = []\n",
        "\n",
        "books_train = pd.read_csv('./Bookstrain.txt', names=['text'], sep='\\t')\n",
        "books_test = pd.read_csv('./Bookstest.txt', names=['text'], sep='\\t')\n",
        "datasets.append([books_train, books_test])\n",
        "\n",
        "dvd_train = pd.read_csv('./Dvdtrain.txt', names=['text'], sep='\\t')\n",
        "dvd_test = pd.read_csv('./Dvdtest.txt', names=['text'], sep='\\t')\n",
        "datasets.append([dvd_train, dvd_test])\n",
        "\n",
        "electronics_train = pd.read_csv('./Electronicstrain.txt', names=['text'], sep='\\t')\n",
        "electronics_test = pd.read_csv('./Electronicstest.txt', names=['text'], sep='\\t')\n",
        "datasets.append([electronics_train, electronics_test])\n",
        "\n",
        "kitchen_train = pd.read_csv('./Kitchentrain.txt', names=['text'], sep='\\t')\n",
        "kitchen_test = pd.read_csv('./Kitchentest.txt', names=['text'], sep='\\t')\n",
        "datasets.append([kitchen_train, kitchen_test])\n",
        "\n",
        "\n",
        "x_train_datasets, x_test_datasets, y_train_datasets, y_test_datasets = spliter(datasets)"
      ],
      "execution_count": 7,
      "outputs": [
        {
          "output_type": "stream",
          "name": "stdout",
          "text": [
            "(train, test):\n",
            " |_ Books      : (1600, 400)\n",
            " |_ DVD        : (1600, 400)\n",
            " |_ Electronics: (1600, 400)\n",
            " |_ Kitchen    : (1600, 400)\n"
          ]
        }
      ]
    },
    {
      "cell_type": "code",
      "source": [
        ""
      ],
      "metadata": {
        "id": "cxTLPm3seTLy"
      },
      "execution_count": 7,
      "outputs": []
    },
    {
      "cell_type": "markdown",
      "metadata": {
        "id": "a_AOE1b5elSz"
      },
      "source": [
        "**Tokenizing the data with tokenizer from tensorflow**"
      ]
    },
    {
      "cell_type": "code",
      "metadata": {
        "id": "Cc_9P1cEGg5J"
      },
      "source": [
        "def tokenizer(x_train_datasets, x_test_datasets):\n",
        "  word_indices = []\n",
        "  word_seq_trains = []\n",
        "  word_seq_tests = []\n",
        "  max_seq_lens = []\n",
        "\n",
        "  print(\"Dictionary size:\")\n",
        "  for i, (x_tr, x_ts) in enumerate(zip(x_train_datasets, x_test_datasets)):\n",
        "    (x_tr, x_ts) = (pd.DataFrame(x_tr, columns=['text']), pd.DataFrame(x_ts, columns=['text']))\n",
        "    raw_docs_train = x_tr.text.tolist()\n",
        "    raw_docs_test  = x_ts.text.tolist()\n",
        "\n",
        "\n",
        "    processed_docs_train = []\n",
        "    for doc in tqdm(raw_docs_train):\n",
        "        tokens = word_tokenize(doc)\n",
        "        processed_docs_train.append(\" \".join(tokens))\n",
        "\n",
        "    processed_docs_test = []\n",
        "    for doc in tqdm(raw_docs_test):\n",
        "        tokens = word_tokenize(doc)\n",
        "        processed_docs_test.append(\" \".join(tokens))\n",
        "\n",
        "\n",
        "    tokenizer = Tokenizer(num_words=MAX_NB_WORDS, lower=True, char_level=False)\n",
        "    tokenizer.fit_on_texts(processed_docs_train + processed_docs_test)\n",
        "    word_seq_train = tokenizer.texts_to_sequences(processed_docs_train)\n",
        "    word_seq_test  = tokenizer.texts_to_sequences(processed_docs_test)\n",
        "\n",
        "    word_index = tokenizer.word_index\n",
        "    word_indices.append(word_index)\n",
        "    print(\" |_ {}: {}\".format(datasets_name[i], len(word_index)))\n",
        "\n",
        "    x_tr['doc_len'] = x_tr.text.apply(lambda words: len(words.split(' ')))\n",
        "    max_seq_len = np.round(x_tr.doc_len.mean() + x_tr.doc_len.std()).astype(int)\n",
        "    max_seq_lens.append(max_seq_len)\n",
        "    x_tr = x_tr.drop('doc_len', axis=1)\n",
        "    word_seq_trains.append(sequence.pad_sequences(word_seq_train, maxlen=max_seq_len))\n",
        "    word_seq_tests.append(sequence.pad_sequences(word_seq_test, maxlen=max_seq_len))\n",
        "\n",
        "  return word_indices, word_seq_trains, word_seq_tests, max_seq_lens"
      ],
      "execution_count": 8,
      "outputs": []
    },
    {
      "cell_type": "code",
      "source": [
        "word_indices, word_seq_trains, word_seq_tests, max_seq_lens = tokenizer(x_train_datasets, x_test_datasets)"
      ],
      "metadata": {
        "id": "kJsBfc6eBPCH",
        "colab": {
          "base_uri": "https://localhost:8080/"
        },
        "outputId": "190a71de-8af5-4bbf-8c2b-450575dea09d"
      },
      "execution_count": 9,
      "outputs": [
        {
          "output_type": "stream",
          "name": "stdout",
          "text": [
            "Dictionary size:\n"
          ]
        },
        {
          "output_type": "stream",
          "name": "stderr",
          "text": [
            "100%|██████████| 1600/1600 [00:00<00:00, 1687.11it/s]\n",
            "100%|██████████| 400/400 [00:00<00:00, 1768.94it/s]\n"
          ]
        },
        {
          "output_type": "stream",
          "name": "stdout",
          "text": [
            " |_ Books      : 20293\n"
          ]
        },
        {
          "output_type": "stream",
          "name": "stderr",
          "text": [
            "100%|██████████| 1600/1600 [00:00<00:00, 1722.84it/s]\n",
            "100%|██████████| 400/400 [00:00<00:00, 1831.83it/s]\n"
          ]
        },
        {
          "output_type": "stream",
          "name": "stdout",
          "text": [
            " |_ DVD        : 21192\n"
          ]
        },
        {
          "output_type": "stream",
          "name": "stderr",
          "text": [
            "100%|██████████| 1600/1600 [00:00<00:00, 2832.74it/s]\n",
            "100%|██████████| 400/400 [00:00<00:00, 2683.15it/s]\n"
          ]
        },
        {
          "output_type": "stream",
          "name": "stdout",
          "text": [
            " |_ Electronics: 11679\n"
          ]
        },
        {
          "output_type": "stream",
          "name": "stderr",
          "text": [
            "100%|██████████| 1600/1600 [00:00<00:00, 3389.07it/s]\n",
            "100%|██████████| 400/400 [00:00<00:00, 3397.30it/s]\n"
          ]
        },
        {
          "output_type": "stream",
          "name": "stdout",
          "text": [
            " |_ Kitchen    : 9011\n"
          ]
        }
      ]
    },
    {
      "cell_type": "code",
      "source": [
        ""
      ],
      "metadata": {
        "id": "_6k8V1MteYP7"
      },
      "execution_count": null,
      "outputs": []
    },
    {
      "cell_type": "markdown",
      "metadata": {
        "id": "IpGENGlOtQs1"
      },
      "source": [
        "###**Shape and Train with LSTM**"
      ]
    },
    {
      "cell_type": "markdown",
      "metadata": {
        "id": "Nyj7gwQKexxy"
      },
      "source": [
        "**defining variables that used on training**"
      ]
    },
    {
      "cell_type": "code",
      "metadata": {
        "id": "PSZ3krGMG303"
      },
      "source": [
        "# Training params\n",
        "batch_size = 256 \n",
        "num_epochs = 40\n",
        "\n",
        "# Model params\n",
        "num_filters = 64 \n",
        "embed_dim = 300 \n",
        "weight_decay = 1e-4"
      ],
      "execution_count": 10,
      "outputs": []
    },
    {
      "cell_type": "markdown",
      "metadata": {
        "id": "fZ6AlbhZe4Ky"
      },
      "source": [
        "**All words that arent in the pre-trained model from fasttext would be changed to 0. These words are basically the ones with names, and mostly dont matter so much to the pattern. so its nicer to just weights it 0.**"
      ]
    },
    {
      "cell_type": "code",
      "metadata": {
        "id": "8SJbfuJPJEDC"
      },
      "source": [
        "# Embedding matrix\n",
        "def embd_matrix(word_indices):\n",
        "  nb_words_list = []\n",
        "  embedding_matrices = []\n",
        "  print('Preparing embedding matrix..')\n",
        "  print(' Number of null word embeddings:')\n",
        "  for j, word_index in enumerate(word_indices):\n",
        "    words_not_found = []\n",
        "    nb_words = min(MAX_NB_WORDS, len(word_index) + 1)\n",
        "    nb_words_list.append(nb_words)\n",
        "    embedding_matrix = np.zeros((nb_words, embed_dim))\n",
        "\n",
        "    for word, i in word_index.items():\n",
        "        if i >= nb_words:\n",
        "            continue\n",
        "        embedding_vector = embeddings_index.get(word)\n",
        "        if (embedding_vector is not None) and len(embedding_vector) > 0:\n",
        "            embedding_matrix[i] = embedding_vector\n",
        "        else:\n",
        "            words_not_found.append(word)\n",
        "    \n",
        "    embedding_matrices.append(embedding_matrix)\n",
        "    print('  |_ {}: {}'.format(datasets_name[j], np.sum(np.sum(embedding_matrix, axis=1) == 0)))\n",
        "    print(\"     some of not-found words: {}\".format(np.random.choice(words_not_found, 3)))\n",
        "  \n",
        "  return nb_words_list, embedding_matrices"
      ],
      "execution_count": 11,
      "outputs": []
    },
    {
      "cell_type": "code",
      "metadata": {
        "id": "S_pjm-7BJGuP",
        "colab": {
          "base_uri": "https://localhost:8080/"
        },
        "outputId": "ce658823-c8de-4018-f4fc-0e9d6ca667c2"
      },
      "source": [
        "nb_words_list, embedding_matrices = embd_matrix(word_indices)"
      ],
      "execution_count": 12,
      "outputs": [
        {
          "output_type": "stream",
          "name": "stdout",
          "text": [
            "Preparing embedding matrix..\n",
            " Number of null word embeddings:\n",
            "  |_ Books      : 8904\n",
            "     some of not-found words: ['ellroy' 'facad' 'lovemap']\n",
            "  |_ DVD        : 9368\n",
            "     some of not-found words: ['insteadaft' 'doofusesand' 'gravelli']\n",
            "  |_ Electronics: 5029\n",
            "     some of not-found words: ['nonintuit' 'soundgrant' 'lowerneed']\n",
            "  |_ Kitchen    : 3420\n",
            "     some of not-found words: ['quicklyy' 'mistur' 'misquot']\n"
          ]
        }
      ]
    },
    {
      "cell_type": "markdown",
      "source": [
        "**Cool :)))**"
      ],
      "metadata": {
        "id": "YPQCCaKj13lZ"
      }
    },
    {
      "cell_type": "code",
      "source": [
        ""
      ],
      "metadata": {
        "id": "72T_QAwuebgE"
      },
      "execution_count": 12,
      "outputs": []
    },
    {
      "cell_type": "markdown",
      "metadata": {
        "id": "SUBAkn22ga48"
      },
      "source": [
        "**Now, lets start training!**"
      ]
    },
    {
      "cell_type": "code",
      "metadata": {
        "id": "xpX2AFhKJJsh"
      },
      "source": [
        "def glove_trainer(embedding_matrices, nb_words_list, max_seq_lens, y_train_datasets, word_seq_trains):\n",
        "  models = []\n",
        "  \n",
        "  for i, (embedding_matrix, nb_words, max_seq_len, y_train, word_seq_train) in enumerate(zip(embedding_matrices, nb_words_list, max_seq_lens, y_train_datasets, word_seq_trains)):\n",
        "\n",
        "    model = tf.keras.Sequential()\n",
        "\n",
        "    model.add(Embedding(nb_words, embed_dim, input_length=max_seq_len, weights=[embedding_matrix], trainable=False))\n",
        "    model.add(Bidirectional(LSTM(32)))\n",
        "    model.add(Dense(32,activation='relu'))\n",
        "    model.add(Dropout(0.4))\n",
        "    model.add(Dense(1,activation='sigmoid'))\n",
        "\n",
        "    print('\\n\\n****************************   {}   ************************'.format(datasets_name[i]))\n",
        "    model.summary()\n",
        "\n",
        "    model.compile(loss='binary_crossentropy', optimizer='adam', metrics=['accuracy'])\n",
        "\n",
        "    es_callback = EarlyStopping(monitor='val_loss', patience=3)\n",
        "    model.fit(word_seq_train, y_train, batch_size=256, epochs=num_epochs, callbacks=[es_callback], shuffle=False)\n",
        "\n",
        "    models.append(model)\n",
        "    keras.backend.clear_session()\n",
        "  return models"
      ],
      "execution_count": 13,
      "outputs": []
    },
    {
      "cell_type": "code",
      "source": [
        "models = glove_trainer(embedding_matrices, nb_words_list, max_seq_lens, y_train_datasets, word_seq_trains)"
      ],
      "metadata": {
        "colab": {
          "base_uri": "https://localhost:8080/"
        },
        "id": "B9oADMCL4lmj",
        "outputId": "7e4499b3-396f-4061-d66c-9e8dd2d25e2c"
      },
      "execution_count": 14,
      "outputs": [
        {
          "output_type": "stream",
          "name": "stdout",
          "text": [
            "\n",
            "\n",
            "****************************   Books         ************************\n",
            "Model: \"sequential\"\n",
            "_________________________________________________________________\n",
            " Layer (type)                Output Shape              Param #   \n",
            "=================================================================\n",
            " embedding (Embedding)       (None, 323, 300)          6088200   \n",
            "                                                                 \n",
            " bidirectional (Bidirectiona  (None, 64)               85248     \n",
            " l)                                                              \n",
            "                                                                 \n",
            " dense (Dense)               (None, 32)                2080      \n",
            "                                                                 \n",
            " dropout (Dropout)           (None, 32)                0         \n",
            "                                                                 \n",
            " dense_1 (Dense)             (None, 1)                 33        \n",
            "                                                                 \n",
            "=================================================================\n",
            "Total params: 6,175,561\n",
            "Trainable params: 87,361\n",
            "Non-trainable params: 6,088,200\n",
            "_________________________________________________________________\n",
            "Epoch 1/40\n",
            "7/7 [==============================] - ETA: 0s - loss: 0.7515 - accuracy: 0.3550WARNING:tensorflow:Early stopping conditioned on metric `val_loss` which is not available. Available metrics are: loss,accuracy\n",
            "7/7 [==============================] - 12s 1s/step - loss: 0.7515 - accuracy: 0.3550\n",
            "Epoch 2/40\n",
            "7/7 [==============================] - ETA: 0s - loss: 0.6874 - accuracy: 0.5231WARNING:tensorflow:Early stopping conditioned on metric `val_loss` which is not available. Available metrics are: loss,accuracy\n",
            "7/7 [==============================] - 7s 982ms/step - loss: 0.6874 - accuracy: 0.5231\n",
            "Epoch 3/40\n",
            "7/7 [==============================] - ETA: 0s - loss: 0.6798 - accuracy: 0.5838WARNING:tensorflow:Early stopping conditioned on metric `val_loss` which is not available. Available metrics are: loss,accuracy\n",
            "7/7 [==============================] - 7s 979ms/step - loss: 0.6798 - accuracy: 0.5838\n",
            "Epoch 4/40\n",
            "7/7 [==============================] - ETA: 0s - loss: 0.6745 - accuracy: 0.6231WARNING:tensorflow:Early stopping conditioned on metric `val_loss` which is not available. Available metrics are: loss,accuracy\n",
            "7/7 [==============================] - 7s 963ms/step - loss: 0.6745 - accuracy: 0.6231\n",
            "Epoch 5/40\n",
            "7/7 [==============================] - ETA: 0s - loss: 0.6698 - accuracy: 0.6400WARNING:tensorflow:Early stopping conditioned on metric `val_loss` which is not available. Available metrics are: loss,accuracy\n",
            "7/7 [==============================] - 7s 984ms/step - loss: 0.6698 - accuracy: 0.6400\n",
            "Epoch 6/40\n",
            "7/7 [==============================] - ETA: 0s - loss: 0.6685 - accuracy: 0.6281WARNING:tensorflow:Early stopping conditioned on metric `val_loss` which is not available. Available metrics are: loss,accuracy\n",
            "7/7 [==============================] - 7s 970ms/step - loss: 0.6685 - accuracy: 0.6281\n",
            "Epoch 7/40\n",
            "7/7 [==============================] - ETA: 0s - loss: 0.6615 - accuracy: 0.6319WARNING:tensorflow:Early stopping conditioned on metric `val_loss` which is not available. Available metrics are: loss,accuracy\n",
            "7/7 [==============================] - 7s 963ms/step - loss: 0.6615 - accuracy: 0.6319\n",
            "Epoch 8/40\n",
            "7/7 [==============================] - ETA: 0s - loss: 0.6570 - accuracy: 0.6094WARNING:tensorflow:Early stopping conditioned on metric `val_loss` which is not available. Available metrics are: loss,accuracy\n",
            "7/7 [==============================] - 7s 970ms/step - loss: 0.6570 - accuracy: 0.6094\n",
            "Epoch 9/40\n",
            "7/7 [==============================] - ETA: 0s - loss: 0.6514 - accuracy: 0.6162WARNING:tensorflow:Early stopping conditioned on metric `val_loss` which is not available. Available metrics are: loss,accuracy\n",
            "7/7 [==============================] - 8s 1s/step - loss: 0.6514 - accuracy: 0.6162\n",
            "Epoch 10/40\n",
            "7/7 [==============================] - ETA: 0s - loss: 0.6428 - accuracy: 0.6406WARNING:tensorflow:Early stopping conditioned on metric `val_loss` which is not available. Available metrics are: loss,accuracy\n",
            "7/7 [==============================] - 8s 1s/step - loss: 0.6428 - accuracy: 0.6406\n",
            "Epoch 11/40\n",
            "7/7 [==============================] - ETA: 0s - loss: 0.6304 - accuracy: 0.6562WARNING:tensorflow:Early stopping conditioned on metric `val_loss` which is not available. Available metrics are: loss,accuracy\n",
            "7/7 [==============================] - 7s 968ms/step - loss: 0.6304 - accuracy: 0.6562\n",
            "Epoch 12/40\n",
            "7/7 [==============================] - ETA: 0s - loss: 0.6161 - accuracy: 0.6756WARNING:tensorflow:Early stopping conditioned on metric `val_loss` which is not available. Available metrics are: loss,accuracy\n",
            "7/7 [==============================] - 7s 1s/step - loss: 0.6161 - accuracy: 0.6756\n",
            "Epoch 13/40\n",
            "7/7 [==============================] - ETA: 0s - loss: 0.6021 - accuracy: 0.6931WARNING:tensorflow:Early stopping conditioned on metric `val_loss` which is not available. Available metrics are: loss,accuracy\n",
            "7/7 [==============================] - 7s 966ms/step - loss: 0.6021 - accuracy: 0.6931\n",
            "Epoch 14/40\n",
            "7/7 [==============================] - ETA: 0s - loss: 0.5940 - accuracy: 0.6969WARNING:tensorflow:Early stopping conditioned on metric `val_loss` which is not available. Available metrics are: loss,accuracy\n",
            "7/7 [==============================] - 7s 969ms/step - loss: 0.5940 - accuracy: 0.6969\n",
            "Epoch 15/40\n",
            "7/7 [==============================] - ETA: 0s - loss: 0.5772 - accuracy: 0.7069WARNING:tensorflow:Early stopping conditioned on metric `val_loss` which is not available. Available metrics are: loss,accuracy\n",
            "7/7 [==============================] - 7s 976ms/step - loss: 0.5772 - accuracy: 0.7069\n",
            "Epoch 16/40\n",
            "7/7 [==============================] - ETA: 0s - loss: 0.5650 - accuracy: 0.7206WARNING:tensorflow:Early stopping conditioned on metric `val_loss` which is not available. Available metrics are: loss,accuracy\n",
            "7/7 [==============================] - 7s 971ms/step - loss: 0.5650 - accuracy: 0.7206\n",
            "Epoch 17/40\n",
            "7/7 [==============================] - ETA: 0s - loss: 0.5406 - accuracy: 0.7450WARNING:tensorflow:Early stopping conditioned on metric `val_loss` which is not available. Available metrics are: loss,accuracy\n",
            "7/7 [==============================] - 7s 968ms/step - loss: 0.5406 - accuracy: 0.7450\n",
            "Epoch 18/40\n",
            "7/7 [==============================] - ETA: 0s - loss: 0.5182 - accuracy: 0.7538WARNING:tensorflow:Early stopping conditioned on metric `val_loss` which is not available. Available metrics are: loss,accuracy\n",
            "7/7 [==============================] - 7s 958ms/step - loss: 0.5182 - accuracy: 0.7538\n",
            "Epoch 19/40\n",
            "7/7 [==============================] - ETA: 0s - loss: 0.5069 - accuracy: 0.7588WARNING:tensorflow:Early stopping conditioned on metric `val_loss` which is not available. Available metrics are: loss,accuracy\n",
            "7/7 [==============================] - 7s 948ms/step - loss: 0.5069 - accuracy: 0.7588\n",
            "Epoch 20/40\n",
            "7/7 [==============================] - ETA: 0s - loss: 0.4882 - accuracy: 0.7763WARNING:tensorflow:Early stopping conditioned on metric `val_loss` which is not available. Available metrics are: loss,accuracy\n",
            "7/7 [==============================] - 7s 970ms/step - loss: 0.4882 - accuracy: 0.7763\n",
            "Epoch 21/40\n",
            "7/7 [==============================] - ETA: 0s - loss: 0.4640 - accuracy: 0.7862WARNING:tensorflow:Early stopping conditioned on metric `val_loss` which is not available. Available metrics are: loss,accuracy\n",
            "7/7 [==============================] - 7s 966ms/step - loss: 0.4640 - accuracy: 0.7862\n",
            "Epoch 22/40\n",
            "7/7 [==============================] - ETA: 0s - loss: 0.4618 - accuracy: 0.7900WARNING:tensorflow:Early stopping conditioned on metric `val_loss` which is not available. Available metrics are: loss,accuracy\n",
            "7/7 [==============================] - 7s 959ms/step - loss: 0.4618 - accuracy: 0.7900\n",
            "Epoch 23/40\n",
            "7/7 [==============================] - ETA: 0s - loss: 0.4205 - accuracy: 0.8181WARNING:tensorflow:Early stopping conditioned on metric `val_loss` which is not available. Available metrics are: loss,accuracy\n",
            "7/7 [==============================] - 7s 969ms/step - loss: 0.4205 - accuracy: 0.8181\n",
            "Epoch 24/40\n",
            "7/7 [==============================] - ETA: 0s - loss: 0.4315 - accuracy: 0.8094WARNING:tensorflow:Early stopping conditioned on metric `val_loss` which is not available. Available metrics are: loss,accuracy\n",
            "7/7 [==============================] - 7s 975ms/step - loss: 0.4315 - accuracy: 0.8094\n",
            "Epoch 25/40\n",
            "7/7 [==============================] - ETA: 0s - loss: 0.3956 - accuracy: 0.8325WARNING:tensorflow:Early stopping conditioned on metric `val_loss` which is not available. Available metrics are: loss,accuracy\n",
            "7/7 [==============================] - 7s 969ms/step - loss: 0.3956 - accuracy: 0.8325\n",
            "Epoch 26/40\n",
            "7/7 [==============================] - ETA: 0s - loss: 0.3981 - accuracy: 0.8369WARNING:tensorflow:Early stopping conditioned on metric `val_loss` which is not available. Available metrics are: loss,accuracy\n",
            "7/7 [==============================] - 7s 980ms/step - loss: 0.3981 - accuracy: 0.8369\n",
            "Epoch 27/40\n",
            "7/7 [==============================] - ETA: 0s - loss: 0.3716 - accuracy: 0.8469WARNING:tensorflow:Early stopping conditioned on metric `val_loss` which is not available. Available metrics are: loss,accuracy\n",
            "7/7 [==============================] - 7s 974ms/step - loss: 0.3716 - accuracy: 0.8469\n",
            "Epoch 28/40\n",
            "7/7 [==============================] - ETA: 0s - loss: 0.3636 - accuracy: 0.8469WARNING:tensorflow:Early stopping conditioned on metric `val_loss` which is not available. Available metrics are: loss,accuracy\n",
            "7/7 [==============================] - 7s 1s/step - loss: 0.3636 - accuracy: 0.8469\n",
            "Epoch 29/40\n",
            "7/7 [==============================] - ETA: 0s - loss: 0.3370 - accuracy: 0.8694WARNING:tensorflow:Early stopping conditioned on metric `val_loss` which is not available. Available metrics are: loss,accuracy\n",
            "7/7 [==============================] - 7s 968ms/step - loss: 0.3370 - accuracy: 0.8694\n",
            "Epoch 30/40\n",
            "7/7 [==============================] - ETA: 0s - loss: 0.3311 - accuracy: 0.8650WARNING:tensorflow:Early stopping conditioned on metric `val_loss` which is not available. Available metrics are: loss,accuracy\n",
            "7/7 [==============================] - 7s 1s/step - loss: 0.3311 - accuracy: 0.8650\n",
            "Epoch 31/40\n",
            "7/7 [==============================] - ETA: 0s - loss: 0.3092 - accuracy: 0.8781WARNING:tensorflow:Early stopping conditioned on metric `val_loss` which is not available. Available metrics are: loss,accuracy\n",
            "7/7 [==============================] - 7s 978ms/step - loss: 0.3092 - accuracy: 0.8781\n",
            "Epoch 32/40\n",
            "7/7 [==============================] - ETA: 0s - loss: 0.3076 - accuracy: 0.8819WARNING:tensorflow:Early stopping conditioned on metric `val_loss` which is not available. Available metrics are: loss,accuracy\n",
            "7/7 [==============================] - 7s 1s/step - loss: 0.3076 - accuracy: 0.8819\n",
            "Epoch 33/40\n",
            "7/7 [==============================] - ETA: 0s - loss: 0.2811 - accuracy: 0.8950WARNING:tensorflow:Early stopping conditioned on metric `val_loss` which is not available. Available metrics are: loss,accuracy\n",
            "7/7 [==============================] - 7s 970ms/step - loss: 0.2811 - accuracy: 0.8950\n",
            "Epoch 34/40\n",
            "7/7 [==============================] - ETA: 0s - loss: 0.2636 - accuracy: 0.9094WARNING:tensorflow:Early stopping conditioned on metric `val_loss` which is not available. Available metrics are: loss,accuracy\n",
            "7/7 [==============================] - 7s 980ms/step - loss: 0.2636 - accuracy: 0.9094\n",
            "Epoch 35/40\n",
            "7/7 [==============================] - ETA: 0s - loss: 0.2385 - accuracy: 0.9206WARNING:tensorflow:Early stopping conditioned on metric `val_loss` which is not available. Available metrics are: loss,accuracy\n",
            "7/7 [==============================] - 7s 964ms/step - loss: 0.2385 - accuracy: 0.9206\n",
            "Epoch 36/40\n",
            "7/7 [==============================] - ETA: 0s - loss: 0.2312 - accuracy: 0.9162WARNING:tensorflow:Early stopping conditioned on metric `val_loss` which is not available. Available metrics are: loss,accuracy\n",
            "7/7 [==============================] - 7s 977ms/step - loss: 0.2312 - accuracy: 0.9162\n",
            "Epoch 37/40\n",
            "7/7 [==============================] - ETA: 0s - loss: 0.2037 - accuracy: 0.9331WARNING:tensorflow:Early stopping conditioned on metric `val_loss` which is not available. Available metrics are: loss,accuracy\n",
            "7/7 [==============================] - 7s 953ms/step - loss: 0.2037 - accuracy: 0.9331\n",
            "Epoch 38/40\n",
            "7/7 [==============================] - ETA: 0s - loss: 0.2127 - accuracy: 0.9212WARNING:tensorflow:Early stopping conditioned on metric `val_loss` which is not available. Available metrics are: loss,accuracy\n",
            "7/7 [==============================] - 7s 959ms/step - loss: 0.2127 - accuracy: 0.9212\n",
            "Epoch 39/40\n",
            "7/7 [==============================] - ETA: 0s - loss: 0.1821 - accuracy: 0.9419WARNING:tensorflow:Early stopping conditioned on metric `val_loss` which is not available. Available metrics are: loss,accuracy\n",
            "7/7 [==============================] - 7s 986ms/step - loss: 0.1821 - accuracy: 0.9419\n",
            "Epoch 40/40\n",
            "7/7 [==============================] - ETA: 0s - loss: 0.1686 - accuracy: 0.9438WARNING:tensorflow:Early stopping conditioned on metric `val_loss` which is not available. Available metrics are: loss,accuracy\n",
            "7/7 [==============================] - 7s 967ms/step - loss: 0.1686 - accuracy: 0.9438\n",
            "\n",
            "\n",
            "****************************   DVD           ************************\n",
            "Model: \"sequential\"\n",
            "_________________________________________________________________\n",
            " Layer (type)                Output Shape              Param #   \n",
            "=================================================================\n",
            " embedding (Embedding)       (None, 316, 300)          6357900   \n",
            "                                                                 \n",
            " bidirectional (Bidirectiona  (None, 64)               85248     \n",
            " l)                                                              \n",
            "                                                                 \n",
            " dense (Dense)               (None, 32)                2080      \n",
            "                                                                 \n",
            " dropout (Dropout)           (None, 32)                0         \n",
            "                                                                 \n",
            " dense_1 (Dense)             (None, 1)                 33        \n",
            "                                                                 \n",
            "=================================================================\n",
            "Total params: 6,445,261\n",
            "Trainable params: 87,361\n",
            "Non-trainable params: 6,357,900\n",
            "_________________________________________________________________\n",
            "Epoch 1/40\n",
            "7/7 [==============================] - ETA: 0s - loss: 0.7508 - accuracy: 0.4181WARNING:tensorflow:Early stopping conditioned on metric `val_loss` which is not available. Available metrics are: loss,accuracy\n",
            "7/7 [==============================] - 11s 1s/step - loss: 0.7508 - accuracy: 0.4181\n",
            "Epoch 2/40\n",
            "7/7 [==============================] - ETA: 0s - loss: 0.6882 - accuracy: 0.5125WARNING:tensorflow:Early stopping conditioned on metric `val_loss` which is not available. Available metrics are: loss,accuracy\n",
            "7/7 [==============================] - 7s 949ms/step - loss: 0.6882 - accuracy: 0.5125\n",
            "Epoch 3/40\n",
            "7/7 [==============================] - ETA: 0s - loss: 0.6802 - accuracy: 0.5350WARNING:tensorflow:Early stopping conditioned on metric `val_loss` which is not available. Available metrics are: loss,accuracy\n",
            "7/7 [==============================] - 7s 944ms/step - loss: 0.6802 - accuracy: 0.5350\n",
            "Epoch 4/40\n",
            "7/7 [==============================] - ETA: 0s - loss: 0.6754 - accuracy: 0.5806WARNING:tensorflow:Early stopping conditioned on metric `val_loss` which is not available. Available metrics are: loss,accuracy\n",
            "7/7 [==============================] - 7s 1s/step - loss: 0.6754 - accuracy: 0.5806\n",
            "Epoch 5/40\n",
            "7/7 [==============================] - ETA: 0s - loss: 0.6733 - accuracy: 0.6156WARNING:tensorflow:Early stopping conditioned on metric `val_loss` which is not available. Available metrics are: loss,accuracy\n",
            "7/7 [==============================] - 7s 992ms/step - loss: 0.6733 - accuracy: 0.6156\n",
            "Epoch 6/40\n",
            "7/7 [==============================] - ETA: 0s - loss: 0.6673 - accuracy: 0.6419WARNING:tensorflow:Early stopping conditioned on metric `val_loss` which is not available. Available metrics are: loss,accuracy\n",
            "7/7 [==============================] - 7s 933ms/step - loss: 0.6673 - accuracy: 0.6419\n",
            "Epoch 7/40\n",
            "7/7 [==============================] - ETA: 0s - loss: 0.6640 - accuracy: 0.6338WARNING:tensorflow:Early stopping conditioned on metric `val_loss` which is not available. Available metrics are: loss,accuracy\n",
            "7/7 [==============================] - 7s 948ms/step - loss: 0.6640 - accuracy: 0.6338\n",
            "Epoch 8/40\n",
            "7/7 [==============================] - ETA: 0s - loss: 0.6549 - accuracy: 0.6600WARNING:tensorflow:Early stopping conditioned on metric `val_loss` which is not available. Available metrics are: loss,accuracy\n",
            "7/7 [==============================] - 7s 934ms/step - loss: 0.6549 - accuracy: 0.6600\n",
            "Epoch 9/40\n",
            "7/7 [==============================] - ETA: 0s - loss: 0.6457 - accuracy: 0.6687WARNING:tensorflow:Early stopping conditioned on metric `val_loss` which is not available. Available metrics are: loss,accuracy\n",
            "7/7 [==============================] - 7s 990ms/step - loss: 0.6457 - accuracy: 0.6687\n",
            "Epoch 10/40\n",
            "7/7 [==============================] - ETA: 0s - loss: 0.6353 - accuracy: 0.6744WARNING:tensorflow:Early stopping conditioned on metric `val_loss` which is not available. Available metrics are: loss,accuracy\n",
            "7/7 [==============================] - 7s 957ms/step - loss: 0.6353 - accuracy: 0.6744\n",
            "Epoch 11/40\n",
            "7/7 [==============================] - ETA: 0s - loss: 0.6253 - accuracy: 0.6950WARNING:tensorflow:Early stopping conditioned on metric `val_loss` which is not available. Available metrics are: loss,accuracy\n",
            "7/7 [==============================] - 7s 940ms/step - loss: 0.6253 - accuracy: 0.6950\n",
            "Epoch 12/40\n",
            "7/7 [==============================] - ETA: 0s - loss: 0.6121 - accuracy: 0.6944WARNING:tensorflow:Early stopping conditioned on metric `val_loss` which is not available. Available metrics are: loss,accuracy\n",
            "7/7 [==============================] - 7s 948ms/step - loss: 0.6121 - accuracy: 0.6944\n",
            "Epoch 13/40\n",
            "7/7 [==============================] - ETA: 0s - loss: 0.5976 - accuracy: 0.7006WARNING:tensorflow:Early stopping conditioned on metric `val_loss` which is not available. Available metrics are: loss,accuracy\n",
            "7/7 [==============================] - 7s 960ms/step - loss: 0.5976 - accuracy: 0.7006\n",
            "Epoch 14/40\n",
            "7/7 [==============================] - ETA: 0s - loss: 0.5915 - accuracy: 0.7119WARNING:tensorflow:Early stopping conditioned on metric `val_loss` which is not available. Available metrics are: loss,accuracy\n",
            "7/7 [==============================] - 7s 953ms/step - loss: 0.5915 - accuracy: 0.7119\n",
            "Epoch 15/40\n",
            "7/7 [==============================] - ETA: 0s - loss: 0.5680 - accuracy: 0.7212WARNING:tensorflow:Early stopping conditioned on metric `val_loss` which is not available. Available metrics are: loss,accuracy\n",
            "7/7 [==============================] - 7s 957ms/step - loss: 0.5680 - accuracy: 0.7212\n",
            "Epoch 16/40\n",
            "7/7 [==============================] - ETA: 0s - loss: 0.5482 - accuracy: 0.7412WARNING:tensorflow:Early stopping conditioned on metric `val_loss` which is not available. Available metrics are: loss,accuracy\n",
            "7/7 [==============================] - 7s 938ms/step - loss: 0.5482 - accuracy: 0.7412\n",
            "Epoch 17/40\n",
            "7/7 [==============================] - ETA: 0s - loss: 0.5372 - accuracy: 0.7469WARNING:tensorflow:Early stopping conditioned on metric `val_loss` which is not available. Available metrics are: loss,accuracy\n",
            "7/7 [==============================] - 7s 942ms/step - loss: 0.5372 - accuracy: 0.7469\n",
            "Epoch 18/40\n",
            "7/7 [==============================] - ETA: 0s - loss: 0.5166 - accuracy: 0.7675WARNING:tensorflow:Early stopping conditioned on metric `val_loss` which is not available. Available metrics are: loss,accuracy\n",
            "7/7 [==============================] - 7s 946ms/step - loss: 0.5166 - accuracy: 0.7675\n",
            "Epoch 19/40\n",
            "7/7 [==============================] - ETA: 0s - loss: 0.5002 - accuracy: 0.7644WARNING:tensorflow:Early stopping conditioned on metric `val_loss` which is not available. Available metrics are: loss,accuracy\n",
            "7/7 [==============================] - 7s 971ms/step - loss: 0.5002 - accuracy: 0.7644\n",
            "Epoch 20/40\n",
            "7/7 [==============================] - ETA: 0s - loss: 0.4774 - accuracy: 0.7831WARNING:tensorflow:Early stopping conditioned on metric `val_loss` which is not available. Available metrics are: loss,accuracy\n",
            "7/7 [==============================] - 7s 938ms/step - loss: 0.4774 - accuracy: 0.7831\n",
            "Epoch 21/40\n",
            "7/7 [==============================] - ETA: 0s - loss: 0.4634 - accuracy: 0.7819WARNING:tensorflow:Early stopping conditioned on metric `val_loss` which is not available. Available metrics are: loss,accuracy\n",
            "7/7 [==============================] - 7s 952ms/step - loss: 0.4634 - accuracy: 0.7819\n",
            "Epoch 22/40\n",
            "7/7 [==============================] - ETA: 0s - loss: 0.4405 - accuracy: 0.8037WARNING:tensorflow:Early stopping conditioned on metric `val_loss` which is not available. Available metrics are: loss,accuracy\n",
            "7/7 [==============================] - 7s 946ms/step - loss: 0.4405 - accuracy: 0.8037\n",
            "Epoch 23/40\n",
            "7/7 [==============================] - ETA: 0s - loss: 0.4391 - accuracy: 0.7969WARNING:tensorflow:Early stopping conditioned on metric `val_loss` which is not available. Available metrics are: loss,accuracy\n",
            "7/7 [==============================] - 7s 942ms/step - loss: 0.4391 - accuracy: 0.7969\n",
            "Epoch 24/40\n",
            "7/7 [==============================] - ETA: 0s - loss: 0.4073 - accuracy: 0.8225WARNING:tensorflow:Early stopping conditioned on metric `val_loss` which is not available. Available metrics are: loss,accuracy\n",
            "7/7 [==============================] - 7s 938ms/step - loss: 0.4073 - accuracy: 0.8225\n",
            "Epoch 25/40\n",
            "7/7 [==============================] - ETA: 0s - loss: 0.4231 - accuracy: 0.8181WARNING:tensorflow:Early stopping conditioned on metric `val_loss` which is not available. Available metrics are: loss,accuracy\n",
            "7/7 [==============================] - 7s 933ms/step - loss: 0.4231 - accuracy: 0.8181\n",
            "Epoch 26/40\n",
            "7/7 [==============================] - ETA: 0s - loss: 0.3683 - accuracy: 0.8550WARNING:tensorflow:Early stopping conditioned on metric `val_loss` which is not available. Available metrics are: loss,accuracy\n",
            "7/7 [==============================] - 7s 932ms/step - loss: 0.3683 - accuracy: 0.8550\n",
            "Epoch 27/40\n",
            "7/7 [==============================] - ETA: 0s - loss: 0.3770 - accuracy: 0.8406WARNING:tensorflow:Early stopping conditioned on metric `val_loss` which is not available. Available metrics are: loss,accuracy\n",
            "7/7 [==============================] - 7s 944ms/step - loss: 0.3770 - accuracy: 0.8406\n",
            "Epoch 28/40\n",
            "7/7 [==============================] - ETA: 0s - loss: 0.3653 - accuracy: 0.8525WARNING:tensorflow:Early stopping conditioned on metric `val_loss` which is not available. Available metrics are: loss,accuracy\n",
            "7/7 [==============================] - 7s 934ms/step - loss: 0.3653 - accuracy: 0.8525\n",
            "Epoch 29/40\n",
            "7/7 [==============================] - ETA: 0s - loss: 0.3360 - accuracy: 0.8650WARNING:tensorflow:Early stopping conditioned on metric `val_loss` which is not available. Available metrics are: loss,accuracy\n",
            "7/7 [==============================] - 7s 933ms/step - loss: 0.3360 - accuracy: 0.8650\n",
            "Epoch 30/40\n",
            "7/7 [==============================] - ETA: 0s - loss: 0.3310 - accuracy: 0.8612WARNING:tensorflow:Early stopping conditioned on metric `val_loss` which is not available. Available metrics are: loss,accuracy\n",
            "7/7 [==============================] - 7s 938ms/step - loss: 0.3310 - accuracy: 0.8612\n",
            "Epoch 31/40\n",
            "7/7 [==============================] - ETA: 0s - loss: 0.3100 - accuracy: 0.8763WARNING:tensorflow:Early stopping conditioned on metric `val_loss` which is not available. Available metrics are: loss,accuracy\n",
            "7/7 [==============================] - 7s 938ms/step - loss: 0.3100 - accuracy: 0.8763\n",
            "Epoch 32/40\n",
            "7/7 [==============================] - ETA: 0s - loss: 0.2907 - accuracy: 0.8863WARNING:tensorflow:Early stopping conditioned on metric `val_loss` which is not available. Available metrics are: loss,accuracy\n",
            "7/7 [==============================] - 7s 946ms/step - loss: 0.2907 - accuracy: 0.8863\n",
            "Epoch 33/40\n",
            "7/7 [==============================] - ETA: 0s - loss: 0.2873 - accuracy: 0.8863WARNING:tensorflow:Early stopping conditioned on metric `val_loss` which is not available. Available metrics are: loss,accuracy\n",
            "7/7 [==============================] - 7s 997ms/step - loss: 0.2873 - accuracy: 0.8863\n",
            "Epoch 34/40\n",
            "7/7 [==============================] - ETA: 0s - loss: 0.2619 - accuracy: 0.8981WARNING:tensorflow:Early stopping conditioned on metric `val_loss` which is not available. Available metrics are: loss,accuracy\n",
            "7/7 [==============================] - 7s 935ms/step - loss: 0.2619 - accuracy: 0.8981\n",
            "Epoch 35/40\n",
            "7/7 [==============================] - ETA: 0s - loss: 0.2596 - accuracy: 0.8944WARNING:tensorflow:Early stopping conditioned on metric `val_loss` which is not available. Available metrics are: loss,accuracy\n",
            "7/7 [==============================] - 7s 947ms/step - loss: 0.2596 - accuracy: 0.8944\n",
            "Epoch 36/40\n",
            "7/7 [==============================] - ETA: 0s - loss: 0.2443 - accuracy: 0.9038WARNING:tensorflow:Early stopping conditioned on metric `val_loss` which is not available. Available metrics are: loss,accuracy\n",
            "7/7 [==============================] - 7s 944ms/step - loss: 0.2443 - accuracy: 0.9038\n",
            "Epoch 37/40\n",
            "7/7 [==============================] - ETA: 0s - loss: 0.2275 - accuracy: 0.9144WARNING:tensorflow:Early stopping conditioned on metric `val_loss` which is not available. Available metrics are: loss,accuracy\n",
            "7/7 [==============================] - 7s 939ms/step - loss: 0.2275 - accuracy: 0.9144\n",
            "Epoch 38/40\n",
            "7/7 [==============================] - ETA: 0s - loss: 0.2256 - accuracy: 0.9181WARNING:tensorflow:Early stopping conditioned on metric `val_loss` which is not available. Available metrics are: loss,accuracy\n",
            "7/7 [==============================] - 7s 1s/step - loss: 0.2256 - accuracy: 0.9181\n",
            "Epoch 39/40\n",
            "7/7 [==============================] - ETA: 0s - loss: 0.2124 - accuracy: 0.9237WARNING:tensorflow:Early stopping conditioned on metric `val_loss` which is not available. Available metrics are: loss,accuracy\n",
            "7/7 [==============================] - 7s 988ms/step - loss: 0.2124 - accuracy: 0.9237\n",
            "Epoch 40/40\n",
            "7/7 [==============================] - ETA: 0s - loss: 0.1916 - accuracy: 0.9325WARNING:tensorflow:Early stopping conditioned on metric `val_loss` which is not available. Available metrics are: loss,accuracy\n",
            "7/7 [==============================] - 7s 950ms/step - loss: 0.1916 - accuracy: 0.9325\n",
            "\n",
            "\n",
            "****************************   Electronics   ************************\n",
            "Model: \"sequential\"\n",
            "_________________________________________________________________\n",
            " Layer (type)                Output Shape              Param #   \n",
            "=================================================================\n",
            " embedding (Embedding)       (None, 177, 300)          3504000   \n",
            "                                                                 \n",
            " bidirectional (Bidirectiona  (None, 64)               85248     \n",
            " l)                                                              \n",
            "                                                                 \n",
            " dense (Dense)               (None, 32)                2080      \n",
            "                                                                 \n",
            " dropout (Dropout)           (None, 32)                0         \n",
            "                                                                 \n",
            " dense_1 (Dense)             (None, 1)                 33        \n",
            "                                                                 \n",
            "=================================================================\n",
            "Total params: 3,591,361\n",
            "Trainable params: 87,361\n",
            "Non-trainable params: 3,504,000\n",
            "_________________________________________________________________\n",
            "Epoch 1/40\n",
            "7/7 [==============================] - ETA: 0s - loss: 0.7331 - accuracy: 0.2931WARNING:tensorflow:Early stopping conditioned on metric `val_loss` which is not available. Available metrics are: loss,accuracy\n",
            "7/7 [==============================] - 7s 523ms/step - loss: 0.7331 - accuracy: 0.2931\n",
            "Epoch 2/40\n",
            "7/7 [==============================] - ETA: 0s - loss: 0.6889 - accuracy: 0.5369WARNING:tensorflow:Early stopping conditioned on metric `val_loss` which is not available. Available metrics are: loss,accuracy\n",
            "7/7 [==============================] - 4s 522ms/step - loss: 0.6889 - accuracy: 0.5369\n",
            "Epoch 3/40\n",
            "7/7 [==============================] - ETA: 0s - loss: 0.6826 - accuracy: 0.5781WARNING:tensorflow:Early stopping conditioned on metric `val_loss` which is not available. Available metrics are: loss,accuracy\n",
            "7/7 [==============================] - 4s 516ms/step - loss: 0.6826 - accuracy: 0.5781\n",
            "Epoch 4/40\n",
            "7/7 [==============================] - ETA: 0s - loss: 0.6768 - accuracy: 0.6350WARNING:tensorflow:Early stopping conditioned on metric `val_loss` which is not available. Available metrics are: loss,accuracy\n",
            "7/7 [==============================] - 4s 517ms/step - loss: 0.6768 - accuracy: 0.6350\n",
            "Epoch 5/40\n",
            "7/7 [==============================] - ETA: 0s - loss: 0.6720 - accuracy: 0.6456WARNING:tensorflow:Early stopping conditioned on metric `val_loss` which is not available. Available metrics are: loss,accuracy\n",
            "7/7 [==============================] - 4s 517ms/step - loss: 0.6720 - accuracy: 0.6456\n",
            "Epoch 6/40\n",
            "7/7 [==============================] - ETA: 0s - loss: 0.6694 - accuracy: 0.6288WARNING:tensorflow:Early stopping conditioned on metric `val_loss` which is not available. Available metrics are: loss,accuracy\n",
            "7/7 [==============================] - 4s 522ms/step - loss: 0.6694 - accuracy: 0.6288\n",
            "Epoch 7/40\n",
            "7/7 [==============================] - ETA: 0s - loss: 0.6637 - accuracy: 0.6338WARNING:tensorflow:Early stopping conditioned on metric `val_loss` which is not available. Available metrics are: loss,accuracy\n",
            "7/7 [==============================] - 4s 518ms/step - loss: 0.6637 - accuracy: 0.6338\n",
            "Epoch 8/40\n",
            "7/7 [==============================] - ETA: 0s - loss: 0.6589 - accuracy: 0.6444WARNING:tensorflow:Early stopping conditioned on metric `val_loss` which is not available. Available metrics are: loss,accuracy\n",
            "7/7 [==============================] - 4s 519ms/step - loss: 0.6589 - accuracy: 0.6444\n",
            "Epoch 9/40\n",
            "7/7 [==============================] - ETA: 0s - loss: 0.6467 - accuracy: 0.6525WARNING:tensorflow:Early stopping conditioned on metric `val_loss` which is not available. Available metrics are: loss,accuracy\n",
            "7/7 [==============================] - 4s 521ms/step - loss: 0.6467 - accuracy: 0.6525\n",
            "Epoch 10/40\n",
            "7/7 [==============================] - ETA: 0s - loss: 0.6344 - accuracy: 0.6650WARNING:tensorflow:Early stopping conditioned on metric `val_loss` which is not available. Available metrics are: loss,accuracy\n",
            "7/7 [==============================] - 4s 518ms/step - loss: 0.6344 - accuracy: 0.6650\n",
            "Epoch 11/40\n",
            "7/7 [==============================] - ETA: 0s - loss: 0.6206 - accuracy: 0.6737WARNING:tensorflow:Early stopping conditioned on metric `val_loss` which is not available. Available metrics are: loss,accuracy\n",
            "7/7 [==============================] - 4s 524ms/step - loss: 0.6206 - accuracy: 0.6737\n",
            "Epoch 12/40\n",
            "7/7 [==============================] - ETA: 0s - loss: 0.6001 - accuracy: 0.6837WARNING:tensorflow:Early stopping conditioned on metric `val_loss` which is not available. Available metrics are: loss,accuracy\n",
            "7/7 [==============================] - 4s 526ms/step - loss: 0.6001 - accuracy: 0.6837\n",
            "Epoch 13/40\n",
            "7/7 [==============================] - ETA: 0s - loss: 0.5796 - accuracy: 0.7125WARNING:tensorflow:Early stopping conditioned on metric `val_loss` which is not available. Available metrics are: loss,accuracy\n",
            "7/7 [==============================] - 4s 526ms/step - loss: 0.5796 - accuracy: 0.7125\n",
            "Epoch 14/40\n",
            "7/7 [==============================] - ETA: 0s - loss: 0.5603 - accuracy: 0.7294WARNING:tensorflow:Early stopping conditioned on metric `val_loss` which is not available. Available metrics are: loss,accuracy\n",
            "7/7 [==============================] - 4s 521ms/step - loss: 0.5603 - accuracy: 0.7294\n",
            "Epoch 15/40\n",
            "7/7 [==============================] - ETA: 0s - loss: 0.5462 - accuracy: 0.7419WARNING:tensorflow:Early stopping conditioned on metric `val_loss` which is not available. Available metrics are: loss,accuracy\n",
            "7/7 [==============================] - 4s 523ms/step - loss: 0.5462 - accuracy: 0.7419\n",
            "Epoch 16/40\n",
            "7/7 [==============================] - ETA: 0s - loss: 0.5112 - accuracy: 0.7688WARNING:tensorflow:Early stopping conditioned on metric `val_loss` which is not available. Available metrics are: loss,accuracy\n",
            "7/7 [==============================] - 4s 529ms/step - loss: 0.5112 - accuracy: 0.7688\n",
            "Epoch 17/40\n",
            "7/7 [==============================] - ETA: 0s - loss: 0.4972 - accuracy: 0.7725WARNING:tensorflow:Early stopping conditioned on metric `val_loss` which is not available. Available metrics are: loss,accuracy\n",
            "7/7 [==============================] - 4s 524ms/step - loss: 0.4972 - accuracy: 0.7725\n",
            "Epoch 18/40\n",
            "7/7 [==============================] - ETA: 0s - loss: 0.4675 - accuracy: 0.7969WARNING:tensorflow:Early stopping conditioned on metric `val_loss` which is not available. Available metrics are: loss,accuracy\n",
            "7/7 [==============================] - 4s 519ms/step - loss: 0.4675 - accuracy: 0.7969\n",
            "Epoch 19/40\n",
            "7/7 [==============================] - ETA: 0s - loss: 0.4531 - accuracy: 0.8025WARNING:tensorflow:Early stopping conditioned on metric `val_loss` which is not available. Available metrics are: loss,accuracy\n",
            "7/7 [==============================] - 4s 521ms/step - loss: 0.4531 - accuracy: 0.8025\n",
            "Epoch 20/40\n",
            "7/7 [==============================] - ETA: 0s - loss: 0.4345 - accuracy: 0.8256WARNING:tensorflow:Early stopping conditioned on metric `val_loss` which is not available. Available metrics are: loss,accuracy\n",
            "7/7 [==============================] - 4s 520ms/step - loss: 0.4345 - accuracy: 0.8256\n",
            "Epoch 21/40\n",
            "7/7 [==============================] - ETA: 0s - loss: 0.4253 - accuracy: 0.8288WARNING:tensorflow:Early stopping conditioned on metric `val_loss` which is not available. Available metrics are: loss,accuracy\n",
            "7/7 [==============================] - 4s 526ms/step - loss: 0.4253 - accuracy: 0.8288\n",
            "Epoch 22/40\n",
            "7/7 [==============================] - ETA: 0s - loss: 0.3900 - accuracy: 0.8512WARNING:tensorflow:Early stopping conditioned on metric `val_loss` which is not available. Available metrics are: loss,accuracy\n",
            "7/7 [==============================] - 4s 528ms/step - loss: 0.3900 - accuracy: 0.8512\n",
            "Epoch 23/40\n",
            "7/7 [==============================] - ETA: 0s - loss: 0.3946 - accuracy: 0.8444WARNING:tensorflow:Early stopping conditioned on metric `val_loss` which is not available. Available metrics are: loss,accuracy\n",
            "7/7 [==============================] - 4s 522ms/step - loss: 0.3946 - accuracy: 0.8444\n",
            "Epoch 24/40\n",
            "7/7 [==============================] - ETA: 0s - loss: 0.3644 - accuracy: 0.8637WARNING:tensorflow:Early stopping conditioned on metric `val_loss` which is not available. Available metrics are: loss,accuracy\n",
            "7/7 [==============================] - 4s 524ms/step - loss: 0.3644 - accuracy: 0.8637\n",
            "Epoch 25/40\n",
            "7/7 [==============================] - ETA: 0s - loss: 0.3566 - accuracy: 0.8706WARNING:tensorflow:Early stopping conditioned on metric `val_loss` which is not available. Available metrics are: loss,accuracy\n",
            "7/7 [==============================] - 4s 522ms/step - loss: 0.3566 - accuracy: 0.8706\n",
            "Epoch 26/40\n",
            "7/7 [==============================] - ETA: 0s - loss: 0.3348 - accuracy: 0.8800WARNING:tensorflow:Early stopping conditioned on metric `val_loss` which is not available. Available metrics are: loss,accuracy\n",
            "7/7 [==============================] - 4s 520ms/step - loss: 0.3348 - accuracy: 0.8800\n",
            "Epoch 27/40\n",
            "7/7 [==============================] - ETA: 0s - loss: 0.3206 - accuracy: 0.8900WARNING:tensorflow:Early stopping conditioned on metric `val_loss` which is not available. Available metrics are: loss,accuracy\n",
            "7/7 [==============================] - 4s 523ms/step - loss: 0.3206 - accuracy: 0.8900\n",
            "Epoch 28/40\n",
            "7/7 [==============================] - ETA: 0s - loss: 0.3017 - accuracy: 0.9000WARNING:tensorflow:Early stopping conditioned on metric `val_loss` which is not available. Available metrics are: loss,accuracy\n",
            "7/7 [==============================] - 4s 521ms/step - loss: 0.3017 - accuracy: 0.9000\n",
            "Epoch 29/40\n",
            "7/7 [==============================] - ETA: 0s - loss: 0.2973 - accuracy: 0.9006WARNING:tensorflow:Early stopping conditioned on metric `val_loss` which is not available. Available metrics are: loss,accuracy\n",
            "7/7 [==============================] - 4s 517ms/step - loss: 0.2973 - accuracy: 0.9006\n",
            "Epoch 30/40\n",
            "7/7 [==============================] - ETA: 0s - loss: 0.2741 - accuracy: 0.9131WARNING:tensorflow:Early stopping conditioned on metric `val_loss` which is not available. Available metrics are: loss,accuracy\n",
            "7/7 [==============================] - 4s 524ms/step - loss: 0.2741 - accuracy: 0.9131\n",
            "Epoch 31/40\n",
            "7/7 [==============================] - ETA: 0s - loss: 0.2661 - accuracy: 0.9100WARNING:tensorflow:Early stopping conditioned on metric `val_loss` which is not available. Available metrics are: loss,accuracy\n",
            "7/7 [==============================] - 4s 521ms/step - loss: 0.2661 - accuracy: 0.9100\n",
            "Epoch 32/40\n",
            "7/7 [==============================] - ETA: 0s - loss: 0.2440 - accuracy: 0.9181WARNING:tensorflow:Early stopping conditioned on metric `val_loss` which is not available. Available metrics are: loss,accuracy\n",
            "7/7 [==============================] - 4s 525ms/step - loss: 0.2440 - accuracy: 0.9181\n",
            "Epoch 33/40\n",
            "7/7 [==============================] - ETA: 0s - loss: 0.2261 - accuracy: 0.9287WARNING:tensorflow:Early stopping conditioned on metric `val_loss` which is not available. Available metrics are: loss,accuracy\n",
            "7/7 [==============================] - 4s 523ms/step - loss: 0.2261 - accuracy: 0.9287\n",
            "Epoch 34/40\n",
            "7/7 [==============================] - ETA: 0s - loss: 0.2312 - accuracy: 0.9250WARNING:tensorflow:Early stopping conditioned on metric `val_loss` which is not available. Available metrics are: loss,accuracy\n",
            "7/7 [==============================] - 4s 524ms/step - loss: 0.2312 - accuracy: 0.9250\n",
            "Epoch 35/40\n",
            "7/7 [==============================] - ETA: 0s - loss: 0.1913 - accuracy: 0.9356WARNING:tensorflow:Early stopping conditioned on metric `val_loss` which is not available. Available metrics are: loss,accuracy\n",
            "7/7 [==============================] - 4s 520ms/step - loss: 0.1913 - accuracy: 0.9356\n",
            "Epoch 36/40\n",
            "7/7 [==============================] - ETA: 0s - loss: 0.2030 - accuracy: 0.9394WARNING:tensorflow:Early stopping conditioned on metric `val_loss` which is not available. Available metrics are: loss,accuracy\n",
            "7/7 [==============================] - 4s 521ms/step - loss: 0.2030 - accuracy: 0.9394\n",
            "Epoch 37/40\n",
            "7/7 [==============================] - ETA: 0s - loss: 0.1697 - accuracy: 0.9438WARNING:tensorflow:Early stopping conditioned on metric `val_loss` which is not available. Available metrics are: loss,accuracy\n",
            "7/7 [==============================] - 4s 520ms/step - loss: 0.1697 - accuracy: 0.9438\n",
            "Epoch 38/40\n",
            "7/7 [==============================] - ETA: 0s - loss: 0.2381 - accuracy: 0.9094WARNING:tensorflow:Early stopping conditioned on metric `val_loss` which is not available. Available metrics are: loss,accuracy\n",
            "7/7 [==============================] - 4s 517ms/step - loss: 0.2381 - accuracy: 0.9094\n",
            "Epoch 39/40\n",
            "7/7 [==============================] - ETA: 0s - loss: 0.2304 - accuracy: 0.9175WARNING:tensorflow:Early stopping conditioned on metric `val_loss` which is not available. Available metrics are: loss,accuracy\n",
            "7/7 [==============================] - 4s 523ms/step - loss: 0.2304 - accuracy: 0.9175\n",
            "Epoch 40/40\n",
            "7/7 [==============================] - ETA: 0s - loss: 0.2270 - accuracy: 0.9162WARNING:tensorflow:Early stopping conditioned on metric `val_loss` which is not available. Available metrics are: loss,accuracy\n",
            "7/7 [==============================] - 4s 523ms/step - loss: 0.2270 - accuracy: 0.9162\n",
            "\n",
            "\n",
            "****************************   Kitchen       ************************\n",
            "Model: \"sequential\"\n",
            "_________________________________________________________________\n",
            " Layer (type)                Output Shape              Param #   \n",
            "=================================================================\n",
            " embedding (Embedding)       (None, 140, 300)          2703600   \n",
            "                                                                 \n",
            " bidirectional (Bidirectiona  (None, 64)               85248     \n",
            " l)                                                              \n",
            "                                                                 \n",
            " dense (Dense)               (None, 32)                2080      \n",
            "                                                                 \n",
            " dropout (Dropout)           (None, 32)                0         \n",
            "                                                                 \n",
            " dense_1 (Dense)             (None, 1)                 33        \n",
            "                                                                 \n",
            "=================================================================\n",
            "Total params: 2,790,961\n",
            "Trainable params: 87,361\n",
            "Non-trainable params: 2,703,600\n",
            "_________________________________________________________________\n",
            "Epoch 1/40\n",
            "7/7 [==============================] - ETA: 0s - loss: 0.7365 - accuracy: 0.3144WARNING:tensorflow:Early stopping conditioned on metric `val_loss` which is not available. Available metrics are: loss,accuracy\n",
            "7/7 [==============================] - 7s 419ms/step - loss: 0.7365 - accuracy: 0.3144\n",
            "Epoch 2/40\n",
            "7/7 [==============================] - ETA: 0s - loss: 0.6898 - accuracy: 0.5281WARNING:tensorflow:Early stopping conditioned on metric `val_loss` which is not available. Available metrics are: loss,accuracy\n",
            "7/7 [==============================] - 3s 414ms/step - loss: 0.6898 - accuracy: 0.5281\n",
            "Epoch 3/40\n",
            "7/7 [==============================] - ETA: 0s - loss: 0.6820 - accuracy: 0.5575WARNING:tensorflow:Early stopping conditioned on metric `val_loss` which is not available. Available metrics are: loss,accuracy\n",
            "7/7 [==============================] - 3s 416ms/step - loss: 0.6820 - accuracy: 0.5575\n",
            "Epoch 4/40\n",
            "7/7 [==============================] - ETA: 0s - loss: 0.6762 - accuracy: 0.5969WARNING:tensorflow:Early stopping conditioned on metric `val_loss` which is not available. Available metrics are: loss,accuracy\n",
            "7/7 [==============================] - 3s 415ms/step - loss: 0.6762 - accuracy: 0.5969\n",
            "Epoch 5/40\n",
            "7/7 [==============================] - ETA: 0s - loss: 0.6747 - accuracy: 0.6144WARNING:tensorflow:Early stopping conditioned on metric `val_loss` which is not available. Available metrics are: loss,accuracy\n",
            "7/7 [==============================] - 3s 412ms/step - loss: 0.6747 - accuracy: 0.6144\n",
            "Epoch 6/40\n",
            "7/7 [==============================] - ETA: 0s - loss: 0.6688 - accuracy: 0.6425WARNING:tensorflow:Early stopping conditioned on metric `val_loss` which is not available. Available metrics are: loss,accuracy\n",
            "7/7 [==============================] - 3s 417ms/step - loss: 0.6688 - accuracy: 0.6425\n",
            "Epoch 7/40\n",
            "7/7 [==============================] - ETA: 0s - loss: 0.6606 - accuracy: 0.6625WARNING:tensorflow:Early stopping conditioned on metric `val_loss` which is not available. Available metrics are: loss,accuracy\n",
            "7/7 [==============================] - 3s 421ms/step - loss: 0.6606 - accuracy: 0.6625\n",
            "Epoch 8/40\n",
            "7/7 [==============================] - ETA: 0s - loss: 0.6506 - accuracy: 0.6731WARNING:tensorflow:Early stopping conditioned on metric `val_loss` which is not available. Available metrics are: loss,accuracy\n",
            "7/7 [==============================] - 3s 416ms/step - loss: 0.6506 - accuracy: 0.6731\n",
            "Epoch 9/40\n",
            "7/7 [==============================] - ETA: 0s - loss: 0.6433 - accuracy: 0.6644WARNING:tensorflow:Early stopping conditioned on metric `val_loss` which is not available. Available metrics are: loss,accuracy\n",
            "7/7 [==============================] - 3s 416ms/step - loss: 0.6433 - accuracy: 0.6644\n",
            "Epoch 10/40\n",
            "7/7 [==============================] - ETA: 0s - loss: 0.6338 - accuracy: 0.6875WARNING:tensorflow:Early stopping conditioned on metric `val_loss` which is not available. Available metrics are: loss,accuracy\n",
            "7/7 [==============================] - 3s 416ms/step - loss: 0.6338 - accuracy: 0.6875\n",
            "Epoch 11/40\n",
            "7/7 [==============================] - ETA: 0s - loss: 0.6180 - accuracy: 0.6869WARNING:tensorflow:Early stopping conditioned on metric `val_loss` which is not available. Available metrics are: loss,accuracy\n",
            "7/7 [==============================] - 3s 423ms/step - loss: 0.6180 - accuracy: 0.6869\n",
            "Epoch 12/40\n",
            "7/7 [==============================] - ETA: 0s - loss: 0.5985 - accuracy: 0.7075WARNING:tensorflow:Early stopping conditioned on metric `val_loss` which is not available. Available metrics are: loss,accuracy\n",
            "7/7 [==============================] - 3s 417ms/step - loss: 0.5985 - accuracy: 0.7075\n",
            "Epoch 13/40\n",
            "7/7 [==============================] - ETA: 0s - loss: 0.5829 - accuracy: 0.7181WARNING:tensorflow:Early stopping conditioned on metric `val_loss` which is not available. Available metrics are: loss,accuracy\n",
            "7/7 [==============================] - 3s 417ms/step - loss: 0.5829 - accuracy: 0.7181\n",
            "Epoch 14/40\n",
            "7/7 [==============================] - ETA: 0s - loss: 0.5649 - accuracy: 0.7344WARNING:tensorflow:Early stopping conditioned on metric `val_loss` which is not available. Available metrics are: loss,accuracy\n",
            "7/7 [==============================] - 3s 415ms/step - loss: 0.5649 - accuracy: 0.7344\n",
            "Epoch 15/40\n",
            "7/7 [==============================] - ETA: 0s - loss: 0.5386 - accuracy: 0.7513WARNING:tensorflow:Early stopping conditioned on metric `val_loss` which is not available. Available metrics are: loss,accuracy\n",
            "7/7 [==============================] - 3s 416ms/step - loss: 0.5386 - accuracy: 0.7513\n",
            "Epoch 16/40\n",
            "7/7 [==============================] - ETA: 0s - loss: 0.5268 - accuracy: 0.7619WARNING:tensorflow:Early stopping conditioned on metric `val_loss` which is not available. Available metrics are: loss,accuracy\n",
            "7/7 [==============================] - 3s 410ms/step - loss: 0.5268 - accuracy: 0.7619\n",
            "Epoch 17/40\n",
            "7/7 [==============================] - ETA: 0s - loss: 0.4860 - accuracy: 0.7894WARNING:tensorflow:Early stopping conditioned on metric `val_loss` which is not available. Available metrics are: loss,accuracy\n",
            "7/7 [==============================] - 3s 413ms/step - loss: 0.4860 - accuracy: 0.7894\n",
            "Epoch 18/40\n",
            "7/7 [==============================] - ETA: 0s - loss: 0.4740 - accuracy: 0.7906WARNING:tensorflow:Early stopping conditioned on metric `val_loss` which is not available. Available metrics are: loss,accuracy\n",
            "7/7 [==============================] - 3s 419ms/step - loss: 0.4740 - accuracy: 0.7906\n",
            "Epoch 19/40\n",
            "7/7 [==============================] - ETA: 0s - loss: 0.4594 - accuracy: 0.7944WARNING:tensorflow:Early stopping conditioned on metric `val_loss` which is not available. Available metrics are: loss,accuracy\n",
            "7/7 [==============================] - 3s 417ms/step - loss: 0.4594 - accuracy: 0.7944\n",
            "Epoch 20/40\n",
            "7/7 [==============================] - ETA: 0s - loss: 0.4455 - accuracy: 0.8144WARNING:tensorflow:Early stopping conditioned on metric `val_loss` which is not available. Available metrics are: loss,accuracy\n",
            "7/7 [==============================] - 3s 414ms/step - loss: 0.4455 - accuracy: 0.8144\n",
            "Epoch 21/40\n",
            "7/7 [==============================] - ETA: 0s - loss: 0.4094 - accuracy: 0.8244WARNING:tensorflow:Early stopping conditioned on metric `val_loss` which is not available. Available metrics are: loss,accuracy\n",
            "7/7 [==============================] - 3s 417ms/step - loss: 0.4094 - accuracy: 0.8244\n",
            "Epoch 22/40\n",
            "7/7 [==============================] - ETA: 0s - loss: 0.4023 - accuracy: 0.8325WARNING:tensorflow:Early stopping conditioned on metric `val_loss` which is not available. Available metrics are: loss,accuracy\n",
            "7/7 [==============================] - 3s 418ms/step - loss: 0.4023 - accuracy: 0.8325\n",
            "Epoch 23/40\n",
            "7/7 [==============================] - ETA: 0s - loss: 0.3750 - accuracy: 0.8494WARNING:tensorflow:Early stopping conditioned on metric `val_loss` which is not available. Available metrics are: loss,accuracy\n",
            "7/7 [==============================] - 3s 414ms/step - loss: 0.3750 - accuracy: 0.8494\n",
            "Epoch 24/40\n",
            "7/7 [==============================] - ETA: 0s - loss: 0.3639 - accuracy: 0.8512WARNING:tensorflow:Early stopping conditioned on metric `val_loss` which is not available. Available metrics are: loss,accuracy\n",
            "7/7 [==============================] - 3s 413ms/step - loss: 0.3639 - accuracy: 0.8512\n",
            "Epoch 25/40\n",
            "7/7 [==============================] - ETA: 0s - loss: 0.3353 - accuracy: 0.8687WARNING:tensorflow:Early stopping conditioned on metric `val_loss` which is not available. Available metrics are: loss,accuracy\n",
            "7/7 [==============================] - 3s 416ms/step - loss: 0.3353 - accuracy: 0.8687\n",
            "Epoch 26/40\n",
            "7/7 [==============================] - ETA: 0s - loss: 0.3347 - accuracy: 0.8662WARNING:tensorflow:Early stopping conditioned on metric `val_loss` which is not available. Available metrics are: loss,accuracy\n",
            "7/7 [==============================] - 3s 412ms/step - loss: 0.3347 - accuracy: 0.8662\n",
            "Epoch 27/40\n",
            "7/7 [==============================] - ETA: 0s - loss: 0.3117 - accuracy: 0.8850WARNING:tensorflow:Early stopping conditioned on metric `val_loss` which is not available. Available metrics are: loss,accuracy\n",
            "7/7 [==============================] - 3s 411ms/step - loss: 0.3117 - accuracy: 0.8850\n",
            "Epoch 28/40\n",
            "7/7 [==============================] - ETA: 0s - loss: 0.2931 - accuracy: 0.8900WARNING:tensorflow:Early stopping conditioned on metric `val_loss` which is not available. Available metrics are: loss,accuracy\n",
            "7/7 [==============================] - 3s 418ms/step - loss: 0.2931 - accuracy: 0.8900\n",
            "Epoch 29/40\n",
            "7/7 [==============================] - ETA: 0s - loss: 0.2949 - accuracy: 0.8919WARNING:tensorflow:Early stopping conditioned on metric `val_loss` which is not available. Available metrics are: loss,accuracy\n",
            "7/7 [==============================] - 3s 413ms/step - loss: 0.2949 - accuracy: 0.8919\n",
            "Epoch 30/40\n",
            "7/7 [==============================] - ETA: 0s - loss: 0.2503 - accuracy: 0.9087WARNING:tensorflow:Early stopping conditioned on metric `val_loss` which is not available. Available metrics are: loss,accuracy\n",
            "7/7 [==============================] - 3s 414ms/step - loss: 0.2503 - accuracy: 0.9087\n",
            "Epoch 31/40\n",
            "7/7 [==============================] - ETA: 0s - loss: 0.2587 - accuracy: 0.9044WARNING:tensorflow:Early stopping conditioned on metric `val_loss` which is not available. Available metrics are: loss,accuracy\n",
            "7/7 [==============================] - 3s 423ms/step - loss: 0.2587 - accuracy: 0.9044\n",
            "Epoch 32/40\n",
            "7/7 [==============================] - ETA: 0s - loss: 0.2270 - accuracy: 0.9181WARNING:tensorflow:Early stopping conditioned on metric `val_loss` which is not available. Available metrics are: loss,accuracy\n",
            "7/7 [==============================] - 3s 421ms/step - loss: 0.2270 - accuracy: 0.9181\n",
            "Epoch 33/40\n",
            "7/7 [==============================] - ETA: 0s - loss: 0.2275 - accuracy: 0.9237WARNING:tensorflow:Early stopping conditioned on metric `val_loss` which is not available. Available metrics are: loss,accuracy\n",
            "7/7 [==============================] - 3s 420ms/step - loss: 0.2275 - accuracy: 0.9237\n",
            "Epoch 34/40\n",
            "7/7 [==============================] - ETA: 0s - loss: 0.2027 - accuracy: 0.9319WARNING:tensorflow:Early stopping conditioned on metric `val_loss` which is not available. Available metrics are: loss,accuracy\n",
            "7/7 [==============================] - 3s 418ms/step - loss: 0.2027 - accuracy: 0.9319\n",
            "Epoch 35/40\n",
            "7/7 [==============================] - ETA: 0s - loss: 0.1905 - accuracy: 0.9306WARNING:tensorflow:Early stopping conditioned on metric `val_loss` which is not available. Available metrics are: loss,accuracy\n",
            "7/7 [==============================] - 3s 423ms/step - loss: 0.1905 - accuracy: 0.9306\n",
            "Epoch 36/40\n",
            "7/7 [==============================] - ETA: 0s - loss: 0.1814 - accuracy: 0.9406WARNING:tensorflow:Early stopping conditioned on metric `val_loss` which is not available. Available metrics are: loss,accuracy\n",
            "7/7 [==============================] - 3s 412ms/step - loss: 0.1814 - accuracy: 0.9406\n",
            "Epoch 37/40\n",
            "7/7 [==============================] - ETA: 0s - loss: 0.1658 - accuracy: 0.9456WARNING:tensorflow:Early stopping conditioned on metric `val_loss` which is not available. Available metrics are: loss,accuracy\n",
            "7/7 [==============================] - 3s 414ms/step - loss: 0.1658 - accuracy: 0.9456\n",
            "Epoch 38/40\n",
            "7/7 [==============================] - ETA: 0s - loss: 0.1530 - accuracy: 0.9575WARNING:tensorflow:Early stopping conditioned on metric `val_loss` which is not available. Available metrics are: loss,accuracy\n",
            "7/7 [==============================] - 3s 417ms/step - loss: 0.1530 - accuracy: 0.9575\n",
            "Epoch 39/40\n",
            "7/7 [==============================] - ETA: 0s - loss: 0.1381 - accuracy: 0.9569WARNING:tensorflow:Early stopping conditioned on metric `val_loss` which is not available. Available metrics are: loss,accuracy\n",
            "7/7 [==============================] - 3s 416ms/step - loss: 0.1381 - accuracy: 0.9569\n",
            "Epoch 40/40\n",
            "7/7 [==============================] - ETA: 0s - loss: 0.1355 - accuracy: 0.9613WARNING:tensorflow:Early stopping conditioned on metric `val_loss` which is not available. Available metrics are: loss,accuracy\n",
            "7/7 [==============================] - 3s 414ms/step - loss: 0.1355 - accuracy: 0.9613\n"
          ]
        }
      ]
    },
    {
      "cell_type": "code",
      "source": [
        ""
      ],
      "metadata": {
        "id": "pzztI1rTefvr"
      },
      "execution_count": 14,
      "outputs": []
    },
    {
      "cell_type": "code",
      "metadata": {
        "id": "9r0E47btUHg4",
        "colab": {
          "base_uri": "https://localhost:8080/"
        },
        "outputId": "bd4dafb5-2e22-43ae-b576-94ab14e16bfa"
      },
      "source": [
        "print(\"Accuracy with FastText:\")\n",
        "for i, (model, y_ts, word_seq_test) in enumerate(zip(models, y_test_datasets, word_seq_tests)):\n",
        "    predictions = (model.predict(word_seq_test) > 0.5).astype(int)\n",
        "    acc = accuracy_score(y_ts, predictions)\n",
        "    print(' |_  {}: {:.2f}'.format(datasets_name[i], acc))"
      ],
      "execution_count": 15,
      "outputs": [
        {
          "output_type": "stream",
          "name": "stdout",
          "text": [
            "Accuracy with FastText:\n",
            " |_  Books      : 0.71\n",
            " |_  DVD        : 0.73\n",
            " |_  Electronics: 0.79\n",
            " |_  Kitchen    : 0.79\n"
          ]
        }
      ]
    },
    {
      "cell_type": "markdown",
      "source": [
        "**Wow :)**"
      ],
      "metadata": {
        "id": "5GLkQMQlcfWR"
      }
    }
  ]
}