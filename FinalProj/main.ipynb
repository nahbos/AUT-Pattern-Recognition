{
 "cells": [
  {
   "cell_type": "markdown",
   "id": "d718724e",
   "metadata": {},
   "source": [
    "#### Copyright (C) 2022 Sobhan Moradian Daghigh\n",
    "#### Date: 2/2/2022"
   ]
  },
  {
   "cell_type": "code",
   "execution_count": null,
   "id": "2cc76ecd",
   "metadata": {},
   "outputs": [],
   "source": []
  },
  {
   "cell_type": "markdown",
   "id": "74191c1b",
   "metadata": {},
   "source": [
    "### Import Libraries"
   ]
  },
  {
   "cell_type": "code",
   "execution_count": 1,
   "id": "83c89546",
   "metadata": {},
   "outputs": [
    {
     "name": "stdout",
     "output_type": "stream",
     "text": [
      "importing Jupyter notebook from feature_selection_methods.ipynb\n",
      "importing Jupyter notebook from classifier_models.ipynb\n"
     ]
    }
   ],
   "source": [
    "import numpy as np\n",
    "import pandas as pd\n",
    "import os\n",
    "\n",
    "from sklearn.feature_extraction.text import TfidfVectorizer\n",
    "from sklearn.linear_model import LogisticRegression\n",
    "from sklearn.model_selection import train_test_split\n",
    "\n",
    "import string\n",
    "from nltk.corpus import stopwords\n",
    "from nltk import word_tokenize\n",
    "from nltk.stem.porter import PorterStemmer\n",
    "from nltk import pos_tag\n",
    "# import nltk\n",
    "# nltk.download('stopwords')\n",
    "# nltk.download('punkt')\n",
    "\n",
    "from IPython.display import display\n",
    "\n",
    "import import_ipynb, importlib, sys\n",
    "import feature_selection_methods as FS\n",
    "import classifier_models as models\n",
    "def reload_moduls():\n",
    "    importlib.reload(sys.modules['feature_selection_methods'])\n",
    "    importlib.reload(sys.modules['classifier_models'])\n",
    "    import feature_selection_methods as FS\n",
    "    import classifier_models as models\n",
    "    \n",
    "    return FS, models\n",
    "\n",
    "from wordcloud import WordCloud\n",
    "import matplotlib.pyplot as plt\n",
    "from PIL import Image"
   ]
  },
  {
   "cell_type": "code",
   "execution_count": null,
   "id": "17edecb2",
   "metadata": {},
   "outputs": [],
   "source": []
  },
  {
   "cell_type": "markdown",
   "id": "b4c9b1d1",
   "metadata": {},
   "source": [
    "### Loading Datasets"
   ]
  },
  {
   "cell_type": "code",
   "execution_count": 2,
   "id": "1260e284",
   "metadata": {},
   "outputs": [],
   "source": [
    "def load_datasets(path):\n",
    "    datasets = []\n",
    "    print('Loading the datasets..\\n')\n",
    "    for root, dirs, files in os.walk(path):\n",
    "        for i, file in enumerate(files):\n",
    "            print(' |_  {}. {} loaded'.format(i + 1, file.split('.')[0]))\n",
    "            datasets.append(pd.read_csv(os.path.join(root, file), names=['sentence', 'label'], sep='\\t'))\n",
    "    return datasets"
   ]
  },
  {
   "cell_type": "code",
   "execution_count": 3,
   "id": "9f789e88",
   "metadata": {},
   "outputs": [
    {
     "name": "stdout",
     "output_type": "stream",
     "text": [
      "Loading the datasets..\n",
      "\n",
      " |_  1. amazon loaded\n",
      " |_  2. imdb loaded\n",
      " |_  3. yelp loaded\n"
     ]
    }
   ],
   "source": [
    "datasets_name = ['Amazon', 'IMDB  ', 'Yelp  ']\n",
    "datasets = load_datasets('./Datasets/')"
   ]
  },
  {
   "cell_type": "code",
   "execution_count": null,
   "id": "d3194994",
   "metadata": {},
   "outputs": [],
   "source": []
  },
  {
   "cell_type": "code",
   "execution_count": 4,
   "id": "c3dcfd24",
   "metadata": {},
   "outputs": [
    {
     "name": "stdout",
     "output_type": "stream",
     "text": [
      "<class 'pandas.core.frame.DataFrame'>\n",
      "RangeIndex: 1000 entries, 0 to 999\n",
      "Data columns (total 2 columns):\n",
      " #   Column    Non-Null Count  Dtype \n",
      "---  ------    --------------  ----- \n",
      " 0   sentence  1000 non-null   object\n",
      " 1   label     1000 non-null   int64 \n",
      "dtypes: int64(1), object(1)\n",
      "memory usage: 15.8+ KB\n"
     ]
    }
   ],
   "source": [
    "# Amazon\n",
    "datasets[0].info()"
   ]
  },
  {
   "cell_type": "code",
   "execution_count": 5,
   "id": "1d226522",
   "metadata": {},
   "outputs": [
    {
     "name": "stdout",
     "output_type": "stream",
     "text": [
      "<class 'pandas.core.frame.DataFrame'>\n",
      "RangeIndex: 1000 entries, 0 to 999\n",
      "Data columns (total 2 columns):\n",
      " #   Column    Non-Null Count  Dtype \n",
      "---  ------    --------------  ----- \n",
      " 0   sentence  1000 non-null   object\n",
      " 1   label     1000 non-null   int64 \n",
      "dtypes: int64(1), object(1)\n",
      "memory usage: 15.8+ KB\n"
     ]
    }
   ],
   "source": [
    "# IMDB\n",
    "datasets[1].info()"
   ]
  },
  {
   "cell_type": "code",
   "execution_count": 6,
   "id": "7430ab37",
   "metadata": {},
   "outputs": [
    {
     "name": "stdout",
     "output_type": "stream",
     "text": [
      "<class 'pandas.core.frame.DataFrame'>\n",
      "RangeIndex: 1000 entries, 0 to 999\n",
      "Data columns (total 2 columns):\n",
      " #   Column    Non-Null Count  Dtype \n",
      "---  ------    --------------  ----- \n",
      " 0   sentence  1000 non-null   object\n",
      " 1   label     1000 non-null   int64 \n",
      "dtypes: int64(1), object(1)\n",
      "memory usage: 15.8+ KB\n"
     ]
    }
   ],
   "source": [
    "# Yelp\n",
    "datasets[2].info()"
   ]
  },
  {
   "cell_type": "code",
   "execution_count": null,
   "id": "99f82e89",
   "metadata": {},
   "outputs": [],
   "source": []
  },
  {
   "cell_type": "markdown",
   "id": "481f57e1",
   "metadata": {},
   "source": [
    "### Make a preprocess on the comments to improve quality and remove unneccessary words\n",
    "##### 1. convert all words to lowercase\n",
    "##### 2. remove punctuations\n",
    "##### 3. tonekize words\n",
    "##### 4. remove stopwords\n",
    "##### 5. use porterStemmer to have stemming words"
   ]
  },
  {
   "cell_type": "code",
   "execution_count": 7,
   "id": "6af1bf97",
   "metadata": {},
   "outputs": [],
   "source": [
    "def nlprocess(dataset):\n",
    "    \n",
    "    preprocessed_comments = []\n",
    "    for text in dataset:\n",
    "        \n",
    "        #Lowercase\n",
    "        text = text.lower()\n",
    "\n",
    "        # Removing Punctuation\n",
    "        text = \"\".join([char for char in text if char not in string.punctuation])\n",
    "\n",
    "        # Word Tokenization\n",
    "        text = word_tokenize(text)\n",
    "\n",
    "        # Stopword Filtering\n",
    "        stop_words = stopwords.words('english')\n",
    "        text = [word for word in text if word not in stop_words]\n",
    "\n",
    "        # Stemming\n",
    "        porter = PorterStemmer()\n",
    "        text = [porter.stem(word) for word in text]\n",
    "\n",
    "        text = ' '.join(text)\n",
    "\n",
    "        preprocessed_comments.append(text)\n",
    "        \n",
    "    return preprocessed_comments"
   ]
  },
  {
   "cell_type": "code",
   "execution_count": null,
   "id": "7a6ed19d",
   "metadata": {},
   "outputs": [],
   "source": []
  },
  {
   "cell_type": "markdown",
   "id": "5e948d68",
   "metadata": {},
   "source": [
    "### Splitting the datasets into Train and Test"
   ]
  },
  {
   "cell_type": "code",
   "execution_count": 105,
   "id": "cb3694ad",
   "metadata": {},
   "outputs": [],
   "source": [
    "def spliter(datasets):\n",
    "    x_train_datasets, x_test_datasets, y_train_datasets, y_test_datasets = [], [], [], []\n",
    "    print('(train, test):')\n",
    "    for i, dataset in enumerate(datasets):\n",
    "        x_train, x_test, y_train, y_test = train_test_split(dataset.sentence, dataset.label, test_size=0.3, random_state=42)\n",
    "        x_train_datasets.append(nlprocess(x_train))\n",
    "        x_test_datasets.append(nlprocess(x_test))\n",
    "        y_train_datasets.append(y_train)\n",
    "        y_test_datasets.append(y_test)\n",
    "        print(' |_ {}: ({}, {})'.format(datasets_name[i], len(x_train), len(x_test)))\n",
    "    return x_train_datasets, x_test_datasets, y_train_datasets, y_test_datasets"
   ]
  },
  {
   "cell_type": "code",
   "execution_count": 106,
   "id": "d8a23e6a",
   "metadata": {},
   "outputs": [
    {
     "name": "stdout",
     "output_type": "stream",
     "text": [
      "(train, test):\n",
      " |_ Amazon: (700, 300)\n",
      " |_ IMDB  : (700, 300)\n",
      " |_ Yelp  : (700, 300)\n"
     ]
    }
   ],
   "source": [
    "x_train_datasets, x_test_datasets, y_train_datasets, y_test_datasets = spliter(datasets)"
   ]
  },
  {
   "cell_type": "code",
   "execution_count": null,
   "id": "cebf0993",
   "metadata": {},
   "outputs": [],
   "source": []
  },
  {
   "cell_type": "markdown",
   "id": "58ab28bf",
   "metadata": {},
   "source": [
    "### Feature Extraction using TF-IDF"
   ]
  },
  {
   "cell_type": "code",
   "execution_count": 100,
   "id": "a0cef452",
   "metadata": {},
   "outputs": [],
   "source": [
    "def feature_extractor(dataset):\n",
    "    vectorizer = TfidfVectorizer()\n",
    "    vectorizer.fit(dataset)\n",
    "    return vectorizer"
   ]
  },
  {
   "cell_type": "code",
   "execution_count": 101,
   "id": "ff97d0d8",
   "metadata": {},
   "outputs": [],
   "source": [
    "def get_top_frequent_features(vectorizer):\n",
    "    df = pd.DataFrame({'words': vectorizer.vocabulary_.keys(), 'counts': vectorizer.vocabulary_.values()})\n",
    "    print('\\n------ {} ------'.format(datasets_name[i]))\n",
    "    display(df.sort_values(by=['counts'], ascending=False).head())"
   ]
  },
  {
   "cell_type": "code",
   "execution_count": null,
   "id": "bbfa5643",
   "metadata": {},
   "outputs": [],
   "source": []
  },
  {
   "cell_type": "markdown",
   "id": "6b76268f",
   "metadata": {},
   "source": [
    "#### Top 5 frequent words of each dataset to get a full feeling of the problem"
   ]
  },
  {
   "cell_type": "code",
   "execution_count": 102,
   "id": "ce463095",
   "metadata": {},
   "outputs": [],
   "source": [
    "def wordcloud(data):\n",
    "    mask = np.array(Image.open('./panda.jpg'))\n",
    "    wordcloud = WordCloud(\n",
    "        mask=mask,\n",
    "        background_color='white',\n",
    "        max_words=1000,\n",
    "        max_font_size=60,\n",
    "        scale=3,\n",
    "        random_state=1\n",
    "    ).generate_from_frequencies(data)\n",
    "\n",
    "    fig = plt.figure(1, figsize=(8, 8))\n",
    "    plt.axis('off')\n",
    "    plt.imshow(wordcloud)\n",
    "    plt.show()"
   ]
  },
  {
   "cell_type": "code",
   "execution_count": 107,
   "id": "81661174",
   "metadata": {},
   "outputs": [
    {
     "name": "stdout",
     "output_type": "stream",
     "text": [
      "\n",
      "------ Amazon ------\n"
     ]
    },
    {
     "data": {
      "text/html": [
       "<div>\n",
       "<style scoped>\n",
       "    .dataframe tbody tr th:only-of-type {\n",
       "        vertical-align: middle;\n",
       "    }\n",
       "\n",
       "    .dataframe tbody tr th {\n",
       "        vertical-align: top;\n",
       "    }\n",
       "\n",
       "    .dataframe thead th {\n",
       "        text-align: right;\n",
       "    }\n",
       "</style>\n",
       "<table border=\"1\" class=\"dataframe\">\n",
       "  <thead>\n",
       "    <tr style=\"text-align: right;\">\n",
       "      <th></th>\n",
       "      <th>words</th>\n",
       "      <th>counts</th>\n",
       "    </tr>\n",
       "  </thead>\n",
       "  <tbody>\n",
       "    <tr>\n",
       "      <th>999</th>\n",
       "      <td>zero</td>\n",
       "      <td>1197</td>\n",
       "    </tr>\n",
       "    <tr>\n",
       "      <th>566</th>\n",
       "      <td>z500a</td>\n",
       "      <td>1196</td>\n",
       "    </tr>\n",
       "    <tr>\n",
       "      <th>559</th>\n",
       "      <td>youd</td>\n",
       "      <td>1195</td>\n",
       "    </tr>\n",
       "    <tr>\n",
       "      <th>1117</th>\n",
       "      <td>yet</td>\n",
       "      <td>1194</td>\n",
       "    </tr>\n",
       "    <tr>\n",
       "      <th>1031</th>\n",
       "      <td>yell</td>\n",
       "      <td>1193</td>\n",
       "    </tr>\n",
       "  </tbody>\n",
       "</table>\n",
       "</div>"
      ],
      "text/plain": [
       "      words  counts\n",
       "999    zero    1197\n",
       "566   z500a    1196\n",
       "559    youd    1195\n",
       "1117    yet    1194\n",
       "1031   yell    1193"
      ]
     },
     "metadata": {},
     "output_type": "display_data"
    },
    {
     "name": "stdout",
     "output_type": "stream",
     "text": [
      "\n",
      "------ IMDB   ------\n"
     ]
    },
    {
     "data": {
      "text/html": [
       "<div>\n",
       "<style scoped>\n",
       "    .dataframe tbody tr th:only-of-type {\n",
       "        vertical-align: middle;\n",
       "    }\n",
       "\n",
       "    .dataframe tbody tr th {\n",
       "        vertical-align: top;\n",
       "    }\n",
       "\n",
       "    .dataframe thead th {\n",
       "        text-align: right;\n",
       "    }\n",
       "</style>\n",
       "<table border=\"1\" class=\"dataframe\">\n",
       "  <thead>\n",
       "    <tr style=\"text-align: right;\">\n",
       "      <th></th>\n",
       "      <th>words</th>\n",
       "      <th>counts</th>\n",
       "    </tr>\n",
       "  </thead>\n",
       "  <tbody>\n",
       "    <tr>\n",
       "      <th>1200</th>\n",
       "      <td>zombiez</td>\n",
       "      <td>2064</td>\n",
       "    </tr>\n",
       "    <tr>\n",
       "      <th>1483</th>\n",
       "      <td>zombi</td>\n",
       "      <td>2063</td>\n",
       "    </tr>\n",
       "    <tr>\n",
       "      <th>1810</th>\n",
       "      <td>zillion</td>\n",
       "      <td>2062</td>\n",
       "    </tr>\n",
       "    <tr>\n",
       "      <th>1262</th>\n",
       "      <td>yun</td>\n",
       "      <td>2061</td>\n",
       "    </tr>\n",
       "    <tr>\n",
       "      <th>633</th>\n",
       "      <td>your</td>\n",
       "      <td>2060</td>\n",
       "    </tr>\n",
       "  </tbody>\n",
       "</table>\n",
       "</div>"
      ],
      "text/plain": [
       "        words  counts\n",
       "1200  zombiez    2064\n",
       "1483    zombi    2063\n",
       "1810  zillion    2062\n",
       "1262      yun    2061\n",
       "633      your    2060"
      ]
     },
     "metadata": {},
     "output_type": "display_data"
    },
    {
     "name": "stdout",
     "output_type": "stream",
     "text": [
      "\n",
      "------ Yelp   ------\n"
     ]
    },
    {
     "data": {
      "text/html": [
       "<div>\n",
       "<style scoped>\n",
       "    .dataframe tbody tr th:only-of-type {\n",
       "        vertical-align: middle;\n",
       "    }\n",
       "\n",
       "    .dataframe tbody tr th {\n",
       "        vertical-align: top;\n",
       "    }\n",
       "\n",
       "    .dataframe thead th {\n",
       "        text-align: right;\n",
       "    }\n",
       "</style>\n",
       "<table border=\"1\" class=\"dataframe\">\n",
       "  <thead>\n",
       "    <tr style=\"text-align: right;\">\n",
       "      <th></th>\n",
       "      <th>words</th>\n",
       "      <th>counts</th>\n",
       "    </tr>\n",
       "  </thead>\n",
       "  <tbody>\n",
       "    <tr>\n",
       "      <th>682</th>\n",
       "      <td>zero</td>\n",
       "      <td>1330</td>\n",
       "    </tr>\n",
       "    <tr>\n",
       "      <th>836</th>\n",
       "      <td>yummi</td>\n",
       "      <td>1329</td>\n",
       "    </tr>\n",
       "    <tr>\n",
       "      <th>745</th>\n",
       "      <td>yum</td>\n",
       "      <td>1328</td>\n",
       "    </tr>\n",
       "    <tr>\n",
       "      <th>591</th>\n",
       "      <td>yucki</td>\n",
       "      <td>1327</td>\n",
       "    </tr>\n",
       "    <tr>\n",
       "      <th>892</th>\n",
       "      <td>your</td>\n",
       "      <td>1326</td>\n",
       "    </tr>\n",
       "  </tbody>\n",
       "</table>\n",
       "</div>"
      ],
      "text/plain": [
       "     words  counts\n",
       "682   zero    1330\n",
       "836  yummi    1329\n",
       "745    yum    1328\n",
       "591  yucki    1327\n",
       "892   your    1326"
      ]
     },
     "metadata": {},
     "output_type": "display_data"
    }
   ],
   "source": [
    "# Display\n",
    "vectorizers = []\n",
    "for i, dataset in enumerate(x_train_datasets):\n",
    "    vectorizer = feature_extractor(dataset)\n",
    "    get_top_frequent_features(vectorizer)\n",
    "#     wordcloud(vectorizer.vocabulary_)   \n",
    "    vectorizers.append(vectorizer)"
   ]
  },
  {
   "cell_type": "code",
   "execution_count": null,
   "id": "b0e00be3",
   "metadata": {},
   "outputs": [],
   "source": []
  },
  {
   "cell_type": "markdown",
   "id": "07823e93",
   "metadata": {},
   "source": [
    "### Logistic Regression\n",
    "#### - Without FS"
   ]
  },
  {
   "cell_type": "code",
   "execution_count": 108,
   "id": "db397997",
   "metadata": {},
   "outputs": [
    {
     "name": "stdout",
     "output_type": "stream",
     "text": [
      "Accuracy:\n",
      " |_  Amazon: 0.81\n",
      " |_  IMDB  : 0.81\n",
      " |_  Yelp  : 0.77\n"
     ]
    }
   ],
   "source": [
    "print(\"Accuracy:\")\n",
    "clfs = []\n",
    "vectorized_trains = []\n",
    "vectorized_tests = []\n",
    "\n",
    "for i, (vec, x_tr, x_ts, y_tr, y_ts) in enumerate(zip(vectorizers, x_train_datasets, x_test_datasets, y_train_datasets, y_test_datasets)):\n",
    "    X_train = vec.transform(x_tr)\n",
    "    X_test = vec.transform(x_ts)\n",
    "\n",
    "    vectorized_trains.append(X_train)\n",
    "    vectorized_tests.append(X_test)\n",
    "    \n",
    "    clf = LogisticRegression()\n",
    "    clf.fit(X_train, y_tr)\n",
    "    clfs.append(clf)\n",
    "    score = clf.score(X_test, y_ts)\n",
    "    \n",
    "    print(' |_  {}: {:.2f}'.format(datasets_name[i], score))"
   ]
  },
  {
   "cell_type": "code",
   "execution_count": null,
   "id": "6a6ca6ea",
   "metadata": {},
   "outputs": [],
   "source": []
  },
  {
   "cell_type": "markdown",
   "id": "c76b1f7b",
   "metadata": {},
   "source": [
    "### Apply the selected features to datasets"
   ]
  },
  {
   "cell_type": "code",
   "execution_count": 15,
   "id": "b696c947",
   "metadata": {},
   "outputs": [],
   "source": [
    "def apply_selected_features(datasets, tops):\n",
    "    filter_datasets = []\n",
    "    for dataset, top in zip(datasets, tops):\n",
    "        filter_dataset = np.array(np.take(dataset.todense(), top, axis=1))\n",
    "        filter_datasets.append(filter_dataset)\n",
    "    return filter_datasets"
   ]
  },
  {
   "cell_type": "code",
   "execution_count": null,
   "id": "2a5ce26d",
   "metadata": {},
   "outputs": [],
   "source": []
  },
  {
   "cell_type": "markdown",
   "id": "44f3cd2a",
   "metadata": {},
   "source": [
    "### Display the top features"
   ]
  },
  {
   "cell_type": "code",
   "execution_count": 16,
   "id": "ce882f2f",
   "metadata": {},
   "outputs": [],
   "source": [
    "def display_tops(tops, vectorizers):\n",
    "    for i, (top, vec) in enumerate(zip(tops, vectorizers)):\n",
    "        name = np.array(vec.get_feature_names_out())[top].tolist()\n",
    "        print('\\n{}:'.format(datasets_name[i]))\n",
    "        display(pd.DataFrame(name).head())"
   ]
  },
  {
   "cell_type": "code",
   "execution_count": null,
   "id": "8d8e900e",
   "metadata": {},
   "outputs": [],
   "source": []
  },
  {
   "cell_type": "code",
   "execution_count": 164,
   "id": "75444b73",
   "metadata": {},
   "outputs": [],
   "source": [
    "# Including the features which are selected by different FS methods\n",
    "fs_tops = []\n",
    "fs_methods_name = ['Odd-Ratio', 'Chi-Square', 'Count-Difference']"
   ]
  },
  {
   "cell_type": "code",
   "execution_count": null,
   "id": "65c5585d",
   "metadata": {},
   "outputs": [],
   "source": []
  },
  {
   "cell_type": "markdown",
   "id": "af62d3f1",
   "metadata": {},
   "source": [
    "### 1. Odd Ratio FS"
   ]
  },
  {
   "cell_type": "code",
   "execution_count": 165,
   "id": "5a986658",
   "metadata": {},
   "outputs": [
    {
     "name": "stdout",
     "output_type": "stream",
     "text": [
      "importing Jupyter notebook from feature_selection_methods.ipynb\n",
      "importing Jupyter notebook from classifier_models.ipynb\n",
      "(Main, Selected) Features size:\n",
      " |_ Amazon: (1198, 990)\n",
      " |_ IMDB  : (2065, 1854)\n",
      " |_ Yelp  : (1331, 1120)\n",
      "\n",
      "Amazon:\n"
     ]
    },
    {
     "data": {
      "text/html": [
       "<div>\n",
       "<style scoped>\n",
       "    .dataframe tbody tr th:only-of-type {\n",
       "        vertical-align: middle;\n",
       "    }\n",
       "\n",
       "    .dataframe tbody tr th {\n",
       "        vertical-align: top;\n",
       "    }\n",
       "\n",
       "    .dataframe thead th {\n",
       "        text-align: right;\n",
       "    }\n",
       "</style>\n",
       "<table border=\"1\" class=\"dataframe\">\n",
       "  <thead>\n",
       "    <tr style=\"text-align: right;\">\n",
       "      <th></th>\n",
       "      <th>0</th>\n",
       "    </tr>\n",
       "  </thead>\n",
       "  <tbody>\n",
       "    <tr>\n",
       "      <th>0</th>\n",
       "      <td>great</td>\n",
       "    </tr>\n",
       "    <tr>\n",
       "      <th>1</th>\n",
       "      <td>good</td>\n",
       "    </tr>\n",
       "    <tr>\n",
       "      <th>2</th>\n",
       "      <td>nice</td>\n",
       "    </tr>\n",
       "    <tr>\n",
       "      <th>3</th>\n",
       "      <td>love</td>\n",
       "    </tr>\n",
       "    <tr>\n",
       "      <th>4</th>\n",
       "      <td>best</td>\n",
       "    </tr>\n",
       "  </tbody>\n",
       "</table>\n",
       "</div>"
      ],
      "text/plain": [
       "       0\n",
       "0  great\n",
       "1   good\n",
       "2   nice\n",
       "3   love\n",
       "4   best"
      ]
     },
     "metadata": {},
     "output_type": "display_data"
    },
    {
     "name": "stdout",
     "output_type": "stream",
     "text": [
      "\n",
      "IMDB  :\n"
     ]
    },
    {
     "data": {
      "text/html": [
       "<div>\n",
       "<style scoped>\n",
       "    .dataframe tbody tr th:only-of-type {\n",
       "        vertical-align: middle;\n",
       "    }\n",
       "\n",
       "    .dataframe tbody tr th {\n",
       "        vertical-align: top;\n",
       "    }\n",
       "\n",
       "    .dataframe thead th {\n",
       "        text-align: right;\n",
       "    }\n",
       "</style>\n",
       "<table border=\"1\" class=\"dataframe\">\n",
       "  <thead>\n",
       "    <tr style=\"text-align: right;\">\n",
       "      <th></th>\n",
       "      <th>0</th>\n",
       "    </tr>\n",
       "  </thead>\n",
       "  <tbody>\n",
       "    <tr>\n",
       "      <th>0</th>\n",
       "      <td>love</td>\n",
       "    </tr>\n",
       "    <tr>\n",
       "      <th>1</th>\n",
       "      <td>great</td>\n",
       "    </tr>\n",
       "    <tr>\n",
       "      <th>2</th>\n",
       "      <td>excel</td>\n",
       "    </tr>\n",
       "    <tr>\n",
       "      <th>3</th>\n",
       "      <td>beauti</td>\n",
       "    </tr>\n",
       "    <tr>\n",
       "      <th>4</th>\n",
       "      <td>wonder</td>\n",
       "    </tr>\n",
       "  </tbody>\n",
       "</table>\n",
       "</div>"
      ],
      "text/plain": [
       "        0\n",
       "0    love\n",
       "1   great\n",
       "2   excel\n",
       "3  beauti\n",
       "4  wonder"
      ]
     },
     "metadata": {},
     "output_type": "display_data"
    },
    {
     "name": "stdout",
     "output_type": "stream",
     "text": [
      "\n",
      "Yelp  :\n"
     ]
    },
    {
     "data": {
      "text/html": [
       "<div>\n",
       "<style scoped>\n",
       "    .dataframe tbody tr th:only-of-type {\n",
       "        vertical-align: middle;\n",
       "    }\n",
       "\n",
       "    .dataframe tbody tr th {\n",
       "        vertical-align: top;\n",
       "    }\n",
       "\n",
       "    .dataframe thead th {\n",
       "        text-align: right;\n",
       "    }\n",
       "</style>\n",
       "<table border=\"1\" class=\"dataframe\">\n",
       "  <thead>\n",
       "    <tr style=\"text-align: right;\">\n",
       "      <th></th>\n",
       "      <th>0</th>\n",
       "    </tr>\n",
       "  </thead>\n",
       "  <tbody>\n",
       "    <tr>\n",
       "      <th>0</th>\n",
       "      <td>great</td>\n",
       "    </tr>\n",
       "    <tr>\n",
       "      <th>1</th>\n",
       "      <td>delici</td>\n",
       "    </tr>\n",
       "    <tr>\n",
       "      <th>2</th>\n",
       "      <td>good</td>\n",
       "    </tr>\n",
       "    <tr>\n",
       "      <th>3</th>\n",
       "      <td>love</td>\n",
       "    </tr>\n",
       "    <tr>\n",
       "      <th>4</th>\n",
       "      <td>amaz</td>\n",
       "    </tr>\n",
       "  </tbody>\n",
       "</table>\n",
       "</div>"
      ],
      "text/plain": [
       "        0\n",
       "0   great\n",
       "1  delici\n",
       "2    good\n",
       "3    love\n",
       "4    amaz"
      ]
     },
     "metadata": {},
     "output_type": "display_data"
    }
   ],
   "source": [
    "# Reload the sub_modules to apply changes\n",
    "FS, models = reload_moduls()\n",
    "\n",
    "odd_ratio_tops = FS.odd_ratio(clfs)\n",
    "fs_tops.append(odd_ratio_tops)\n",
    "display_tops(odd_ratio_tops, vectorizers)"
   ]
  },
  {
   "cell_type": "code",
   "execution_count": null,
   "id": "9ec117d7",
   "metadata": {},
   "outputs": [],
   "source": []
  },
  {
   "cell_type": "markdown",
   "id": "9511cb98",
   "metadata": {},
   "source": [
    "### 2. Chi-Square FS"
   ]
  },
  {
   "cell_type": "code",
   "execution_count": 166,
   "id": "e1f34d3b",
   "metadata": {},
   "outputs": [
    {
     "name": "stdout",
     "output_type": "stream",
     "text": [
      "importing Jupyter notebook from feature_selection_methods.ipynb\n",
      "importing Jupyter notebook from classifier_models.ipynb\n",
      "(Main, Selected) Features size:\n",
      " |_ Amazon: (1198, 223)\n",
      " |_ IMDB  : (2065, 228)\n",
      " |_ Yelp  : (1331, 222)\n",
      "\n",
      "Amazon:\n"
     ]
    },
    {
     "data": {
      "text/html": [
       "<div>\n",
       "<style scoped>\n",
       "    .dataframe tbody tr th:only-of-type {\n",
       "        vertical-align: middle;\n",
       "    }\n",
       "\n",
       "    .dataframe tbody tr th {\n",
       "        vertical-align: top;\n",
       "    }\n",
       "\n",
       "    .dataframe thead th {\n",
       "        text-align: right;\n",
       "    }\n",
       "</style>\n",
       "<table border=\"1\" class=\"dataframe\">\n",
       "  <thead>\n",
       "    <tr style=\"text-align: right;\">\n",
       "      <th></th>\n",
       "      <th>0</th>\n",
       "    </tr>\n",
       "  </thead>\n",
       "  <tbody>\n",
       "    <tr>\n",
       "      <th>0</th>\n",
       "      <td>great</td>\n",
       "    </tr>\n",
       "    <tr>\n",
       "      <th>1</th>\n",
       "      <td>disappoint</td>\n",
       "    </tr>\n",
       "    <tr>\n",
       "      <th>2</th>\n",
       "      <td>wast</td>\n",
       "    </tr>\n",
       "    <tr>\n",
       "      <th>3</th>\n",
       "      <td>love</td>\n",
       "    </tr>\n",
       "    <tr>\n",
       "      <th>4</th>\n",
       "      <td>excel</td>\n",
       "    </tr>\n",
       "  </tbody>\n",
       "</table>\n",
       "</div>"
      ],
      "text/plain": [
       "            0\n",
       "0       great\n",
       "1  disappoint\n",
       "2        wast\n",
       "3        love\n",
       "4       excel"
      ]
     },
     "metadata": {},
     "output_type": "display_data"
    },
    {
     "name": "stdout",
     "output_type": "stream",
     "text": [
      "\n",
      "IMDB  :\n"
     ]
    },
    {
     "data": {
      "text/html": [
       "<div>\n",
       "<style scoped>\n",
       "    .dataframe tbody tr th:only-of-type {\n",
       "        vertical-align: middle;\n",
       "    }\n",
       "\n",
       "    .dataframe tbody tr th {\n",
       "        vertical-align: top;\n",
       "    }\n",
       "\n",
       "    .dataframe thead th {\n",
       "        text-align: right;\n",
       "    }\n",
       "</style>\n",
       "<table border=\"1\" class=\"dataframe\">\n",
       "  <thead>\n",
       "    <tr style=\"text-align: right;\">\n",
       "      <th></th>\n",
       "      <th>0</th>\n",
       "    </tr>\n",
       "  </thead>\n",
       "  <tbody>\n",
       "    <tr>\n",
       "      <th>0</th>\n",
       "      <td>bad</td>\n",
       "    </tr>\n",
       "    <tr>\n",
       "      <th>1</th>\n",
       "      <td>love</td>\n",
       "    </tr>\n",
       "    <tr>\n",
       "      <th>2</th>\n",
       "      <td>great</td>\n",
       "    </tr>\n",
       "    <tr>\n",
       "      <th>3</th>\n",
       "      <td>aw</td>\n",
       "    </tr>\n",
       "    <tr>\n",
       "      <th>4</th>\n",
       "      <td>plot</td>\n",
       "    </tr>\n",
       "  </tbody>\n",
       "</table>\n",
       "</div>"
      ],
      "text/plain": [
       "       0\n",
       "0    bad\n",
       "1   love\n",
       "2  great\n",
       "3     aw\n",
       "4   plot"
      ]
     },
     "metadata": {},
     "output_type": "display_data"
    },
    {
     "name": "stdout",
     "output_type": "stream",
     "text": [
      "\n",
      "Yelp  :\n"
     ]
    },
    {
     "data": {
      "text/html": [
       "<div>\n",
       "<style scoped>\n",
       "    .dataframe tbody tr th:only-of-type {\n",
       "        vertical-align: middle;\n",
       "    }\n",
       "\n",
       "    .dataframe tbody tr th {\n",
       "        vertical-align: top;\n",
       "    }\n",
       "\n",
       "    .dataframe thead th {\n",
       "        text-align: right;\n",
       "    }\n",
       "</style>\n",
       "<table border=\"1\" class=\"dataframe\">\n",
       "  <thead>\n",
       "    <tr style=\"text-align: right;\">\n",
       "      <th></th>\n",
       "      <th>0</th>\n",
       "    </tr>\n",
       "  </thead>\n",
       "  <tbody>\n",
       "    <tr>\n",
       "      <th>0</th>\n",
       "      <td>great</td>\n",
       "    </tr>\n",
       "    <tr>\n",
       "      <th>1</th>\n",
       "      <td>delici</td>\n",
       "    </tr>\n",
       "    <tr>\n",
       "      <th>2</th>\n",
       "      <td>love</td>\n",
       "    </tr>\n",
       "    <tr>\n",
       "      <th>3</th>\n",
       "      <td>dont</td>\n",
       "    </tr>\n",
       "    <tr>\n",
       "      <th>4</th>\n",
       "      <td>awesom</td>\n",
       "    </tr>\n",
       "  </tbody>\n",
       "</table>\n",
       "</div>"
      ],
      "text/plain": [
       "        0\n",
       "0   great\n",
       "1  delici\n",
       "2    love\n",
       "3    dont\n",
       "4  awesom"
      ]
     },
     "metadata": {},
     "output_type": "display_data"
    }
   ],
   "source": [
    "# Reload the sub_modules to apply changes\n",
    "FS, models = reload_moduls()\n",
    "\n",
    "chi_tops = FS.chi_square(vectorized_trains, y_train_datasets)\n",
    "fs_tops.append(chi_tops)\n",
    "display_tops(chi_tops, vectorizers)"
   ]
  },
  {
   "cell_type": "code",
   "execution_count": null,
   "id": "a4b7bacd",
   "metadata": {},
   "outputs": [],
   "source": []
  },
  {
   "cell_type": "markdown",
   "id": "e650579a",
   "metadata": {},
   "source": [
    "### 3. Count Difference FS"
   ]
  },
  {
   "cell_type": "code",
   "execution_count": 167,
   "id": "acf037ef",
   "metadata": {},
   "outputs": [
    {
     "name": "stdout",
     "output_type": "stream",
     "text": [
      "importing Jupyter notebook from feature_selection_methods.ipynb\n",
      "importing Jupyter notebook from classifier_models.ipynb\n",
      "(Main, Selected) Features size:\n",
      " |_ Amazon: (1198, 285)\n",
      " |_ IMDB  : (2065, 291)\n",
      " |_ Yelp  : (1331, 281)\n",
      "\n",
      "Amazon:\n"
     ]
    },
    {
     "data": {
      "text/html": [
       "<div>\n",
       "<style scoped>\n",
       "    .dataframe tbody tr th:only-of-type {\n",
       "        vertical-align: middle;\n",
       "    }\n",
       "\n",
       "    .dataframe tbody tr th {\n",
       "        vertical-align: top;\n",
       "    }\n",
       "\n",
       "    .dataframe thead th {\n",
       "        text-align: right;\n",
       "    }\n",
       "</style>\n",
       "<table border=\"1\" class=\"dataframe\">\n",
       "  <thead>\n",
       "    <tr style=\"text-align: right;\">\n",
       "      <th></th>\n",
       "      <th>0</th>\n",
       "    </tr>\n",
       "  </thead>\n",
       "  <tbody>\n",
       "    <tr>\n",
       "      <th>0</th>\n",
       "      <td>great</td>\n",
       "    </tr>\n",
       "    <tr>\n",
       "      <th>1</th>\n",
       "      <td>disappoint</td>\n",
       "    </tr>\n",
       "    <tr>\n",
       "      <th>2</th>\n",
       "      <td>good</td>\n",
       "    </tr>\n",
       "    <tr>\n",
       "      <th>3</th>\n",
       "      <td>price</td>\n",
       "    </tr>\n",
       "    <tr>\n",
       "      <th>4</th>\n",
       "      <td>wast</td>\n",
       "    </tr>\n",
       "  </tbody>\n",
       "</table>\n",
       "</div>"
      ],
      "text/plain": [
       "            0\n",
       "0       great\n",
       "1  disappoint\n",
       "2        good\n",
       "3       price\n",
       "4        wast"
      ]
     },
     "metadata": {},
     "output_type": "display_data"
    },
    {
     "name": "stdout",
     "output_type": "stream",
     "text": [
      "\n",
      "IMDB  :\n"
     ]
    },
    {
     "data": {
      "text/html": [
       "<div>\n",
       "<style scoped>\n",
       "    .dataframe tbody tr th:only-of-type {\n",
       "        vertical-align: middle;\n",
       "    }\n",
       "\n",
       "    .dataframe tbody tr th {\n",
       "        vertical-align: top;\n",
       "    }\n",
       "\n",
       "    .dataframe thead th {\n",
       "        text-align: right;\n",
       "    }\n",
       "</style>\n",
       "<table border=\"1\" class=\"dataframe\">\n",
       "  <thead>\n",
       "    <tr style=\"text-align: right;\">\n",
       "      <th></th>\n",
       "      <th>0</th>\n",
       "    </tr>\n",
       "  </thead>\n",
       "  <tbody>\n",
       "    <tr>\n",
       "      <th>0</th>\n",
       "      <td>bad</td>\n",
       "    </tr>\n",
       "    <tr>\n",
       "      <th>1</th>\n",
       "      <td>love</td>\n",
       "    </tr>\n",
       "    <tr>\n",
       "      <th>2</th>\n",
       "      <td>great</td>\n",
       "    </tr>\n",
       "    <tr>\n",
       "      <th>3</th>\n",
       "      <td>plot</td>\n",
       "    </tr>\n",
       "    <tr>\n",
       "      <th>4</th>\n",
       "      <td>aw</td>\n",
       "    </tr>\n",
       "  </tbody>\n",
       "</table>\n",
       "</div>"
      ],
      "text/plain": [
       "       0\n",
       "0    bad\n",
       "1   love\n",
       "2  great\n",
       "3   plot\n",
       "4     aw"
      ]
     },
     "metadata": {},
     "output_type": "display_data"
    },
    {
     "name": "stdout",
     "output_type": "stream",
     "text": [
      "\n",
      "Yelp  :\n"
     ]
    },
    {
     "data": {
      "text/html": [
       "<div>\n",
       "<style scoped>\n",
       "    .dataframe tbody tr th:only-of-type {\n",
       "        vertical-align: middle;\n",
       "    }\n",
       "\n",
       "    .dataframe tbody tr th {\n",
       "        vertical-align: top;\n",
       "    }\n",
       "\n",
       "    .dataframe thead th {\n",
       "        text-align: right;\n",
       "    }\n",
       "</style>\n",
       "<table border=\"1\" class=\"dataframe\">\n",
       "  <thead>\n",
       "    <tr style=\"text-align: right;\">\n",
       "      <th></th>\n",
       "      <th>0</th>\n",
       "    </tr>\n",
       "  </thead>\n",
       "  <tbody>\n",
       "    <tr>\n",
       "      <th>0</th>\n",
       "      <td>great</td>\n",
       "    </tr>\n",
       "    <tr>\n",
       "      <th>1</th>\n",
       "      <td>good</td>\n",
       "    </tr>\n",
       "    <tr>\n",
       "      <th>2</th>\n",
       "      <td>delici</td>\n",
       "    </tr>\n",
       "    <tr>\n",
       "      <th>3</th>\n",
       "      <td>love</td>\n",
       "    </tr>\n",
       "    <tr>\n",
       "      <th>4</th>\n",
       "      <td>dont</td>\n",
       "    </tr>\n",
       "  </tbody>\n",
       "</table>\n",
       "</div>"
      ],
      "text/plain": [
       "        0\n",
       "0   great\n",
       "1    good\n",
       "2  delici\n",
       "3    love\n",
       "4    dont"
      ]
     },
     "metadata": {},
     "output_type": "display_data"
    }
   ],
   "source": [
    "# Reload the sub_modules to apply changes\n",
    "FS, models = reload_moduls()\n",
    "\n",
    "cd_tops = FS.count_diff(vectorized_trains, y_train_datasets)\n",
    "fs_tops.append(cd_tops)\n",
    "display_tops(cd_tops, vectorizers)"
   ]
  },
  {
   "cell_type": "code",
   "execution_count": null,
   "id": "5cba4e4d",
   "metadata": {},
   "outputs": [],
   "source": []
  },
  {
   "cell_type": "markdown",
   "id": "1f199945",
   "metadata": {},
   "source": [
    "### 4. GSS FS"
   ]
  },
  {
   "cell_type": "code",
   "execution_count": 156,
   "id": "396201c5",
   "metadata": {},
   "outputs": [],
   "source": [
    "# Reload the sub_modules to apply changes\n",
    "# FS, models = reload_moduls()\n",
    "\n",
    "# gss_tops = FS.gss(vectorizers, y_train_datasets)\n",
    "# fs_tops.append(gss_tops)\n",
    "# display_tops(gss_tops, vectorizers)"
   ]
  },
  {
   "cell_type": "code",
   "execution_count": null,
   "id": "e6b2b436",
   "metadata": {},
   "outputs": [],
   "source": []
  },
  {
   "cell_type": "code",
   "execution_count": null,
   "id": "d849675d",
   "metadata": {},
   "outputs": [],
   "source": []
  },
  {
   "cell_type": "markdown",
   "id": "493beb7b",
   "metadata": {},
   "source": [
    "### ------------------------------------------------------------    Models    ---------------------------------------------------"
   ]
  },
  {
   "cell_type": "code",
   "execution_count": null,
   "id": "74c6e7dd",
   "metadata": {},
   "outputs": [],
   "source": []
  },
  {
   "cell_type": "markdown",
   "id": "b7c9f820",
   "metadata": {},
   "source": [
    "### Logistic Regression"
   ]
  },
  {
   "cell_type": "code",
   "execution_count": 202,
   "id": "8b616d6c",
   "metadata": {},
   "outputs": [
    {
     "name": "stdout",
     "output_type": "stream",
     "text": [
      "importing Jupyter notebook from feature_selection_methods.ipynb\n",
      "importing Jupyter notebook from classifier_models.ipynb\n",
      "\n",
      "FS: Odd-Ratio\n",
      "Accuracy:\n",
      " |_  Amazon: 0.78\n",
      " |_  IMDB  : 0.71\n",
      " |_  Yelp  : 0.75\n",
      "\n",
      "FS: Chi-Square\n",
      "Accuracy:\n",
      " |_  Amazon: 0.77\n",
      " |_  IMDB  : 0.72\n",
      " |_  Yelp  : 0.77\n",
      "\n",
      "FS: Count-Difference\n",
      "Accuracy:\n",
      " |_  Amazon: 0.79\n",
      " |_  IMDB  : 0.74\n",
      " |_  Yelp  : 0.78\n"
     ]
    }
   ],
   "source": [
    "# Reload the sub_modules to apply changes\n",
    "FS, models = reload_moduls()\n",
    "\n",
    "for i, tops in enumerate(fs_tops):\n",
    "    print('\\nFS: {}'.format(fs_methods_name[i]))\n",
    "    filtered_datasets_trains = apply_selected_features(vectorized_trains, tops)\n",
    "    filtered_datasets_tests = apply_selected_features(vectorized_tests, tops)\n",
    "    models.logestic_regression(filtered_datasets_trains, filtered_datasets_tests, y_train_datasets, y_test_datasets)"
   ]
  },
  {
   "cell_type": "code",
   "execution_count": null,
   "id": "6db8a324",
   "metadata": {},
   "outputs": [],
   "source": []
  },
  {
   "cell_type": "markdown",
   "id": "28b6aca4",
   "metadata": {},
   "source": [
    "### Linear SVM"
   ]
  },
  {
   "cell_type": "code",
   "execution_count": 22,
   "id": "fc140655",
   "metadata": {},
   "outputs": [
    {
     "name": "stdout",
     "output_type": "stream",
     "text": [
      "importing Jupyter notebook from feature_selection_methods.ipynb\n",
      "importing Jupyter notebook from classifier_models.ipynb\n",
      "\n",
      "FS: Odd-Ratio\n",
      "Accuracy:\n",
      " |_  Amazon: 0.74\n",
      " |_  IMDB  : 0.65\n",
      " |_  Yelp  : 0.70\n",
      "\n",
      "FS: Chi-Square\n",
      "Accuracy:\n",
      " |_  Amazon: 0.79\n",
      " |_  IMDB  : 0.70\n",
      " |_  Yelp  : 0.75\n",
      "\n",
      "FS: Count-Difference\n",
      "Accuracy:\n",
      " |_  Amazon: 0.74\n",
      " |_  IMDB  : 0.75\n",
      " |_  Yelp  : 0.71\n"
     ]
    }
   ],
   "source": [
    "# Reload the sub_modules to apply changes\n",
    "FS, models = reload_moduls()\n",
    "\n",
    "for i, tops in enumerate(fs_tops):\n",
    "    print('\\nFS: {}'.format(fs_methods_name[i]))\n",
    "    filtered_datasets_trains = apply_selected_features(vectorized_trains, tops)\n",
    "    filtered_datasets_tests = apply_selected_features(vectorized_tests, tops)\n",
    "    models.linear_svm(filtered_datasets_trains, filtered_datasets_tests, y_train_datasets, y_test_datasets)"
   ]
  },
  {
   "cell_type": "code",
   "execution_count": null,
   "id": "f0de764a",
   "metadata": {},
   "outputs": [],
   "source": []
  },
  {
   "cell_type": "markdown",
   "id": "4133d7a2",
   "metadata": {},
   "source": [
    "### RBF SVM"
   ]
  },
  {
   "cell_type": "code",
   "execution_count": 23,
   "id": "f4185e10",
   "metadata": {},
   "outputs": [
    {
     "name": "stdout",
     "output_type": "stream",
     "text": [
      "importing Jupyter notebook from feature_selection_methods.ipynb\n",
      "importing Jupyter notebook from classifier_models.ipynb\n",
      "\n",
      "FS: Odd-Ratio\n",
      "Accuracy:\n",
      " |_  Amazon: 0.74\n",
      " |_  IMDB  : 0.65\n",
      " |_  Yelp  : 0.69\n",
      "\n",
      "FS: Chi-Square\n",
      "Accuracy:\n",
      " |_  Amazon: 0.77\n",
      " |_  IMDB  : 0.70\n",
      " |_  Yelp  : 0.76\n",
      "\n",
      "FS: Count-Difference\n",
      "Accuracy:\n",
      " |_  Amazon: 0.77\n",
      " |_  IMDB  : 0.76\n",
      " |_  Yelp  : 0.73\n"
     ]
    }
   ],
   "source": [
    "# Reload the sub_modules to apply changes\n",
    "FS, models = reload_moduls()\n",
    "\n",
    "for i, tops in enumerate(fs_tops):\n",
    "    print('\\nFS: {}'.format(fs_methods_name[i]))\n",
    "    filtered_datasets_trains = apply_selected_features(vectorized_trains, tops)\n",
    "    filtered_datasets_tests = apply_selected_features(vectorized_tests, tops)\n",
    "    models.rbf_svm(filtered_datasets_trains, filtered_datasets_tests, y_train_datasets, y_test_datasets)"
   ]
  },
  {
   "cell_type": "code",
   "execution_count": null,
   "id": "a6f69827",
   "metadata": {},
   "outputs": [],
   "source": []
  },
  {
   "cell_type": "markdown",
   "id": "b360e258",
   "metadata": {},
   "source": [
    "### Decision Tree"
   ]
  },
  {
   "cell_type": "code",
   "execution_count": 24,
   "id": "05c2583a",
   "metadata": {},
   "outputs": [
    {
     "name": "stdout",
     "output_type": "stream",
     "text": [
      "importing Jupyter notebook from feature_selection_methods.ipynb\n",
      "importing Jupyter notebook from classifier_models.ipynb\n",
      "\n",
      "FS: Odd-Ratio\n",
      "Accuracy:\n",
      " |_  Amazon: 0.72\n",
      " |_  IMDB  : 0.64\n",
      " |_  Yelp  : 0.66\n",
      "\n",
      "FS: Chi-Square\n",
      "Accuracy:\n",
      " |_  Amazon: 0.75\n",
      " |_  IMDB  : 0.61\n",
      " |_  Yelp  : 0.68\n",
      "\n",
      "FS: Count-Difference\n",
      "Accuracy:\n",
      " |_  Amazon: 0.74\n",
      " |_  IMDB  : 0.62\n",
      " |_  Yelp  : 0.68\n"
     ]
    }
   ],
   "source": [
    "# Reload the sub_modules to apply changes\n",
    "FS, models = reload_moduls()\n",
    "\n",
    "for i, tops in enumerate(fs_tops):\n",
    "    print('\\nFS: {}'.format(fs_methods_name[i]))\n",
    "    filtered_datasets_trains = apply_selected_features(vectorized_trains, tops)\n",
    "    filtered_datasets_tests = apply_selected_features(vectorized_tests, tops)\n",
    "    models.decision_tree(filtered_datasets_trains, filtered_datasets_tests, y_train_datasets, y_test_datasets)"
   ]
  },
  {
   "cell_type": "code",
   "execution_count": null,
   "id": "a03f0368",
   "metadata": {},
   "outputs": [],
   "source": []
  },
  {
   "cell_type": "markdown",
   "id": "b32dd8d4",
   "metadata": {},
   "source": [
    "### MNB"
   ]
  },
  {
   "cell_type": "code",
   "execution_count": 177,
   "id": "0d6657c2",
   "metadata": {},
   "outputs": [
    {
     "name": "stdout",
     "output_type": "stream",
     "text": [
      "importing Jupyter notebook from feature_selection_methods.ipynb\n",
      "importing Jupyter notebook from classifier_models.ipynb\n",
      "\n",
      "FS: Odd-Ratio\n",
      "Accuracy:\n",
      " |_  Amazon: 0.72\n",
      " |_  IMDB  : 0.73\n",
      " |_  Yelp  : 0.64\n",
      "\n",
      "FS: Chi-Square\n",
      "Accuracy:\n",
      " |_  Amazon: 0.80\n",
      " |_  IMDB  : 0.73\n",
      " |_  Yelp  : 0.75\n",
      "\n",
      "FS: Count-Difference\n",
      "Accuracy:\n",
      " |_  Amazon: 0.81\n",
      " |_  IMDB  : 0.73\n",
      " |_  Yelp  : 0.73\n"
     ]
    }
   ],
   "source": [
    "# Reload the sub_modules to apply changes\n",
    "FS, models = reload_moduls()\n",
    "\n",
    "for i, tops in enumerate(fs_tops):\n",
    "    print('\\nFS: {}'.format(fs_methods_name[i]))\n",
    "    filtered_datasets_trains = apply_selected_features(vectorized_trains, tops)\n",
    "    filtered_datasets_tests = apply_selected_features(vectorized_tests, tops)\n",
    "    models.multinomial_naive_bayes(filtered_datasets_trains, filtered_datasets_tests, y_train_datasets, y_test_datasets)"
   ]
  },
  {
   "cell_type": "code",
   "execution_count": null,
   "id": "105d17df",
   "metadata": {},
   "outputs": [],
   "source": []
  },
  {
   "cell_type": "markdown",
   "id": "bc0cafee",
   "metadata": {},
   "source": [
    "### BNB"
   ]
  },
  {
   "cell_type": "code",
   "execution_count": 176,
   "id": "8199d1e2",
   "metadata": {},
   "outputs": [
    {
     "name": "stdout",
     "output_type": "stream",
     "text": [
      "importing Jupyter notebook from feature_selection_methods.ipynb\n",
      "importing Jupyter notebook from classifier_models.ipynb\n",
      "\n",
      "FS: Odd-Ratio\n",
      "Accuracy:\n",
      " |_  Amazon: 0.77\n",
      " |_  IMDB  : 0.59\n",
      " |_  Yelp  : 0.75\n",
      "\n",
      "FS: Chi-Square\n",
      "Accuracy:\n",
      " |_  Amazon: 0.79\n",
      " |_  IMDB  : 0.74\n",
      " |_  Yelp  : 0.76\n",
      "\n",
      "FS: Count-Difference\n",
      "Accuracy:\n",
      " |_  Amazon: 0.81\n",
      " |_  IMDB  : 0.74\n",
      " |_  Yelp  : 0.76\n"
     ]
    }
   ],
   "source": [
    "# Reload the sub_modules to apply changes\n",
    "FS, models = reload_moduls()\n",
    "\n",
    "for i, tops in enumerate(fs_tops):\n",
    "    print('\\nFS: {}'.format(fs_methods_name[i]))\n",
    "    filtered_datasets_trains = apply_selected_features(vectorized_trains, tops)\n",
    "    filtered_datasets_tests = apply_selected_features(vectorized_tests, tops)\n",
    "    models.bernoulli_naive_bayes(filtered_datasets_trains, filtered_datasets_tests, y_train_datasets, y_test_datasets)"
   ]
  },
  {
   "cell_type": "code",
   "execution_count": null,
   "id": "442286bc",
   "metadata": {},
   "outputs": [],
   "source": []
  },
  {
   "cell_type": "code",
   "execution_count": null,
   "id": "4d60b0c5",
   "metadata": {},
   "outputs": [
    {
     "name": "stdout",
     "output_type": "stream",
     "text": [
      "importing Jupyter notebook from feature_selection_methods.ipynb\n",
      "importing Jupyter notebook from classifier_models.ipynb\n",
      "Bagging Ensemble Classifiers with\n",
      "\n",
      "----- LR -----\n",
      "\n",
      "FS: Odd-Ratio\n",
      "Accuracy:\n",
      " |_  Amazon: 0.72\n",
      " |_  IMDB  : 0.71\n",
      " |_  Yelp  : 0.69\n",
      "\n",
      "FS: Chi-Square\n",
      "Accuracy:\n",
      " |_  Amazon: 0.79\n",
      " |_  IMDB  : 0.72\n",
      " |_  Yelp  : 0.75\n",
      "\n",
      "FS: Count-Difference\n",
      "Accuracy:\n",
      " |_  Amazon: 0.80\n",
      " |_  IMDB  : 0.74\n",
      " |_  Yelp  : 0.77\n",
      "\n",
      "----- SVM-Linear -----\n",
      "\n",
      "FS: Odd-Ratio\n",
      "Accuracy:\n",
      " |_  Amazon: 0.80\n",
      " |_  IMDB  : 0.64\n",
      " |_  Yelp  : 0.75\n",
      "\n",
      "FS: Chi-Square\n",
      "Accuracy:\n",
      " |_  Amazon: 0.77\n",
      " |_  IMDB  : 0.72\n",
      " |_  Yelp  : 0.75\n",
      "\n",
      "FS: Count-Difference\n",
      "Accuracy:\n",
      " |_  Amazon: 0.81\n",
      " |_  IMDB  : 0.71\n",
      " |_  Yelp  : 0.75\n",
      "\n",
      "----- SVM-RBF -----\n",
      "\n",
      "FS: Odd-Ratio\n",
      "Accuracy:\n",
      " |_  Amazon: 0.81\n",
      " |_  IMDB  : 0.76\n",
      " |_  Yelp  : 0.75\n",
      "\n",
      "FS: Chi-Square\n",
      "Accuracy:\n",
      " |_  Amazon: 0.79\n",
      " |_  IMDB  : 0.71\n",
      " |_  Yelp  : 0.76\n",
      "\n",
      "FS: Count-Difference\n",
      "Accuracy:\n",
      " |_  Amazon: 0.80\n",
      " |_  IMDB  : 0.71\n",
      " |_  Yelp  : 0.75\n",
      "\n",
      "----- DT -----\n",
      "\n",
      "FS: Odd-Ratio\n",
      "Accuracy:\n",
      " |_  Amazon: 0.73\n"
     ]
    }
   ],
   "source": [
    "# Reload the sub_modules to apply changes\n",
    "FS, models = reload_moduls()\n",
    "classifiers = ['LR', 'SVM-Linear', 'SVM-RBF', 'DT', 'MNB', 'BNB']\n",
    "print('Bagging Ensemble Classifiers with')\n",
    "\n",
    "for j, classifier in enumerate(classifiers):\n",
    "    print('\\n----- {} -----'.format(classifiers[j]))\n",
    "    for i, tops in enumerate(fs_tops):\n",
    "        print('\\nFS: {}'.format(fs_methods_name[i]))\n",
    "        filtered_datasets_trains = apply_selected_features(vectorized_trains, tops)\n",
    "        filtered_datasets_tests = apply_selected_features(vectorized_tests, tops)\n",
    "        models.bagging(filtered_datasets_trains, filtered_datasets_tests, y_train_datasets, y_test_datasets, classifiers[j])"
   ]
  },
  {
   "cell_type": "code",
   "execution_count": null,
   "id": "4453b83b",
   "metadata": {},
   "outputs": [],
   "source": []
  },
  {
   "cell_type": "code",
   "execution_count": null,
   "id": "41cd8d87",
   "metadata": {},
   "outputs": [],
   "source": []
  },
  {
   "cell_type": "code",
   "execution_count": null,
   "id": "c733e78c",
   "metadata": {},
   "outputs": [],
   "source": []
  },
  {
   "cell_type": "code",
   "execution_count": 47,
   "id": "3e1541a1",
   "metadata": {},
   "outputs": [
    {
     "name": "stdout",
     "output_type": "stream",
     "text": [
      "\n",
      "Amazon:\n"
     ]
    },
    {
     "data": {
      "text/html": [
       "<div>\n",
       "<style scoped>\n",
       "    .dataframe tbody tr th:only-of-type {\n",
       "        vertical-align: middle;\n",
       "    }\n",
       "\n",
       "    .dataframe tbody tr th {\n",
       "        vertical-align: top;\n",
       "    }\n",
       "\n",
       "    .dataframe thead th {\n",
       "        text-align: right;\n",
       "    }\n",
       "</style>\n",
       "<table border=\"1\" class=\"dataframe\">\n",
       "  <thead>\n",
       "    <tr style=\"text-align: right;\">\n",
       "      <th></th>\n",
       "      <th>FS_Techniques</th>\n",
       "      <th>LR</th>\n",
       "      <th>SVM_RBF</th>\n",
       "      <th>SVM_Linear</th>\n",
       "      <th>DT</th>\n",
       "      <th>MNB</th>\n",
       "      <th>BNB</th>\n",
       "    </tr>\n",
       "  </thead>\n",
       "  <tbody>\n",
       "    <tr>\n",
       "      <th>0</th>\n",
       "      <td>OR</td>\n",
       "      <td>0.74</td>\n",
       "      <td>0.74</td>\n",
       "      <td>0.74</td>\n",
       "      <td>0.72</td>\n",
       "      <td>0.68</td>\n",
       "      <td>0.74</td>\n",
       "    </tr>\n",
       "    <tr>\n",
       "      <th>1</th>\n",
       "      <td>Chi_Sq</td>\n",
       "      <td>0.78</td>\n",
       "      <td>0.77</td>\n",
       "      <td>0.79</td>\n",
       "      <td>0.75</td>\n",
       "      <td>0.77</td>\n",
       "      <td>0.78</td>\n",
       "    </tr>\n",
       "    <tr>\n",
       "      <th>2</th>\n",
       "      <td>GSS</td>\n",
       "      <td>NaN</td>\n",
       "      <td>NaN</td>\n",
       "      <td>NaN</td>\n",
       "      <td>NaN</td>\n",
       "      <td>NaN</td>\n",
       "      <td>NaN</td>\n",
       "    </tr>\n",
       "    <tr>\n",
       "      <th>3</th>\n",
       "      <td>BNS</td>\n",
       "      <td>NaN</td>\n",
       "      <td>NaN</td>\n",
       "      <td>NaN</td>\n",
       "      <td>NaN</td>\n",
       "      <td>NaN</td>\n",
       "      <td>NaN</td>\n",
       "    </tr>\n",
       "    <tr>\n",
       "      <th>4</th>\n",
       "      <td>CD</td>\n",
       "      <td>0.77</td>\n",
       "      <td>0.77</td>\n",
       "      <td>0.74</td>\n",
       "      <td>0.74</td>\n",
       "      <td>0.78</td>\n",
       "      <td>0.79</td>\n",
       "    </tr>\n",
       "    <tr>\n",
       "      <th>5</th>\n",
       "      <td>Imp_Chi_Sq</td>\n",
       "      <td>NaN</td>\n",
       "      <td>NaN</td>\n",
       "      <td>NaN</td>\n",
       "      <td>NaN</td>\n",
       "      <td>NaN</td>\n",
       "      <td>NaN</td>\n",
       "    </tr>\n",
       "    <tr>\n",
       "      <th>6</th>\n",
       "      <td>MRDC</td>\n",
       "      <td>NaN</td>\n",
       "      <td>NaN</td>\n",
       "      <td>NaN</td>\n",
       "      <td>NaN</td>\n",
       "      <td>NaN</td>\n",
       "      <td>NaN</td>\n",
       "    </tr>\n",
       "  </tbody>\n",
       "</table>\n",
       "</div>"
      ],
      "text/plain": [
       "  FS_Techniques    LR SVM_RBF SVM_Linear    DT   MNB   BNB\n",
       "0            OR  0.74    0.74       0.74  0.72  0.68  0.74\n",
       "1        Chi_Sq  0.78    0.77       0.79  0.75  0.77  0.78\n",
       "2           GSS   NaN     NaN        NaN   NaN   NaN   NaN\n",
       "3           BNS   NaN     NaN        NaN   NaN   NaN   NaN\n",
       "4            CD  0.77    0.77       0.74  0.74  0.78  0.79\n",
       "5    Imp_Chi_Sq   NaN     NaN        NaN   NaN   NaN   NaN\n",
       "6          MRDC   NaN     NaN        NaN   NaN   NaN   NaN"
      ]
     },
     "metadata": {},
     "output_type": "display_data"
    },
    {
     "name": "stdout",
     "output_type": "stream",
     "text": [
      "\n",
      "IMDB  :\n"
     ]
    },
    {
     "data": {
      "text/html": [
       "<div>\n",
       "<style scoped>\n",
       "    .dataframe tbody tr th:only-of-type {\n",
       "        vertical-align: middle;\n",
       "    }\n",
       "\n",
       "    .dataframe tbody tr th {\n",
       "        vertical-align: top;\n",
       "    }\n",
       "\n",
       "    .dataframe thead th {\n",
       "        text-align: right;\n",
       "    }\n",
       "</style>\n",
       "<table border=\"1\" class=\"dataframe\">\n",
       "  <thead>\n",
       "    <tr style=\"text-align: right;\">\n",
       "      <th></th>\n",
       "      <th>FS_Techniques</th>\n",
       "      <th>LR</th>\n",
       "      <th>SVM_RBF</th>\n",
       "      <th>SVM_Linear</th>\n",
       "      <th>DT</th>\n",
       "      <th>MNB</th>\n",
       "      <th>BNB</th>\n",
       "    </tr>\n",
       "  </thead>\n",
       "  <tbody>\n",
       "    <tr>\n",
       "      <th>0</th>\n",
       "      <td>OR</td>\n",
       "      <td>0.65</td>\n",
       "      <td>0.65</td>\n",
       "      <td>0.65</td>\n",
       "      <td>0.64</td>\n",
       "      <td>0.57</td>\n",
       "      <td>0.65</td>\n",
       "    </tr>\n",
       "    <tr>\n",
       "      <th>1</th>\n",
       "      <td>Chi_Sq</td>\n",
       "      <td>0.71</td>\n",
       "      <td>0.7</td>\n",
       "      <td>0.7</td>\n",
       "      <td>0.61</td>\n",
       "      <td>0.72</td>\n",
       "      <td>0.71</td>\n",
       "    </tr>\n",
       "    <tr>\n",
       "      <th>2</th>\n",
       "      <td>GSS</td>\n",
       "      <td>NaN</td>\n",
       "      <td>NaN</td>\n",
       "      <td>NaN</td>\n",
       "      <td>NaN</td>\n",
       "      <td>NaN</td>\n",
       "      <td>NaN</td>\n",
       "    </tr>\n",
       "    <tr>\n",
       "      <th>3</th>\n",
       "      <td>BNS</td>\n",
       "      <td>NaN</td>\n",
       "      <td>NaN</td>\n",
       "      <td>NaN</td>\n",
       "      <td>NaN</td>\n",
       "      <td>NaN</td>\n",
       "      <td>NaN</td>\n",
       "    </tr>\n",
       "    <tr>\n",
       "      <th>4</th>\n",
       "      <td>CD</td>\n",
       "      <td>0.75</td>\n",
       "      <td>0.76</td>\n",
       "      <td>0.75</td>\n",
       "      <td>0.62</td>\n",
       "      <td>0.76</td>\n",
       "      <td>0.77</td>\n",
       "    </tr>\n",
       "    <tr>\n",
       "      <th>5</th>\n",
       "      <td>Imp_Chi_Sq</td>\n",
       "      <td>NaN</td>\n",
       "      <td>NaN</td>\n",
       "      <td>NaN</td>\n",
       "      <td>NaN</td>\n",
       "      <td>NaN</td>\n",
       "      <td>NaN</td>\n",
       "    </tr>\n",
       "    <tr>\n",
       "      <th>6</th>\n",
       "      <td>MRDC</td>\n",
       "      <td>NaN</td>\n",
       "      <td>NaN</td>\n",
       "      <td>NaN</td>\n",
       "      <td>NaN</td>\n",
       "      <td>NaN</td>\n",
       "      <td>NaN</td>\n",
       "    </tr>\n",
       "  </tbody>\n",
       "</table>\n",
       "</div>"
      ],
      "text/plain": [
       "  FS_Techniques    LR SVM_RBF SVM_Linear    DT   MNB   BNB\n",
       "0            OR  0.65    0.65       0.65  0.64  0.57  0.65\n",
       "1        Chi_Sq  0.71     0.7        0.7  0.61  0.72  0.71\n",
       "2           GSS   NaN     NaN        NaN   NaN   NaN   NaN\n",
       "3           BNS   NaN     NaN        NaN   NaN   NaN   NaN\n",
       "4            CD  0.75    0.76       0.75  0.62  0.76  0.77\n",
       "5    Imp_Chi_Sq   NaN     NaN        NaN   NaN   NaN   NaN\n",
       "6          MRDC   NaN     NaN        NaN   NaN   NaN   NaN"
      ]
     },
     "metadata": {},
     "output_type": "display_data"
    },
    {
     "name": "stdout",
     "output_type": "stream",
     "text": [
      "\n",
      "Yelp  :\n"
     ]
    },
    {
     "data": {
      "text/html": [
       "<div>\n",
       "<style scoped>\n",
       "    .dataframe tbody tr th:only-of-type {\n",
       "        vertical-align: middle;\n",
       "    }\n",
       "\n",
       "    .dataframe tbody tr th {\n",
       "        vertical-align: top;\n",
       "    }\n",
       "\n",
       "    .dataframe thead th {\n",
       "        text-align: right;\n",
       "    }\n",
       "</style>\n",
       "<table border=\"1\" class=\"dataframe\">\n",
       "  <thead>\n",
       "    <tr style=\"text-align: right;\">\n",
       "      <th></th>\n",
       "      <th>FS_Techniques</th>\n",
       "      <th>LR</th>\n",
       "      <th>SVM_RBF</th>\n",
       "      <th>SVM_Linear</th>\n",
       "      <th>DT</th>\n",
       "      <th>MNB</th>\n",
       "      <th>BNB</th>\n",
       "    </tr>\n",
       "  </thead>\n",
       "  <tbody>\n",
       "    <tr>\n",
       "      <th>0</th>\n",
       "      <td>OR</td>\n",
       "      <td>0.69</td>\n",
       "      <td>0.69</td>\n",
       "      <td>0.7</td>\n",
       "      <td>0.66</td>\n",
       "      <td>0.61</td>\n",
       "      <td>0.69</td>\n",
       "    </tr>\n",
       "    <tr>\n",
       "      <th>1</th>\n",
       "      <td>Chi_Sq</td>\n",
       "      <td>0.75</td>\n",
       "      <td>0.76</td>\n",
       "      <td>0.75</td>\n",
       "      <td>0.68</td>\n",
       "      <td>0.75</td>\n",
       "      <td>0.74</td>\n",
       "    </tr>\n",
       "    <tr>\n",
       "      <th>2</th>\n",
       "      <td>GSS</td>\n",
       "      <td>NaN</td>\n",
       "      <td>NaN</td>\n",
       "      <td>NaN</td>\n",
       "      <td>NaN</td>\n",
       "      <td>NaN</td>\n",
       "      <td>NaN</td>\n",
       "    </tr>\n",
       "    <tr>\n",
       "      <th>3</th>\n",
       "      <td>BNS</td>\n",
       "      <td>NaN</td>\n",
       "      <td>NaN</td>\n",
       "      <td>NaN</td>\n",
       "      <td>NaN</td>\n",
       "      <td>NaN</td>\n",
       "      <td>NaN</td>\n",
       "    </tr>\n",
       "    <tr>\n",
       "      <th>4</th>\n",
       "      <td>CD</td>\n",
       "      <td>0.73</td>\n",
       "      <td>0.73</td>\n",
       "      <td>0.71</td>\n",
       "      <td>0.68</td>\n",
       "      <td>0.73</td>\n",
       "      <td>0.75</td>\n",
       "    </tr>\n",
       "    <tr>\n",
       "      <th>5</th>\n",
       "      <td>Imp_Chi_Sq</td>\n",
       "      <td>NaN</td>\n",
       "      <td>NaN</td>\n",
       "      <td>NaN</td>\n",
       "      <td>NaN</td>\n",
       "      <td>NaN</td>\n",
       "      <td>NaN</td>\n",
       "    </tr>\n",
       "    <tr>\n",
       "      <th>6</th>\n",
       "      <td>MRDC</td>\n",
       "      <td>NaN</td>\n",
       "      <td>NaN</td>\n",
       "      <td>NaN</td>\n",
       "      <td>NaN</td>\n",
       "      <td>NaN</td>\n",
       "      <td>NaN</td>\n",
       "    </tr>\n",
       "  </tbody>\n",
       "</table>\n",
       "</div>"
      ],
      "text/plain": [
       "  FS_Techniques    LR SVM_RBF SVM_Linear    DT   MNB   BNB\n",
       "0            OR  0.69    0.69        0.7  0.66  0.61  0.69\n",
       "1        Chi_Sq  0.75    0.76       0.75  0.68  0.75  0.74\n",
       "2           GSS   NaN     NaN        NaN   NaN   NaN   NaN\n",
       "3           BNS   NaN     NaN        NaN   NaN   NaN   NaN\n",
       "4            CD  0.73    0.73       0.71  0.68  0.73  0.75\n",
       "5    Imp_Chi_Sq   NaN     NaN        NaN   NaN   NaN   NaN\n",
       "6          MRDC   NaN     NaN        NaN   NaN   NaN   NaN"
      ]
     },
     "metadata": {},
     "output_type": "display_data"
    }
   ],
   "source": [
    "columns = ['FS_Techniques', 'LR', 'SVM_RBF', 'SVM_Linear', 'DT', 'MNB', 'BNB']\n",
    "amazon_results = pd.DataFrame(columns=columns)\n",
    "imdb_results   = pd.DataFrame(columns=columns)\n",
    "yelp_results   = pd.DataFrame(columns=columns)\n",
    "\n",
    "FS_column = ['OR', 'Chi_Sq', 'GSS', 'BNS', 'CD', 'Imp_Chi_Sq', 'MRDC']\n",
    "amazon_results.FS_Techniques = FS_column\n",
    "imdb_results.FS_Techniques   = FS_column\n",
    "yelp_results.FS_Techniques   = FS_column\n",
    "\n",
    "amazon_results.LR = [0.74, 0.78, 'NaN', 'NaN', 0.77, 'NaN', 'NaN']\n",
    "imdb_results.LR   = [0.65, 0.71, 'NaN', 'NaN', 0.75, 'NaN', 'NaN']\n",
    "yelp_results.LR   = [0.69, 0.75, 'NaN', 'NaN', 0.73, 'NaN', 'NaN']\n",
    "\n",
    "amazon_results.SVM_RBF = [0.74, 0.77, 'NaN', 'NaN', 0.77, 'NaN', 'NaN']\n",
    "imdb_results.SVM_RBF   = [0.65, 0.70, 'NaN', 'NaN', 0.76, 'NaN', 'NaN']\n",
    "yelp_results.SVM_RBF   = [0.69, 0.76, 'NaN', 'NaN', 0.73, 'NaN', 'NaN']\n",
    "\n",
    "amazon_results.SVM_Linear = [0.74, 0.79, 'NaN', 'NaN', 0.74, 'NaN', 'NaN']\n",
    "imdb_results.SVM_Linear   = [0.65, 0.70, 'NaN', 'NaN', 0.75, 'NaN', 'NaN']\n",
    "yelp_results.SVM_Linear   = [0.70, 0.75, 'NaN', 'NaN', 0.71, 'NaN', 'NaN']\n",
    "\n",
    "amazon_results.DT = [0.72, 0.75, 'NaN', 'NaN', 0.74, 'NaN', 'NaN']\n",
    "imdb_results.DT   = [0.64, 0.61, 'NaN', 'NaN', 0.62, 'NaN', 'NaN']\n",
    "yelp_results.DT   = [0.66, 0.68, 'NaN', 'NaN', 0.68, 'NaN', 'NaN']\n",
    "\n",
    "amazon_results.MNB = [0.68, 0.77, 'NaN', 'NaN', 0.78, 'NaN', 'NaN']\n",
    "imdb_results.MNB   = [0.57, 0.72, 'NaN', 'NaN', 0.76, 'NaN', 'NaN']\n",
    "yelp_results.MNB   = [0.61, 0.75, 'NaN', 'NaN', 0.73, 'NaN', 'NaN']\n",
    "\n",
    "amazon_results.BNB = [0.74, 0.78, 'NaN', 'NaN', 0.79, 'NaN', 'NaN']\n",
    "imdb_results.BNB   = [0.65, 0.71, 'NaN', 'NaN', 0.77, 'NaN', 'NaN']\n",
    "yelp_results.BNB   = [0.69, 0.74, 'NaN', 'NaN', 0.75, 'NaN', 'NaN']\n",
    "\n",
    "print('\\n{}:'.format(datasets_name[0]))\n",
    "display(amazon_results)\n",
    "print('\\n{}:'.format(datasets_name[1]))\n",
    "display(imdb_results)\n",
    "print('\\n{}:'.format(datasets_name[2]))\n",
    "display(yelp_results)"
   ]
  },
  {
   "cell_type": "code",
   "execution_count": null,
   "id": "7e693350",
   "metadata": {},
   "outputs": [],
   "source": []
  },
  {
   "cell_type": "code",
   "execution_count": null,
   "id": "a3d0e4e5",
   "metadata": {},
   "outputs": [],
   "source": []
  },
  {
   "cell_type": "code",
   "execution_count": null,
   "id": "03696bd3",
   "metadata": {},
   "outputs": [],
   "source": []
  },
  {
   "cell_type": "code",
   "execution_count": null,
   "id": "e6f0c3da",
   "metadata": {},
   "outputs": [],
   "source": []
  },
  {
   "cell_type": "code",
   "execution_count": null,
   "id": "2a5793a8",
   "metadata": {},
   "outputs": [],
   "source": []
  },
  {
   "cell_type": "code",
   "execution_count": null,
   "id": "be7da7f7",
   "metadata": {},
   "outputs": [],
   "source": []
  },
  {
   "cell_type": "code",
   "execution_count": null,
   "id": "a92f4d45",
   "metadata": {},
   "outputs": [],
   "source": []
  },
  {
   "cell_type": "code",
   "execution_count": null,
   "id": "b393ec6d",
   "metadata": {},
   "outputs": [],
   "source": []
  }
 ],
 "metadata": {
  "kernelspec": {
   "display_name": "Python 3 (ipykernel)",
   "language": "python",
   "name": "python3"
  },
  "language_info": {
   "codemirror_mode": {
    "name": "ipython",
    "version": 3
   },
   "file_extension": ".py",
   "mimetype": "text/x-python",
   "name": "python",
   "nbconvert_exporter": "python",
   "pygments_lexer": "ipython3",
   "version": "3.10.1"
  }
 },
 "nbformat": 4,
 "nbformat_minor": 5
}
