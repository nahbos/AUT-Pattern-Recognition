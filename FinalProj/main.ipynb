{
 "cells": [
  {
   "cell_type": "markdown",
   "id": "d718724e",
   "metadata": {},
   "source": [
    "#### Copyright (C) 2022 Sobhan Moradian Daghigh\n",
    "#### Date: 2/2/2022"
   ]
  },
  {
   "cell_type": "code",
   "execution_count": null,
   "id": "2cc76ecd",
   "metadata": {},
   "outputs": [],
   "source": []
  },
  {
   "cell_type": "markdown",
   "id": "74191c1b",
   "metadata": {},
   "source": [
    "### Import Libraries"
   ]
  },
  {
   "cell_type": "code",
   "execution_count": 66,
   "id": "83c89546",
   "metadata": {},
   "outputs": [],
   "source": [
    "import numpy as np\n",
    "import pandas as pd\n",
    "import os\n",
    "\n",
    "from sklearn.feature_extraction.text import TfidfVectorizer\n",
    "from sklearn.linear_model import LogisticRegression\n",
    "from sklearn.model_selection import train_test_split\n",
    "\n",
    "import string\n",
    "from nltk.corpus import stopwords\n",
    "from nltk import word_tokenize\n",
    "from nltk.stem.porter import PorterStemmer\n",
    "from nltk import pos_tag\n",
    "# import nltk\n",
    "# nltk.download('stopwords')\n",
    "# nltk.download('punkt')\n",
    "\n",
    "from IPython.display import display\n",
    "\n",
    "import import_ipynb, importlib, sys\n",
    "import feature_selection_methods as FS\n",
    "import classifier_models as models\n",
    "def reload_moduls():\n",
    "    importlib.reload(sys.modules['feature_selection_methods'])\n",
    "    importlib.reload(sys.modules['classifier_models'])\n",
    "    import feature_selection_methods as FS\n",
    "    import classifier_models as models\n",
    "    \n",
    "    return FS, models"
   ]
  },
  {
   "cell_type": "code",
   "execution_count": null,
   "id": "17edecb2",
   "metadata": {},
   "outputs": [],
   "source": []
  },
  {
   "cell_type": "markdown",
   "id": "b4c9b1d1",
   "metadata": {},
   "source": [
    "### Loading Datasets"
   ]
  },
  {
   "cell_type": "code",
   "execution_count": 2,
   "id": "1260e284",
   "metadata": {},
   "outputs": [],
   "source": [
    "def load_datasets(path):\n",
    "    datasets = []\n",
    "    print('Loading the datasets..\\n')\n",
    "    for root, dirs, files in os.walk(path):\n",
    "        for i, file in enumerate(files):\n",
    "            print(' |_  {}. {} loaded'.format(i + 1, file.split('.')[0]))\n",
    "            datasets.append(pd.read_csv(os.path.join(root, file), names=['sentence', 'label'], sep='\\t'))\n",
    "    return datasets"
   ]
  },
  {
   "cell_type": "code",
   "execution_count": 3,
   "id": "9f789e88",
   "metadata": {},
   "outputs": [
    {
     "name": "stdout",
     "output_type": "stream",
     "text": [
      "Loading the datasets..\n",
      "\n",
      " |_  1. amazon loaded\n",
      " |_  2. imdb loaded\n",
      " |_  3. yelp loaded\n"
     ]
    }
   ],
   "source": [
    "datasets_name = ['Amazon', 'IMDB  ', 'Yelp  ']\n",
    "datasets = load_datasets('./Datasets/')"
   ]
  },
  {
   "cell_type": "code",
   "execution_count": null,
   "id": "d3194994",
   "metadata": {},
   "outputs": [],
   "source": []
  },
  {
   "cell_type": "code",
   "execution_count": 4,
   "id": "c3dcfd24",
   "metadata": {},
   "outputs": [
    {
     "name": "stdout",
     "output_type": "stream",
     "text": [
      "<class 'pandas.core.frame.DataFrame'>\n",
      "RangeIndex: 1000 entries, 0 to 999\n",
      "Data columns (total 2 columns):\n",
      " #   Column    Non-Null Count  Dtype \n",
      "---  ------    --------------  ----- \n",
      " 0   sentence  1000 non-null   object\n",
      " 1   label     1000 non-null   int64 \n",
      "dtypes: int64(1), object(1)\n",
      "memory usage: 15.8+ KB\n"
     ]
    }
   ],
   "source": [
    "# Amazon\n",
    "datasets[0].info()"
   ]
  },
  {
   "cell_type": "code",
   "execution_count": 5,
   "id": "1d226522",
   "metadata": {},
   "outputs": [
    {
     "name": "stdout",
     "output_type": "stream",
     "text": [
      "<class 'pandas.core.frame.DataFrame'>\n",
      "RangeIndex: 1000 entries, 0 to 999\n",
      "Data columns (total 2 columns):\n",
      " #   Column    Non-Null Count  Dtype \n",
      "---  ------    --------------  ----- \n",
      " 0   sentence  1000 non-null   object\n",
      " 1   label     1000 non-null   int64 \n",
      "dtypes: int64(1), object(1)\n",
      "memory usage: 15.8+ KB\n"
     ]
    }
   ],
   "source": [
    "# IMDB\n",
    "datasets[1].info()"
   ]
  },
  {
   "cell_type": "code",
   "execution_count": 6,
   "id": "7430ab37",
   "metadata": {},
   "outputs": [
    {
     "name": "stdout",
     "output_type": "stream",
     "text": [
      "<class 'pandas.core.frame.DataFrame'>\n",
      "RangeIndex: 1000 entries, 0 to 999\n",
      "Data columns (total 2 columns):\n",
      " #   Column    Non-Null Count  Dtype \n",
      "---  ------    --------------  ----- \n",
      " 0   sentence  1000 non-null   object\n",
      " 1   label     1000 non-null   int64 \n",
      "dtypes: int64(1), object(1)\n",
      "memory usage: 15.8+ KB\n"
     ]
    }
   ],
   "source": [
    "# Yelp\n",
    "datasets[2].info()"
   ]
  },
  {
   "cell_type": "code",
   "execution_count": null,
   "id": "99f82e89",
   "metadata": {},
   "outputs": [],
   "source": []
  },
  {
   "cell_type": "markdown",
   "id": "481f57e1",
   "metadata": {},
   "source": [
    "### Make a preprocess on the comments to improve quality and remove unneccessary words\n",
    "##### 1. convert all words to lowercase\n",
    "##### 2. remove punctuations\n",
    "##### 3. tonekize words\n",
    "##### 4. remove stopwords\n",
    "##### 5. use porterStemmer to have stemming words"
   ]
  },
  {
   "cell_type": "code",
   "execution_count": 7,
   "id": "6af1bf97",
   "metadata": {},
   "outputs": [],
   "source": [
    "def nlprocess(dataset):\n",
    "    \n",
    "    preprocessed_comments = []\n",
    "    for text in dataset:\n",
    "        \n",
    "        #Lowercase\n",
    "        text = text.lower()\n",
    "\n",
    "        # Removing Punctuation\n",
    "        text = \"\".join([char for char in text if char not in string.punctuation])\n",
    "\n",
    "        # Word Tokenization\n",
    "        text = word_tokenize(text)\n",
    "\n",
    "        # Stopword Filtering\n",
    "        stop_words = stopwords.words('english')\n",
    "        text = [word for word in text if word not in stop_words]\n",
    "\n",
    "        # Stemming\n",
    "        porter = PorterStemmer()\n",
    "        text = [porter.stem(word) for word in text]\n",
    "\n",
    "        text = ' '.join(text)\n",
    "\n",
    "        preprocessed_comments.append(text)\n",
    "        \n",
    "    return preprocessed_comments"
   ]
  },
  {
   "cell_type": "code",
   "execution_count": null,
   "id": "7a6ed19d",
   "metadata": {},
   "outputs": [],
   "source": []
  },
  {
   "cell_type": "markdown",
   "id": "5e948d68",
   "metadata": {},
   "source": [
    "### Splitting the datasets into Train and Test"
   ]
  },
  {
   "cell_type": "code",
   "execution_count": 8,
   "id": "cb3694ad",
   "metadata": {},
   "outputs": [],
   "source": [
    "def spliter(datasets):\n",
    "    x_train_datasets, x_test_datasets, y_train_datasets, y_test_datasets = [], [], [], []\n",
    "    for dataset in datasets:\n",
    "        x_train, x_test, y_train, y_test = train_test_split(dataset.sentence, dataset.label, test_size=0.3, random_state=0)\n",
    "        x_train_datasets.append(nlprocess(x_train))\n",
    "        x_test_datasets.append(nlprocess(x_test))\n",
    "        y_train_datasets.append(y_train)\n",
    "        y_test_datasets.append(y_test)\n",
    "    return x_train_datasets, x_test_datasets, y_train_datasets, y_test_datasets"
   ]
  },
  {
   "cell_type": "code",
   "execution_count": 9,
   "id": "d8a23e6a",
   "metadata": {},
   "outputs": [],
   "source": [
    "x_train_datasets, x_test_datasets, y_train_datasets, y_test_datasets = spliter(datasets)"
   ]
  },
  {
   "cell_type": "code",
   "execution_count": null,
   "id": "cebf0993",
   "metadata": {},
   "outputs": [],
   "source": []
  },
  {
   "cell_type": "markdown",
   "id": "58ab28bf",
   "metadata": {},
   "source": [
    "### Feature Extraction using TF-IDF"
   ]
  },
  {
   "cell_type": "code",
   "execution_count": 10,
   "id": "a0cef452",
   "metadata": {},
   "outputs": [],
   "source": [
    "def feature_extractor(dataset):\n",
    "    vectorizer = TfidfVectorizer()\n",
    "    vectorizer.fit(dataset)\n",
    "    return vectorizer"
   ]
  },
  {
   "cell_type": "code",
   "execution_count": 11,
   "id": "ff97d0d8",
   "metadata": {},
   "outputs": [],
   "source": [
    "def get_top_frequent_features(vectorizer):\n",
    "    df = pd.DataFrame({'words': vectorizer.vocabulary_.keys(), 'counts': vectorizer.vocabulary_.values()})\n",
    "    print('\\n------ {} ------'.format(datasets_name[i]))\n",
    "    display(df.sort_values(by=['counts'], ascending=False).head())"
   ]
  },
  {
   "cell_type": "code",
   "execution_count": null,
   "id": "bbfa5643",
   "metadata": {},
   "outputs": [],
   "source": []
  },
  {
   "cell_type": "markdown",
   "id": "6b76268f",
   "metadata": {},
   "source": [
    "#### Top 5 frequent words of each dataset to get a full feeling of the problem"
   ]
  },
  {
   "cell_type": "code",
   "execution_count": 12,
   "id": "81661174",
   "metadata": {},
   "outputs": [
    {
     "name": "stdout",
     "output_type": "stream",
     "text": [
      "\n",
      "------ Amazon ------\n"
     ]
    },
    {
     "data": {
      "text/html": [
       "<div>\n",
       "<style scoped>\n",
       "    .dataframe tbody tr th:only-of-type {\n",
       "        vertical-align: middle;\n",
       "    }\n",
       "\n",
       "    .dataframe tbody tr th {\n",
       "        vertical-align: top;\n",
       "    }\n",
       "\n",
       "    .dataframe thead th {\n",
       "        text-align: right;\n",
       "    }\n",
       "</style>\n",
       "<table border=\"1\" class=\"dataframe\">\n",
       "  <thead>\n",
       "    <tr style=\"text-align: right;\">\n",
       "      <th></th>\n",
       "      <th>words</th>\n",
       "      <th>counts</th>\n",
       "    </tr>\n",
       "  </thead>\n",
       "  <tbody>\n",
       "    <tr>\n",
       "      <th>526</th>\n",
       "      <td>zero</td>\n",
       "      <td>1195</td>\n",
       "    </tr>\n",
       "    <tr>\n",
       "      <th>561</th>\n",
       "      <td>yet</td>\n",
       "      <td>1194</td>\n",
       "    </tr>\n",
       "    <tr>\n",
       "      <th>929</th>\n",
       "      <td>yearsgreat</td>\n",
       "      <td>1193</td>\n",
       "    </tr>\n",
       "    <tr>\n",
       "      <th>423</th>\n",
       "      <td>year</td>\n",
       "      <td>1192</td>\n",
       "    </tr>\n",
       "    <tr>\n",
       "      <th>1180</th>\n",
       "      <td>ye</td>\n",
       "      <td>1191</td>\n",
       "    </tr>\n",
       "  </tbody>\n",
       "</table>\n",
       "</div>"
      ],
      "text/plain": [
       "           words  counts\n",
       "526         zero    1195\n",
       "561          yet    1194\n",
       "929   yearsgreat    1193\n",
       "423         year    1192\n",
       "1180          ye    1191"
      ]
     },
     "metadata": {},
     "output_type": "display_data"
    },
    {
     "name": "stdout",
     "output_type": "stream",
     "text": [
      "\n",
      "------ IMDB   ------\n"
     ]
    },
    {
     "data": {
      "text/html": [
       "<div>\n",
       "<style scoped>\n",
       "    .dataframe tbody tr th:only-of-type {\n",
       "        vertical-align: middle;\n",
       "    }\n",
       "\n",
       "    .dataframe tbody tr th {\n",
       "        vertical-align: top;\n",
       "    }\n",
       "\n",
       "    .dataframe thead th {\n",
       "        text-align: right;\n",
       "    }\n",
       "</style>\n",
       "<table border=\"1\" class=\"dataframe\">\n",
       "  <thead>\n",
       "    <tr style=\"text-align: right;\">\n",
       "      <th></th>\n",
       "      <th>words</th>\n",
       "      <th>counts</th>\n",
       "    </tr>\n",
       "  </thead>\n",
       "  <tbody>\n",
       "    <tr>\n",
       "      <th>545</th>\n",
       "      <td>zombiez</td>\n",
       "      <td>2056</td>\n",
       "    </tr>\n",
       "    <tr>\n",
       "      <th>2052</th>\n",
       "      <td>zombiestud</td>\n",
       "      <td>2055</td>\n",
       "    </tr>\n",
       "    <tr>\n",
       "      <th>1140</th>\n",
       "      <td>zombi</td>\n",
       "      <td>2054</td>\n",
       "    </tr>\n",
       "    <tr>\n",
       "      <th>1659</th>\n",
       "      <td>yun</td>\n",
       "      <td>2053</td>\n",
       "    </tr>\n",
       "    <tr>\n",
       "      <th>1644</th>\n",
       "      <td>youv</td>\n",
       "      <td>2052</td>\n",
       "    </tr>\n",
       "  </tbody>\n",
       "</table>\n",
       "</div>"
      ],
      "text/plain": [
       "           words  counts\n",
       "545      zombiez    2056\n",
       "2052  zombiestud    2055\n",
       "1140       zombi    2054\n",
       "1659         yun    2053\n",
       "1644        youv    2052"
      ]
     },
     "metadata": {},
     "output_type": "display_data"
    },
    {
     "name": "stdout",
     "output_type": "stream",
     "text": [
      "\n",
      "------ Yelp   ------\n"
     ]
    },
    {
     "data": {
      "text/html": [
       "<div>\n",
       "<style scoped>\n",
       "    .dataframe tbody tr th:only-of-type {\n",
       "        vertical-align: middle;\n",
       "    }\n",
       "\n",
       "    .dataframe tbody tr th {\n",
       "        vertical-align: top;\n",
       "    }\n",
       "\n",
       "    .dataframe thead th {\n",
       "        text-align: right;\n",
       "    }\n",
       "</style>\n",
       "<table border=\"1\" class=\"dataframe\">\n",
       "  <thead>\n",
       "    <tr style=\"text-align: right;\">\n",
       "      <th></th>\n",
       "      <th>words</th>\n",
       "      <th>counts</th>\n",
       "    </tr>\n",
       "  </thead>\n",
       "  <tbody>\n",
       "    <tr>\n",
       "      <th>203</th>\n",
       "      <td>zero</td>\n",
       "      <td>1327</td>\n",
       "    </tr>\n",
       "    <tr>\n",
       "      <th>508</th>\n",
       "      <td>yummi</td>\n",
       "      <td>1326</td>\n",
       "    </tr>\n",
       "    <tr>\n",
       "      <th>1155</th>\n",
       "      <td>yukon</td>\n",
       "      <td>1325</td>\n",
       "    </tr>\n",
       "    <tr>\n",
       "      <th>792</th>\n",
       "      <td>yucki</td>\n",
       "      <td>1324</td>\n",
       "    </tr>\n",
       "    <tr>\n",
       "      <th>584</th>\n",
       "      <td>your</td>\n",
       "      <td>1323</td>\n",
       "    </tr>\n",
       "  </tbody>\n",
       "</table>\n",
       "</div>"
      ],
      "text/plain": [
       "      words  counts\n",
       "203    zero    1327\n",
       "508   yummi    1326\n",
       "1155  yukon    1325\n",
       "792   yucki    1324\n",
       "584    your    1323"
      ]
     },
     "metadata": {},
     "output_type": "display_data"
    }
   ],
   "source": [
    "# Display\n",
    "vectorizers = []\n",
    "for i, dataset in enumerate(x_train_datasets):\n",
    "    vectorizer = feature_extractor(dataset)\n",
    "    get_top_frequent_features(vectorizer)\n",
    "    vectorizers.append(vectorizer)"
   ]
  },
  {
   "cell_type": "code",
   "execution_count": null,
   "id": "a7be2ad0",
   "metadata": {},
   "outputs": [],
   "source": []
  },
  {
   "cell_type": "markdown",
   "id": "07823e93",
   "metadata": {},
   "source": [
    "### Logistic Regression\n",
    "#### - Without FS"
   ]
  },
  {
   "cell_type": "code",
   "execution_count": 13,
   "id": "db397997",
   "metadata": {},
   "outputs": [
    {
     "name": "stdout",
     "output_type": "stream",
     "text": [
      "Accuracy:\n",
      " |_  Amazon: 0.790\n",
      " |_  IMDB  : 0.787\n",
      " |_  Yelp  : 0.750\n"
     ]
    }
   ],
   "source": [
    "print(\"Accuracy:\")\n",
    "clfs = []\n",
    "vectorized_trains = []\n",
    "vectorized_tests = []\n",
    "\n",
    "for i, (vec, x_tr, x_ts, y_tr, y_ts) in enumerate(zip(vectorizers, x_train_datasets, x_test_datasets, y_train_datasets, y_test_datasets)):\n",
    "    X_train = vec.transform(x_tr)\n",
    "    X_test = vec.transform(x_ts)\n",
    "\n",
    "    vectorized_trains.append(X_train)\n",
    "    vectorized_tests.append(X_test)\n",
    "    \n",
    "    clf = LogisticRegression()\n",
    "    clf.fit(X_train, y_tr)\n",
    "    clfs.append(clf)\n",
    "    score = clf.score(X_test, y_ts)\n",
    "    \n",
    "    print(' |_  {}: {:.3f}'.format(datasets_name[i], score))"
   ]
  },
  {
   "cell_type": "code",
   "execution_count": null,
   "id": "6a6ca6ea",
   "metadata": {},
   "outputs": [],
   "source": []
  },
  {
   "cell_type": "markdown",
   "id": "c76b1f7b",
   "metadata": {},
   "source": [
    "### Apply the selected features to datasets"
   ]
  },
  {
   "cell_type": "code",
   "execution_count": 14,
   "id": "b696c947",
   "metadata": {},
   "outputs": [],
   "source": [
    "def apply_selected_features(datasets, tops):\n",
    "    filter_datasets = []\n",
    "    for dataset, top in zip(datasets, tops):\n",
    "        filter_dataset = np.array(np.take(dataset.todense(), top, axis=1))\n",
    "        filter_datasets.append(filter_dataset)\n",
    "    return filter_datasets"
   ]
  },
  {
   "cell_type": "code",
   "execution_count": null,
   "id": "2a5ce26d",
   "metadata": {},
   "outputs": [],
   "source": []
  },
  {
   "cell_type": "markdown",
   "id": "44f3cd2a",
   "metadata": {},
   "source": [
    "### Display the top features"
   ]
  },
  {
   "cell_type": "code",
   "execution_count": 15,
   "id": "ce882f2f",
   "metadata": {},
   "outputs": [],
   "source": [
    "def display_tops(tops, vectorizers):\n",
    "    for i, (top, vec) in enumerate(zip(tops, vectorizers)):\n",
    "        name = np.array(vec.get_feature_names_out())[top].tolist()\n",
    "        print('\\n{}:'.format(datasets_name[i]))\n",
    "        display(pd.DataFrame(name).head())"
   ]
  },
  {
   "cell_type": "code",
   "execution_count": null,
   "id": "8d8e900e",
   "metadata": {},
   "outputs": [],
   "source": []
  },
  {
   "cell_type": "code",
   "execution_count": 99,
   "id": "75444b73",
   "metadata": {},
   "outputs": [],
   "source": [
    "# Including the features which are selected by different FS methods\n",
    "fs_tops = []\n",
    "fs_methods_name = ['Odd-Ratio', 'Chi-Square', 'Count-Difference']"
   ]
  },
  {
   "cell_type": "code",
   "execution_count": null,
   "id": "65c5585d",
   "metadata": {},
   "outputs": [],
   "source": []
  },
  {
   "cell_type": "markdown",
   "id": "af62d3f1",
   "metadata": {},
   "source": [
    "### 1. Odd Ratio FS"
   ]
  },
  {
   "cell_type": "code",
   "execution_count": 100,
   "id": "5a986658",
   "metadata": {},
   "outputs": [
    {
     "name": "stdout",
     "output_type": "stream",
     "text": [
      "importing Jupyter notebook from feature_selection_methods.ipynb\n",
      "importing Jupyter notebook from classifier_models.ipynb\n",
      "(Main, Selected) Features size:\n",
      " |_ Amazon: (1196, 24)\n",
      " |_ IMDB  : (2057, 22)\n",
      " |_ Yelp  : (1328, 18)\n",
      "\n",
      "Amazon:\n"
     ]
    },
    {
     "data": {
      "text/html": [
       "<div>\n",
       "<style scoped>\n",
       "    .dataframe tbody tr th:only-of-type {\n",
       "        vertical-align: middle;\n",
       "    }\n",
       "\n",
       "    .dataframe tbody tr th {\n",
       "        vertical-align: top;\n",
       "    }\n",
       "\n",
       "    .dataframe thead th {\n",
       "        text-align: right;\n",
       "    }\n",
       "</style>\n",
       "<table border=\"1\" class=\"dataframe\">\n",
       "  <thead>\n",
       "    <tr style=\"text-align: right;\">\n",
       "      <th></th>\n",
       "      <th>0</th>\n",
       "    </tr>\n",
       "  </thead>\n",
       "  <tbody>\n",
       "    <tr>\n",
       "      <th>0</th>\n",
       "      <td>great</td>\n",
       "    </tr>\n",
       "    <tr>\n",
       "      <th>1</th>\n",
       "      <td>good</td>\n",
       "    </tr>\n",
       "    <tr>\n",
       "      <th>2</th>\n",
       "      <td>excel</td>\n",
       "    </tr>\n",
       "    <tr>\n",
       "      <th>3</th>\n",
       "      <td>nice</td>\n",
       "    </tr>\n",
       "    <tr>\n",
       "      <th>4</th>\n",
       "      <td>love</td>\n",
       "    </tr>\n",
       "  </tbody>\n",
       "</table>\n",
       "</div>"
      ],
      "text/plain": [
       "       0\n",
       "0  great\n",
       "1   good\n",
       "2  excel\n",
       "3   nice\n",
       "4   love"
      ]
     },
     "metadata": {},
     "output_type": "display_data"
    },
    {
     "name": "stdout",
     "output_type": "stream",
     "text": [
      "\n",
      "IMDB  :\n"
     ]
    },
    {
     "data": {
      "text/html": [
       "<div>\n",
       "<style scoped>\n",
       "    .dataframe tbody tr th:only-of-type {\n",
       "        vertical-align: middle;\n",
       "    }\n",
       "\n",
       "    .dataframe tbody tr th {\n",
       "        vertical-align: top;\n",
       "    }\n",
       "\n",
       "    .dataframe thead th {\n",
       "        text-align: right;\n",
       "    }\n",
       "</style>\n",
       "<table border=\"1\" class=\"dataframe\">\n",
       "  <thead>\n",
       "    <tr style=\"text-align: right;\">\n",
       "      <th></th>\n",
       "      <th>0</th>\n",
       "    </tr>\n",
       "  </thead>\n",
       "  <tbody>\n",
       "    <tr>\n",
       "      <th>0</th>\n",
       "      <td>love</td>\n",
       "    </tr>\n",
       "    <tr>\n",
       "      <th>1</th>\n",
       "      <td>great</td>\n",
       "    </tr>\n",
       "    <tr>\n",
       "      <th>2</th>\n",
       "      <td>good</td>\n",
       "    </tr>\n",
       "    <tr>\n",
       "      <th>3</th>\n",
       "      <td>excel</td>\n",
       "    </tr>\n",
       "    <tr>\n",
       "      <th>4</th>\n",
       "      <td>wonder</td>\n",
       "    </tr>\n",
       "  </tbody>\n",
       "</table>\n",
       "</div>"
      ],
      "text/plain": [
       "        0\n",
       "0    love\n",
       "1   great\n",
       "2    good\n",
       "3   excel\n",
       "4  wonder"
      ]
     },
     "metadata": {},
     "output_type": "display_data"
    },
    {
     "name": "stdout",
     "output_type": "stream",
     "text": [
      "\n",
      "Yelp  :\n"
     ]
    },
    {
     "data": {
      "text/html": [
       "<div>\n",
       "<style scoped>\n",
       "    .dataframe tbody tr th:only-of-type {\n",
       "        vertical-align: middle;\n",
       "    }\n",
       "\n",
       "    .dataframe tbody tr th {\n",
       "        vertical-align: top;\n",
       "    }\n",
       "\n",
       "    .dataframe thead th {\n",
       "        text-align: right;\n",
       "    }\n",
       "</style>\n",
       "<table border=\"1\" class=\"dataframe\">\n",
       "  <thead>\n",
       "    <tr style=\"text-align: right;\">\n",
       "      <th></th>\n",
       "      <th>0</th>\n",
       "    </tr>\n",
       "  </thead>\n",
       "  <tbody>\n",
       "    <tr>\n",
       "      <th>0</th>\n",
       "      <td>great</td>\n",
       "    </tr>\n",
       "    <tr>\n",
       "      <th>1</th>\n",
       "      <td>love</td>\n",
       "    </tr>\n",
       "    <tr>\n",
       "      <th>2</th>\n",
       "      <td>good</td>\n",
       "    </tr>\n",
       "    <tr>\n",
       "      <th>3</th>\n",
       "      <td>delici</td>\n",
       "    </tr>\n",
       "    <tr>\n",
       "      <th>4</th>\n",
       "      <td>amaz</td>\n",
       "    </tr>\n",
       "  </tbody>\n",
       "</table>\n",
       "</div>"
      ],
      "text/plain": [
       "        0\n",
       "0   great\n",
       "1    love\n",
       "2    good\n",
       "3  delici\n",
       "4    amaz"
      ]
     },
     "metadata": {},
     "output_type": "display_data"
    }
   ],
   "source": [
    "# Reload the sub_modules to apply changes\n",
    "FS, models = reload_moduls()\n",
    "\n",
    "odd_ratio_tops = FS.odd_ratio(clfs)\n",
    "fs_tops.append(odd_ratio_tops)\n",
    "display_tops(odd_ratio_tops, vectorizers)"
   ]
  },
  {
   "cell_type": "code",
   "execution_count": null,
   "id": "9ec117d7",
   "metadata": {},
   "outputs": [],
   "source": []
  },
  {
   "cell_type": "markdown",
   "id": "9511cb98",
   "metadata": {},
   "source": [
    "### 2. Chi-Square FS"
   ]
  },
  {
   "cell_type": "code",
   "execution_count": 101,
   "id": "e1f34d3b",
   "metadata": {},
   "outputs": [
    {
     "name": "stdout",
     "output_type": "stream",
     "text": [
      "importing Jupyter notebook from feature_selection_methods.ipynb\n",
      "importing Jupyter notebook from classifier_models.ipynb\n",
      "(Main, Selected) Features size:\n",
      " |_ Amazon: (1196, 148)\n",
      " |_ IMDB  : (2057, 154)\n",
      " |_ Yelp  : (1328, 151)\n",
      "\n",
      "Amazon:\n"
     ]
    },
    {
     "data": {
      "text/html": [
       "<div>\n",
       "<style scoped>\n",
       "    .dataframe tbody tr th:only-of-type {\n",
       "        vertical-align: middle;\n",
       "    }\n",
       "\n",
       "    .dataframe tbody tr th {\n",
       "        vertical-align: top;\n",
       "    }\n",
       "\n",
       "    .dataframe thead th {\n",
       "        text-align: right;\n",
       "    }\n",
       "</style>\n",
       "<table border=\"1\" class=\"dataframe\">\n",
       "  <thead>\n",
       "    <tr style=\"text-align: right;\">\n",
       "      <th></th>\n",
       "      <th>0</th>\n",
       "    </tr>\n",
       "  </thead>\n",
       "  <tbody>\n",
       "    <tr>\n",
       "      <th>0</th>\n",
       "      <td>great</td>\n",
       "    </tr>\n",
       "    <tr>\n",
       "      <th>1</th>\n",
       "      <td>good</td>\n",
       "    </tr>\n",
       "    <tr>\n",
       "      <th>2</th>\n",
       "      <td>price</td>\n",
       "    </tr>\n",
       "    <tr>\n",
       "      <th>3</th>\n",
       "      <td>disappoint</td>\n",
       "    </tr>\n",
       "    <tr>\n",
       "      <th>4</th>\n",
       "      <td>excel</td>\n",
       "    </tr>\n",
       "  </tbody>\n",
       "</table>\n",
       "</div>"
      ],
      "text/plain": [
       "            0\n",
       "0       great\n",
       "1        good\n",
       "2       price\n",
       "3  disappoint\n",
       "4       excel"
      ]
     },
     "metadata": {},
     "output_type": "display_data"
    },
    {
     "name": "stdout",
     "output_type": "stream",
     "text": [
      "\n",
      "IMDB  :\n"
     ]
    },
    {
     "data": {
      "text/html": [
       "<div>\n",
       "<style scoped>\n",
       "    .dataframe tbody tr th:only-of-type {\n",
       "        vertical-align: middle;\n",
       "    }\n",
       "\n",
       "    .dataframe tbody tr th {\n",
       "        vertical-align: top;\n",
       "    }\n",
       "\n",
       "    .dataframe thead th {\n",
       "        text-align: right;\n",
       "    }\n",
       "</style>\n",
       "<table border=\"1\" class=\"dataframe\">\n",
       "  <thead>\n",
       "    <tr style=\"text-align: right;\">\n",
       "      <th></th>\n",
       "      <th>0</th>\n",
       "    </tr>\n",
       "  </thead>\n",
       "  <tbody>\n",
       "    <tr>\n",
       "      <th>0</th>\n",
       "      <td>bad</td>\n",
       "    </tr>\n",
       "    <tr>\n",
       "      <th>1</th>\n",
       "      <td>love</td>\n",
       "    </tr>\n",
       "    <tr>\n",
       "      <th>2</th>\n",
       "      <td>great</td>\n",
       "    </tr>\n",
       "    <tr>\n",
       "      <th>3</th>\n",
       "      <td>aw</td>\n",
       "    </tr>\n",
       "    <tr>\n",
       "      <th>4</th>\n",
       "      <td>excel</td>\n",
       "    </tr>\n",
       "  </tbody>\n",
       "</table>\n",
       "</div>"
      ],
      "text/plain": [
       "       0\n",
       "0    bad\n",
       "1   love\n",
       "2  great\n",
       "3     aw\n",
       "4  excel"
      ]
     },
     "metadata": {},
     "output_type": "display_data"
    },
    {
     "name": "stdout",
     "output_type": "stream",
     "text": [
      "\n",
      "Yelp  :\n"
     ]
    },
    {
     "data": {
      "text/html": [
       "<div>\n",
       "<style scoped>\n",
       "    .dataframe tbody tr th:only-of-type {\n",
       "        vertical-align: middle;\n",
       "    }\n",
       "\n",
       "    .dataframe tbody tr th {\n",
       "        vertical-align: top;\n",
       "    }\n",
       "\n",
       "    .dataframe thead th {\n",
       "        text-align: right;\n",
       "    }\n",
       "</style>\n",
       "<table border=\"1\" class=\"dataframe\">\n",
       "  <thead>\n",
       "    <tr style=\"text-align: right;\">\n",
       "      <th></th>\n",
       "      <th>0</th>\n",
       "    </tr>\n",
       "  </thead>\n",
       "  <tbody>\n",
       "    <tr>\n",
       "      <th>0</th>\n",
       "      <td>great</td>\n",
       "    </tr>\n",
       "    <tr>\n",
       "      <th>1</th>\n",
       "      <td>delici</td>\n",
       "    </tr>\n",
       "    <tr>\n",
       "      <th>2</th>\n",
       "      <td>love</td>\n",
       "    </tr>\n",
       "    <tr>\n",
       "      <th>3</th>\n",
       "      <td>good</td>\n",
       "    </tr>\n",
       "    <tr>\n",
       "      <th>4</th>\n",
       "      <td>amaz</td>\n",
       "    </tr>\n",
       "  </tbody>\n",
       "</table>\n",
       "</div>"
      ],
      "text/plain": [
       "        0\n",
       "0   great\n",
       "1  delici\n",
       "2    love\n",
       "3    good\n",
       "4    amaz"
      ]
     },
     "metadata": {},
     "output_type": "display_data"
    }
   ],
   "source": [
    "# Reload the sub_modules to apply changes\n",
    "FS, models = reload_moduls()\n",
    "\n",
    "chi_tops = FS.chi_square(vectorized_trains, y_train_datasets)\n",
    "fs_tops.append(chi_tops)\n",
    "display_tops(chi_tops, vectorizers)"
   ]
  },
  {
   "cell_type": "code",
   "execution_count": null,
   "id": "a4b7bacd",
   "metadata": {},
   "outputs": [],
   "source": []
  },
  {
   "cell_type": "markdown",
   "id": "e650579a",
   "metadata": {},
   "source": [
    "### 3. Count Difference FS"
   ]
  },
  {
   "cell_type": "code",
   "execution_count": 102,
   "id": "acf037ef",
   "metadata": {},
   "outputs": [
    {
     "name": "stdout",
     "output_type": "stream",
     "text": [
      "importing Jupyter notebook from feature_selection_methods.ipynb\n",
      "importing Jupyter notebook from classifier_models.ipynb\n",
      "(Main, Selected) Features size:\n",
      " |_ Amazon: (1196, 190)\n",
      " |_ IMDB  : (2057, 204)\n",
      " |_ Yelp  : (1328, 202)\n",
      "\n",
      "Amazon:\n"
     ]
    },
    {
     "data": {
      "text/html": [
       "<div>\n",
       "<style scoped>\n",
       "    .dataframe tbody tr th:only-of-type {\n",
       "        vertical-align: middle;\n",
       "    }\n",
       "\n",
       "    .dataframe tbody tr th {\n",
       "        vertical-align: top;\n",
       "    }\n",
       "\n",
       "    .dataframe thead th {\n",
       "        text-align: right;\n",
       "    }\n",
       "</style>\n",
       "<table border=\"1\" class=\"dataframe\">\n",
       "  <thead>\n",
       "    <tr style=\"text-align: right;\">\n",
       "      <th></th>\n",
       "      <th>0</th>\n",
       "    </tr>\n",
       "  </thead>\n",
       "  <tbody>\n",
       "    <tr>\n",
       "      <th>0</th>\n",
       "      <td>great</td>\n",
       "    </tr>\n",
       "    <tr>\n",
       "      <th>1</th>\n",
       "      <td>good</td>\n",
       "    </tr>\n",
       "    <tr>\n",
       "      <th>2</th>\n",
       "      <td>price</td>\n",
       "    </tr>\n",
       "    <tr>\n",
       "      <th>3</th>\n",
       "      <td>excel</td>\n",
       "    </tr>\n",
       "    <tr>\n",
       "      <th>4</th>\n",
       "      <td>disappoint</td>\n",
       "    </tr>\n",
       "  </tbody>\n",
       "</table>\n",
       "</div>"
      ],
      "text/plain": [
       "            0\n",
       "0       great\n",
       "1        good\n",
       "2       price\n",
       "3       excel\n",
       "4  disappoint"
      ]
     },
     "metadata": {},
     "output_type": "display_data"
    },
    {
     "name": "stdout",
     "output_type": "stream",
     "text": [
      "\n",
      "IMDB  :\n"
     ]
    },
    {
     "data": {
      "text/html": [
       "<div>\n",
       "<style scoped>\n",
       "    .dataframe tbody tr th:only-of-type {\n",
       "        vertical-align: middle;\n",
       "    }\n",
       "\n",
       "    .dataframe tbody tr th {\n",
       "        vertical-align: top;\n",
       "    }\n",
       "\n",
       "    .dataframe thead th {\n",
       "        text-align: right;\n",
       "    }\n",
       "</style>\n",
       "<table border=\"1\" class=\"dataframe\">\n",
       "  <thead>\n",
       "    <tr style=\"text-align: right;\">\n",
       "      <th></th>\n",
       "      <th>0</th>\n",
       "    </tr>\n",
       "  </thead>\n",
       "  <tbody>\n",
       "    <tr>\n",
       "      <th>0</th>\n",
       "      <td>bad</td>\n",
       "    </tr>\n",
       "    <tr>\n",
       "      <th>1</th>\n",
       "      <td>great</td>\n",
       "    </tr>\n",
       "    <tr>\n",
       "      <th>2</th>\n",
       "      <td>love</td>\n",
       "    </tr>\n",
       "    <tr>\n",
       "      <th>3</th>\n",
       "      <td>aw</td>\n",
       "    </tr>\n",
       "    <tr>\n",
       "      <th>4</th>\n",
       "      <td>even</td>\n",
       "    </tr>\n",
       "  </tbody>\n",
       "</table>\n",
       "</div>"
      ],
      "text/plain": [
       "       0\n",
       "0    bad\n",
       "1  great\n",
       "2   love\n",
       "3     aw\n",
       "4   even"
      ]
     },
     "metadata": {},
     "output_type": "display_data"
    },
    {
     "name": "stdout",
     "output_type": "stream",
     "text": [
      "\n",
      "Yelp  :\n"
     ]
    },
    {
     "data": {
      "text/html": [
       "<div>\n",
       "<style scoped>\n",
       "    .dataframe tbody tr th:only-of-type {\n",
       "        vertical-align: middle;\n",
       "    }\n",
       "\n",
       "    .dataframe tbody tr th {\n",
       "        vertical-align: top;\n",
       "    }\n",
       "\n",
       "    .dataframe thead th {\n",
       "        text-align: right;\n",
       "    }\n",
       "</style>\n",
       "<table border=\"1\" class=\"dataframe\">\n",
       "  <thead>\n",
       "    <tr style=\"text-align: right;\">\n",
       "      <th></th>\n",
       "      <th>0</th>\n",
       "    </tr>\n",
       "  </thead>\n",
       "  <tbody>\n",
       "    <tr>\n",
       "      <th>0</th>\n",
       "      <td>great</td>\n",
       "    </tr>\n",
       "    <tr>\n",
       "      <th>1</th>\n",
       "      <td>good</td>\n",
       "    </tr>\n",
       "    <tr>\n",
       "      <th>2</th>\n",
       "      <td>love</td>\n",
       "    </tr>\n",
       "    <tr>\n",
       "      <th>3</th>\n",
       "      <td>delici</td>\n",
       "    </tr>\n",
       "    <tr>\n",
       "      <th>4</th>\n",
       "      <td>amaz</td>\n",
       "    </tr>\n",
       "  </tbody>\n",
       "</table>\n",
       "</div>"
      ],
      "text/plain": [
       "        0\n",
       "0   great\n",
       "1    good\n",
       "2    love\n",
       "3  delici\n",
       "4    amaz"
      ]
     },
     "metadata": {},
     "output_type": "display_data"
    }
   ],
   "source": [
    "# Reload the sub_modules to apply changes\n",
    "FS, models = reload_moduls()\n",
    "\n",
    "cd_tops = FS.count_diff(vectorized_trains, y_train_datasets)\n",
    "fs_tops.append(cd_tops)\n",
    "display_tops(cd_tops, vectorizers)"
   ]
  },
  {
   "cell_type": "code",
   "execution_count": null,
   "id": "5cba4e4d",
   "metadata": {},
   "outputs": [],
   "source": []
  },
  {
   "cell_type": "code",
   "execution_count": null,
   "id": "91cbde4b",
   "metadata": {},
   "outputs": [],
   "source": []
  },
  {
   "cell_type": "code",
   "execution_count": null,
   "id": "396201c5",
   "metadata": {},
   "outputs": [],
   "source": []
  },
  {
   "cell_type": "markdown",
   "id": "493beb7b",
   "metadata": {},
   "source": [
    "### ------------------------------------------------------------    Models    ---------------------------------------------------"
   ]
  },
  {
   "cell_type": "code",
   "execution_count": null,
   "id": "74c6e7dd",
   "metadata": {},
   "outputs": [],
   "source": []
  },
  {
   "cell_type": "markdown",
   "id": "b7c9f820",
   "metadata": {},
   "source": [
    "### Logistic Regression"
   ]
  },
  {
   "cell_type": "code",
   "execution_count": 104,
   "id": "8b616d6c",
   "metadata": {},
   "outputs": [
    {
     "name": "stdout",
     "output_type": "stream",
     "text": [
      "importing Jupyter notebook from feature_selection_methods.ipynb\n",
      "importing Jupyter notebook from classifier_models.ipynb\n",
      "\n",
      "FS: Odd-Ratio\n",
      "Accuracy:\n",
      " |_  Amazon: 0.737\n",
      " |_  IMDB  : 0.647\n",
      " |_  Yelp  : 0.693\n",
      "\n",
      "FS: Chi-Square\n",
      "Accuracy:\n",
      " |_  Amazon: 0.780\n",
      " |_  IMDB  : 0.713\n",
      " |_  Yelp  : 0.753\n",
      "\n",
      "FS: Count-Difference\n",
      "Accuracy:\n",
      " |_  Amazon: 0.773\n",
      " |_  IMDB  : 0.753\n",
      " |_  Yelp  : 0.727\n"
     ]
    }
   ],
   "source": [
    "# Reload the sub_modules to apply changes\n",
    "FS, models = reload_moduls()\n",
    "\n",
    "for i, tops in enumerate(fs_tops):\n",
    "    print('\\nFS: {}'.format(fs_methods_name[i]))\n",
    "    filtered_datasets_trains = apply_selected_features(vectorized_trains, tops)\n",
    "    filtered_datasets_tests = apply_selected_features(vectorized_tests, tops)\n",
    "    models.logestic_regression(filtered_datasets_trains, filtered_datasets_tests, y_train_datasets, y_test_datasets)"
   ]
  },
  {
   "cell_type": "code",
   "execution_count": null,
   "id": "6db8a324",
   "metadata": {},
   "outputs": [],
   "source": []
  },
  {
   "cell_type": "markdown",
   "id": "28b6aca4",
   "metadata": {},
   "source": [
    "### Linear SVM"
   ]
  },
  {
   "cell_type": "code",
   "execution_count": 106,
   "id": "fc140655",
   "metadata": {},
   "outputs": [
    {
     "name": "stdout",
     "output_type": "stream",
     "text": [
      "importing Jupyter notebook from feature_selection_methods.ipynb\n",
      "importing Jupyter notebook from classifier_models.ipynb\n",
      "\n",
      "FS: Odd-Ratio\n",
      "Accuracy:\n",
      " |_  Amazon: 0.737\n",
      " |_  IMDB  : 0.650\n",
      " |_  Yelp  : 0.697\n",
      "\n",
      "FS: Chi-Square\n",
      "Accuracy:\n",
      " |_  Amazon: 0.787\n",
      " |_  IMDB  : 0.703\n",
      " |_  Yelp  : 0.750\n",
      "\n",
      "FS: Count-Difference\n",
      "Accuracy:\n",
      " |_  Amazon: 0.743\n",
      " |_  IMDB  : 0.753\n",
      " |_  Yelp  : 0.713\n"
     ]
    }
   ],
   "source": [
    "# Reload the sub_modules to apply changes\n",
    "FS, models = reload_moduls()\n",
    "\n",
    "for i, tops in enumerate(fs_tops):\n",
    "    print('\\nFS: {}'.format(fs_methods_name[i]))\n",
    "    filtered_datasets_trains = apply_selected_features(vectorized_trains, tops)\n",
    "    filtered_datasets_tests = apply_selected_features(vectorized_tests, tops)\n",
    "    models.linear_svm(filtered_datasets_trains, filtered_datasets_tests, y_train_datasets, y_test_datasets)"
   ]
  },
  {
   "cell_type": "code",
   "execution_count": null,
   "id": "f0de764a",
   "metadata": {},
   "outputs": [],
   "source": []
  },
  {
   "cell_type": "markdown",
   "id": "4133d7a2",
   "metadata": {},
   "source": [
    "### RBF SVM"
   ]
  },
  {
   "cell_type": "code",
   "execution_count": 123,
   "id": "f4185e10",
   "metadata": {},
   "outputs": [
    {
     "name": "stdout",
     "output_type": "stream",
     "text": [
      "importing Jupyter notebook from feature_selection_methods.ipynb\n",
      "importing Jupyter notebook from classifier_models.ipynb\n",
      "\n",
      "FS: Odd-Ratio\n",
      "Accuracy:\n",
      " |_  Amazon: 0.740\n",
      " |_  IMDB  : 0.650\n",
      " |_  Yelp  : 0.693\n",
      "\n",
      "FS: Chi-Square\n",
      "Accuracy:\n",
      " |_  Amazon: 0.770\n",
      " |_  IMDB  : 0.703\n",
      " |_  Yelp  : 0.757\n",
      "\n",
      "FS: Count-Difference\n",
      "Accuracy:\n",
      " |_  Amazon: 0.767\n",
      " |_  IMDB  : 0.763\n",
      " |_  Yelp  : 0.733\n"
     ]
    }
   ],
   "source": [
    "# Reload the sub_modules to apply changes\n",
    "FS, models = reload_moduls()\n",
    "\n",
    "for i, tops in enumerate(fs_tops):\n",
    "    print('\\nFS: {}'.format(fs_methods_name[i]))\n",
    "    filtered_datasets_trains = apply_selected_features(vectorized_trains, tops)\n",
    "    filtered_datasets_tests = apply_selected_features(vectorized_tests, tops)\n",
    "    models.rbf_svm(filtered_datasets_trains, filtered_datasets_tests, y_train_datasets, y_test_datasets)"
   ]
  },
  {
   "cell_type": "code",
   "execution_count": null,
   "id": "a6f69827",
   "metadata": {},
   "outputs": [],
   "source": []
  },
  {
   "cell_type": "markdown",
   "id": "b360e258",
   "metadata": {},
   "source": [
    "### Decision Tree"
   ]
  },
  {
   "cell_type": "code",
   "execution_count": 133,
   "id": "05c2583a",
   "metadata": {},
   "outputs": [
    {
     "name": "stdout",
     "output_type": "stream",
     "text": [
      "importing Jupyter notebook from feature_selection_methods.ipynb\n",
      "importing Jupyter notebook from classifier_models.ipynb\n",
      "\n",
      "FS: Odd-Ratio\n",
      "Accuracy:\n",
      " |_  Amazon: 0.723\n",
      " |_  IMDB  : 0.643\n",
      " |_  Yelp  : 0.663\n",
      "\n",
      "FS: Chi-Square\n",
      "Accuracy:\n",
      " |_  Amazon: 0.733\n",
      " |_  IMDB  : 0.617\n",
      " |_  Yelp  : 0.683\n",
      "\n",
      "FS: Count-Difference\n",
      "Accuracy:\n",
      " |_  Amazon: 0.743\n",
      " |_  IMDB  : 0.627\n",
      " |_  Yelp  : 0.673\n"
     ]
    }
   ],
   "source": [
    "# Reload the sub_modules to apply changes\n",
    "FS, models = reload_moduls()\n",
    "\n",
    "for i, tops in enumerate(fs_tops):\n",
    "    print('\\nFS: {}'.format(fs_methods_name[i]))\n",
    "    filtered_datasets_trains = apply_selected_features(vectorized_trains, tops)\n",
    "    filtered_datasets_tests = apply_selected_features(vectorized_tests, tops)\n",
    "    models.decision_tree(filtered_datasets_trains, filtered_datasets_tests, y_train_datasets, y_test_datasets)"
   ]
  },
  {
   "cell_type": "code",
   "execution_count": null,
   "id": "a03f0368",
   "metadata": {},
   "outputs": [],
   "source": []
  },
  {
   "cell_type": "code",
   "execution_count": null,
   "id": "b2ae69c7",
   "metadata": {},
   "outputs": [],
   "source": []
  },
  {
   "cell_type": "code",
   "execution_count": null,
   "id": "0d6657c2",
   "metadata": {},
   "outputs": [],
   "source": []
  },
  {
   "cell_type": "code",
   "execution_count": null,
   "id": "440cc455",
   "metadata": {},
   "outputs": [],
   "source": []
  },
  {
   "cell_type": "code",
   "execution_count": null,
   "id": "c3ef32a6",
   "metadata": {},
   "outputs": [],
   "source": []
  },
  {
   "cell_type": "code",
   "execution_count": null,
   "id": "c440fdef",
   "metadata": {},
   "outputs": [],
   "source": []
  },
  {
   "cell_type": "code",
   "execution_count": null,
   "id": "c6312fae",
   "metadata": {},
   "outputs": [],
   "source": []
  },
  {
   "cell_type": "code",
   "execution_count": null,
   "id": "fe9abcf1",
   "metadata": {},
   "outputs": [],
   "source": []
  },
  {
   "cell_type": "code",
   "execution_count": null,
   "id": "626aeeb2",
   "metadata": {},
   "outputs": [],
   "source": []
  },
  {
   "cell_type": "code",
   "execution_count": null,
   "id": "515c683b",
   "metadata": {},
   "outputs": [],
   "source": []
  },
  {
   "cell_type": "code",
   "execution_count": null,
   "id": "49df80bc",
   "metadata": {},
   "outputs": [],
   "source": []
  }
 ],
 "metadata": {
  "kernelspec": {
   "display_name": "Python 3 (ipykernel)",
   "language": "python",
   "name": "python3"
  },
  "language_info": {
   "codemirror_mode": {
    "name": "ipython",
    "version": 3
   },
   "file_extension": ".py",
   "mimetype": "text/x-python",
   "name": "python",
   "nbconvert_exporter": "python",
   "pygments_lexer": "ipython3",
   "version": "3.10.1"
  }
 },
 "nbformat": 4,
 "nbformat_minor": 5
}
