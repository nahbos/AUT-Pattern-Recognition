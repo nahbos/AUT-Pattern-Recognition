{
 "cells": [
  {
   "cell_type": "markdown",
   "id": "d718724e",
   "metadata": {},
   "source": [
    "#### Copyright (C) 2022 Sobhan Moradian Daghigh\n",
    "#### Date: 2/2/2022"
   ]
  },
  {
   "cell_type": "code",
   "execution_count": null,
   "id": "2cc76ecd",
   "metadata": {},
   "outputs": [],
   "source": []
  },
  {
   "cell_type": "markdown",
   "id": "74191c1b",
   "metadata": {},
   "source": [
    "### Import Libraries"
   ]
  },
  {
   "cell_type": "code",
   "execution_count": 1,
   "id": "83c89546",
   "metadata": {},
   "outputs": [],
   "source": [
    "import numpy as np\n",
    "import pandas as pd\n",
    "import os\n",
    "\n",
    "from sklearn.feature_selection import chi2"
   ]
  },
  {
   "cell_type": "code",
   "execution_count": null,
   "id": "545f6bff",
   "metadata": {},
   "outputs": [],
   "source": []
  },
  {
   "cell_type": "code",
   "execution_count": 2,
   "id": "bfa8c621",
   "metadata": {},
   "outputs": [],
   "source": [
    "datasets_name = ['Amazon', 'IMDB  ', 'Yelp  ']"
   ]
  },
  {
   "cell_type": "code",
   "execution_count": null,
   "id": "5000580c",
   "metadata": {},
   "outputs": [],
   "source": []
  },
  {
   "cell_type": "markdown",
   "id": "cc7a53f4",
   "metadata": {},
   "source": [
    "### Filtering the best features"
   ]
  },
  {
   "cell_type": "code",
   "execution_count": 7,
   "id": "621b4554",
   "metadata": {},
   "outputs": [],
   "source": [
    "def filter_features(features, thresh, absolute=False):\n",
    "    if absolute:\n",
    "        filtr = [abs(x) if abs(x) >= thresh else 0 for x in features]\n",
    "    else:\n",
    "        filtr = [x if x >= thresh else 0 for x in features]\n",
    "        \n",
    "    sorted_indx = np.flip(np.argsort(filtr))\n",
    "    tops = sorted_indx[:~filtr.count(0)]\n",
    "    return tops"
   ]
  },
  {
   "cell_type": "code",
   "execution_count": null,
   "id": "10e021e3",
   "metadata": {},
   "outputs": [],
   "source": []
  },
  {
   "cell_type": "markdown",
   "id": "154de800",
   "metadata": {},
   "source": [
    "### Odd Ratio FS"
   ]
  },
  {
   "cell_type": "code",
   "execution_count": 13,
   "id": "2e11f3df",
   "metadata": {},
   "outputs": [],
   "source": [
    "def odd_ratio(clfs):\n",
    "    tops = []\n",
    "    print('(Main, Selected) Features size:')\n",
    "    for i, clf in enumerate(clfs):\n",
    "        odd_ratios = np.array(np.exp(clf.coef_).tolist()[0])\n",
    "        top_odd_ratios = filter_features(features=odd_ratios, thresh=0.8)\n",
    "        tops.append(top_odd_ratios)\n",
    "        print(' |_ {}: ({}, {})'.format(datasets_name[i], len(odd_ratios), len(top_odd_ratios)))\n",
    "    return tops"
   ]
  },
  {
   "cell_type": "code",
   "execution_count": null,
   "id": "05a97007",
   "metadata": {},
   "outputs": [],
   "source": []
  },
  {
   "cell_type": "markdown",
   "id": "2e3fdc7d",
   "metadata": {},
   "source": [
    "### Chi-Square FS"
   ]
  },
  {
   "cell_type": "code",
   "execution_count": 11,
   "id": "45994702",
   "metadata": {},
   "outputs": [],
   "source": [
    "def chi_square(x_datasets, y_datasets):\n",
    "    tops = []\n",
    "    print('(Main, Selected) Features size:')\n",
    "    for i, (x_dset, y_dset) in enumerate(zip(x_datasets, y_datasets)):\n",
    "        chi_scores = chi2(x_dset, y_dset)\n",
    "        top_chi2 = filter_features(features=chi_scores[0], thresh=0.8)\n",
    "        tops.append(top_chi2)\n",
    "        print(' |_ {}: ({}, {})'.format(datasets_name[i], len(chi_scores[0]), len(top_chi2)))\n",
    "    return tops"
   ]
  },
  {
   "cell_type": "code",
   "execution_count": null,
   "id": "91a00f4e",
   "metadata": {},
   "outputs": [],
   "source": []
  },
  {
   "cell_type": "markdown",
   "id": "0efcc191",
   "metadata": {},
   "source": [
    "### Count Difference FS"
   ]
  },
  {
   "cell_type": "code",
   "execution_count": 12,
   "id": "00041d19",
   "metadata": {},
   "outputs": [],
   "source": [
    "def count_diff(x_datasets, y_datasets):\n",
    "    tops = []\n",
    "    print('(Main, Selected) Features size:')\n",
    "    for i, (x_dset, y_dset) in enumerate(zip(x_datasets, y_datasets)):\n",
    "        features_sum = 0\n",
    "        for x, y in zip(x_dset.todense(), y_dset):\n",
    "            if y == 1:\n",
    "                features_sum = np.add(features_sum, x)\n",
    "            if y == 0:\n",
    "                features_sum = np.subtract(features_sum, x)\n",
    "                \n",
    "        top_cd = filter_features(features=features_sum.tolist()[0], thresh=0.8, absolute=True)\n",
    "        tops.append(top_cd)\n",
    "        print(' |_ {}: ({}, {})'.format(datasets_name[i], x_dset.shape[1], len(top_cd)))\n",
    "    return tops"
   ]
  },
  {
   "cell_type": "code",
   "execution_count": null,
   "id": "5527517d",
   "metadata": {},
   "outputs": [],
   "source": []
  },
  {
   "cell_type": "markdown",
   "id": "cc346e60",
   "metadata": {},
   "source": [
    "### GSS Coefficient FS"
   ]
  },
  {
   "cell_type": "code",
   "execution_count": 5,
   "id": "de233881",
   "metadata": {},
   "outputs": [],
   "source": [
    "# def gss(x_datasets, y_datasets):\n",
    "#     tops = []\n",
    "#     print('(Main, Selected) Features size:')\n",
    "#     for i, (x_dset, y_dset) in enumerate(zip(x_datasets, y_datasets)):\n",
    "#         print(x_dset.vocabulary_)\n",
    "#         nfck = \n",
    "        \n",
    "        \n",
    "#         top_gss = filter_features(features=gss_scores[0], thresh=1)\n",
    "#         tops.append(top_gss)\n",
    "#         print(' |_ {}: ({}, {})'.format(datasets_name[i], len(gss_scores[0]), len(top_gss)))\n",
    "#     return tops"
   ]
  },
  {
   "cell_type": "code",
   "execution_count": null,
   "id": "c5cdcec7",
   "metadata": {},
   "outputs": [],
   "source": []
  },
  {
   "cell_type": "code",
   "execution_count": null,
   "id": "c173a5b1",
   "metadata": {},
   "outputs": [],
   "source": []
  },
  {
   "cell_type": "code",
   "execution_count": null,
   "id": "67ec03d4",
   "metadata": {},
   "outputs": [],
   "source": []
  },
  {
   "cell_type": "code",
   "execution_count": null,
   "id": "d1979290",
   "metadata": {},
   "outputs": [],
   "source": []
  },
  {
   "cell_type": "code",
   "execution_count": null,
   "id": "e5d3782e",
   "metadata": {},
   "outputs": [],
   "source": []
  },
  {
   "cell_type": "code",
   "execution_count": null,
   "id": "3e1f16e8",
   "metadata": {},
   "outputs": [],
   "source": []
  },
  {
   "cell_type": "code",
   "execution_count": null,
   "id": "dda04391",
   "metadata": {},
   "outputs": [],
   "source": []
  },
  {
   "cell_type": "code",
   "execution_count": null,
   "id": "18c3eb24",
   "metadata": {},
   "outputs": [],
   "source": []
  },
  {
   "cell_type": "code",
   "execution_count": null,
   "id": "15aeb6b6",
   "metadata": {},
   "outputs": [],
   "source": []
  }
 ],
 "metadata": {
  "kernelspec": {
   "display_name": "Python 3 (ipykernel)",
   "language": "python",
   "name": "python3"
  },
  "language_info": {
   "codemirror_mode": {
    "name": "ipython",
    "version": 3
   },
   "file_extension": ".py",
   "mimetype": "text/x-python",
   "name": "python",
   "nbconvert_exporter": "python",
   "pygments_lexer": "ipython3",
   "version": "3.10.1"
  }
 },
 "nbformat": 4,
 "nbformat_minor": 5
}
