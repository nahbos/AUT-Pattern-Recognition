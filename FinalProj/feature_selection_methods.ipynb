{
 "cells": [
  {
   "cell_type": "markdown",
   "id": "d718724e",
   "metadata": {},
   "source": [
    "#### Copyright (C) 2022 Sobhan Moradian Daghigh\n",
    "#### Date: 2/2/2022"
   ]
  },
  {
   "cell_type": "code",
   "execution_count": null,
   "id": "2cc76ecd",
   "metadata": {},
   "outputs": [],
   "source": []
  },
  {
   "cell_type": "markdown",
   "id": "74191c1b",
   "metadata": {},
   "source": [
    "### Import Libraries"
   ]
  },
  {
   "cell_type": "code",
   "execution_count": 1,
   "id": "83c89546",
   "metadata": {},
   "outputs": [],
   "source": [
    "import numpy as np\n",
    "import pandas as pd\n",
    "import os\n",
    "from scipy.stats import norm\n",
    "from sklearn.feature_selection import chi2"
   ]
  },
  {
   "cell_type": "code",
   "execution_count": null,
   "id": "545f6bff",
   "metadata": {},
   "outputs": [],
   "source": []
  },
  {
   "cell_type": "code",
   "execution_count": 2,
   "id": "bfa8c621",
   "metadata": {},
   "outputs": [],
   "source": [
    "datasets_name = ['Amazon', 'IMDB  ', 'Yelp  ']"
   ]
  },
  {
   "cell_type": "code",
   "execution_count": null,
   "id": "5000580c",
   "metadata": {},
   "outputs": [],
   "source": []
  },
  {
   "cell_type": "markdown",
   "id": "cc7a53f4",
   "metadata": {},
   "source": [
    "### Filtering the best features"
   ]
  },
  {
   "cell_type": "code",
   "execution_count": 3,
   "id": "621b4554",
   "metadata": {},
   "outputs": [],
   "source": [
    "def filter_features(features, thresh, absolute=False):\n",
    "    if absolute:\n",
    "        filtr = [abs(x) if abs(x) >= thresh else 0 for x in features]\n",
    "    else:\n",
    "        filtr = [x if x >= thresh else 0 for x in features]\n",
    "        \n",
    "    sorted_indx = np.flip(np.argsort(filtr))\n",
    "    tops = sorted_indx[:~filtr.count(0)]\n",
    "    return tops"
   ]
  },
  {
   "cell_type": "code",
   "execution_count": null,
   "id": "10e021e3",
   "metadata": {},
   "outputs": [],
   "source": []
  },
  {
   "cell_type": "markdown",
   "id": "154de800",
   "metadata": {},
   "source": [
    "### Odd Ratio FS"
   ]
  },
  {
   "cell_type": "code",
   "execution_count": 18,
   "id": "2e11f3df",
   "metadata": {},
   "outputs": [],
   "source": [
    "def odd_ratio(clfs, datasets_name=datasets_name):\n",
    "    tops = []\n",
    "    print('(Main, Selected) Features size:')\n",
    "    for i, clf in enumerate(clfs):\n",
    "        odd_ratios = np.array(np.exp(clf.coef_).tolist()[0])\n",
    "        top_odd_ratios = filter_features(features=odd_ratios, thresh=1)\n",
    "        tops.append(top_odd_ratios)\n",
    "        print(' |_ {}: ({}, {})'.format(datasets_name[i], len(odd_ratios), len(top_odd_ratios)))\n",
    "    return tops"
   ]
  },
  {
   "cell_type": "code",
   "execution_count": null,
   "id": "05a97007",
   "metadata": {},
   "outputs": [],
   "source": []
  },
  {
   "cell_type": "markdown",
   "id": "2e3fdc7d",
   "metadata": {},
   "source": [
    "### Chi-Square FS"
   ]
  },
  {
   "cell_type": "code",
   "execution_count": 21,
   "id": "45994702",
   "metadata": {},
   "outputs": [],
   "source": [
    "def chi_square(x_datasets, y_datasets, datasets_name=datasets_name):\n",
    "    tops = []\n",
    "    print('(Main, Selected) Features size:')\n",
    "    for i, (x_dset, y_dset) in enumerate(zip(x_datasets, y_datasets)):\n",
    "        chi_scores = chi2(x_dset, y_dset)\n",
    "        top_chi2 = filter_features(features=chi_scores[0], thresh=0.45)\n",
    "        tops.append(top_chi2)\n",
    "        print(' |_ {}: ({}, {})'.format(datasets_name[i], len(chi_scores[0]), len(top_chi2)))\n",
    "    return tops"
   ]
  },
  {
   "cell_type": "code",
   "execution_count": null,
   "id": "91a00f4e",
   "metadata": {},
   "outputs": [],
   "source": []
  },
  {
   "cell_type": "markdown",
   "id": "0efcc191",
   "metadata": {},
   "source": [
    "### Count Difference FS"
   ]
  },
  {
   "cell_type": "code",
   "execution_count": 16,
   "id": "00041d19",
   "metadata": {},
   "outputs": [],
   "source": [
    "def count_diff(x_datasets, y_datasets, datasets_name=datasets_name):\n",
    "    tops = []\n",
    "    print('(Main, Selected) Features size:')\n",
    "    for i, (x_dset, y_dset) in enumerate(zip(x_datasets, y_datasets)):\n",
    "        features_sum = 0\n",
    "        for x, y in zip(x_dset.todense(), y_dset):\n",
    "            if y == 1:\n",
    "                features_sum = np.add(features_sum, x)\n",
    "            if y == 0:\n",
    "                features_sum = np.subtract(features_sum, x)\n",
    "                \n",
    "        top_cd = filter_features(features=features_sum.tolist()[0], thresh=0.5, absolute=True)\n",
    "        tops.append(top_cd)\n",
    "        print(' |_ {}: ({}, {})'.format(datasets_name[i], x_dset.shape[1], len(top_cd)))\n",
    "    return tops"
   ]
  },
  {
   "cell_type": "code",
   "execution_count": null,
   "id": "5527517d",
   "metadata": {},
   "outputs": [],
   "source": []
  },
  {
   "cell_type": "markdown",
   "id": "b1b1ab40",
   "metadata": {},
   "source": [
    "### GSS Coefficient FS"
   ]
  },
  {
   "cell_type": "code",
   "execution_count": 7,
   "id": "955ad296",
   "metadata": {},
   "outputs": [],
   "source": [
    "def gss_cal(x_dset, vocab, count, index):\n",
    "    \n",
    "    if vocab in x_dset[index].vocabulary_:\n",
    "        nfck = x_dset[index].vocabulary_[vocab]\n",
    "    else:\n",
    "        nfck = 0\n",
    "    nf_ck = sum(x_dset[index].vocabulary_.values()) - nfck\n",
    "    \n",
    "    if vocab in x_dset[int(not(index))].vocabulary_:\n",
    "        nfck_ = x_dset[int(not(index))].vocabulary_[vocab]\n",
    "        nf_ck_ = sum(x_dset[int(not(index))].vocabulary_.values()) - nfck_\n",
    "    else:\n",
    "        nfck_ = 0\n",
    "        nf_ck_ = sum(x_dset[int(not(index))].vocabulary_.values())\n",
    "        \n",
    "    GSSf = (nfck * nf_ck_) - (nfck_ * nf_ck)\n",
    "    return GSSf"
   ]
  },
  {
   "cell_type": "code",
   "execution_count": 8,
   "id": "ab4915fa",
   "metadata": {},
   "outputs": [],
   "source": [
    "def normalizer(features, thresh):\n",
    "    \n",
    "    amin, amax = min(features), max(features)\n",
    "    for i, val in enumerate(features):\n",
    "        # Normalizing the integers into 0-thresh\n",
    "        features[i] = ((val - amin) / (amax - amin)) * thresh\n",
    "    return features"
   ]
  },
  {
   "cell_type": "code",
   "execution_count": 9,
   "id": "f448ce94",
   "metadata": {},
   "outputs": [],
   "source": [
    "def gss(vectorizes, x_datasets, y_datasets, datasets_name=datasets_name):\n",
    "    \n",
    "    tops = []\n",
    "    print('(Main, Selected) Features size:')\n",
    "    for i, (vector, x_dset, y_dset) in enumerate(zip(vectorizes, x_datasets, y_datasets)):\n",
    "        features = []\n",
    "        for vocab, count in vector.vocabulary_.items():\n",
    "            GSSck  = gss_cal(x_dset, vocab, count, index=0)\n",
    "            GSSck_ = gss_cal(x_dset, vocab, count, index=1)\n",
    "            GSS = max(GSSck, GSSck_)\n",
    "            features.append(GSS)\n",
    "        \n",
    "        features = normalizer(features, thresh=4)\n",
    "        top_gss = filter_features(features=features, thresh=1)\n",
    "        tops.append(top_gss)\n",
    "        print(' |_ {}: ({}, {})'.format(datasets_name[i], len(vector.vocabulary_), len(top_gss)))\n",
    "    return tops"
   ]
  },
  {
   "cell_type": "code",
   "execution_count": null,
   "id": "c5cdcec7",
   "metadata": {},
   "outputs": [],
   "source": []
  },
  {
   "cell_type": "markdown",
   "id": "1d5db436",
   "metadata": {},
   "source": [
    "### Bi-Normal Separation"
   ]
  },
  {
   "cell_type": "code",
   "execution_count": 10,
   "id": "2bc2f5e9",
   "metadata": {},
   "outputs": [],
   "source": [
    "def bns_cal(x_dset, vocab, count, y_dset, index):\n",
    "    if vocab in x_dset[index].vocabulary_:\n",
    "        nfck = x_dset[index].vocabulary_[vocab]\n",
    "    else:\n",
    "        nfck = 10 ** -10\n",
    "        \n",
    "    nck = sum(x_dset[index].vocabulary_.values())\n",
    "    if vocab in x_dset[int(not(index))].vocabulary_:\n",
    "        nfck_ = x_dset[int(not(index))].vocabulary_[vocab]\n",
    "    else:\n",
    "        nfck_ = 10 ** -10\n",
    "    \n",
    "    nck_ = sum(x_dset[int(not(index))].vocabulary_.values())    \n",
    "    BNS = np.subtract(norm.ppf(np.divide(nfck, nck)), norm.ppf(np.divide(nfck_, nck_)))\n",
    "    return BNS, nck"
   ]
  },
  {
   "cell_type": "code",
   "execution_count": 11,
   "id": "9b229c68",
   "metadata": {},
   "outputs": [],
   "source": [
    "def bi_normal_sep(vectorizes, x_datasets, y_datasets, datasets_name=datasets_name):\n",
    "    \n",
    "    tops = []\n",
    "    print('(Main, Selected) Features size:')\n",
    "    for i, (vector, x_dset, y_dset) in enumerate(zip(vectorizes, x_datasets, y_datasets)):\n",
    "        maximum = 0\n",
    "        features = []\n",
    "        BNScks, BNSck_s, counts_cks, counts_ck_s = [], [], [], []\n",
    "        for vocab, count in vector.vocabulary_.items():\n",
    "            BNSck, counts_ck   = bns_cal(x_dset, vocab, count, y_dset, index=0)\n",
    "            BNSck_, counts_ck_ = bns_cal(x_dset, vocab, count, y_dset, index=1)\n",
    "            \n",
    "            # The maximum value is replaced for the inf and -inf\n",
    "            [maximum == BNSck if maximum < BNSck else maximum]\n",
    "            \n",
    "            BNScks.append(BNSck)\n",
    "            BNSck_s.append(BNSck_)\n",
    "            counts_cks.append(counts_ck)\n",
    "            counts_ck_s.append(counts_ck_)\n",
    "            \n",
    "        for BNSck, BNSck_, counts_ck, counts_ck_ in zip(BNScks, BNSck_s, counts_cks, counts_ck_s):\n",
    "            \n",
    "            if BNSck in [np.inf, -np.inf]:\n",
    "                BNSck = maximum \n",
    "            if BNSck_ in [np.inf, -np.inf]:\n",
    "                BNSck_ = -maximum\n",
    "            \n",
    "            BNS = np.divide(np.add(np.multiply(counts_ck, BNSck), np.multiply(counts_ck_, BNSck_)), len(vector.vocabulary_))\n",
    "            features.append(BNS)\n",
    "            \n",
    "        top_bns = filter_features(features=features, thresh=[400, 590, 320][i], absolute=True)\n",
    "        tops.append(top_bns)\n",
    "        print(' |_ {}: ({}, {})'.format(datasets_name[i], len(vector.vocabulary_), len(top_bns)))\n",
    "    return tops"
   ]
  },
  {
   "cell_type": "code",
   "execution_count": null,
   "id": "b3a5e724",
   "metadata": {},
   "outputs": [],
   "source": []
  },
  {
   "cell_type": "code",
   "execution_count": null,
   "id": "2543c62b",
   "metadata": {},
   "outputs": [],
   "source": []
  }
 ],
 "metadata": {
  "kernelspec": {
   "display_name": "Python 3 (ipykernel)",
   "language": "python",
   "name": "python3"
  },
  "language_info": {
   "codemirror_mode": {
    "name": "ipython",
    "version": 3
   },
   "file_extension": ".py",
   "mimetype": "text/x-python",
   "name": "python",
   "nbconvert_exporter": "python",
   "pygments_lexer": "ipython3",
   "version": "3.10.1"
  }
 },
 "nbformat": 4,
 "nbformat_minor": 5
}
