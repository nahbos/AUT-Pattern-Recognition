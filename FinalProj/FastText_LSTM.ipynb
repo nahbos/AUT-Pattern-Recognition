{
  "nbformat": 4,
  "nbformat_minor": 0,
  "metadata": {
    "colab": {
      "name": "FastText_LSTM.ipynb",
      "provenance": [],
      "collapsed_sections": [],
      "include_colab_link": true
    },
    "kernelspec": {
      "name": "python3",
      "display_name": "Python 3"
    }
  },
  "cells": [
    {
      "cell_type": "markdown",
      "metadata": {
        "id": "view-in-github",
        "colab_type": "text"
      },
      "source": [
        "<a href=\"https://colab.research.google.com/github/nahbos/AUT-Pattern-Recognition/blob/main/FinalProj/FastText_LSTM.ipynb\" target=\"_parent\"><img src=\"https://colab.research.google.com/assets/colab-badge.svg\" alt=\"Open In Colab\"/></a>"
      ]
    },
    {
      "cell_type": "markdown",
      "source": [
        "###**Copyright (C) 2022 Sobhan Moradian Daghigh**\n",
        "######**Date: 2/10/2022**"
      ],
      "metadata": {
        "id": "7GlPaFweH1fa"
      }
    },
    {
      "cell_type": "markdown",
      "metadata": {
        "id": "2H7Ynha2lHj7"
      },
      "source": [
        "#**Preparing the pre-trained fastText model**"
      ]
    },
    {
      "cell_type": "markdown",
      "source": [
        "Downloading pre-trained fastText"
      ],
      "metadata": {
        "id": "_4SNsCZBrXwE"
      }
    },
    {
      "cell_type": "code",
      "metadata": {
        "id": "DlC4m7alB44c"
      },
      "source": [
        "import requests, zipfile, io\n",
        "zip_file_url = \"https://dl.fbaipublicfiles.com/fasttext/vectors-english/crawl-300d-2M.vec.zip\"\n",
        "r = requests.get(zip_file_url)\n",
        "z = zipfile.ZipFile(io.BytesIO(r.content))\n",
        "z.extractall()"
      ],
      "execution_count": null,
      "outputs": []
    },
    {
      "cell_type": "code",
      "metadata": {
        "id": "JEh0D8DSH1L4",
        "colab": {
          "base_uri": "https://localhost:8080/"
        },
        "outputId": "db9b949b-9c9c-4e5f-d6fd-1d9ae008ff86"
      },
      "source": [
        "import numpy as np\n",
        "import pandas as pd\n",
        "from sklearn.model_selection import train_test_split\n",
        "from sklearn.utils import shuffle\n",
        "from sklearn.feature_extraction.text import TfidfVectorizer\n",
        "from sklearn.metrics import accuracy_score\n",
        "\n",
        "import keras\n",
        "from keras import optimizers\n",
        "from keras import backend as K\n",
        "from keras import regularizers\n",
        "from keras.models import Sequential\n",
        "from keras.layers import Dense, Activation, Dropout, Flatten\n",
        "from keras.layers import Embedding, Conv1D, MaxPooling1D, GlobalMaxPooling1D\n",
        "from tensorflow.keras.layers import Embedding, LSTM, Dense, Dropout, Bidirectional\n",
        "from keras.utils.vis_utils import plot_model\n",
        "from keras.preprocessing import sequence\n",
        "from keras.preprocessing.text import Tokenizer\n",
        "from keras.callbacks import EarlyStopping\n",
        "from keras.layers import BatchNormalization\n",
        "import tensorflow as tf\n",
        "from tensorflow.keras.optimizers import RMSprop\n",
        "from keras.callbacks import ModelCheckpoint\n",
        "from tensorflow.keras.callbacks import EarlyStopping\n",
        "\n",
        "import string\n",
        "from nltk.corpus import stopwords\n",
        "from nltk import word_tokenize\n",
        "from nltk.stem.porter import PorterStemmer\n",
        "from nltk import pos_tag\n",
        "import nltk\n",
        "nltk.download('stopwords')\n",
        "nltk.download('punkt')\n",
        "\n",
        "from tqdm import tqdm\n",
        "import codecs\n",
        "\n",
        "np.random.seed(0)\n",
        "\n",
        "MAX_NB_WORDS = 100000"
      ],
      "execution_count": null,
      "outputs": [
        {
          "output_type": "stream",
          "name": "stdout",
          "text": [
            "[nltk_data] Downloading package stopwords to /root/nltk_data...\n",
            "[nltk_data]   Package stopwords is already up-to-date!\n",
            "[nltk_data] Downloading package punkt to /root/nltk_data...\n",
            "[nltk_data]   Package punkt is already up-to-date!\n"
          ]
        }
      ]
    },
    {
      "cell_type": "markdown",
      "metadata": {
        "id": "OryI3DKE8tr8"
      },
      "source": [
        "\n",
        "Converting all the words to the embedding index in pre-trained model"
      ]
    },
    {
      "cell_type": "code",
      "metadata": {
        "id": "IPqS-8FcEN95",
        "colab": {
          "base_uri": "https://localhost:8080/"
        },
        "outputId": "f08ad1f4-4b97-468a-a0a8-b0dca835a7ab"
      },
      "source": [
        "print('Loading word embeddings..')\n",
        "\n",
        "embeddings_index = {}\n",
        "f = codecs.open('crawl-300d-2M.vec', encoding='utf-8')\n",
        "\n",
        "for line in tqdm(f):\n",
        "    values = line.rstrip().rsplit(' ')\n",
        "    word = values[0]\n",
        "    coefs = np.asarray(values[1:], dtype='float32')\n",
        "    embeddings_index[word] = coefs\n",
        "f.close()"
      ],
      "execution_count": null,
      "outputs": [
        {
          "output_type": "stream",
          "name": "stdout",
          "text": [
            "Loading word embeddings..\n"
          ]
        },
        {
          "output_type": "stream",
          "name": "stderr",
          "text": [
            "1999996it [03:49, 8721.75it/s]\n"
          ]
        }
      ]
    },
    {
      "cell_type": "markdown",
      "source": [
        "Make a preprocess on the comments to improve quality and remove unneccessary words\n",
        "1. convert all words to lowercase\n",
        "2. remove punctuations\n",
        "3. tonekize words\n",
        "4. remove stopwords\n",
        "5. use porterStemmer to have stemming words"
      ],
      "metadata": {
        "id": "n7HpKZXMe8_w"
      }
    },
    {
      "cell_type": "code",
      "source": [
        "def nlprocess(dataset):\n",
        "\n",
        "  preprocessed_comments = []\n",
        "  for _, text in dataset.iterrows():\n",
        "\n",
        "      text = text[0]\n",
        "      #Lowercase\n",
        "      text = text.lower()\n",
        "\n",
        "      # Removing Punctuation\n",
        "      text = \"\".join([char for char in text if char not in string.punctuation])\n",
        "\n",
        "      # Word Tokenization\n",
        "      text = word_tokenize(text)\n",
        "\n",
        "      # Stopword Filtering\n",
        "      stop_words = stopwords.words('english')\n",
        "      text = [word for word in text if word not in stop_words]\n",
        "\n",
        "      # Stemming\n",
        "      porter = PorterStemmer()\n",
        "      text = [porter.stem(word) for word in text]\n",
        "\n",
        "      text = ' '.join(text)\n",
        "\n",
        "      preprocessed_comments.append(text)\n",
        "      \n",
        "  return preprocessed_comments"
      ],
      "metadata": {
        "id": "gfJ2dbsJ_nMP"
      },
      "execution_count": 270,
      "outputs": []
    },
    {
      "cell_type": "code",
      "source": [
        "def spliter(datasets):\n",
        "    x_train_datasets, x_test_datasets, y_train_datasets, y_test_datasets = [], [], [], []\n",
        "    print('(train, test):')\n",
        "    for i, dataset in enumerate(datasets):\n",
        "        x_train, x_test = dataset[0], dataset[1]\n",
        "        tr, ts = np.zeros(len(x_train)), np.zeros(len(x_test))\n",
        "        tr[:len(x_train) // 2], ts[:len(x_test) // 2] = 1, 1\n",
        "        y_train, y_test = tr, ts\n",
        "\n",
        "        x_train_datasets.append(nlprocess(x_train))\n",
        "        x_test_datasets.append(nlprocess(x_test))\n",
        "        y_train_datasets.append(y_train)\n",
        "        y_test_datasets.append(y_test)\n",
        "        print(' |_ {}: ({}, {})'.format(datasets_name[i], len(x_train), len(x_test)))\n",
        "    return x_train_datasets, x_test_datasets, y_train_datasets, y_test_datasets"
      ],
      "metadata": {
        "id": "QetfY78V_7kW"
      },
      "execution_count": 271,
      "outputs": []
    },
    {
      "cell_type": "code",
      "metadata": {
        "id": "gXof0wFo6Q8a",
        "colab": {
          "base_uri": "https://localhost:8080/"
        },
        "outputId": "1fde11ea-930c-4670-c995-474923f864cb"
      },
      "source": [
        "datasets_name = ['Books      ', 'DVD        ', 'Electronics', 'Kitchen    ']\n",
        "\n",
        "# Load data\n",
        "datasets = []\n",
        "\n",
        "books_train = pd.read_csv('./Bookstrain.txt', names=['text'], sep='\\t')\n",
        "books_test = pd.read_csv('./Bookstest.txt', names=['text'], sep='\\t')\n",
        "datasets.append([books_train, books_test])\n",
        "\n",
        "dvd_train = pd.read_csv('./Dvdtrain.txt', names=['text'], sep='\\t')\n",
        "dvd_test = pd.read_csv('./Dvdtest.txt', names=['text'], sep='\\t')\n",
        "datasets.append([dvd_train, dvd_test])\n",
        "\n",
        "electronics_train = pd.read_csv('./Electronicstrain.txt', names=['text'], sep='\\t')\n",
        "electronics_test = pd.read_csv('./Electronicstest.txt', names=['text'], sep='\\t')\n",
        "datasets.append([electronics_train, electronics_test])\n",
        "\n",
        "kitchen_train = pd.read_csv('./Kitchentrain.txt', names=['text'], sep='\\t')\n",
        "kitchen_test = pd.read_csv('./Kitchentest.txt', names=['text'], sep='\\t')\n",
        "datasets.append([kitchen_train, kitchen_test])\n",
        "\n",
        "\n",
        "\n",
        "x_train_datasets, x_test_datasets, y_train_datasets, y_test_datasets = spliter(datasets)"
      ],
      "execution_count": 272,
      "outputs": [
        {
          "output_type": "stream",
          "name": "stdout",
          "text": [
            "(train, test):\n",
            " |_ Books      : (1600, 400)\n",
            " |_ DVD        : (1600, 400)\n",
            " |_ Electronics: (1600, 400)\n",
            " |_ Kitchen    : (1600, 400)\n"
          ]
        }
      ]
    },
    {
      "cell_type": "markdown",
      "metadata": {
        "id": "a_AOE1b5elSz"
      },
      "source": [
        "Tokenizing the data with tokenizer from tensorflow"
      ]
    },
    {
      "cell_type": "code",
      "metadata": {
        "id": "Cc_9P1cEGg5J"
      },
      "source": [
        "def tokenizer(x_train_datasets, x_test_datasets):\n",
        "  word_indices = []\n",
        "  word_seq_trains = []\n",
        "  word_seq_tests = []\n",
        "  max_seq_lens = []\n",
        "\n",
        "  print(\"Dictionary size:\")\n",
        "  for i, (x_tr, x_ts) in enumerate(zip(x_train_datasets, x_test_datasets)):\n",
        "    (x_tr, x_ts) = (pd.DataFrame(x_tr, columns=['text']), pd.DataFrame(x_ts, columns=['text']))\n",
        "    raw_docs_train = x_tr.text.tolist()\n",
        "    raw_docs_test  = x_ts.text.tolist()\n",
        "\n",
        "\n",
        "    processed_docs_train = []\n",
        "    for doc in tqdm(raw_docs_train):\n",
        "        tokens = word_tokenize(doc)\n",
        "        processed_docs_train.append(\" \".join(tokens))\n",
        "\n",
        "    processed_docs_test = []\n",
        "    for doc in tqdm(raw_docs_test):\n",
        "        tokens = word_tokenize(doc)\n",
        "        processed_docs_test.append(\" \".join(tokens))\n",
        "\n",
        "\n",
        "    tokenizer = Tokenizer(num_words=MAX_NB_WORDS, lower=True, char_level=False)\n",
        "    tokenizer.fit_on_texts(processed_docs_train + processed_docs_test)\n",
        "    word_seq_train = tokenizer.texts_to_sequences(processed_docs_train)\n",
        "    word_seq_test  = tokenizer.texts_to_sequences(processed_docs_test)\n",
        "\n",
        "    word_index = tokenizer.word_index\n",
        "    word_indices.append(word_index)\n",
        "    print(\" |_ {}: {}\".format(datasets_name[i], len(word_index)))\n",
        "\n",
        "    x_tr['doc_len'] = x_tr.text.apply(lambda words: len(words.split(' ')))\n",
        "    max_seq_len = np.round(x_tr.doc_len.mean() + x_tr.doc_len.std()).astype(int)\n",
        "    max_seq_lens.append(max_seq_len)\n",
        "    x_tr = x_tr.drop('doc_len', axis=1)\n",
        "    word_seq_trains.append(sequence.pad_sequences(word_seq_train, maxlen=max_seq_len))\n",
        "    word_seq_tests.append(sequence.pad_sequences(word_seq_test, maxlen=max_seq_len))\n",
        "\n",
        "  return word_indices, word_seq_trains, word_seq_tests, max_seq_lens"
      ],
      "execution_count": 274,
      "outputs": []
    },
    {
      "cell_type": "code",
      "source": [
        "word_indices, word_seq_trains, word_seq_tests, max_seq_lens = tokenizer(x_train_datasets, x_test_datasets)"
      ],
      "metadata": {
        "id": "kJsBfc6eBPCH",
        "colab": {
          "base_uri": "https://localhost:8080/"
        },
        "outputId": "8813f3a6-342f-44c1-e4f1-522fbd50bd39"
      },
      "execution_count": 275,
      "outputs": [
        {
          "output_type": "stream",
          "name": "stdout",
          "text": [
            "Dictionary size:\n"
          ]
        },
        {
          "output_type": "stream",
          "name": "stderr",
          "text": [
            "100%|██████████| 1600/1600 [00:00<00:00, 1685.63it/s]\n",
            "100%|██████████| 400/400 [00:00<00:00, 1710.74it/s]\n"
          ]
        },
        {
          "output_type": "stream",
          "name": "stdout",
          "text": [
            " |_ Books      : 20293\n"
          ]
        },
        {
          "output_type": "stream",
          "name": "stderr",
          "text": [
            "100%|██████████| 1600/1600 [00:00<00:00, 1713.28it/s]\n",
            "100%|██████████| 400/400 [00:00<00:00, 2006.18it/s]\n"
          ]
        },
        {
          "output_type": "stream",
          "name": "stdout",
          "text": [
            " |_ DVD        : 21192\n"
          ]
        },
        {
          "output_type": "stream",
          "name": "stderr",
          "text": [
            "100%|██████████| 1600/1600 [00:00<00:00, 2787.66it/s]\n",
            "100%|██████████| 400/400 [00:00<00:00, 2856.30it/s]\n"
          ]
        },
        {
          "output_type": "stream",
          "name": "stdout",
          "text": [
            " |_ Electronics: 11679\n"
          ]
        },
        {
          "output_type": "stream",
          "name": "stderr",
          "text": [
            "100%|██████████| 1600/1600 [00:00<00:00, 3430.54it/s]\n",
            "100%|██████████| 400/400 [00:00<00:00, 3406.42it/s]\n"
          ]
        },
        {
          "output_type": "stream",
          "name": "stdout",
          "text": [
            " |_ Kitchen    : 9011\n"
          ]
        }
      ]
    },
    {
      "cell_type": "markdown",
      "metadata": {
        "id": "IpGENGlOtQs1"
      },
      "source": [
        "#**Shape and Train with LSTM**"
      ]
    },
    {
      "cell_type": "markdown",
      "metadata": {
        "id": "Nyj7gwQKexxy"
      },
      "source": [
        "defining variables that used on training"
      ]
    },
    {
      "cell_type": "code",
      "metadata": {
        "id": "PSZ3krGMG303"
      },
      "source": [
        "# Training params\n",
        "batch_size = 256 \n",
        "num_epochs = 40\n",
        "\n",
        "# Model params\n",
        "num_filters = 64 \n",
        "embed_dim = 300 \n",
        "weight_decay = 1e-4"
      ],
      "execution_count": 276,
      "outputs": []
    },
    {
      "cell_type": "markdown",
      "metadata": {
        "id": "fZ6AlbhZe4Ky"
      },
      "source": [
        "All words that arent in the pre-trained model from fasttext would be changed to 0. These words are basically the ones with names, and mostly dont matter so much to the pattern. so its nicer to just weights it 0."
      ]
    },
    {
      "cell_type": "code",
      "metadata": {
        "id": "8SJbfuJPJEDC"
      },
      "source": [
        "# Embedding matrix\n",
        "def embd_matrix(word_indices):\n",
        "  nb_words_list = []\n",
        "  embedding_matrices = []\n",
        "  print('Preparing embedding matrix..')\n",
        "  print(' Number of null word embeddings:')\n",
        "  for j, word_index in enumerate(word_indices):\n",
        "    words_not_found = []\n",
        "    nb_words = min(MAX_NB_WORDS, len(word_index) + 1)\n",
        "    nb_words_list.append(nb_words)\n",
        "    embedding_matrix = np.zeros((nb_words, embed_dim))\n",
        "\n",
        "    for word, i in word_index.items():\n",
        "        if i >= nb_words:\n",
        "            continue\n",
        "        embedding_vector = embeddings_index.get(word)\n",
        "        if (embedding_vector is not None) and len(embedding_vector) > 0:\n",
        "            embedding_matrix[i] = embedding_vector\n",
        "        else:\n",
        "            words_not_found.append(word)\n",
        "    \n",
        "    embedding_matrices.append(embedding_matrix)\n",
        "    print('  |_ {}: {}'.format(datasets_name[j], np.sum(np.sum(embedding_matrix, axis=1) == 0)))\n",
        "    print(\"     some of not-found words: {}\".format(np.random.choice(words_not_found, 3)))\n",
        "  \n",
        "  return nb_words_list, embedding_matrices"
      ],
      "execution_count": 277,
      "outputs": []
    },
    {
      "cell_type": "code",
      "metadata": {
        "id": "S_pjm-7BJGuP",
        "colab": {
          "base_uri": "https://localhost:8080/"
        },
        "outputId": "fb18e460-6262-41d8-ccca-6164dcff75ad"
      },
      "source": [
        "nb_words_list, embedding_matrices = embd_matrix(word_indices)"
      ],
      "execution_count": 278,
      "outputs": [
        {
          "output_type": "stream",
          "name": "stdout",
          "text": [
            "Preparing embedding matrix..\n",
            " Number of null word embeddings:\n",
            "  |_ Books      : 8901\n",
            "     some of not-found words: ['twentyodd' 'parabl' 'duckdoesnt']\n",
            "  |_ DVD        : 9501\n",
            "     some of not-found words: ['enjoymi' 'moviesdemi' 'aboutsexu']\n",
            "  |_ Electronics: 5048\n",
            "     some of not-found words: ['digitalbefor' 'lotbatch' '1992and']\n",
            "  |_ Kitchen    : 3400\n",
            "     some of not-found words: ['factorysecondari' 'stomachand' 'ironperform']\n"
          ]
        }
      ]
    },
    {
      "cell_type": "markdown",
      "source": [
        "Cool :)))"
      ],
      "metadata": {
        "id": "YPQCCaKj13lZ"
      }
    },
    {
      "cell_type": "markdown",
      "metadata": {
        "id": "SUBAkn22ga48"
      },
      "source": [
        "Now, lets start training!"
      ]
    },
    {
      "cell_type": "code",
      "metadata": {
        "id": "xpX2AFhKJJsh"
      },
      "source": [
        "def fast_text_trainer(embedding_matrices, nb_words_list, max_seq_lens, y_train_datasets, word_seq_trains):\n",
        "  models = []\n",
        "  \n",
        "  for i, (embedding_matrix, nb_words, max_seq_len, y_train, word_seq_train) in enumerate(zip(embedding_matrices, nb_words_list, max_seq_lens, y_train_datasets, word_seq_trains)):\n",
        "\n",
        "    model = tf.keras.Sequential()\n",
        "\n",
        "    model.add(Embedding(nb_words, embed_dim, input_length=max_seq_len, weights=[embedding_matrix], trainable=False))\n",
        "    model.add(Bidirectional(LSTM(32)))\n",
        "    model.add(Dense(32,activation='relu'))\n",
        "    model.add(Dropout(0.4))\n",
        "    model.add(Dense(1,activation='sigmoid'))\n",
        "\n",
        "    print('\\n\\n****************************   {}   ************************'.format(datasets_name[i]))\n",
        "    model.summary()\n",
        "\n",
        "    model.compile(loss='binary_crossentropy', optimizer='adam', metrics=['accuracy'])\n",
        "\n",
        "    es_callback = EarlyStopping(monitor='val_loss', patience=3)\n",
        "    model.fit(word_seq_train, y_train, batch_size=256, epochs=num_epochs, callbacks=[es_callback], shuffle=False)\n",
        "\n",
        "    models.append(model)\n",
        "    keras.backend.clear_session()\n",
        "  return models"
      ],
      "execution_count": 279,
      "outputs": []
    },
    {
      "cell_type": "code",
      "source": [
        "models = fast_text_trainer(embedding_matrices, nb_words_list, max_seq_lens, y_train_datasets, word_seq_trains)"
      ],
      "metadata": {
        "colab": {
          "base_uri": "https://localhost:8080/"
        },
        "id": "B9oADMCL4lmj",
        "outputId": "e10263c5-6f85-49fa-d9f9-dfa97bb8f745"
      },
      "execution_count": 280,
      "outputs": [
        {
          "output_type": "stream",
          "name": "stdout",
          "text": [
            "\n",
            "\n",
            "****************************   Books         ************************\n",
            "Model: \"sequential\"\n",
            "_________________________________________________________________\n",
            " Layer (type)                Output Shape              Param #   \n",
            "=================================================================\n",
            " embedding (Embedding)       (None, 323, 300)          6088200   \n",
            "                                                                 \n",
            " bidirectional (Bidirectiona  (None, 64)               85248     \n",
            " l)                                                              \n",
            "                                                                 \n",
            " dense (Dense)               (None, 32)                2080      \n",
            "                                                                 \n",
            " dropout (Dropout)           (None, 32)                0         \n",
            "                                                                 \n",
            " dense_1 (Dense)             (None, 1)                 33        \n",
            "                                                                 \n",
            "=================================================================\n",
            "Total params: 6,175,561\n",
            "Trainable params: 87,361\n",
            "Non-trainable params: 6,088,200\n",
            "_________________________________________________________________\n",
            "Epoch 1/40\n",
            "7/7 [==============================] - ETA: 0s - loss: 0.7385 - accuracy: 0.3850WARNING:tensorflow:Early stopping conditioned on metric `val_loss` which is not available. Available metrics are: loss,accuracy\n",
            "7/7 [==============================] - 12s 1s/step - loss: 0.7385 - accuracy: 0.3850\n",
            "Epoch 2/40\n",
            "7/7 [==============================] - ETA: 0s - loss: 0.6895 - accuracy: 0.5031WARNING:tensorflow:Early stopping conditioned on metric `val_loss` which is not available. Available metrics are: loss,accuracy\n",
            "7/7 [==============================] - 8s 1s/step - loss: 0.6895 - accuracy: 0.5031\n",
            "Epoch 3/40\n",
            "7/7 [==============================] - ETA: 0s - loss: 0.6824 - accuracy: 0.5362WARNING:tensorflow:Early stopping conditioned on metric `val_loss` which is not available. Available metrics are: loss,accuracy\n",
            "7/7 [==============================] - 9s 1s/step - loss: 0.6824 - accuracy: 0.5362\n",
            "Epoch 4/40\n",
            "7/7 [==============================] - ETA: 0s - loss: 0.6810 - accuracy: 0.5950WARNING:tensorflow:Early stopping conditioned on metric `val_loss` which is not available. Available metrics are: loss,accuracy\n",
            "7/7 [==============================] - 8s 1s/step - loss: 0.6810 - accuracy: 0.5950\n",
            "Epoch 5/40\n",
            "7/7 [==============================] - ETA: 0s - loss: 0.6780 - accuracy: 0.6275WARNING:tensorflow:Early stopping conditioned on metric `val_loss` which is not available. Available metrics are: loss,accuracy\n",
            "7/7 [==============================] - 8s 1s/step - loss: 0.6780 - accuracy: 0.6275\n",
            "Epoch 6/40\n",
            "7/7 [==============================] - ETA: 0s - loss: 0.6753 - accuracy: 0.6419WARNING:tensorflow:Early stopping conditioned on metric `val_loss` which is not available. Available metrics are: loss,accuracy\n",
            "7/7 [==============================] - 8s 1s/step - loss: 0.6753 - accuracy: 0.6419\n",
            "Epoch 7/40\n",
            "7/7 [==============================] - ETA: 0s - loss: 0.6704 - accuracy: 0.6519WARNING:tensorflow:Early stopping conditioned on metric `val_loss` which is not available. Available metrics are: loss,accuracy\n",
            "7/7 [==============================] - 8s 1s/step - loss: 0.6704 - accuracy: 0.6519\n",
            "Epoch 8/40\n",
            "7/7 [==============================] - ETA: 0s - loss: 0.6655 - accuracy: 0.6388WARNING:tensorflow:Early stopping conditioned on metric `val_loss` which is not available. Available metrics are: loss,accuracy\n",
            "7/7 [==============================] - 8s 1s/step - loss: 0.6655 - accuracy: 0.6388\n",
            "Epoch 9/40\n",
            "7/7 [==============================] - ETA: 0s - loss: 0.6613 - accuracy: 0.6525WARNING:tensorflow:Early stopping conditioned on metric `val_loss` which is not available. Available metrics are: loss,accuracy\n",
            "7/7 [==============================] - 8s 1s/step - loss: 0.6613 - accuracy: 0.6525\n",
            "Epoch 10/40\n",
            "7/7 [==============================] - ETA: 0s - loss: 0.6561 - accuracy: 0.6388WARNING:tensorflow:Early stopping conditioned on metric `val_loss` which is not available. Available metrics are: loss,accuracy\n",
            "7/7 [==============================] - 8s 1s/step - loss: 0.6561 - accuracy: 0.6388\n",
            "Epoch 11/40\n",
            "7/7 [==============================] - ETA: 0s - loss: 0.6436 - accuracy: 0.6650WARNING:tensorflow:Early stopping conditioned on metric `val_loss` which is not available. Available metrics are: loss,accuracy\n",
            "7/7 [==============================] - 8s 1s/step - loss: 0.6436 - accuracy: 0.6650\n",
            "Epoch 12/40\n",
            "7/7 [==============================] - ETA: 0s - loss: 0.6345 - accuracy: 0.6737WARNING:tensorflow:Early stopping conditioned on metric `val_loss` which is not available. Available metrics are: loss,accuracy\n",
            "7/7 [==============================] - 10s 1s/step - loss: 0.6345 - accuracy: 0.6737\n",
            "Epoch 13/40\n",
            "7/7 [==============================] - ETA: 0s - loss: 0.6184 - accuracy: 0.6787WARNING:tensorflow:Early stopping conditioned on metric `val_loss` which is not available. Available metrics are: loss,accuracy\n",
            "7/7 [==============================] - 8s 1s/step - loss: 0.6184 - accuracy: 0.6787\n",
            "Epoch 14/40\n",
            "7/7 [==============================] - ETA: 0s - loss: 0.5985 - accuracy: 0.6969WARNING:tensorflow:Early stopping conditioned on metric `val_loss` which is not available. Available metrics are: loss,accuracy\n",
            "7/7 [==============================] - 8s 1s/step - loss: 0.5985 - accuracy: 0.6969\n",
            "Epoch 15/40\n",
            "7/7 [==============================] - ETA: 0s - loss: 0.6016 - accuracy: 0.6794WARNING:tensorflow:Early stopping conditioned on metric `val_loss` which is not available. Available metrics are: loss,accuracy\n",
            "7/7 [==============================] - 8s 1s/step - loss: 0.6016 - accuracy: 0.6794\n",
            "Epoch 16/40\n",
            "7/7 [==============================] - ETA: 0s - loss: 0.5636 - accuracy: 0.7269WARNING:tensorflow:Early stopping conditioned on metric `val_loss` which is not available. Available metrics are: loss,accuracy\n",
            "7/7 [==============================] - 8s 1s/step - loss: 0.5636 - accuracy: 0.7269\n",
            "Epoch 17/40\n",
            "7/7 [==============================] - ETA: 0s - loss: 0.5611 - accuracy: 0.7281WARNING:tensorflow:Early stopping conditioned on metric `val_loss` which is not available. Available metrics are: loss,accuracy\n",
            "7/7 [==============================] - 8s 1s/step - loss: 0.5611 - accuracy: 0.7281\n",
            "Epoch 18/40\n",
            "7/7 [==============================] - ETA: 0s - loss: 0.5352 - accuracy: 0.7581WARNING:tensorflow:Early stopping conditioned on metric `val_loss` which is not available. Available metrics are: loss,accuracy\n",
            "7/7 [==============================] - 8s 1s/step - loss: 0.5352 - accuracy: 0.7581\n",
            "Epoch 19/40\n",
            "7/7 [==============================] - ETA: 0s - loss: 0.5187 - accuracy: 0.7669WARNING:tensorflow:Early stopping conditioned on metric `val_loss` which is not available. Available metrics are: loss,accuracy\n",
            "7/7 [==============================] - 8s 1s/step - loss: 0.5187 - accuracy: 0.7669\n",
            "Epoch 20/40\n",
            "7/7 [==============================] - ETA: 0s - loss: 0.4995 - accuracy: 0.7713WARNING:tensorflow:Early stopping conditioned on metric `val_loss` which is not available. Available metrics are: loss,accuracy\n",
            "7/7 [==============================] - 8s 1s/step - loss: 0.4995 - accuracy: 0.7713\n",
            "Epoch 21/40\n",
            "7/7 [==============================] - ETA: 0s - loss: 0.4881 - accuracy: 0.7812WARNING:tensorflow:Early stopping conditioned on metric `val_loss` which is not available. Available metrics are: loss,accuracy\n",
            "7/7 [==============================] - 8s 1s/step - loss: 0.4881 - accuracy: 0.7812\n",
            "Epoch 22/40\n",
            "7/7 [==============================] - ETA: 0s - loss: 0.4620 - accuracy: 0.7962WARNING:tensorflow:Early stopping conditioned on metric `val_loss` which is not available. Available metrics are: loss,accuracy\n",
            "7/7 [==============================] - 8s 1s/step - loss: 0.4620 - accuracy: 0.7962\n",
            "Epoch 23/40\n",
            "7/7 [==============================] - ETA: 0s - loss: 0.4554 - accuracy: 0.7975WARNING:tensorflow:Early stopping conditioned on metric `val_loss` which is not available. Available metrics are: loss,accuracy\n",
            "7/7 [==============================] - 8s 1s/step - loss: 0.4554 - accuracy: 0.7975\n",
            "Epoch 24/40\n",
            "7/7 [==============================] - ETA: 0s - loss: 0.4276 - accuracy: 0.8213WARNING:tensorflow:Early stopping conditioned on metric `val_loss` which is not available. Available metrics are: loss,accuracy\n",
            "7/7 [==============================] - 8s 1s/step - loss: 0.4276 - accuracy: 0.8213\n",
            "Epoch 25/40\n",
            "7/7 [==============================] - ETA: 0s - loss: 0.4374 - accuracy: 0.8006WARNING:tensorflow:Early stopping conditioned on metric `val_loss` which is not available. Available metrics are: loss,accuracy\n",
            "7/7 [==============================] - 8s 1s/step - loss: 0.4374 - accuracy: 0.8006\n",
            "Epoch 26/40\n",
            "7/7 [==============================] - ETA: 0s - loss: 0.3970 - accuracy: 0.8275WARNING:tensorflow:Early stopping conditioned on metric `val_loss` which is not available. Available metrics are: loss,accuracy\n",
            "7/7 [==============================] - 8s 1s/step - loss: 0.3970 - accuracy: 0.8275\n",
            "Epoch 27/40\n",
            "7/7 [==============================] - ETA: 0s - loss: 0.4023 - accuracy: 0.8250WARNING:tensorflow:Early stopping conditioned on metric `val_loss` which is not available. Available metrics are: loss,accuracy\n",
            "7/7 [==============================] - 8s 1s/step - loss: 0.4023 - accuracy: 0.8250\n",
            "Epoch 28/40\n",
            "7/7 [==============================] - ETA: 0s - loss: 0.3705 - accuracy: 0.8444WARNING:tensorflow:Early stopping conditioned on metric `val_loss` which is not available. Available metrics are: loss,accuracy\n",
            "7/7 [==============================] - 8s 1s/step - loss: 0.3705 - accuracy: 0.8444\n",
            "Epoch 29/40\n",
            "7/7 [==============================] - ETA: 0s - loss: 0.3726 - accuracy: 0.8444WARNING:tensorflow:Early stopping conditioned on metric `val_loss` which is not available. Available metrics are: loss,accuracy\n",
            "7/7 [==============================] - 8s 1s/step - loss: 0.3726 - accuracy: 0.8444\n",
            "Epoch 30/40\n",
            "7/7 [==============================] - ETA: 0s - loss: 0.3427 - accuracy: 0.8637WARNING:tensorflow:Early stopping conditioned on metric `val_loss` which is not available. Available metrics are: loss,accuracy\n",
            "7/7 [==============================] - 8s 1s/step - loss: 0.3427 - accuracy: 0.8637\n",
            "Epoch 31/40\n",
            "7/7 [==============================] - ETA: 0s - loss: 0.3461 - accuracy: 0.8562WARNING:tensorflow:Early stopping conditioned on metric `val_loss` which is not available. Available metrics are: loss,accuracy\n",
            "7/7 [==============================] - 8s 1s/step - loss: 0.3461 - accuracy: 0.8562\n",
            "Epoch 32/40\n",
            "7/7 [==============================] - ETA: 0s - loss: 0.3289 - accuracy: 0.8794WARNING:tensorflow:Early stopping conditioned on metric `val_loss` which is not available. Available metrics are: loss,accuracy\n",
            "7/7 [==============================] - 8s 1s/step - loss: 0.3289 - accuracy: 0.8794\n",
            "Epoch 33/40\n",
            "7/7 [==============================] - ETA: 0s - loss: 0.3250 - accuracy: 0.8737WARNING:tensorflow:Early stopping conditioned on metric `val_loss` which is not available. Available metrics are: loss,accuracy\n",
            "7/7 [==============================] - 8s 1s/step - loss: 0.3250 - accuracy: 0.8737\n",
            "Epoch 34/40\n",
            "7/7 [==============================] - ETA: 0s - loss: 0.3074 - accuracy: 0.8881WARNING:tensorflow:Early stopping conditioned on metric `val_loss` which is not available. Available metrics are: loss,accuracy\n",
            "7/7 [==============================] - 8s 1s/step - loss: 0.3074 - accuracy: 0.8881\n",
            "Epoch 35/40\n",
            "7/7 [==============================] - ETA: 0s - loss: 0.3022 - accuracy: 0.8825WARNING:tensorflow:Early stopping conditioned on metric `val_loss` which is not available. Available metrics are: loss,accuracy\n",
            "7/7 [==============================] - 8s 1s/step - loss: 0.3022 - accuracy: 0.8825\n",
            "Epoch 36/40\n",
            "7/7 [==============================] - ETA: 0s - loss: 0.2993 - accuracy: 0.8994WARNING:tensorflow:Early stopping conditioned on metric `val_loss` which is not available. Available metrics are: loss,accuracy\n",
            "7/7 [==============================] - 8s 1s/step - loss: 0.2993 - accuracy: 0.8994\n",
            "Epoch 37/40\n",
            "7/7 [==============================] - ETA: 0s - loss: 0.2661 - accuracy: 0.9038WARNING:tensorflow:Early stopping conditioned on metric `val_loss` which is not available. Available metrics are: loss,accuracy\n",
            "7/7 [==============================] - 8s 1s/step - loss: 0.2661 - accuracy: 0.9038\n",
            "Epoch 38/40\n",
            "7/7 [==============================] - ETA: 0s - loss: 0.2680 - accuracy: 0.9081WARNING:tensorflow:Early stopping conditioned on metric `val_loss` which is not available. Available metrics are: loss,accuracy\n",
            "7/7 [==============================] - 8s 1s/step - loss: 0.2680 - accuracy: 0.9081\n",
            "Epoch 39/40\n",
            "7/7 [==============================] - ETA: 0s - loss: 0.2516 - accuracy: 0.9144WARNING:tensorflow:Early stopping conditioned on metric `val_loss` which is not available. Available metrics are: loss,accuracy\n",
            "7/7 [==============================] - 8s 1s/step - loss: 0.2516 - accuracy: 0.9144\n",
            "Epoch 40/40\n",
            "7/7 [==============================] - ETA: 0s - loss: 0.2289 - accuracy: 0.9244WARNING:tensorflow:Early stopping conditioned on metric `val_loss` which is not available. Available metrics are: loss,accuracy\n",
            "7/7 [==============================] - 8s 1s/step - loss: 0.2289 - accuracy: 0.9244\n",
            "\n",
            "\n",
            "****************************   DVD           ************************\n",
            "Model: \"sequential\"\n",
            "_________________________________________________________________\n",
            " Layer (type)                Output Shape              Param #   \n",
            "=================================================================\n",
            " embedding (Embedding)       (None, 316, 300)          6357900   \n",
            "                                                                 \n",
            " bidirectional (Bidirectiona  (None, 64)               85248     \n",
            " l)                                                              \n",
            "                                                                 \n",
            " dense (Dense)               (None, 32)                2080      \n",
            "                                                                 \n",
            " dropout (Dropout)           (None, 32)                0         \n",
            "                                                                 \n",
            " dense_1 (Dense)             (None, 1)                 33        \n",
            "                                                                 \n",
            "=================================================================\n",
            "Total params: 6,445,261\n",
            "Trainable params: 87,361\n",
            "Non-trainable params: 6,357,900\n",
            "_________________________________________________________________\n",
            "Epoch 1/40\n",
            "7/7 [==============================] - ETA: 0s - loss: 0.7329 - accuracy: 0.3581WARNING:tensorflow:Early stopping conditioned on metric `val_loss` which is not available. Available metrics are: loss,accuracy\n",
            "7/7 [==============================] - 11s 1s/step - loss: 0.7329 - accuracy: 0.3581\n",
            "Epoch 2/40\n",
            "7/7 [==============================] - ETA: 0s - loss: 0.6917 - accuracy: 0.5069WARNING:tensorflow:Early stopping conditioned on metric `val_loss` which is not available. Available metrics are: loss,accuracy\n",
            "7/7 [==============================] - 8s 1s/step - loss: 0.6917 - accuracy: 0.5069\n",
            "Epoch 3/40\n",
            "7/7 [==============================] - ETA: 0s - loss: 0.6874 - accuracy: 0.5206WARNING:tensorflow:Early stopping conditioned on metric `val_loss` which is not available. Available metrics are: loss,accuracy\n",
            "7/7 [==============================] - 7s 1s/step - loss: 0.6874 - accuracy: 0.5206\n",
            "Epoch 4/40\n",
            "7/7 [==============================] - ETA: 0s - loss: 0.6839 - accuracy: 0.5494WARNING:tensorflow:Early stopping conditioned on metric `val_loss` which is not available. Available metrics are: loss,accuracy\n",
            "7/7 [==============================] - 7s 1s/step - loss: 0.6839 - accuracy: 0.5494\n",
            "Epoch 5/40\n",
            "7/7 [==============================] - ETA: 0s - loss: 0.6805 - accuracy: 0.5825WARNING:tensorflow:Early stopping conditioned on metric `val_loss` which is not available. Available metrics are: loss,accuracy\n",
            "7/7 [==============================] - 7s 1s/step - loss: 0.6805 - accuracy: 0.5825\n",
            "Epoch 6/40\n",
            "7/7 [==============================] - ETA: 0s - loss: 0.6797 - accuracy: 0.5962WARNING:tensorflow:Early stopping conditioned on metric `val_loss` which is not available. Available metrics are: loss,accuracy\n",
            "7/7 [==============================] - 7s 1s/step - loss: 0.6797 - accuracy: 0.5962\n",
            "Epoch 7/40\n",
            "7/7 [==============================] - ETA: 0s - loss: 0.6766 - accuracy: 0.6069WARNING:tensorflow:Early stopping conditioned on metric `val_loss` which is not available. Available metrics are: loss,accuracy\n",
            "7/7 [==============================] - 7s 1s/step - loss: 0.6766 - accuracy: 0.6069\n",
            "Epoch 8/40\n",
            "7/7 [==============================] - ETA: 0s - loss: 0.6719 - accuracy: 0.6306WARNING:tensorflow:Early stopping conditioned on metric `val_loss` which is not available. Available metrics are: loss,accuracy\n",
            "7/7 [==============================] - 7s 1s/step - loss: 0.6719 - accuracy: 0.6306\n",
            "Epoch 9/40\n",
            "7/7 [==============================] - ETA: 0s - loss: 0.6633 - accuracy: 0.6587WARNING:tensorflow:Early stopping conditioned on metric `val_loss` which is not available. Available metrics are: loss,accuracy\n",
            "7/7 [==============================] - 7s 1s/step - loss: 0.6633 - accuracy: 0.6587\n",
            "Epoch 10/40\n",
            "7/7 [==============================] - ETA: 0s - loss: 0.6610 - accuracy: 0.6506WARNING:tensorflow:Early stopping conditioned on metric `val_loss` which is not available. Available metrics are: loss,accuracy\n",
            "7/7 [==============================] - 7s 1s/step - loss: 0.6610 - accuracy: 0.6506\n",
            "Epoch 11/40\n",
            "7/7 [==============================] - ETA: 0s - loss: 0.6490 - accuracy: 0.6787WARNING:tensorflow:Early stopping conditioned on metric `val_loss` which is not available. Available metrics are: loss,accuracy\n",
            "7/7 [==============================] - 7s 1s/step - loss: 0.6490 - accuracy: 0.6787\n",
            "Epoch 12/40\n",
            "7/7 [==============================] - ETA: 0s - loss: 0.6422 - accuracy: 0.6662WARNING:tensorflow:Early stopping conditioned on metric `val_loss` which is not available. Available metrics are: loss,accuracy\n",
            "7/7 [==============================] - 7s 1s/step - loss: 0.6422 - accuracy: 0.6662\n",
            "Epoch 13/40\n",
            "7/7 [==============================] - ETA: 0s - loss: 0.6305 - accuracy: 0.6831WARNING:tensorflow:Early stopping conditioned on metric `val_loss` which is not available. Available metrics are: loss,accuracy\n",
            "7/7 [==============================] - 8s 1s/step - loss: 0.6305 - accuracy: 0.6831\n",
            "Epoch 14/40\n",
            "7/7 [==============================] - ETA: 0s - loss: 0.6173 - accuracy: 0.6944WARNING:tensorflow:Early stopping conditioned on metric `val_loss` which is not available. Available metrics are: loss,accuracy\n",
            "7/7 [==============================] - 7s 1s/step - loss: 0.6173 - accuracy: 0.6944\n",
            "Epoch 15/40\n",
            "7/7 [==============================] - ETA: 0s - loss: 0.6018 - accuracy: 0.7019WARNING:tensorflow:Early stopping conditioned on metric `val_loss` which is not available. Available metrics are: loss,accuracy\n",
            "7/7 [==============================] - 7s 1s/step - loss: 0.6018 - accuracy: 0.7019\n",
            "Epoch 16/40\n",
            "7/7 [==============================] - ETA: 0s - loss: 0.5937 - accuracy: 0.6950WARNING:tensorflow:Early stopping conditioned on metric `val_loss` which is not available. Available metrics are: loss,accuracy\n",
            "7/7 [==============================] - 8s 1s/step - loss: 0.5937 - accuracy: 0.6950\n",
            "Epoch 17/40\n",
            "7/7 [==============================] - ETA: 0s - loss: 0.5713 - accuracy: 0.7237WARNING:tensorflow:Early stopping conditioned on metric `val_loss` which is not available. Available metrics are: loss,accuracy\n",
            "7/7 [==============================] - 8s 1s/step - loss: 0.5713 - accuracy: 0.7237\n",
            "Epoch 18/40\n",
            "7/7 [==============================] - ETA: 0s - loss: 0.5604 - accuracy: 0.7275WARNING:tensorflow:Early stopping conditioned on metric `val_loss` which is not available. Available metrics are: loss,accuracy\n",
            "7/7 [==============================] - 8s 1s/step - loss: 0.5604 - accuracy: 0.7275\n",
            "Epoch 19/40\n",
            "7/7 [==============================] - ETA: 0s - loss: 0.5483 - accuracy: 0.7437WARNING:tensorflow:Early stopping conditioned on metric `val_loss` which is not available. Available metrics are: loss,accuracy\n",
            "7/7 [==============================] - 7s 1s/step - loss: 0.5483 - accuracy: 0.7437\n",
            "Epoch 20/40\n",
            "7/7 [==============================] - ETA: 0s - loss: 0.5102 - accuracy: 0.7719WARNING:tensorflow:Early stopping conditioned on metric `val_loss` which is not available. Available metrics are: loss,accuracy\n",
            "7/7 [==============================] - 7s 1s/step - loss: 0.5102 - accuracy: 0.7719\n",
            "Epoch 21/40\n",
            "7/7 [==============================] - ETA: 0s - loss: 0.5031 - accuracy: 0.7750WARNING:tensorflow:Early stopping conditioned on metric `val_loss` which is not available. Available metrics are: loss,accuracy\n",
            "7/7 [==============================] - 7s 1s/step - loss: 0.5031 - accuracy: 0.7750\n",
            "Epoch 22/40\n",
            "7/7 [==============================] - ETA: 0s - loss: 0.5025 - accuracy: 0.7769WARNING:tensorflow:Early stopping conditioned on metric `val_loss` which is not available. Available metrics are: loss,accuracy\n",
            "7/7 [==============================] - 7s 1s/step - loss: 0.5025 - accuracy: 0.7769\n",
            "Epoch 23/40\n",
            "7/7 [==============================] - ETA: 0s - loss: 0.4552 - accuracy: 0.8031WARNING:tensorflow:Early stopping conditioned on metric `val_loss` which is not available. Available metrics are: loss,accuracy\n",
            "7/7 [==============================] - 7s 1s/step - loss: 0.4552 - accuracy: 0.8031\n",
            "Epoch 24/40\n",
            "7/7 [==============================] - ETA: 0s - loss: 0.4785 - accuracy: 0.7887WARNING:tensorflow:Early stopping conditioned on metric `val_loss` which is not available. Available metrics are: loss,accuracy\n",
            "7/7 [==============================] - 7s 1s/step - loss: 0.4785 - accuracy: 0.7887\n",
            "Epoch 25/40\n",
            "7/7 [==============================] - ETA: 0s - loss: 0.4318 - accuracy: 0.8200WARNING:tensorflow:Early stopping conditioned on metric `val_loss` which is not available. Available metrics are: loss,accuracy\n",
            "7/7 [==============================] - 7s 1s/step - loss: 0.4318 - accuracy: 0.8200\n",
            "Epoch 26/40\n",
            "7/7 [==============================] - ETA: 0s - loss: 0.4389 - accuracy: 0.8125WARNING:tensorflow:Early stopping conditioned on metric `val_loss` which is not available. Available metrics are: loss,accuracy\n",
            "7/7 [==============================] - 7s 1s/step - loss: 0.4389 - accuracy: 0.8125\n",
            "Epoch 27/40\n",
            "7/7 [==============================] - ETA: 0s - loss: 0.4095 - accuracy: 0.8356WARNING:tensorflow:Early stopping conditioned on metric `val_loss` which is not available. Available metrics are: loss,accuracy\n",
            "7/7 [==============================] - 7s 1s/step - loss: 0.4095 - accuracy: 0.8356\n",
            "Epoch 28/40\n",
            "7/7 [==============================] - ETA: 0s - loss: 0.4077 - accuracy: 0.8288WARNING:tensorflow:Early stopping conditioned on metric `val_loss` which is not available. Available metrics are: loss,accuracy\n",
            "7/7 [==============================] - 7s 1s/step - loss: 0.4077 - accuracy: 0.8288\n",
            "Epoch 29/40\n",
            "7/7 [==============================] - ETA: 0s - loss: 0.3827 - accuracy: 0.8394WARNING:tensorflow:Early stopping conditioned on metric `val_loss` which is not available. Available metrics are: loss,accuracy\n",
            "7/7 [==============================] - 7s 1s/step - loss: 0.3827 - accuracy: 0.8394\n",
            "Epoch 30/40\n",
            "7/7 [==============================] - ETA: 0s - loss: 0.3846 - accuracy: 0.8425WARNING:tensorflow:Early stopping conditioned on metric `val_loss` which is not available. Available metrics are: loss,accuracy\n",
            "7/7 [==============================] - 7s 1s/step - loss: 0.3846 - accuracy: 0.8425\n",
            "Epoch 31/40\n",
            "7/7 [==============================] - ETA: 0s - loss: 0.3654 - accuracy: 0.8531WARNING:tensorflow:Early stopping conditioned on metric `val_loss` which is not available. Available metrics are: loss,accuracy\n",
            "7/7 [==============================] - 7s 1s/step - loss: 0.3654 - accuracy: 0.8531\n",
            "Epoch 32/40\n",
            "7/7 [==============================] - ETA: 0s - loss: 0.3551 - accuracy: 0.8537WARNING:tensorflow:Early stopping conditioned on metric `val_loss` which is not available. Available metrics are: loss,accuracy\n",
            "7/7 [==============================] - 7s 1s/step - loss: 0.3551 - accuracy: 0.8537\n",
            "Epoch 33/40\n",
            "7/7 [==============================] - ETA: 0s - loss: 0.3315 - accuracy: 0.8669WARNING:tensorflow:Early stopping conditioned on metric `val_loss` which is not available. Available metrics are: loss,accuracy\n",
            "7/7 [==============================] - 7s 1s/step - loss: 0.3315 - accuracy: 0.8669\n",
            "Epoch 34/40\n",
            "7/7 [==============================] - ETA: 0s - loss: 0.3448 - accuracy: 0.8581WARNING:tensorflow:Early stopping conditioned on metric `val_loss` which is not available. Available metrics are: loss,accuracy\n",
            "7/7 [==============================] - 7s 1s/step - loss: 0.3448 - accuracy: 0.8581\n",
            "Epoch 35/40\n",
            "7/7 [==============================] - ETA: 0s - loss: 0.3096 - accuracy: 0.8737WARNING:tensorflow:Early stopping conditioned on metric `val_loss` which is not available. Available metrics are: loss,accuracy\n",
            "7/7 [==============================] - 7s 1s/step - loss: 0.3096 - accuracy: 0.8737\n",
            "Epoch 36/40\n",
            "7/7 [==============================] - ETA: 0s - loss: 0.3276 - accuracy: 0.8712WARNING:tensorflow:Early stopping conditioned on metric `val_loss` which is not available. Available metrics are: loss,accuracy\n",
            "7/7 [==============================] - 7s 1s/step - loss: 0.3276 - accuracy: 0.8712\n",
            "Epoch 37/40\n",
            "7/7 [==============================] - ETA: 0s - loss: 0.2886 - accuracy: 0.8894WARNING:tensorflow:Early stopping conditioned on metric `val_loss` which is not available. Available metrics are: loss,accuracy\n",
            "7/7 [==============================] - 7s 1s/step - loss: 0.2886 - accuracy: 0.8894\n",
            "Epoch 38/40\n",
            "7/7 [==============================] - ETA: 0s - loss: 0.2796 - accuracy: 0.8856WARNING:tensorflow:Early stopping conditioned on metric `val_loss` which is not available. Available metrics are: loss,accuracy\n",
            "7/7 [==============================] - 7s 1s/step - loss: 0.2796 - accuracy: 0.8856\n",
            "Epoch 39/40\n",
            "7/7 [==============================] - ETA: 0s - loss: 0.2639 - accuracy: 0.8956WARNING:tensorflow:Early stopping conditioned on metric `val_loss` which is not available. Available metrics are: loss,accuracy\n",
            "7/7 [==============================] - 7s 1s/step - loss: 0.2639 - accuracy: 0.8956\n",
            "Epoch 40/40\n",
            "7/7 [==============================] - ETA: 0s - loss: 0.2818 - accuracy: 0.8919WARNING:tensorflow:Early stopping conditioned on metric `val_loss` which is not available. Available metrics are: loss,accuracy\n",
            "7/7 [==============================] - 7s 1s/step - loss: 0.2818 - accuracy: 0.8919\n",
            "\n",
            "\n",
            "****************************   Electronics   ************************\n",
            "Model: \"sequential\"\n",
            "_________________________________________________________________\n",
            " Layer (type)                Output Shape              Param #   \n",
            "=================================================================\n",
            " embedding (Embedding)       (None, 177, 300)          3504000   \n",
            "                                                                 \n",
            " bidirectional (Bidirectiona  (None, 64)               85248     \n",
            " l)                                                              \n",
            "                                                                 \n",
            " dense (Dense)               (None, 32)                2080      \n",
            "                                                                 \n",
            " dropout (Dropout)           (None, 32)                0         \n",
            "                                                                 \n",
            " dense_1 (Dense)             (None, 1)                 33        \n",
            "                                                                 \n",
            "=================================================================\n",
            "Total params: 3,591,361\n",
            "Trainable params: 87,361\n",
            "Non-trainable params: 3,504,000\n",
            "_________________________________________________________________\n",
            "Epoch 1/40\n",
            "7/7 [==============================] - ETA: 0s - loss: 0.7201 - accuracy: 0.2763WARNING:tensorflow:Early stopping conditioned on metric `val_loss` which is not available. Available metrics are: loss,accuracy\n",
            "7/7 [==============================] - 7s 578ms/step - loss: 0.7201 - accuracy: 0.2763\n",
            "Epoch 2/40\n",
            "7/7 [==============================] - ETA: 0s - loss: 0.6925 - accuracy: 0.5400WARNING:tensorflow:Early stopping conditioned on metric `val_loss` which is not available. Available metrics are: loss,accuracy\n",
            "7/7 [==============================] - 4s 574ms/step - loss: 0.6925 - accuracy: 0.5400\n",
            "Epoch 3/40\n",
            "7/7 [==============================] - ETA: 0s - loss: 0.6895 - accuracy: 0.5412WARNING:tensorflow:Early stopping conditioned on metric `val_loss` which is not available. Available metrics are: loss,accuracy\n",
            "7/7 [==============================] - 5s 648ms/step - loss: 0.6895 - accuracy: 0.5412\n",
            "Epoch 4/40\n",
            "7/7 [==============================] - ETA: 0s - loss: 0.6874 - accuracy: 0.5625WARNING:tensorflow:Early stopping conditioned on metric `val_loss` which is not available. Available metrics are: loss,accuracy\n",
            "7/7 [==============================] - 4s 578ms/step - loss: 0.6874 - accuracy: 0.5625\n",
            "Epoch 5/40\n",
            "7/7 [==============================] - ETA: 0s - loss: 0.6852 - accuracy: 0.5806WARNING:tensorflow:Early stopping conditioned on metric `val_loss` which is not available. Available metrics are: loss,accuracy\n",
            "7/7 [==============================] - 4s 576ms/step - loss: 0.6852 - accuracy: 0.5806\n",
            "Epoch 6/40\n",
            "7/7 [==============================] - ETA: 0s - loss: 0.6815 - accuracy: 0.5825WARNING:tensorflow:Early stopping conditioned on metric `val_loss` which is not available. Available metrics are: loss,accuracy\n",
            "7/7 [==============================] - 4s 582ms/step - loss: 0.6815 - accuracy: 0.5825\n",
            "Epoch 7/40\n",
            "7/7 [==============================] - ETA: 0s - loss: 0.6765 - accuracy: 0.5819WARNING:tensorflow:Early stopping conditioned on metric `val_loss` which is not available. Available metrics are: loss,accuracy\n",
            "7/7 [==============================] - 4s 576ms/step - loss: 0.6765 - accuracy: 0.5819\n",
            "Epoch 8/40\n",
            "7/7 [==============================] - ETA: 0s - loss: 0.6709 - accuracy: 0.6012WARNING:tensorflow:Early stopping conditioned on metric `val_loss` which is not available. Available metrics are: loss,accuracy\n",
            "7/7 [==============================] - 4s 579ms/step - loss: 0.6709 - accuracy: 0.6012\n",
            "Epoch 9/40\n",
            "7/7 [==============================] - ETA: 0s - loss: 0.6637 - accuracy: 0.5981WARNING:tensorflow:Early stopping conditioned on metric `val_loss` which is not available. Available metrics are: loss,accuracy\n",
            "7/7 [==============================] - 4s 585ms/step - loss: 0.6637 - accuracy: 0.5981\n",
            "Epoch 10/40\n",
            "7/7 [==============================] - ETA: 0s - loss: 0.6518 - accuracy: 0.6212WARNING:tensorflow:Early stopping conditioned on metric `val_loss` which is not available. Available metrics are: loss,accuracy\n",
            "7/7 [==============================] - 4s 574ms/step - loss: 0.6518 - accuracy: 0.6212\n",
            "Epoch 11/40\n",
            "7/7 [==============================] - ETA: 0s - loss: 0.6435 - accuracy: 0.6187WARNING:tensorflow:Early stopping conditioned on metric `val_loss` which is not available. Available metrics are: loss,accuracy\n",
            "7/7 [==============================] - 4s 573ms/step - loss: 0.6435 - accuracy: 0.6187\n",
            "Epoch 12/40\n",
            "7/7 [==============================] - ETA: 0s - loss: 0.6328 - accuracy: 0.6306WARNING:tensorflow:Early stopping conditioned on metric `val_loss` which is not available. Available metrics are: loss,accuracy\n",
            "7/7 [==============================] - 4s 582ms/step - loss: 0.6328 - accuracy: 0.6306\n",
            "Epoch 13/40\n",
            "7/7 [==============================] - ETA: 0s - loss: 0.6199 - accuracy: 0.6494WARNING:tensorflow:Early stopping conditioned on metric `val_loss` which is not available. Available metrics are: loss,accuracy\n",
            "7/7 [==============================] - 4s 574ms/step - loss: 0.6199 - accuracy: 0.6494\n",
            "Epoch 14/40\n",
            "7/7 [==============================] - ETA: 0s - loss: 0.6016 - accuracy: 0.6894WARNING:tensorflow:Early stopping conditioned on metric `val_loss` which is not available. Available metrics are: loss,accuracy\n",
            "7/7 [==============================] - 4s 581ms/step - loss: 0.6016 - accuracy: 0.6894\n",
            "Epoch 15/40\n",
            "7/7 [==============================] - ETA: 0s - loss: 0.5777 - accuracy: 0.6950WARNING:tensorflow:Early stopping conditioned on metric `val_loss` which is not available. Available metrics are: loss,accuracy\n",
            "7/7 [==============================] - 4s 580ms/step - loss: 0.5777 - accuracy: 0.6950\n",
            "Epoch 16/40\n",
            "7/7 [==============================] - ETA: 0s - loss: 0.5706 - accuracy: 0.7175WARNING:tensorflow:Early stopping conditioned on metric `val_loss` which is not available. Available metrics are: loss,accuracy\n",
            "7/7 [==============================] - 4s 577ms/step - loss: 0.5706 - accuracy: 0.7175\n",
            "Epoch 17/40\n",
            "7/7 [==============================] - ETA: 0s - loss: 0.5460 - accuracy: 0.7444WARNING:tensorflow:Early stopping conditioned on metric `val_loss` which is not available. Available metrics are: loss,accuracy\n",
            "7/7 [==============================] - 4s 580ms/step - loss: 0.5460 - accuracy: 0.7444\n",
            "Epoch 18/40\n",
            "7/7 [==============================] - ETA: 0s - loss: 0.5310 - accuracy: 0.7606WARNING:tensorflow:Early stopping conditioned on metric `val_loss` which is not available. Available metrics are: loss,accuracy\n",
            "7/7 [==============================] - 4s 585ms/step - loss: 0.5310 - accuracy: 0.7606\n",
            "Epoch 19/40\n",
            "7/7 [==============================] - ETA: 0s - loss: 0.5161 - accuracy: 0.7594WARNING:tensorflow:Early stopping conditioned on metric `val_loss` which is not available. Available metrics are: loss,accuracy\n",
            "7/7 [==============================] - 4s 588ms/step - loss: 0.5161 - accuracy: 0.7594\n",
            "Epoch 20/40\n",
            "7/7 [==============================] - ETA: 0s - loss: 0.4978 - accuracy: 0.7800WARNING:tensorflow:Early stopping conditioned on metric `val_loss` which is not available. Available metrics are: loss,accuracy\n",
            "7/7 [==============================] - 4s 587ms/step - loss: 0.4978 - accuracy: 0.7800\n",
            "Epoch 21/40\n",
            "7/7 [==============================] - ETA: 0s - loss: 0.4811 - accuracy: 0.7794WARNING:tensorflow:Early stopping conditioned on metric `val_loss` which is not available. Available metrics are: loss,accuracy\n",
            "7/7 [==============================] - 4s 587ms/step - loss: 0.4811 - accuracy: 0.7794\n",
            "Epoch 22/40\n",
            "7/7 [==============================] - ETA: 0s - loss: 0.4675 - accuracy: 0.7856WARNING:tensorflow:Early stopping conditioned on metric `val_loss` which is not available. Available metrics are: loss,accuracy\n",
            "7/7 [==============================] - 4s 586ms/step - loss: 0.4675 - accuracy: 0.7856\n",
            "Epoch 23/40\n",
            "7/7 [==============================] - ETA: 0s - loss: 0.4426 - accuracy: 0.7969WARNING:tensorflow:Early stopping conditioned on metric `val_loss` which is not available. Available metrics are: loss,accuracy\n",
            "7/7 [==============================] - 4s 589ms/step - loss: 0.4426 - accuracy: 0.7969\n",
            "Epoch 24/40\n",
            "7/7 [==============================] - ETA: 0s - loss: 0.4403 - accuracy: 0.8025WARNING:tensorflow:Early stopping conditioned on metric `val_loss` which is not available. Available metrics are: loss,accuracy\n",
            "7/7 [==============================] - 4s 592ms/step - loss: 0.4403 - accuracy: 0.8025\n",
            "Epoch 25/40\n",
            "7/7 [==============================] - ETA: 0s - loss: 0.4063 - accuracy: 0.8269WARNING:tensorflow:Early stopping conditioned on metric `val_loss` which is not available. Available metrics are: loss,accuracy\n",
            "7/7 [==============================] - 4s 584ms/step - loss: 0.4063 - accuracy: 0.8269\n",
            "Epoch 26/40\n",
            "7/7 [==============================] - ETA: 0s - loss: 0.4031 - accuracy: 0.8263WARNING:tensorflow:Early stopping conditioned on metric `val_loss` which is not available. Available metrics are: loss,accuracy\n",
            "7/7 [==============================] - 4s 585ms/step - loss: 0.4031 - accuracy: 0.8263\n",
            "Epoch 27/40\n",
            "7/7 [==============================] - ETA: 0s - loss: 0.3937 - accuracy: 0.8281WARNING:tensorflow:Early stopping conditioned on metric `val_loss` which is not available. Available metrics are: loss,accuracy\n",
            "7/7 [==============================] - 4s 585ms/step - loss: 0.3937 - accuracy: 0.8281\n",
            "Epoch 28/40\n",
            "7/7 [==============================] - ETA: 0s - loss: 0.3786 - accuracy: 0.8388WARNING:tensorflow:Early stopping conditioned on metric `val_loss` which is not available. Available metrics are: loss,accuracy\n",
            "7/7 [==============================] - 4s 585ms/step - loss: 0.3786 - accuracy: 0.8388\n",
            "Epoch 29/40\n",
            "7/7 [==============================] - ETA: 0s - loss: 0.3527 - accuracy: 0.8512WARNING:tensorflow:Early stopping conditioned on metric `val_loss` which is not available. Available metrics are: loss,accuracy\n",
            "7/7 [==============================] - 4s 586ms/step - loss: 0.3527 - accuracy: 0.8512\n",
            "Epoch 30/40\n",
            "7/7 [==============================] - ETA: 0s - loss: 0.3562 - accuracy: 0.8512WARNING:tensorflow:Early stopping conditioned on metric `val_loss` which is not available. Available metrics are: loss,accuracy\n",
            "7/7 [==============================] - 4s 578ms/step - loss: 0.3562 - accuracy: 0.8512\n",
            "Epoch 31/40\n",
            "7/7 [==============================] - ETA: 0s - loss: 0.3343 - accuracy: 0.8656WARNING:tensorflow:Early stopping conditioned on metric `val_loss` which is not available. Available metrics are: loss,accuracy\n",
            "7/7 [==============================] - 4s 582ms/step - loss: 0.3343 - accuracy: 0.8656\n",
            "Epoch 32/40\n",
            "7/7 [==============================] - ETA: 0s - loss: 0.3237 - accuracy: 0.8687WARNING:tensorflow:Early stopping conditioned on metric `val_loss` which is not available. Available metrics are: loss,accuracy\n",
            "7/7 [==============================] - 4s 585ms/step - loss: 0.3237 - accuracy: 0.8687\n",
            "Epoch 33/40\n",
            "7/7 [==============================] - ETA: 0s - loss: 0.3113 - accuracy: 0.8775WARNING:tensorflow:Early stopping conditioned on metric `val_loss` which is not available. Available metrics are: loss,accuracy\n",
            "7/7 [==============================] - 4s 580ms/step - loss: 0.3113 - accuracy: 0.8775\n",
            "Epoch 34/40\n",
            "7/7 [==============================] - ETA: 0s - loss: 0.3002 - accuracy: 0.8813WARNING:tensorflow:Early stopping conditioned on metric `val_loss` which is not available. Available metrics are: loss,accuracy\n",
            "7/7 [==============================] - 4s 586ms/step - loss: 0.3002 - accuracy: 0.8813\n",
            "Epoch 35/40\n",
            "7/7 [==============================] - ETA: 0s - loss: 0.2815 - accuracy: 0.8969WARNING:tensorflow:Early stopping conditioned on metric `val_loss` which is not available. Available metrics are: loss,accuracy\n",
            "7/7 [==============================] - 4s 582ms/step - loss: 0.2815 - accuracy: 0.8969\n",
            "Epoch 36/40\n",
            "7/7 [==============================] - ETA: 0s - loss: 0.2648 - accuracy: 0.9000WARNING:tensorflow:Early stopping conditioned on metric `val_loss` which is not available. Available metrics are: loss,accuracy\n",
            "7/7 [==============================] - 4s 579ms/step - loss: 0.2648 - accuracy: 0.9000\n",
            "Epoch 37/40\n",
            "7/7 [==============================] - ETA: 0s - loss: 0.2650 - accuracy: 0.9013WARNING:tensorflow:Early stopping conditioned on metric `val_loss` which is not available. Available metrics are: loss,accuracy\n",
            "7/7 [==============================] - 4s 582ms/step - loss: 0.2650 - accuracy: 0.9013\n",
            "Epoch 38/40\n",
            "7/7 [==============================] - ETA: 0s - loss: 0.2451 - accuracy: 0.9081WARNING:tensorflow:Early stopping conditioned on metric `val_loss` which is not available. Available metrics are: loss,accuracy\n",
            "7/7 [==============================] - 4s 583ms/step - loss: 0.2451 - accuracy: 0.9081\n",
            "Epoch 39/40\n",
            "7/7 [==============================] - ETA: 0s - loss: 0.2280 - accuracy: 0.9212WARNING:tensorflow:Early stopping conditioned on metric `val_loss` which is not available. Available metrics are: loss,accuracy\n",
            "7/7 [==============================] - 4s 584ms/step - loss: 0.2280 - accuracy: 0.9212\n",
            "Epoch 40/40\n",
            "7/7 [==============================] - ETA: 0s - loss: 0.2143 - accuracy: 0.9256WARNING:tensorflow:Early stopping conditioned on metric `val_loss` which is not available. Available metrics are: loss,accuracy\n",
            "7/7 [==============================] - 4s 585ms/step - loss: 0.2143 - accuracy: 0.9256\n",
            "\n",
            "\n",
            "****************************   Kitchen       ************************\n",
            "Model: \"sequential\"\n",
            "_________________________________________________________________\n",
            " Layer (type)                Output Shape              Param #   \n",
            "=================================================================\n",
            " embedding (Embedding)       (None, 140, 300)          2703600   \n",
            "                                                                 \n",
            " bidirectional (Bidirectiona  (None, 64)               85248     \n",
            " l)                                                              \n",
            "                                                                 \n",
            " dense (Dense)               (None, 32)                2080      \n",
            "                                                                 \n",
            " dropout (Dropout)           (None, 32)                0         \n",
            "                                                                 \n",
            " dense_1 (Dense)             (None, 1)                 33        \n",
            "                                                                 \n",
            "=================================================================\n",
            "Total params: 2,790,961\n",
            "Trainable params: 87,361\n",
            "Non-trainable params: 2,703,600\n",
            "_________________________________________________________________\n",
            "Epoch 1/40\n",
            "7/7 [==============================] - ETA: 0s - loss: 0.7240 - accuracy: 0.2931WARNING:tensorflow:Early stopping conditioned on metric `val_loss` which is not available. Available metrics are: loss,accuracy\n",
            "7/7 [==============================] - 8s 515ms/step - loss: 0.7240 - accuracy: 0.2931\n",
            "Epoch 2/40\n",
            "7/7 [==============================] - ETA: 0s - loss: 0.6888 - accuracy: 0.5450WARNING:tensorflow:Early stopping conditioned on metric `val_loss` which is not available. Available metrics are: loss,accuracy\n",
            "7/7 [==============================] - 3s 480ms/step - loss: 0.6888 - accuracy: 0.5450\n",
            "Epoch 3/40\n",
            "7/7 [==============================] - ETA: 0s - loss: 0.6821 - accuracy: 0.5981WARNING:tensorflow:Early stopping conditioned on metric `val_loss` which is not available. Available metrics are: loss,accuracy\n",
            "7/7 [==============================] - 3s 492ms/step - loss: 0.6821 - accuracy: 0.5981\n",
            "Epoch 4/40\n",
            "7/7 [==============================] - ETA: 0s - loss: 0.6778 - accuracy: 0.6075WARNING:tensorflow:Early stopping conditioned on metric `val_loss` which is not available. Available metrics are: loss,accuracy\n",
            "7/7 [==============================] - 3s 476ms/step - loss: 0.6778 - accuracy: 0.6075\n",
            "Epoch 5/40\n",
            "7/7 [==============================] - ETA: 0s - loss: 0.6719 - accuracy: 0.6137WARNING:tensorflow:Early stopping conditioned on metric `val_loss` which is not available. Available metrics are: loss,accuracy\n",
            "7/7 [==============================] - 3s 478ms/step - loss: 0.6719 - accuracy: 0.6137\n",
            "Epoch 6/40\n",
            "7/7 [==============================] - ETA: 0s - loss: 0.6643 - accuracy: 0.6194WARNING:tensorflow:Early stopping conditioned on metric `val_loss` which is not available. Available metrics are: loss,accuracy\n",
            "7/7 [==============================] - 3s 470ms/step - loss: 0.6643 - accuracy: 0.6194\n",
            "Epoch 7/40\n",
            "7/7 [==============================] - ETA: 0s - loss: 0.6590 - accuracy: 0.5994WARNING:tensorflow:Early stopping conditioned on metric `val_loss` which is not available. Available metrics are: loss,accuracy\n",
            "7/7 [==============================] - 3s 476ms/step - loss: 0.6590 - accuracy: 0.5994\n",
            "Epoch 8/40\n",
            "7/7 [==============================] - ETA: 0s - loss: 0.6543 - accuracy: 0.6169WARNING:tensorflow:Early stopping conditioned on metric `val_loss` which is not available. Available metrics are: loss,accuracy\n",
            "7/7 [==============================] - 3s 458ms/step - loss: 0.6543 - accuracy: 0.6169\n",
            "Epoch 9/40\n",
            "7/7 [==============================] - ETA: 0s - loss: 0.6447 - accuracy: 0.6250WARNING:tensorflow:Early stopping conditioned on metric `val_loss` which is not available. Available metrics are: loss,accuracy\n",
            "7/7 [==============================] - 3s 464ms/step - loss: 0.6447 - accuracy: 0.6250\n",
            "Epoch 10/40\n",
            "7/7 [==============================] - ETA: 0s - loss: 0.6309 - accuracy: 0.6500WARNING:tensorflow:Early stopping conditioned on metric `val_loss` which is not available. Available metrics are: loss,accuracy\n",
            "7/7 [==============================] - 3s 457ms/step - loss: 0.6309 - accuracy: 0.6500\n",
            "Epoch 11/40\n",
            "7/7 [==============================] - ETA: 0s - loss: 0.6173 - accuracy: 0.6737WARNING:tensorflow:Early stopping conditioned on metric `val_loss` which is not available. Available metrics are: loss,accuracy\n",
            "7/7 [==============================] - 3s 464ms/step - loss: 0.6173 - accuracy: 0.6737\n",
            "Epoch 12/40\n",
            "7/7 [==============================] - ETA: 0s - loss: 0.5993 - accuracy: 0.7006WARNING:tensorflow:Early stopping conditioned on metric `val_loss` which is not available. Available metrics are: loss,accuracy\n",
            "7/7 [==============================] - 3s 465ms/step - loss: 0.5993 - accuracy: 0.7006\n",
            "Epoch 13/40\n",
            "7/7 [==============================] - ETA: 0s - loss: 0.5915 - accuracy: 0.7044WARNING:tensorflow:Early stopping conditioned on metric `val_loss` which is not available. Available metrics are: loss,accuracy\n",
            "7/7 [==============================] - 3s 459ms/step - loss: 0.5915 - accuracy: 0.7044\n",
            "Epoch 14/40\n",
            "7/7 [==============================] - ETA: 0s - loss: 0.5654 - accuracy: 0.7394WARNING:tensorflow:Early stopping conditioned on metric `val_loss` which is not available. Available metrics are: loss,accuracy\n",
            "7/7 [==============================] - 3s 462ms/step - loss: 0.5654 - accuracy: 0.7394\n",
            "Epoch 15/40\n",
            "7/7 [==============================] - ETA: 0s - loss: 0.5443 - accuracy: 0.7581WARNING:tensorflow:Early stopping conditioned on metric `val_loss` which is not available. Available metrics are: loss,accuracy\n",
            "7/7 [==============================] - 3s 466ms/step - loss: 0.5443 - accuracy: 0.7581\n",
            "Epoch 16/40\n",
            "7/7 [==============================] - ETA: 0s - loss: 0.5233 - accuracy: 0.7650WARNING:tensorflow:Early stopping conditioned on metric `val_loss` which is not available. Available metrics are: loss,accuracy\n",
            "7/7 [==============================] - 3s 469ms/step - loss: 0.5233 - accuracy: 0.7650\n",
            "Epoch 17/40\n",
            "7/7 [==============================] - ETA: 0s - loss: 0.5037 - accuracy: 0.7800WARNING:tensorflow:Early stopping conditioned on metric `val_loss` which is not available. Available metrics are: loss,accuracy\n",
            "7/7 [==============================] - 3s 461ms/step - loss: 0.5037 - accuracy: 0.7800\n",
            "Epoch 18/40\n",
            "7/7 [==============================] - ETA: 0s - loss: 0.4750 - accuracy: 0.7850WARNING:tensorflow:Early stopping conditioned on metric `val_loss` which is not available. Available metrics are: loss,accuracy\n",
            "7/7 [==============================] - 3s 464ms/step - loss: 0.4750 - accuracy: 0.7850\n",
            "Epoch 19/40\n",
            "7/7 [==============================] - ETA: 0s - loss: 0.4624 - accuracy: 0.7869WARNING:tensorflow:Early stopping conditioned on metric `val_loss` which is not available. Available metrics are: loss,accuracy\n",
            "7/7 [==============================] - 3s 459ms/step - loss: 0.4624 - accuracy: 0.7869\n",
            "Epoch 20/40\n",
            "7/7 [==============================] - ETA: 0s - loss: 0.4300 - accuracy: 0.8163WARNING:tensorflow:Early stopping conditioned on metric `val_loss` which is not available. Available metrics are: loss,accuracy\n",
            "7/7 [==============================] - 3s 460ms/step - loss: 0.4300 - accuracy: 0.8163\n",
            "Epoch 21/40\n",
            "7/7 [==============================] - ETA: 0s - loss: 0.4229 - accuracy: 0.8175WARNING:tensorflow:Early stopping conditioned on metric `val_loss` which is not available. Available metrics are: loss,accuracy\n",
            "7/7 [==============================] - 3s 465ms/step - loss: 0.4229 - accuracy: 0.8175\n",
            "Epoch 22/40\n",
            "7/7 [==============================] - ETA: 0s - loss: 0.3874 - accuracy: 0.8375WARNING:tensorflow:Early stopping conditioned on metric `val_loss` which is not available. Available metrics are: loss,accuracy\n",
            "7/7 [==============================] - 3s 465ms/step - loss: 0.3874 - accuracy: 0.8375\n",
            "Epoch 23/40\n",
            "7/7 [==============================] - ETA: 0s - loss: 0.3811 - accuracy: 0.8394WARNING:tensorflow:Early stopping conditioned on metric `val_loss` which is not available. Available metrics are: loss,accuracy\n",
            "7/7 [==============================] - 3s 457ms/step - loss: 0.3811 - accuracy: 0.8394\n",
            "Epoch 24/40\n",
            "7/7 [==============================] - ETA: 0s - loss: 0.3479 - accuracy: 0.8619WARNING:tensorflow:Early stopping conditioned on metric `val_loss` which is not available. Available metrics are: loss,accuracy\n",
            "7/7 [==============================] - 3s 463ms/step - loss: 0.3479 - accuracy: 0.8619\n",
            "Epoch 25/40\n",
            "7/7 [==============================] - ETA: 0s - loss: 0.3434 - accuracy: 0.8619WARNING:tensorflow:Early stopping conditioned on metric `val_loss` which is not available. Available metrics are: loss,accuracy\n",
            "7/7 [==============================] - 3s 465ms/step - loss: 0.3434 - accuracy: 0.8619\n",
            "Epoch 26/40\n",
            "7/7 [==============================] - ETA: 0s - loss: 0.3249 - accuracy: 0.8763WARNING:tensorflow:Early stopping conditioned on metric `val_loss` which is not available. Available metrics are: loss,accuracy\n",
            "7/7 [==============================] - 3s 462ms/step - loss: 0.3249 - accuracy: 0.8763\n",
            "Epoch 27/40\n",
            "7/7 [==============================] - ETA: 0s - loss: 0.3172 - accuracy: 0.8775WARNING:tensorflow:Early stopping conditioned on metric `val_loss` which is not available. Available metrics are: loss,accuracy\n",
            "7/7 [==============================] - 3s 478ms/step - loss: 0.3172 - accuracy: 0.8775\n",
            "Epoch 28/40\n",
            "7/7 [==============================] - ETA: 0s - loss: 0.2928 - accuracy: 0.8900WARNING:tensorflow:Early stopping conditioned on metric `val_loss` which is not available. Available metrics are: loss,accuracy\n",
            "7/7 [==============================] - 3s 462ms/step - loss: 0.2928 - accuracy: 0.8900\n",
            "Epoch 29/40\n",
            "7/7 [==============================] - ETA: 0s - loss: 0.2752 - accuracy: 0.9019WARNING:tensorflow:Early stopping conditioned on metric `val_loss` which is not available. Available metrics are: loss,accuracy\n",
            "7/7 [==============================] - 3s 459ms/step - loss: 0.2752 - accuracy: 0.9019\n",
            "Epoch 30/40\n",
            "7/7 [==============================] - ETA: 0s - loss: 0.2619 - accuracy: 0.8975WARNING:tensorflow:Early stopping conditioned on metric `val_loss` which is not available. Available metrics are: loss,accuracy\n",
            "7/7 [==============================] - 3s 462ms/step - loss: 0.2619 - accuracy: 0.8975\n",
            "Epoch 31/40\n",
            "7/7 [==============================] - ETA: 0s - loss: 0.2537 - accuracy: 0.9106WARNING:tensorflow:Early stopping conditioned on metric `val_loss` which is not available. Available metrics are: loss,accuracy\n",
            "7/7 [==============================] - 3s 459ms/step - loss: 0.2537 - accuracy: 0.9106\n",
            "Epoch 32/40\n",
            "7/7 [==============================] - ETA: 0s - loss: 0.2377 - accuracy: 0.9137WARNING:tensorflow:Early stopping conditioned on metric `val_loss` which is not available. Available metrics are: loss,accuracy\n",
            "7/7 [==============================] - 3s 470ms/step - loss: 0.2377 - accuracy: 0.9137\n",
            "Epoch 33/40\n",
            "7/7 [==============================] - ETA: 0s - loss: 0.2236 - accuracy: 0.9187WARNING:tensorflow:Early stopping conditioned on metric `val_loss` which is not available. Available metrics are: loss,accuracy\n",
            "7/7 [==============================] - 3s 465ms/step - loss: 0.2236 - accuracy: 0.9187\n",
            "Epoch 34/40\n",
            "7/7 [==============================] - ETA: 0s - loss: 0.2054 - accuracy: 0.9250WARNING:tensorflow:Early stopping conditioned on metric `val_loss` which is not available. Available metrics are: loss,accuracy\n",
            "7/7 [==============================] - 3s 463ms/step - loss: 0.2054 - accuracy: 0.9250\n",
            "Epoch 35/40\n",
            "7/7 [==============================] - ETA: 0s - loss: 0.3410 - accuracy: 0.8650WARNING:tensorflow:Early stopping conditioned on metric `val_loss` which is not available. Available metrics are: loss,accuracy\n",
            "7/7 [==============================] - 3s 469ms/step - loss: 0.3410 - accuracy: 0.8650\n",
            "Epoch 36/40\n",
            "7/7 [==============================] - ETA: 0s - loss: 0.3808 - accuracy: 0.8106WARNING:tensorflow:Early stopping conditioned on metric `val_loss` which is not available. Available metrics are: loss,accuracy\n",
            "7/7 [==============================] - 3s 462ms/step - loss: 0.3808 - accuracy: 0.8106\n",
            "Epoch 37/40\n",
            "7/7 [==============================] - ETA: 0s - loss: 0.2847 - accuracy: 0.8731WARNING:tensorflow:Early stopping conditioned on metric `val_loss` which is not available. Available metrics are: loss,accuracy\n",
            "7/7 [==============================] - 3s 469ms/step - loss: 0.2847 - accuracy: 0.8731\n",
            "Epoch 38/40\n",
            "7/7 [==============================] - ETA: 0s - loss: 0.2385 - accuracy: 0.9019WARNING:tensorflow:Early stopping conditioned on metric `val_loss` which is not available. Available metrics are: loss,accuracy\n",
            "7/7 [==============================] - 3s 466ms/step - loss: 0.2385 - accuracy: 0.9019\n",
            "Epoch 39/40\n",
            "7/7 [==============================] - ETA: 0s - loss: 0.2050 - accuracy: 0.9181WARNING:tensorflow:Early stopping conditioned on metric `val_loss` which is not available. Available metrics are: loss,accuracy\n",
            "7/7 [==============================] - 3s 485ms/step - loss: 0.2050 - accuracy: 0.9181\n",
            "Epoch 40/40\n",
            "7/7 [==============================] - ETA: 0s - loss: 0.1931 - accuracy: 0.9356WARNING:tensorflow:Early stopping conditioned on metric `val_loss` which is not available. Available metrics are: loss,accuracy\n",
            "7/7 [==============================] - 3s 469ms/step - loss: 0.1931 - accuracy: 0.9356\n"
          ]
        }
      ]
    },
    {
      "cell_type": "code",
      "metadata": {
        "id": "9r0E47btUHg4",
        "colab": {
          "base_uri": "https://localhost:8080/"
        },
        "outputId": "10d79e18-d80b-403b-a85d-d66e5aafb03d"
      },
      "source": [
        "print(\"Accuracy with FastText:\")\n",
        "for i, (model, y_ts, word_seq_test) in enumerate(zip(models, y_test_datasets, word_seq_tests)):\n",
        "    predictions = (model.predict(word_seq_test) > 0.5).astype(int)\n",
        "    acc = accuracy_score(y_ts, predictions)\n",
        "    print(' |_  {}: {:.2f}'.format(datasets_name[i], acc))"
      ],
      "execution_count": 281,
      "outputs": [
        {
          "output_type": "stream",
          "name": "stdout",
          "text": [
            "Accuracy with FastText:\n",
            " |_  Books      : 0.72\n",
            " |_  DVD        : 0.77\n",
            " |_  Electronics: 0.78\n",
            " |_  Kitchen    : 0.79\n"
          ]
        }
      ]
    },
    {
      "cell_type": "markdown",
      "source": [
        "Wow :)"
      ],
      "metadata": {
        "id": "5GLkQMQlcfWR"
      }
    }
  ]
}