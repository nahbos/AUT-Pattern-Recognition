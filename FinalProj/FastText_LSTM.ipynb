{
  "nbformat": 4,
  "nbformat_minor": 0,
  "metadata": {
    "colab": {
      "name": "FastText_LSTM.ipynb",
      "provenance": [],
      "collapsed_sections": [],
      "include_colab_link": true
    },
    "kernelspec": {
      "name": "python3",
      "display_name": "Python 3"
    }
  },
  "cells": [
    {
      "cell_type": "markdown",
      "metadata": {
        "id": "view-in-github",
        "colab_type": "text"
      },
      "source": [
        "<a href=\"https://colab.research.google.com/github/nahbos/AUT-Pattern-Recognition/blob/main/FinalProj/FastText_LSTM.ipynb\" target=\"_parent\"><img src=\"https://colab.research.google.com/assets/colab-badge.svg\" alt=\"Open In Colab\"/></a>"
      ]
    },
    {
      "cell_type": "markdown",
      "source": [
        "###**Copyright (C) 2022 Sobhan Moradian Daghigh**\n",
        "######**Date: 2/10/2022**"
      ],
      "metadata": {
        "id": "7GlPaFweH1fa"
      }
    },
    {
      "cell_type": "markdown",
      "metadata": {
        "id": "2H7Ynha2lHj7"
      },
      "source": [
        "#**Preparing the pre-trained fastText model**"
      ]
    },
    {
      "cell_type": "markdown",
      "source": [
        "Downloading pre-trained fastText"
      ],
      "metadata": {
        "id": "_4SNsCZBrXwE"
      }
    },
    {
      "cell_type": "code",
      "metadata": {
        "id": "DlC4m7alB44c"
      },
      "source": [
        "import requests, zipfile, io\n",
        "zip_file_url = \"https://dl.fbaipublicfiles.com/fasttext/vectors-english/crawl-300d-2M.vec.zip\"\n",
        "r = requests.get(zip_file_url)\n",
        "z = zipfile.ZipFile(io.BytesIO(r.content))\n",
        "z.extractall()"
      ],
      "execution_count": 1,
      "outputs": []
    },
    {
      "cell_type": "code",
      "metadata": {
        "id": "JEh0D8DSH1L4",
        "colab": {
          "base_uri": "https://localhost:8080/"
        },
        "outputId": "db9b949b-9c9c-4e5f-d6fd-1d9ae008ff86"
      },
      "source": [
        "import numpy as np\n",
        "import pandas as pd\n",
        "from sklearn.model_selection import train_test_split\n",
        "from sklearn.utils import shuffle\n",
        "from sklearn.feature_extraction.text import TfidfVectorizer\n",
        "from sklearn.metrics import accuracy_score\n",
        "\n",
        "import keras\n",
        "from keras import optimizers\n",
        "from keras import backend as K\n",
        "from keras import regularizers\n",
        "from keras.models import Sequential\n",
        "from keras.layers import Dense, Activation, Dropout, Flatten\n",
        "from keras.layers import Embedding, Conv1D, MaxPooling1D, GlobalMaxPooling1D\n",
        "from tensorflow.keras.layers import Embedding, LSTM, Dense, Dropout, Bidirectional\n",
        "from keras.utils.vis_utils import plot_model\n",
        "from keras.preprocessing import sequence\n",
        "from keras.preprocessing.text import Tokenizer\n",
        "from keras.callbacks import EarlyStopping\n",
        "from keras.layers import BatchNormalization\n",
        "import tensorflow as tf\n",
        "from tensorflow.keras.optimizers import RMSprop\n",
        "from keras.callbacks import ModelCheckpoint\n",
        "from tensorflow.keras.callbacks import EarlyStopping\n",
        "\n",
        "import string\n",
        "from nltk.corpus import stopwords\n",
        "from nltk import word_tokenize\n",
        "from nltk.stem.porter import PorterStemmer\n",
        "from nltk import pos_tag\n",
        "import nltk\n",
        "nltk.download('stopwords')\n",
        "nltk.download('punkt')\n",
        "\n",
        "from tqdm import tqdm\n",
        "import codecs\n",
        "\n",
        "np.random.seed(0)\n",
        "\n",
        "MAX_NB_WORDS = 100000"
      ],
      "execution_count": 196,
      "outputs": [
        {
          "output_type": "stream",
          "name": "stdout",
          "text": [
            "[nltk_data] Downloading package stopwords to /root/nltk_data...\n",
            "[nltk_data]   Package stopwords is already up-to-date!\n",
            "[nltk_data] Downloading package punkt to /root/nltk_data...\n",
            "[nltk_data]   Package punkt is already up-to-date!\n"
          ]
        }
      ]
    },
    {
      "cell_type": "markdown",
      "metadata": {
        "id": "OryI3DKE8tr8"
      },
      "source": [
        "\n",
        "Converting all the words to the embedding index in pre-trained model"
      ]
    },
    {
      "cell_type": "code",
      "metadata": {
        "id": "IPqS-8FcEN95",
        "colab": {
          "base_uri": "https://localhost:8080/"
        },
        "outputId": "f08ad1f4-4b97-468a-a0a8-b0dca835a7ab"
      },
      "source": [
        "print('Loading word embeddings..')\n",
        "\n",
        "embeddings_index = {}\n",
        "f = codecs.open('crawl-300d-2M.vec', encoding='utf-8')\n",
        "\n",
        "for line in tqdm(f):\n",
        "    values = line.rstrip().rsplit(' ')\n",
        "    word = values[0]\n",
        "    coefs = np.asarray(values[1:], dtype='float32')\n",
        "    embeddings_index[word] = coefs\n",
        "f.close()"
      ],
      "execution_count": 166,
      "outputs": [
        {
          "output_type": "stream",
          "name": "stdout",
          "text": [
            "Loading word embeddings..\n"
          ]
        },
        {
          "output_type": "stream",
          "name": "stderr",
          "text": [
            "1999996it [03:49, 8721.75it/s]\n"
          ]
        }
      ]
    },
    {
      "cell_type": "markdown",
      "source": [
        "Make a preprocess on the comments to improve quality and remove unneccessary words\n",
        "1. convert all words to lowercase\n",
        "2. remove punctuations\n",
        "3. tonekize words\n",
        "4. remove stopwords\n",
        "5. use porterStemmer to have stemming words"
      ],
      "metadata": {
        "id": "n7HpKZXMe8_w"
      }
    },
    {
      "cell_type": "code",
      "source": [
        "def nlprocess(dataset):\n",
        "    \n",
        "    preprocessed_comments = []\n",
        "    for text in dataset:\n",
        "        \n",
        "        #Lowercase\n",
        "        text = text.lower()\n",
        "\n",
        "        # Removing Punctuation\n",
        "        text = \"\".join([char for char in text if char not in string.punctuation])\n",
        "\n",
        "        # Word Tokenization\n",
        "        text = word_tokenize(text)\n",
        "\n",
        "        # Stopword Filtering\n",
        "        stop_words = stopwords.words('english')\n",
        "        text = [word for word in text if word not in stop_words]\n",
        "\n",
        "        # Stemming\n",
        "        porter = PorterStemmer()\n",
        "        text = [porter.stem(word) for word in text]\n",
        "\n",
        "        text = ' '.join(text)\n",
        "\n",
        "        preprocessed_comments.append(text)\n",
        "        \n",
        "    return preprocessed_comments"
      ],
      "metadata": {
        "id": "gfJ2dbsJ_nMP"
      },
      "execution_count": 167,
      "outputs": []
    },
    {
      "cell_type": "code",
      "source": [
        "def spliter(datasets):\n",
        "    x_train_datasets, x_test_datasets, y_train_datasets, y_test_datasets = [], [], [], []\n",
        "    print('(train, test):')\n",
        "    for i, dataset in enumerate(datasets):\n",
        "        x_train, x_test, y_train, y_test = train_test_split(dataset.text, dataset.label, test_size=0.3, random_state=42)\n",
        "        x_train_datasets.append(nlprocess(x_train))\n",
        "        x_test_datasets.append(nlprocess(x_test))\n",
        "        y_train_datasets.append(y_train)\n",
        "        y_test_datasets.append(y_test)\n",
        "        print(' |_ {}: ({}, {})'.format(datasets_name[i], len(x_train), len(x_test)))\n",
        "    return x_train_datasets, x_test_datasets, y_train_datasets, y_test_datasets"
      ],
      "metadata": {
        "id": "QetfY78V_7kW"
      },
      "execution_count": 168,
      "outputs": []
    },
    {
      "cell_type": "code",
      "metadata": {
        "id": "gXof0wFo6Q8a",
        "colab": {
          "base_uri": "https://localhost:8080/"
        },
        "outputId": "e9d0e52a-1e56-4fb3-b440-d2cfc7046239"
      },
      "source": [
        "datasets_name = ['Amazon', 'IMDB  ', 'Yelp  ']\n",
        "\n",
        "# Load data\n",
        "datasets = []\n",
        "amazon = pd.read_csv('./amazon.txt', names=['text', 'label'], sep='\\t')\n",
        "imdb   = pd.read_csv('./imdb.txt',   names=['text', 'label'], sep='\\t')\n",
        "yelp   = pd.read_csv('./yelp.txt',   names=['text', 'label'], sep='\\t')\n",
        "\n",
        "datasets.append(amazon)\n",
        "datasets.append(imdb)\n",
        "datasets.append(yelp)\n",
        "\n",
        "x_train_datasets, x_test_datasets, y_train_datasets, y_test_datasets = spliter(datasets)"
      ],
      "execution_count": 169,
      "outputs": [
        {
          "output_type": "stream",
          "name": "stdout",
          "text": [
            "(train, test):\n",
            " |_ Amazon: (700, 300)\n",
            " |_ IMDB  : (700, 300)\n",
            " |_ Yelp  : (700, 300)\n"
          ]
        }
      ]
    },
    {
      "cell_type": "markdown",
      "metadata": {
        "id": "a_AOE1b5elSz"
      },
      "source": [
        "Tokenizing the data with tokenizer from tensorflow"
      ]
    },
    {
      "cell_type": "code",
      "metadata": {
        "id": "Cc_9P1cEGg5J"
      },
      "source": [
        "def tokenizer(x_train_datasets, x_test_datasets):\n",
        "  word_indices = []\n",
        "  word_seq_trains = []\n",
        "  word_seq_tests = []\n",
        "  max_seq_lens = []\n",
        "\n",
        "  print(\"Dictionary size:\")\n",
        "  for i, (x_tr, x_ts) in enumerate(zip(x_train_datasets, x_test_datasets)):\n",
        "    (x_tr, x_ts) = (pd.DataFrame(x_tr, columns=['text']), pd.DataFrame(x_ts, columns=['text']))\n",
        "    raw_docs_train = x_tr.text.tolist()\n",
        "    raw_docs_test  = x_ts.text.tolist()\n",
        "\n",
        "\n",
        "    processed_docs_train = []\n",
        "    for doc in tqdm(raw_docs_train):\n",
        "        tokens = word_tokenize(doc)\n",
        "        processed_docs_train.append(\" \".join(tokens))\n",
        "\n",
        "    processed_docs_test = []\n",
        "    for doc in tqdm(raw_docs_test):\n",
        "        tokens = word_tokenize(doc)\n",
        "        processed_docs_test.append(\" \".join(tokens))\n",
        "\n",
        "\n",
        "    tokenizer = Tokenizer(num_words=MAX_NB_WORDS, lower=True, char_level=False)\n",
        "    tokenizer.fit_on_texts(processed_docs_train + processed_docs_test)\n",
        "    word_seq_train = tokenizer.texts_to_sequences(processed_docs_train)\n",
        "    word_seq_test  = tokenizer.texts_to_sequences(processed_docs_test)\n",
        "\n",
        "    word_index = tokenizer.word_index\n",
        "    word_indices.append(word_index)\n",
        "    print(\" |_ {}: {}\".format(datasets_name[i], len(word_index)))\n",
        "\n",
        "    x_tr['doc_len'] = x_tr.text.apply(lambda words: len(words.split(' ')))\n",
        "    max_seq_len = np.round(x_tr.doc_len.mean() + x_tr.doc_len.std()).astype(int)\n",
        "    max_seq_lens.append(max_seq_len)\n",
        "    x_tr = x_tr.drop('doc_len', axis=1)\n",
        "    word_seq_trains.append(sequence.pad_sequences(word_seq_train, maxlen=max_seq_len))\n",
        "    word_seq_tests.append(sequence.pad_sequences(word_seq_test, maxlen=max_seq_len))\n",
        "\n",
        "  return word_indices, word_seq_trains, word_seq_tests, max_seq_lens"
      ],
      "execution_count": 183,
      "outputs": []
    },
    {
      "cell_type": "code",
      "source": [
        "word_indices, word_seq_trains, word_seq_tests, max_seq_lens = tokenizer(x_train_datasets, x_test_datasets)"
      ],
      "metadata": {
        "id": "kJsBfc6eBPCH",
        "colab": {
          "base_uri": "https://localhost:8080/"
        },
        "outputId": "a81ac574-d57b-4b3b-bcd7-19f6ff77420f"
      },
      "execution_count": 184,
      "outputs": [
        {
          "output_type": "stream",
          "name": "stdout",
          "text": [
            "Dictionary size:\n"
          ]
        },
        {
          "output_type": "stream",
          "name": "stderr",
          "text": [
            "100%|██████████| 700/700 [00:00<00:00, 10946.61it/s]\n",
            "100%|██████████| 300/300 [00:00<00:00, 7779.14it/s]\n"
          ]
        },
        {
          "output_type": "stream",
          "name": "stdout",
          "text": [
            " |_ Amazon: 1480\n"
          ]
        },
        {
          "output_type": "stream",
          "name": "stderr",
          "text": [
            "100%|██████████| 700/700 [00:00<00:00, 8329.80it/s]\n",
            "100%|██████████| 300/300 [00:00<00:00, 8977.34it/s]\n"
          ]
        },
        {
          "output_type": "stream",
          "name": "stdout",
          "text": [
            " |_ IMDB  : 2527\n"
          ]
        },
        {
          "output_type": "stream",
          "name": "stderr",
          "text": [
            "100%|██████████| 700/700 [00:00<00:00, 11003.72it/s]\n",
            "100%|██████████| 300/300 [00:00<00:00, 9650.51it/s]\n"
          ]
        },
        {
          "output_type": "stream",
          "name": "stdout",
          "text": [
            " |_ Yelp  : 1638\n"
          ]
        }
      ]
    },
    {
      "cell_type": "markdown",
      "metadata": {
        "id": "IpGENGlOtQs1"
      },
      "source": [
        "#**Shape and Train with LSTM**"
      ]
    },
    {
      "cell_type": "markdown",
      "metadata": {
        "id": "Nyj7gwQKexxy"
      },
      "source": [
        "defining variables that used on training"
      ]
    },
    {
      "cell_type": "code",
      "metadata": {
        "id": "PSZ3krGMG303"
      },
      "source": [
        "# Training params\n",
        "batch_size = 256 \n",
        "num_epochs = 40\n",
        "\n",
        "# Model params\n",
        "num_filters = 64 \n",
        "embed_dim = 300 \n",
        "weight_decay = 1e-4"
      ],
      "execution_count": 186,
      "outputs": []
    },
    {
      "cell_type": "markdown",
      "metadata": {
        "id": "fZ6AlbhZe4Ky"
      },
      "source": [
        "All words that arent in the pre-trained model from fasttext would be changed to 0. These words are basically the ones with names, and mostly dont matter so much to the pattern. so its nicer to just weights it 0."
      ]
    },
    {
      "cell_type": "code",
      "metadata": {
        "id": "8SJbfuJPJEDC"
      },
      "source": [
        "# Embedding matrix\n",
        "def embd_matrix(word_indices):\n",
        "  nb_words_list = []\n",
        "  embedding_matrices = []\n",
        "  print('Preparing embedding matrix..')\n",
        "  print(' Number of null word embeddings:')\n",
        "  for j, word_index in enumerate(word_indices):\n",
        "    words_not_found = []\n",
        "    nb_words = min(MAX_NB_WORDS, len(word_index) + 1)\n",
        "    nb_words_list.append(nb_words)\n",
        "    embedding_matrix = np.zeros((nb_words, embed_dim))\n",
        "\n",
        "    for word, i in word_index.items():\n",
        "        if i >= nb_words:\n",
        "            continue\n",
        "        embedding_vector = embeddings_index.get(word)\n",
        "        if (embedding_vector is not None) and len(embedding_vector) > 0:\n",
        "            embedding_matrix[i] = embedding_vector\n",
        "        else:\n",
        "            words_not_found.append(word)\n",
        "    \n",
        "    embedding_matrices.append(embedding_matrix)\n",
        "    print('  |_ {}: {}'.format(datasets_name[j], np.sum(np.sum(embedding_matrix, axis=1) == 0)))\n",
        "    print(\"     some of not-found words: {}\".format(np.random.choice(words_not_found, 3)))\n",
        "  \n",
        "  return nb_words_list, embedding_matrices"
      ],
      "execution_count": 187,
      "outputs": []
    },
    {
      "cell_type": "code",
      "metadata": {
        "id": "S_pjm-7BJGuP",
        "colab": {
          "base_uri": "https://localhost:8080/"
        },
        "outputId": "495ac24c-574a-4d18-ec99-cea69e81dbe8"
      },
      "source": [
        "nb_words_list, embedding_matrices = embd_matrix(word_indices)"
      ],
      "execution_count": 188,
      "outputs": [
        {
          "output_type": "stream",
          "name": "stdout",
          "text": [
            "Preparing embedding matrix..\n",
            " Number of null word embeddings:\n",
            "  |_ Amazon: 229\n",
            "     some of not-found words: ['schr450' 'clearli' 'displeas']\n",
            "  |_ IMDB  : 464\n",
            "     some of not-found words: ['itbuy' 'poetri' 'incendiari']\n",
            "  |_ Yelp  : 204\n",
            "     some of not-found words: ['circumst' 'poorli' 'prettyoff']\n"
          ]
        }
      ]
    },
    {
      "cell_type": "markdown",
      "source": [
        "Cool :)))"
      ],
      "metadata": {
        "id": "YPQCCaKj13lZ"
      }
    },
    {
      "cell_type": "markdown",
      "metadata": {
        "id": "SUBAkn22ga48"
      },
      "source": [
        "Now, lets start training!"
      ]
    },
    {
      "cell_type": "code",
      "metadata": {
        "id": "xpX2AFhKJJsh"
      },
      "source": [
        "def fast_text_trainer(embedding_matrices, nb_words_list, max_seq_lens, y_train_datasets, word_seq_trains):\n",
        "  models = []\n",
        "  \n",
        "  for i, (embedding_matrix, nb_words, max_seq_len, y_train, word_seq_train) in enumerate(zip(embedding_matrices, nb_words_list, max_seq_lens, y_train_datasets, word_seq_trains)):\n",
        "\n",
        "    model = tf.keras.Sequential()\n",
        "\n",
        "    model.add(Embedding(nb_words, embed_dim, input_length=max_seq_len, weights=[embedding_matrix], trainable=False))\n",
        "    model.add(Bidirectional(LSTM(32)))\n",
        "    model.add(Dense(32,activation='relu'))\n",
        "    model.add(Dropout(0.4))\n",
        "    model.add(Dense(1,activation='sigmoid'))\n",
        "\n",
        "    print('\\n\\n****************************   {}   ************************'.format(datasets_name[i]))\n",
        "    model.summary()\n",
        "\n",
        "    model.compile(loss='binary_crossentropy', optimizer='adam', metrics=['accuracy'])\n",
        "\n",
        "    es_callback = EarlyStopping(monitor='val_loss', patience=3)\n",
        "    model.fit(word_seq_train, y_train, batch_size=256, epochs=num_epochs, callbacks=[es_callback], shuffle=False)\n",
        "\n",
        "    models.append(model)\n",
        "    keras.backend.clear_session()\n",
        "  return models"
      ],
      "execution_count": 194,
      "outputs": []
    },
    {
      "cell_type": "code",
      "source": [
        "models = fast_text_trainer(embedding_matrices, nb_words_list, max_seq_lens, y_train_datasets, word_seq_trains)"
      ],
      "metadata": {
        "colab": {
          "base_uri": "https://localhost:8080/"
        },
        "id": "B9oADMCL4lmj",
        "outputId": "0325ee05-1438-45f6-ab6a-8cdb64de2d34"
      },
      "execution_count": 195,
      "outputs": [
        {
          "output_type": "stream",
          "name": "stdout",
          "text": [
            "\n",
            "\n",
            "****************************   Amazon   ************************\n",
            "Model: \"sequential_7\"\n",
            "_________________________________________________________________\n",
            " Layer (type)                Output Shape              Param #   \n",
            "=================================================================\n",
            " embedding_7 (Embedding)     (None, 9, 300)            444300    \n",
            "                                                                 \n",
            " bidirectional_7 (Bidirectio  (None, 64)               85248     \n",
            " nal)                                                            \n",
            "                                                                 \n",
            " dense_14 (Dense)            (None, 32)                2080      \n",
            "                                                                 \n",
            " dropout_7 (Dropout)         (None, 32)                0         \n",
            "                                                                 \n",
            " dense_15 (Dense)            (None, 1)                 33        \n",
            "                                                                 \n",
            "=================================================================\n",
            "Total params: 531,661\n",
            "Trainable params: 87,361\n",
            "Non-trainable params: 444,300\n",
            "_________________________________________________________________\n",
            "Epoch 1/40\n",
            "3/3 [==============================] - ETA: 0s - loss: 0.6923 - accuracy: 0.5143WARNING:tensorflow:Early stopping conditioned on metric `val_loss` which is not available. Available metrics are: loss,accuracy\n",
            "3/3 [==============================] - 4s 54ms/step - loss: 0.6923 - accuracy: 0.5143\n",
            "Epoch 2/40\n",
            "3/3 [==============================] - ETA: 0s - loss: 0.6780 - accuracy: 0.6229WARNING:tensorflow:Early stopping conditioned on metric `val_loss` which is not available. Available metrics are: loss,accuracy\n",
            "3/3 [==============================] - 0s 45ms/step - loss: 0.6780 - accuracy: 0.6229\n",
            "Epoch 3/40\n",
            "3/3 [==============================] - ETA: 0s - loss: 0.6648 - accuracy: 0.6714WARNING:tensorflow:Early stopping conditioned on metric `val_loss` which is not available. Available metrics are: loss,accuracy\n",
            "3/3 [==============================] - 0s 45ms/step - loss: 0.6648 - accuracy: 0.6714\n",
            "Epoch 4/40\n",
            "3/3 [==============================] - ETA: 0s - loss: 0.6526 - accuracy: 0.7371WARNING:tensorflow:Early stopping conditioned on metric `val_loss` which is not available. Available metrics are: loss,accuracy\n",
            "3/3 [==============================] - 0s 46ms/step - loss: 0.6526 - accuracy: 0.7371\n",
            "Epoch 5/40\n",
            "2/3 [===================>..........] - ETA: 0s - loss: 0.6409 - accuracy: 0.7383WARNING:tensorflow:Early stopping conditioned on metric `val_loss` which is not available. Available metrics are: loss,accuracy\n",
            "3/3 [==============================] - 0s 51ms/step - loss: 0.6384 - accuracy: 0.7371\n",
            "Epoch 6/40\n",
            "3/3 [==============================] - ETA: 0s - loss: 0.6161 - accuracy: 0.7457WARNING:tensorflow:Early stopping conditioned on metric `val_loss` which is not available. Available metrics are: loss,accuracy\n",
            "3/3 [==============================] - 0s 46ms/step - loss: 0.6161 - accuracy: 0.7457\n",
            "Epoch 7/40\n",
            "2/3 [===================>..........] - ETA: 0s - loss: 0.5947 - accuracy: 0.7773WARNING:tensorflow:Early stopping conditioned on metric `val_loss` which is not available. Available metrics are: loss,accuracy\n",
            "3/3 [==============================] - 0s 51ms/step - loss: 0.5930 - accuracy: 0.7814\n",
            "Epoch 8/40\n",
            "2/3 [===================>..........] - ETA: 0s - loss: 0.5706 - accuracy: 0.7891WARNING:tensorflow:Early stopping conditioned on metric `val_loss` which is not available. Available metrics are: loss,accuracy\n",
            "3/3 [==============================] - 0s 50ms/step - loss: 0.5694 - accuracy: 0.7843\n",
            "Epoch 9/40\n",
            "3/3 [==============================] - ETA: 0s - loss: 0.5408 - accuracy: 0.7986WARNING:tensorflow:Early stopping conditioned on metric `val_loss` which is not available. Available metrics are: loss,accuracy\n",
            "3/3 [==============================] - 0s 45ms/step - loss: 0.5408 - accuracy: 0.7986\n",
            "Epoch 10/40\n",
            "3/3 [==============================] - ETA: 0s - loss: 0.5230 - accuracy: 0.7886WARNING:tensorflow:Early stopping conditioned on metric `val_loss` which is not available. Available metrics are: loss,accuracy\n",
            "3/3 [==============================] - 0s 46ms/step - loss: 0.5230 - accuracy: 0.7886\n",
            "Epoch 11/40\n",
            "3/3 [==============================] - ETA: 0s - loss: 0.4909 - accuracy: 0.7943WARNING:tensorflow:Early stopping conditioned on metric `val_loss` which is not available. Available metrics are: loss,accuracy\n",
            "3/3 [==============================] - 0s 50ms/step - loss: 0.4909 - accuracy: 0.7943\n",
            "Epoch 12/40\n",
            "3/3 [==============================] - ETA: 0s - loss: 0.4562 - accuracy: 0.8157WARNING:tensorflow:Early stopping conditioned on metric `val_loss` which is not available. Available metrics are: loss,accuracy\n",
            "3/3 [==============================] - 0s 43ms/step - loss: 0.4562 - accuracy: 0.8157\n",
            "Epoch 13/40\n",
            "3/3 [==============================] - ETA: 0s - loss: 0.4326 - accuracy: 0.8271WARNING:tensorflow:Early stopping conditioned on metric `val_loss` which is not available. Available metrics are: loss,accuracy\n",
            "3/3 [==============================] - 0s 48ms/step - loss: 0.4326 - accuracy: 0.8271\n",
            "Epoch 14/40\n",
            "3/3 [==============================] - ETA: 0s - loss: 0.4037 - accuracy: 0.8314WARNING:tensorflow:Early stopping conditioned on metric `val_loss` which is not available. Available metrics are: loss,accuracy\n",
            "3/3 [==============================] - 0s 45ms/step - loss: 0.4037 - accuracy: 0.8314\n",
            "Epoch 15/40\n",
            "2/3 [===================>..........] - ETA: 0s - loss: 0.3890 - accuracy: 0.8574WARNING:tensorflow:Early stopping conditioned on metric `val_loss` which is not available. Available metrics are: loss,accuracy\n",
            "3/3 [==============================] - 0s 51ms/step - loss: 0.3806 - accuracy: 0.8571\n",
            "Epoch 16/40\n",
            "2/3 [===================>..........] - ETA: 0s - loss: 0.3750 - accuracy: 0.8438WARNING:tensorflow:Early stopping conditioned on metric `val_loss` which is not available. Available metrics are: loss,accuracy\n",
            "3/3 [==============================] - 0s 50ms/step - loss: 0.3666 - accuracy: 0.8486\n",
            "Epoch 17/40\n",
            "3/3 [==============================] - ETA: 0s - loss: 0.3466 - accuracy: 0.8586WARNING:tensorflow:Early stopping conditioned on metric `val_loss` which is not available. Available metrics are: loss,accuracy\n",
            "3/3 [==============================] - 0s 44ms/step - loss: 0.3466 - accuracy: 0.8586\n",
            "Epoch 18/40\n",
            "3/3 [==============================] - ETA: 0s - loss: 0.3306 - accuracy: 0.8700WARNING:tensorflow:Early stopping conditioned on metric `val_loss` which is not available. Available metrics are: loss,accuracy\n",
            "3/3 [==============================] - 0s 43ms/step - loss: 0.3306 - accuracy: 0.8700\n",
            "Epoch 19/40\n",
            "3/3 [==============================] - ETA: 0s - loss: 0.3070 - accuracy: 0.8800WARNING:tensorflow:Early stopping conditioned on metric `val_loss` which is not available. Available metrics are: loss,accuracy\n",
            "3/3 [==============================] - 0s 44ms/step - loss: 0.3070 - accuracy: 0.8800\n",
            "Epoch 20/40\n",
            "3/3 [==============================] - ETA: 0s - loss: 0.2902 - accuracy: 0.8800WARNING:tensorflow:Early stopping conditioned on metric `val_loss` which is not available. Available metrics are: loss,accuracy\n",
            "3/3 [==============================] - 0s 48ms/step - loss: 0.2902 - accuracy: 0.8800\n",
            "Epoch 21/40\n",
            "3/3 [==============================] - ETA: 0s - loss: 0.2609 - accuracy: 0.9057WARNING:tensorflow:Early stopping conditioned on metric `val_loss` which is not available. Available metrics are: loss,accuracy\n",
            "3/3 [==============================] - 0s 54ms/step - loss: 0.2609 - accuracy: 0.9057\n",
            "Epoch 22/40\n",
            "3/3 [==============================] - ETA: 0s - loss: 0.2500 - accuracy: 0.9014WARNING:tensorflow:Early stopping conditioned on metric `val_loss` which is not available. Available metrics are: loss,accuracy\n",
            "3/3 [==============================] - 0s 44ms/step - loss: 0.2500 - accuracy: 0.9014\n",
            "Epoch 23/40\n",
            "3/3 [==============================] - ETA: 0s - loss: 0.2390 - accuracy: 0.9071WARNING:tensorflow:Early stopping conditioned on metric `val_loss` which is not available. Available metrics are: loss,accuracy\n",
            "3/3 [==============================] - 0s 46ms/step - loss: 0.2390 - accuracy: 0.9071\n",
            "Epoch 24/40\n",
            "3/3 [==============================] - ETA: 0s - loss: 0.2194 - accuracy: 0.9157WARNING:tensorflow:Early stopping conditioned on metric `val_loss` which is not available. Available metrics are: loss,accuracy\n",
            "3/3 [==============================] - 0s 47ms/step - loss: 0.2194 - accuracy: 0.9157\n",
            "Epoch 25/40\n",
            "3/3 [==============================] - ETA: 0s - loss: 0.1907 - accuracy: 0.9271WARNING:tensorflow:Early stopping conditioned on metric `val_loss` which is not available. Available metrics are: loss,accuracy\n",
            "3/3 [==============================] - 0s 48ms/step - loss: 0.1907 - accuracy: 0.9271\n",
            "Epoch 26/40\n",
            "2/3 [===================>..........] - ETA: 0s - loss: 0.1888 - accuracy: 0.9316WARNING:tensorflow:Early stopping conditioned on metric `val_loss` which is not available. Available metrics are: loss,accuracy\n",
            "3/3 [==============================] - 0s 52ms/step - loss: 0.1768 - accuracy: 0.9371\n",
            "Epoch 27/40\n",
            "2/3 [===================>..........] - ETA: 0s - loss: 0.1710 - accuracy: 0.9355WARNING:tensorflow:Early stopping conditioned on metric `val_loss` which is not available. Available metrics are: loss,accuracy\n",
            "3/3 [==============================] - 0s 50ms/step - loss: 0.1584 - accuracy: 0.9400\n",
            "Epoch 28/40\n",
            "2/3 [===================>..........] - ETA: 0s - loss: 0.1489 - accuracy: 0.9609WARNING:tensorflow:Early stopping conditioned on metric `val_loss` which is not available. Available metrics are: loss,accuracy\n",
            "3/3 [==============================] - 0s 54ms/step - loss: 0.1401 - accuracy: 0.9600\n",
            "Epoch 29/40\n",
            "2/3 [===================>..........] - ETA: 0s - loss: 0.1372 - accuracy: 0.9570WARNING:tensorflow:Early stopping conditioned on metric `val_loss` which is not available. Available metrics are: loss,accuracy\n",
            "3/3 [==============================] - 0s 49ms/step - loss: 0.1268 - accuracy: 0.9586\n",
            "Epoch 30/40\n",
            "3/3 [==============================] - ETA: 0s - loss: 0.1099 - accuracy: 0.9643WARNING:tensorflow:Early stopping conditioned on metric `val_loss` which is not available. Available metrics are: loss,accuracy\n",
            "3/3 [==============================] - 0s 44ms/step - loss: 0.1099 - accuracy: 0.9643\n",
            "Epoch 31/40\n",
            "3/3 [==============================] - ETA: 0s - loss: 0.0975 - accuracy: 0.9657WARNING:tensorflow:Early stopping conditioned on metric `val_loss` which is not available. Available metrics are: loss,accuracy\n",
            "3/3 [==============================] - 0s 46ms/step - loss: 0.0975 - accuracy: 0.9657\n",
            "Epoch 32/40\n",
            "2/3 [===================>..........] - ETA: 0s - loss: 0.0870 - accuracy: 0.9727WARNING:tensorflow:Early stopping conditioned on metric `val_loss` which is not available. Available metrics are: loss,accuracy\n",
            "3/3 [==============================] - 0s 52ms/step - loss: 0.0890 - accuracy: 0.9700\n",
            "Epoch 33/40\n",
            "3/3 [==============================] - ETA: 0s - loss: 0.0798 - accuracy: 0.9743WARNING:tensorflow:Early stopping conditioned on metric `val_loss` which is not available. Available metrics are: loss,accuracy\n",
            "3/3 [==============================] - 0s 44ms/step - loss: 0.0798 - accuracy: 0.9743\n",
            "Epoch 34/40\n",
            "2/3 [===================>..........] - ETA: 0s - loss: 0.0691 - accuracy: 0.9707WARNING:tensorflow:Early stopping conditioned on metric `val_loss` which is not available. Available metrics are: loss,accuracy\n",
            "3/3 [==============================] - 0s 53ms/step - loss: 0.0707 - accuracy: 0.9700\n",
            "Epoch 35/40\n",
            "3/3 [==============================] - ETA: 0s - loss: 0.0647 - accuracy: 0.9786WARNING:tensorflow:Early stopping conditioned on metric `val_loss` which is not available. Available metrics are: loss,accuracy\n",
            "3/3 [==============================] - 0s 47ms/step - loss: 0.0647 - accuracy: 0.9786\n",
            "Epoch 36/40\n",
            "3/3 [==============================] - ETA: 0s - loss: 0.0543 - accuracy: 0.9786WARNING:tensorflow:Early stopping conditioned on metric `val_loss` which is not available. Available metrics are: loss,accuracy\n",
            "3/3 [==============================] - 0s 44ms/step - loss: 0.0543 - accuracy: 0.9786\n",
            "Epoch 37/40\n",
            "2/3 [===================>..........] - ETA: 0s - loss: 0.0546 - accuracy: 0.9805WARNING:tensorflow:Early stopping conditioned on metric `val_loss` which is not available. Available metrics are: loss,accuracy\n",
            "3/3 [==============================] - 0s 53ms/step - loss: 0.0535 - accuracy: 0.9786\n",
            "Epoch 38/40\n",
            "3/3 [==============================] - ETA: 0s - loss: 0.0491 - accuracy: 0.9786WARNING:tensorflow:Early stopping conditioned on metric `val_loss` which is not available. Available metrics are: loss,accuracy\n",
            "3/3 [==============================] - 0s 44ms/step - loss: 0.0491 - accuracy: 0.9786\n",
            "Epoch 39/40\n",
            "3/3 [==============================] - ETA: 0s - loss: 0.0426 - accuracy: 0.9829WARNING:tensorflow:Early stopping conditioned on metric `val_loss` which is not available. Available metrics are: loss,accuracy\n",
            "3/3 [==============================] - 0s 45ms/step - loss: 0.0426 - accuracy: 0.9829\n",
            "Epoch 40/40\n",
            "3/3 [==============================] - ETA: 0s - loss: 0.0427 - accuracy: 0.9800WARNING:tensorflow:Early stopping conditioned on metric `val_loss` which is not available. Available metrics are: loss,accuracy\n",
            "3/3 [==============================] - 0s 48ms/step - loss: 0.0427 - accuracy: 0.9800\n",
            "\n",
            "\n",
            "****************************   IMDB     ************************\n",
            "Model: \"sequential\"\n",
            "_________________________________________________________________\n",
            " Layer (type)                Output Shape              Param #   \n",
            "=================================================================\n",
            " embedding (Embedding)       (None, 13, 300)           758400    \n",
            "                                                                 \n",
            " bidirectional (Bidirectiona  (None, 64)               85248     \n",
            " l)                                                              \n",
            "                                                                 \n",
            " dense (Dense)               (None, 32)                2080      \n",
            "                                                                 \n",
            " dropout (Dropout)           (None, 32)                0         \n",
            "                                                                 \n",
            " dense_1 (Dense)             (None, 1)                 33        \n",
            "                                                                 \n",
            "=================================================================\n",
            "Total params: 845,761\n",
            "Trainable params: 87,361\n",
            "Non-trainable params: 758,400\n",
            "_________________________________________________________________\n",
            "Epoch 1/40\n",
            "3/3 [==============================] - ETA: 0s - loss: 0.6913 - accuracy: 0.5171WARNING:tensorflow:Early stopping conditioned on metric `val_loss` which is not available. Available metrics are: loss,accuracy\n",
            "3/3 [==============================] - 5s 64ms/step - loss: 0.6913 - accuracy: 0.5171\n",
            "Epoch 2/40\n",
            "3/3 [==============================] - ETA: 0s - loss: 0.6742 - accuracy: 0.5886WARNING:tensorflow:Early stopping conditioned on metric `val_loss` which is not available. Available metrics are: loss,accuracy\n",
            "3/3 [==============================] - 0s 65ms/step - loss: 0.6742 - accuracy: 0.5886\n",
            "Epoch 3/40\n",
            "3/3 [==============================] - ETA: 0s - loss: 0.6653 - accuracy: 0.6543WARNING:tensorflow:Early stopping conditioned on metric `val_loss` which is not available. Available metrics are: loss,accuracy\n",
            "3/3 [==============================] - 0s 64ms/step - loss: 0.6653 - accuracy: 0.6543\n",
            "Epoch 4/40\n",
            "3/3 [==============================] - ETA: 0s - loss: 0.6442 - accuracy: 0.7114WARNING:tensorflow:Early stopping conditioned on metric `val_loss` which is not available. Available metrics are: loss,accuracy\n",
            "3/3 [==============================] - 0s 65ms/step - loss: 0.6442 - accuracy: 0.7114\n",
            "Epoch 5/40\n",
            "3/3 [==============================] - ETA: 0s - loss: 0.6242 - accuracy: 0.7371WARNING:tensorflow:Early stopping conditioned on metric `val_loss` which is not available. Available metrics are: loss,accuracy\n",
            "3/3 [==============================] - 0s 66ms/step - loss: 0.6242 - accuracy: 0.7371\n",
            "Epoch 6/40\n",
            "3/3 [==============================] - ETA: 0s - loss: 0.6008 - accuracy: 0.7471WARNING:tensorflow:Early stopping conditioned on metric `val_loss` which is not available. Available metrics are: loss,accuracy\n",
            "3/3 [==============================] - 0s 67ms/step - loss: 0.6008 - accuracy: 0.7471\n",
            "Epoch 7/40\n",
            "3/3 [==============================] - ETA: 0s - loss: 0.5746 - accuracy: 0.7743WARNING:tensorflow:Early stopping conditioned on metric `val_loss` which is not available. Available metrics are: loss,accuracy\n",
            "3/3 [==============================] - 0s 60ms/step - loss: 0.5746 - accuracy: 0.7743\n",
            "Epoch 8/40\n",
            "3/3 [==============================] - ETA: 0s - loss: 0.5395 - accuracy: 0.7943WARNING:tensorflow:Early stopping conditioned on metric `val_loss` which is not available. Available metrics are: loss,accuracy\n",
            "3/3 [==============================] - 0s 66ms/step - loss: 0.5395 - accuracy: 0.7943\n",
            "Epoch 9/40\n",
            "3/3 [==============================] - ETA: 0s - loss: 0.4957 - accuracy: 0.8143WARNING:tensorflow:Early stopping conditioned on metric `val_loss` which is not available. Available metrics are: loss,accuracy\n",
            "3/3 [==============================] - 0s 72ms/step - loss: 0.4957 - accuracy: 0.8143\n",
            "Epoch 10/40\n",
            "3/3 [==============================] - ETA: 0s - loss: 0.4511 - accuracy: 0.8186WARNING:tensorflow:Early stopping conditioned on metric `val_loss` which is not available. Available metrics are: loss,accuracy\n",
            "3/3 [==============================] - 0s 68ms/step - loss: 0.4511 - accuracy: 0.8186\n",
            "Epoch 11/40\n",
            "3/3 [==============================] - ETA: 0s - loss: 0.4206 - accuracy: 0.8143WARNING:tensorflow:Early stopping conditioned on metric `val_loss` which is not available. Available metrics are: loss,accuracy\n",
            "3/3 [==============================] - 0s 61ms/step - loss: 0.4206 - accuracy: 0.8143\n",
            "Epoch 12/40\n",
            "3/3 [==============================] - ETA: 0s - loss: 0.3926 - accuracy: 0.8429WARNING:tensorflow:Early stopping conditioned on metric `val_loss` which is not available. Available metrics are: loss,accuracy\n",
            "3/3 [==============================] - 0s 67ms/step - loss: 0.3926 - accuracy: 0.8429\n",
            "Epoch 13/40\n",
            "3/3 [==============================] - ETA: 0s - loss: 0.3518 - accuracy: 0.8500WARNING:tensorflow:Early stopping conditioned on metric `val_loss` which is not available. Available metrics are: loss,accuracy\n",
            "3/3 [==============================] - 0s 68ms/step - loss: 0.3518 - accuracy: 0.8500\n",
            "Epoch 14/40\n",
            "3/3 [==============================] - ETA: 0s - loss: 0.3421 - accuracy: 0.8629WARNING:tensorflow:Early stopping conditioned on metric `val_loss` which is not available. Available metrics are: loss,accuracy\n",
            "3/3 [==============================] - 0s 74ms/step - loss: 0.3421 - accuracy: 0.8629\n",
            "Epoch 15/40\n",
            "3/3 [==============================] - ETA: 0s - loss: 0.3216 - accuracy: 0.8629WARNING:tensorflow:Early stopping conditioned on metric `val_loss` which is not available. Available metrics are: loss,accuracy\n",
            "3/3 [==============================] - 0s 66ms/step - loss: 0.3216 - accuracy: 0.8629\n",
            "Epoch 16/40\n",
            "3/3 [==============================] - ETA: 0s - loss: 0.2910 - accuracy: 0.8814WARNING:tensorflow:Early stopping conditioned on metric `val_loss` which is not available. Available metrics are: loss,accuracy\n",
            "3/3 [==============================] - 0s 61ms/step - loss: 0.2910 - accuracy: 0.8814\n",
            "Epoch 17/40\n",
            "3/3 [==============================] - ETA: 0s - loss: 0.2752 - accuracy: 0.8957WARNING:tensorflow:Early stopping conditioned on metric `val_loss` which is not available. Available metrics are: loss,accuracy\n",
            "3/3 [==============================] - 0s 61ms/step - loss: 0.2752 - accuracy: 0.8957\n",
            "Epoch 18/40\n",
            "3/3 [==============================] - ETA: 0s - loss: 0.2627 - accuracy: 0.9100WARNING:tensorflow:Early stopping conditioned on metric `val_loss` which is not available. Available metrics are: loss,accuracy\n",
            "3/3 [==============================] - 0s 68ms/step - loss: 0.2627 - accuracy: 0.9100\n",
            "Epoch 19/40\n",
            "3/3 [==============================] - ETA: 0s - loss: 0.2340 - accuracy: 0.9200WARNING:tensorflow:Early stopping conditioned on metric `val_loss` which is not available. Available metrics are: loss,accuracy\n",
            "3/3 [==============================] - 0s 72ms/step - loss: 0.2340 - accuracy: 0.9200\n",
            "Epoch 20/40\n",
            "3/3 [==============================] - ETA: 0s - loss: 0.2217 - accuracy: 0.9257WARNING:tensorflow:Early stopping conditioned on metric `val_loss` which is not available. Available metrics are: loss,accuracy\n",
            "3/3 [==============================] - 0s 66ms/step - loss: 0.2217 - accuracy: 0.9257\n",
            "Epoch 21/40\n",
            "3/3 [==============================] - ETA: 0s - loss: 0.1888 - accuracy: 0.9400WARNING:tensorflow:Early stopping conditioned on metric `val_loss` which is not available. Available metrics are: loss,accuracy\n",
            "3/3 [==============================] - 0s 61ms/step - loss: 0.1888 - accuracy: 0.9400\n",
            "Epoch 22/40\n",
            "3/3 [==============================] - ETA: 0s - loss: 0.1780 - accuracy: 0.9471WARNING:tensorflow:Early stopping conditioned on metric `val_loss` which is not available. Available metrics are: loss,accuracy\n",
            "3/3 [==============================] - 0s 64ms/step - loss: 0.1780 - accuracy: 0.9471\n",
            "Epoch 23/40\n",
            "3/3 [==============================] - ETA: 0s - loss: 0.1522 - accuracy: 0.9543WARNING:tensorflow:Early stopping conditioned on metric `val_loss` which is not available. Available metrics are: loss,accuracy\n",
            "3/3 [==============================] - 0s 67ms/step - loss: 0.1522 - accuracy: 0.9543\n",
            "Epoch 24/40\n",
            "3/3 [==============================] - ETA: 0s - loss: 0.1363 - accuracy: 0.9614WARNING:tensorflow:Early stopping conditioned on metric `val_loss` which is not available. Available metrics are: loss,accuracy\n",
            "3/3 [==============================] - 0s 72ms/step - loss: 0.1363 - accuracy: 0.9614\n",
            "Epoch 25/40\n",
            "3/3 [==============================] - ETA: 0s - loss: 0.1301 - accuracy: 0.9614WARNING:tensorflow:Early stopping conditioned on metric `val_loss` which is not available. Available metrics are: loss,accuracy\n",
            "3/3 [==============================] - 0s 65ms/step - loss: 0.1301 - accuracy: 0.9614\n",
            "Epoch 26/40\n",
            "3/3 [==============================] - ETA: 0s - loss: 0.1117 - accuracy: 0.9614WARNING:tensorflow:Early stopping conditioned on metric `val_loss` which is not available. Available metrics are: loss,accuracy\n",
            "3/3 [==============================] - 0s 62ms/step - loss: 0.1117 - accuracy: 0.9614\n",
            "Epoch 27/40\n",
            "3/3 [==============================] - ETA: 0s - loss: 0.0949 - accuracy: 0.9743WARNING:tensorflow:Early stopping conditioned on metric `val_loss` which is not available. Available metrics are: loss,accuracy\n",
            "3/3 [==============================] - 0s 67ms/step - loss: 0.0949 - accuracy: 0.9743\n",
            "Epoch 28/40\n",
            "3/3 [==============================] - ETA: 0s - loss: 0.0945 - accuracy: 0.9757WARNING:tensorflow:Early stopping conditioned on metric `val_loss` which is not available. Available metrics are: loss,accuracy\n",
            "3/3 [==============================] - 0s 69ms/step - loss: 0.0945 - accuracy: 0.9757\n",
            "Epoch 29/40\n",
            "3/3 [==============================] - ETA: 0s - loss: 0.0721 - accuracy: 0.9786WARNING:tensorflow:Early stopping conditioned on metric `val_loss` which is not available. Available metrics are: loss,accuracy\n",
            "3/3 [==============================] - 0s 73ms/step - loss: 0.0721 - accuracy: 0.9786\n",
            "Epoch 30/40\n",
            "3/3 [==============================] - ETA: 0s - loss: 0.0822 - accuracy: 0.9771WARNING:tensorflow:Early stopping conditioned on metric `val_loss` which is not available. Available metrics are: loss,accuracy\n",
            "3/3 [==============================] - 0s 65ms/step - loss: 0.0822 - accuracy: 0.9771\n",
            "Epoch 31/40\n",
            "3/3 [==============================] - ETA: 0s - loss: 0.0612 - accuracy: 0.9829WARNING:tensorflow:Early stopping conditioned on metric `val_loss` which is not available. Available metrics are: loss,accuracy\n",
            "3/3 [==============================] - 0s 63ms/step - loss: 0.0612 - accuracy: 0.9829\n",
            "Epoch 32/40\n",
            "3/3 [==============================] - ETA: 0s - loss: 0.0691 - accuracy: 0.9829WARNING:tensorflow:Early stopping conditioned on metric `val_loss` which is not available. Available metrics are: loss,accuracy\n",
            "3/3 [==============================] - 0s 61ms/step - loss: 0.0691 - accuracy: 0.9829\n",
            "Epoch 33/40\n",
            "3/3 [==============================] - ETA: 0s - loss: 0.0613 - accuracy: 0.9857WARNING:tensorflow:Early stopping conditioned on metric `val_loss` which is not available. Available metrics are: loss,accuracy\n",
            "3/3 [==============================] - 0s 62ms/step - loss: 0.0613 - accuracy: 0.9857\n",
            "Epoch 34/40\n",
            "3/3 [==============================] - ETA: 0s - loss: 0.0567 - accuracy: 0.9886WARNING:tensorflow:Early stopping conditioned on metric `val_loss` which is not available. Available metrics are: loss,accuracy\n",
            "3/3 [==============================] - 0s 71ms/step - loss: 0.0567 - accuracy: 0.9886\n",
            "Epoch 35/40\n",
            "3/3 [==============================] - ETA: 0s - loss: 0.0511 - accuracy: 0.9857WARNING:tensorflow:Early stopping conditioned on metric `val_loss` which is not available. Available metrics are: loss,accuracy\n",
            "3/3 [==============================] - 0s 62ms/step - loss: 0.0511 - accuracy: 0.9857\n",
            "Epoch 36/40\n",
            "3/3 [==============================] - ETA: 0s - loss: 0.0394 - accuracy: 0.9914WARNING:tensorflow:Early stopping conditioned on metric `val_loss` which is not available. Available metrics are: loss,accuracy\n",
            "3/3 [==============================] - 0s 60ms/step - loss: 0.0394 - accuracy: 0.9914\n",
            "Epoch 37/40\n",
            "3/3 [==============================] - ETA: 0s - loss: 0.0473 - accuracy: 0.9871WARNING:tensorflow:Early stopping conditioned on metric `val_loss` which is not available. Available metrics are: loss,accuracy\n",
            "3/3 [==============================] - 0s 64ms/step - loss: 0.0473 - accuracy: 0.9871\n",
            "Epoch 38/40\n",
            "3/3 [==============================] - ETA: 0s - loss: 0.0405 - accuracy: 0.9900WARNING:tensorflow:Early stopping conditioned on metric `val_loss` which is not available. Available metrics are: loss,accuracy\n",
            "3/3 [==============================] - 0s 63ms/step - loss: 0.0405 - accuracy: 0.9900\n",
            "Epoch 39/40\n",
            "3/3 [==============================] - ETA: 0s - loss: 0.0301 - accuracy: 0.9914WARNING:tensorflow:Early stopping conditioned on metric `val_loss` which is not available. Available metrics are: loss,accuracy\n",
            "3/3 [==============================] - 0s 70ms/step - loss: 0.0301 - accuracy: 0.9914\n",
            "Epoch 40/40\n",
            "3/3 [==============================] - ETA: 0s - loss: 0.0340 - accuracy: 0.9943WARNING:tensorflow:Early stopping conditioned on metric `val_loss` which is not available. Available metrics are: loss,accuracy\n",
            "3/3 [==============================] - 0s 62ms/step - loss: 0.0340 - accuracy: 0.9943\n",
            "\n",
            "\n",
            "****************************   Yelp     ************************\n",
            "Model: \"sequential\"\n",
            "_________________________________________________________________\n",
            " Layer (type)                Output Shape              Param #   \n",
            "=================================================================\n",
            " embedding (Embedding)       (None, 9, 300)            491700    \n",
            "                                                                 \n",
            " bidirectional (Bidirectiona  (None, 64)               85248     \n",
            " l)                                                              \n",
            "                                                                 \n",
            " dense (Dense)               (None, 32)                2080      \n",
            "                                                                 \n",
            " dropout (Dropout)           (None, 32)                0         \n",
            "                                                                 \n",
            " dense_1 (Dense)             (None, 1)                 33        \n",
            "                                                                 \n",
            "=================================================================\n",
            "Total params: 579,061\n",
            "Trainable params: 87,361\n",
            "Non-trainable params: 491,700\n",
            "_________________________________________________________________\n",
            "Epoch 1/40\n",
            "2/3 [===================>..........] - ETA: 0s - loss: 0.6920 - accuracy: 0.4941 WARNING:tensorflow:Early stopping conditioned on metric `val_loss` which is not available. Available metrics are: loss,accuracy\n",
            "3/3 [==============================] - 6s 50ms/step - loss: 0.6903 - accuracy: 0.5143\n",
            "Epoch 2/40\n",
            "2/3 [===================>..........] - ETA: 0s - loss: 0.6733 - accuracy: 0.6445WARNING:tensorflow:Early stopping conditioned on metric `val_loss` which is not available. Available metrics are: loss,accuracy\n",
            "3/3 [==============================] - 0s 54ms/step - loss: 0.6737 - accuracy: 0.6357\n",
            "Epoch 3/40\n",
            "3/3 [==============================] - ETA: 0s - loss: 0.6605 - accuracy: 0.7114WARNING:tensorflow:Early stopping conditioned on metric `val_loss` which is not available. Available metrics are: loss,accuracy\n",
            "3/3 [==============================] - 0s 44ms/step - loss: 0.6605 - accuracy: 0.7114\n",
            "Epoch 4/40\n",
            "3/3 [==============================] - ETA: 0s - loss: 0.6420 - accuracy: 0.7386WARNING:tensorflow:Early stopping conditioned on metric `val_loss` which is not available. Available metrics are: loss,accuracy\n",
            "3/3 [==============================] - 0s 68ms/step - loss: 0.6420 - accuracy: 0.7386\n",
            "Epoch 5/40\n",
            "3/3 [==============================] - ETA: 0s - loss: 0.6253 - accuracy: 0.7343WARNING:tensorflow:Early stopping conditioned on metric `val_loss` which is not available. Available metrics are: loss,accuracy\n",
            "3/3 [==============================] - 0s 80ms/step - loss: 0.6253 - accuracy: 0.7343\n",
            "Epoch 6/40\n",
            "3/3 [==============================] - ETA: 0s - loss: 0.5944 - accuracy: 0.7614WARNING:tensorflow:Early stopping conditioned on metric `val_loss` which is not available. Available metrics are: loss,accuracy\n",
            "3/3 [==============================] - 0s 86ms/step - loss: 0.5944 - accuracy: 0.7614\n",
            "Epoch 7/40\n",
            "3/3 [==============================] - ETA: 0s - loss: 0.5651 - accuracy: 0.7757WARNING:tensorflow:Early stopping conditioned on metric `val_loss` which is not available. Available metrics are: loss,accuracy\n",
            "3/3 [==============================] - 0s 73ms/step - loss: 0.5651 - accuracy: 0.7757\n",
            "Epoch 8/40\n",
            "3/3 [==============================] - ETA: 0s - loss: 0.5335 - accuracy: 0.8157WARNING:tensorflow:Early stopping conditioned on metric `val_loss` which is not available. Available metrics are: loss,accuracy\n",
            "3/3 [==============================] - 0s 74ms/step - loss: 0.5335 - accuracy: 0.8157\n",
            "Epoch 9/40\n",
            "3/3 [==============================] - ETA: 0s - loss: 0.4972 - accuracy: 0.8186WARNING:tensorflow:Early stopping conditioned on metric `val_loss` which is not available. Available metrics are: loss,accuracy\n",
            "3/3 [==============================] - 0s 71ms/step - loss: 0.4972 - accuracy: 0.8186\n",
            "Epoch 10/40\n",
            "3/3 [==============================] - ETA: 0s - loss: 0.4718 - accuracy: 0.8200WARNING:tensorflow:Early stopping conditioned on metric `val_loss` which is not available. Available metrics are: loss,accuracy\n",
            "3/3 [==============================] - 0s 70ms/step - loss: 0.4718 - accuracy: 0.8200\n",
            "Epoch 11/40\n",
            "3/3 [==============================] - ETA: 0s - loss: 0.4349 - accuracy: 0.8329WARNING:tensorflow:Early stopping conditioned on metric `val_loss` which is not available. Available metrics are: loss,accuracy\n",
            "3/3 [==============================] - 0s 62ms/step - loss: 0.4349 - accuracy: 0.8329\n",
            "Epoch 12/40\n",
            "3/3 [==============================] - ETA: 0s - loss: 0.4005 - accuracy: 0.8400WARNING:tensorflow:Early stopping conditioned on metric `val_loss` which is not available. Available metrics are: loss,accuracy\n",
            "3/3 [==============================] - 0s 59ms/step - loss: 0.4005 - accuracy: 0.8400\n",
            "Epoch 13/40\n",
            "3/3 [==============================] - ETA: 0s - loss: 0.3675 - accuracy: 0.8657WARNING:tensorflow:Early stopping conditioned on metric `val_loss` which is not available. Available metrics are: loss,accuracy\n",
            "3/3 [==============================] - 0s 77ms/step - loss: 0.3675 - accuracy: 0.8657\n",
            "Epoch 14/40\n",
            "3/3 [==============================] - ETA: 0s - loss: 0.3464 - accuracy: 0.8557WARNING:tensorflow:Early stopping conditioned on metric `val_loss` which is not available. Available metrics are: loss,accuracy\n",
            "3/3 [==============================] - 0s 101ms/step - loss: 0.3464 - accuracy: 0.8557\n",
            "Epoch 15/40\n",
            "3/3 [==============================] - ETA: 0s - loss: 0.3188 - accuracy: 0.8714WARNING:tensorflow:Early stopping conditioned on metric `val_loss` which is not available. Available metrics are: loss,accuracy\n",
            "3/3 [==============================] - 0s 70ms/step - loss: 0.3188 - accuracy: 0.8714\n",
            "Epoch 16/40\n",
            "3/3 [==============================] - ETA: 0s - loss: 0.3005 - accuracy: 0.8843WARNING:tensorflow:Early stopping conditioned on metric `val_loss` which is not available. Available metrics are: loss,accuracy\n",
            "3/3 [==============================] - 0s 70ms/step - loss: 0.3005 - accuracy: 0.8843\n",
            "Epoch 17/40\n",
            "3/3 [==============================] - ETA: 0s - loss: 0.2732 - accuracy: 0.8957WARNING:tensorflow:Early stopping conditioned on metric `val_loss` which is not available. Available metrics are: loss,accuracy\n",
            "3/3 [==============================] - 0s 72ms/step - loss: 0.2732 - accuracy: 0.8957\n",
            "Epoch 18/40\n",
            "3/3 [==============================] - ETA: 0s - loss: 0.2587 - accuracy: 0.9129WARNING:tensorflow:Early stopping conditioned on metric `val_loss` which is not available. Available metrics are: loss,accuracy\n",
            "3/3 [==============================] - 0s 102ms/step - loss: 0.2587 - accuracy: 0.9129\n",
            "Epoch 19/40\n",
            "3/3 [==============================] - ETA: 0s - loss: 0.2177 - accuracy: 0.9257WARNING:tensorflow:Early stopping conditioned on metric `val_loss` which is not available. Available metrics are: loss,accuracy\n",
            "3/3 [==============================] - 0s 80ms/step - loss: 0.2177 - accuracy: 0.9257\n",
            "Epoch 20/40\n",
            "3/3 [==============================] - ETA: 0s - loss: 0.2130 - accuracy: 0.9357WARNING:tensorflow:Early stopping conditioned on metric `val_loss` which is not available. Available metrics are: loss,accuracy\n",
            "3/3 [==============================] - 0s 80ms/step - loss: 0.2130 - accuracy: 0.9357\n",
            "Epoch 21/40\n",
            "3/3 [==============================] - ETA: 0s - loss: 0.1987 - accuracy: 0.9400WARNING:tensorflow:Early stopping conditioned on metric `val_loss` which is not available. Available metrics are: loss,accuracy\n",
            "3/3 [==============================] - 0s 77ms/step - loss: 0.1987 - accuracy: 0.9400\n",
            "Epoch 22/40\n",
            "3/3 [==============================] - ETA: 0s - loss: 0.1769 - accuracy: 0.9500WARNING:tensorflow:Early stopping conditioned on metric `val_loss` which is not available. Available metrics are: loss,accuracy\n",
            "3/3 [==============================] - 0s 80ms/step - loss: 0.1769 - accuracy: 0.9500\n",
            "Epoch 23/40\n",
            "3/3 [==============================] - ETA: 0s - loss: 0.1526 - accuracy: 0.9543WARNING:tensorflow:Early stopping conditioned on metric `val_loss` which is not available. Available metrics are: loss,accuracy\n",
            "3/3 [==============================] - 0s 87ms/step - loss: 0.1526 - accuracy: 0.9543\n",
            "Epoch 24/40\n",
            "3/3 [==============================] - ETA: 0s - loss: 0.1486 - accuracy: 0.9629WARNING:tensorflow:Early stopping conditioned on metric `val_loss` which is not available. Available metrics are: loss,accuracy\n",
            "3/3 [==============================] - 0s 86ms/step - loss: 0.1486 - accuracy: 0.9629\n",
            "Epoch 25/40\n",
            "3/3 [==============================] - ETA: 0s - loss: 0.1371 - accuracy: 0.9629WARNING:tensorflow:Early stopping conditioned on metric `val_loss` which is not available. Available metrics are: loss,accuracy\n",
            "3/3 [==============================] - 0s 101ms/step - loss: 0.1371 - accuracy: 0.9629\n",
            "Epoch 26/40\n",
            "3/3 [==============================] - ETA: 0s - loss: 0.1267 - accuracy: 0.9657WARNING:tensorflow:Early stopping conditioned on metric `val_loss` which is not available. Available metrics are: loss,accuracy\n",
            "3/3 [==============================] - 0s 108ms/step - loss: 0.1267 - accuracy: 0.9657\n",
            "Epoch 27/40\n",
            "3/3 [==============================] - ETA: 0s - loss: 0.1085 - accuracy: 0.9757WARNING:tensorflow:Early stopping conditioned on metric `val_loss` which is not available. Available metrics are: loss,accuracy\n",
            "3/3 [==============================] - 0s 105ms/step - loss: 0.1085 - accuracy: 0.9757\n",
            "Epoch 28/40\n",
            "3/3 [==============================] - ETA: 0s - loss: 0.1026 - accuracy: 0.9729WARNING:tensorflow:Early stopping conditioned on metric `val_loss` which is not available. Available metrics are: loss,accuracy\n",
            "3/3 [==============================] - 0s 99ms/step - loss: 0.1026 - accuracy: 0.9729\n",
            "Epoch 29/40\n",
            "3/3 [==============================] - ETA: 0s - loss: 0.0960 - accuracy: 0.9757WARNING:tensorflow:Early stopping conditioned on metric `val_loss` which is not available. Available metrics are: loss,accuracy\n",
            "3/3 [==============================] - 0s 99ms/step - loss: 0.0960 - accuracy: 0.9757\n",
            "Epoch 30/40\n",
            "3/3 [==============================] - ETA: 0s - loss: 0.0948 - accuracy: 0.9757WARNING:tensorflow:Early stopping conditioned on metric `val_loss` which is not available. Available metrics are: loss,accuracy\n",
            "3/3 [==============================] - 0s 48ms/step - loss: 0.0948 - accuracy: 0.9757\n",
            "Epoch 31/40\n",
            "2/3 [===================>..........] - ETA: 0s - loss: 0.0894 - accuracy: 0.9746WARNING:tensorflow:Early stopping conditioned on metric `val_loss` which is not available. Available metrics are: loss,accuracy\n",
            "3/3 [==============================] - 0s 52ms/step - loss: 0.0793 - accuracy: 0.9771\n",
            "Epoch 32/40\n",
            "2/3 [===================>..........] - ETA: 0s - loss: 0.0799 - accuracy: 0.9785WARNING:tensorflow:Early stopping conditioned on metric `val_loss` which is not available. Available metrics are: loss,accuracy\n",
            "3/3 [==============================] - 0s 49ms/step - loss: 0.0692 - accuracy: 0.9800\n",
            "Epoch 33/40\n",
            "3/3 [==============================] - ETA: 0s - loss: 0.0565 - accuracy: 0.9857WARNING:tensorflow:Early stopping conditioned on metric `val_loss` which is not available. Available metrics are: loss,accuracy\n",
            "3/3 [==============================] - 0s 51ms/step - loss: 0.0565 - accuracy: 0.9857\n",
            "Epoch 34/40\n",
            "3/3 [==============================] - ETA: 0s - loss: 0.0543 - accuracy: 0.9843WARNING:tensorflow:Early stopping conditioned on metric `val_loss` which is not available. Available metrics are: loss,accuracy\n",
            "3/3 [==============================] - 0s 85ms/step - loss: 0.0543 - accuracy: 0.9843\n",
            "Epoch 35/40\n",
            "3/3 [==============================] - ETA: 0s - loss: 0.0501 - accuracy: 0.9857WARNING:tensorflow:Early stopping conditioned on metric `val_loss` which is not available. Available metrics are: loss,accuracy\n",
            "3/3 [==============================] - 0s 89ms/step - loss: 0.0501 - accuracy: 0.9857\n",
            "Epoch 36/40\n",
            "3/3 [==============================] - ETA: 0s - loss: 0.0454 - accuracy: 0.9886WARNING:tensorflow:Early stopping conditioned on metric `val_loss` which is not available. Available metrics are: loss,accuracy\n",
            "3/3 [==============================] - 0s 84ms/step - loss: 0.0454 - accuracy: 0.9886\n",
            "Epoch 37/40\n",
            "2/3 [===================>..........] - ETA: 0s - loss: 0.0474 - accuracy: 0.9863WARNING:tensorflow:Early stopping conditioned on metric `val_loss` which is not available. Available metrics are: loss,accuracy\n",
            "3/3 [==============================] - 0s 62ms/step - loss: 0.0422 - accuracy: 0.9857\n",
            "Epoch 38/40\n",
            "3/3 [==============================] - ETA: 0s - loss: 0.0345 - accuracy: 0.9871WARNING:tensorflow:Early stopping conditioned on metric `val_loss` which is not available. Available metrics are: loss,accuracy\n",
            "3/3 [==============================] - 0s 44ms/step - loss: 0.0345 - accuracy: 0.9871\n",
            "Epoch 39/40\n",
            "3/3 [==============================] - ETA: 0s - loss: 0.0342 - accuracy: 0.9886WARNING:tensorflow:Early stopping conditioned on metric `val_loss` which is not available. Available metrics are: loss,accuracy\n",
            "3/3 [==============================] - 0s 73ms/step - loss: 0.0342 - accuracy: 0.9886\n",
            "Epoch 40/40\n",
            "3/3 [==============================] - ETA: 0s - loss: 0.0358 - accuracy: 0.9857WARNING:tensorflow:Early stopping conditioned on metric `val_loss` which is not available. Available metrics are: loss,accuracy\n",
            "3/3 [==============================] - 0s 83ms/step - loss: 0.0358 - accuracy: 0.9857\n"
          ]
        }
      ]
    },
    {
      "cell_type": "code",
      "metadata": {
        "id": "9r0E47btUHg4",
        "colab": {
          "base_uri": "https://localhost:8080/"
        },
        "outputId": "382a7fc6-d963-42ef-cfaf-5e1412e9690d"
      },
      "source": [
        "print(\"Accuracy with FastText:\")\n",
        "for i, (model, y_ts, word_seq_test) in enumerate(zip(models, y_test_datasets, word_seq_tests)):\n",
        "    predictions = (model.predict(word_seq_test) > 0.5).astype(int)\n",
        "    acc = accuracy_score(y_ts, predictions)\n",
        "    print(' |_  {}: {:.2f}'.format(datasets_name[i], acc))"
      ],
      "execution_count": 199,
      "outputs": [
        {
          "output_type": "stream",
          "name": "stdout",
          "text": [
            "Accuracy with FastText:\n",
            " |_  Amazon: 0.76\n",
            " |_  IMDB  : 0.77\n",
            " |_  Yelp  : 0.77\n"
          ]
        }
      ]
    }
  ]
}